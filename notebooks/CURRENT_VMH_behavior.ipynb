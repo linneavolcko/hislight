{
 "cells": [
  {
   "cell_type": "markdown",
   "metadata": {},
   "source": [
    "### Combined script for all conditions"
   ]
  },
  {
   "cell_type": "code",
   "execution_count": 1,
   "metadata": {},
   "outputs": [],
   "source": [
    "from pathlib import Path\n",
    "import pickle\n",
    "import numpy as np\n",
    "import pandas as pd\n",
    "\n",
    "import matplotlib.pyplot as plt\n",
    "from matplotlib.transforms import blended_transform_factory\n",
    "from matplotlib.collections import LineCollection\n",
    "import seaborn as sns\n",
    "\n",
    "import trompy as tp\n",
    "import csv\n",
    "\n",
    "colors_restricted = \"#90219C\"\n",
    "colors_adlib_light = \"#e56357\"\n",
    "colors_adlib_dark =  \"#D9A441\"\n",
    "colors_sucralose = \"#F4A6B1\""
   ]
  },
  {
   "cell_type": "code",
   "execution_count": 2,
   "metadata": {},
   "outputs": [],
   "source": [
    "DATAFOLDER = Path(\"C:/Data/hislight_pickles/\")\n",
    "FIGSFOLDER = Path(\"C:/Users/kvo019/OneDrive - UiT Office 365/Pipette 2/People/Linnea/Manuscripts/hislight paper/figures\")\n",
    "STATSFOLDER = Path(\"C:/Users/kvo019/OneDrive - UiT Office 365/Pipette 2/People/Linnea/Manuscripts/hislight paper/stats\")\n",
    "\n",
    "with open(DATAFOLDER / \"HL3_restricted_dark.pickle\", 'rb') as handle:\n",
    "    restricted_dark = pickle.load(handle)\n",
    "\n",
    "with open(DATAFOLDER / \"HL3_adlib_dark.pickle\", 'rb') as handle:\n",
    "    adlib_dark = pickle.load(handle)\n",
    "\n",
    "with open(DATAFOLDER / \"HL3_adlib_light.pickle\", 'rb') as handle:\n",
    "    adlib_light = pickle.load(handle)\n",
    "\n",
    "with open(DATAFOLDER / \"HL3_adlib_sucralose.pickle\", 'rb') as handle:\n",
    "    adlib_sucralose = pickle.load(handle)"
   ]
  },
  {
   "cell_type": "code",
   "execution_count": 3,
   "metadata": {},
   "outputs": [],
   "source": [
    "def get_list_of_mice(data):\n",
    "\n",
    "    mice_to_exclude = [\"HL313\", \"HL314\", \"HL315\", \"HL316\", \"HL317\", \"HL318\", \"HL306\", \"HL308\",\n",
    "                        \"HL202\", \"HL205\", \"HL206\", \"HL211\",\n",
    "                        \"HL301\", \"HL304\", \"HL305\"]\n",
    "    \n",
    "    #\"HL202\", \"HL205\", \"HL206\", \"HL211\" have poor placements without virus in PVH\n",
    "    #HL 306, 308 have no virus\n",
    "    #HL301, HL304, HL305 have poor fiber placement\n",
    "    #HL313 - HL318 are control mice\n",
    "    \n",
    "    list_of_mice = []\n",
    "\n",
    "    for key, val in adlib_dark.items():\n",
    "        if val[\"mouse_ID\"] not in list_of_mice and val[\"mouse_ID\"] not in mice_to_exclude:\n",
    "            list_of_mice.append(val[\"mouse_ID\"])\n",
    "            \n",
    "    return list_of_mice"
   ]
  },
  {
   "cell_type": "code",
   "execution_count": 4,
   "metadata": {},
   "outputs": [],
   "source": [
    "def get_snips(data):\n",
    "    \n",
    "    list_of_mice = get_list_of_mice(data)\n",
    "\n",
    "    snips_mean_start= []\n",
    "    snips_mean_end = []\n",
    "    snips_mean_full = []\n",
    "\n",
    "    kwargs={\"bins\":150, \"trial_length\":15, \"baseline_length\":5}   \n",
    "\n",
    "    pre = 5\n",
    "    post = 10\n",
    "    mineventlength=8\n",
    "    binlength=0.1\n",
    "\n",
    "    for mouse in list_of_mice:\n",
    "        snips_start = []\n",
    "        snips_end = []\n",
    "        snips_full = []\n",
    "\n",
    "        for key, val in data.items():\n",
    "            if val[\"mouse_ID\"]==mouse:\n",
    "                if len(val[\"licks\"]) < 10:\n",
    "                    continue\n",
    "\n",
    "                lickdata= tp.lickCalc(val[\"licks\"], minrunlength=3)\n",
    "\n",
    "                snips_start.append(tp.snipper(val[\"corrected\"], lickdata[\"rStart\"], val[\"fs\"], **kwargs)[0])\n",
    "                snips_end.append(tp.snipper(val[\"corrected\"], lickdata[\"rEnd\"], val[\"fs\"], **kwargs)[0])\n",
    "\n",
    "                snipper = tp.Snipper(val[\"corrected\"],\n",
    "                                        lickdata[\"rStart\"],\n",
    "                                        end=lickdata[\"rEnd\"],\n",
    "                                        fs=val[\"fs\"],\n",
    "                                        pre=pre,\n",
    "                                        post=post,\n",
    "                                        binlength=binlength,\n",
    "                                        zscore=True\n",
    "                                        )\n",
    "\n",
    "                snipper.truncate_to_same_length(cols_to_add=10, mineventlength=8, eventbalance=[6,2])\n",
    "                snipper.find_potential_artifacts(threshold=12, method=\"absolute_diff\", showplot=True, remove=True)\n",
    "                snips_full.append(snipper.snips)\n",
    "\n",
    "\n",
    "        snips_start = np.vstack(snips_start)\n",
    "        snips_end = np.vstack(snips_end)\n",
    "        \n",
    "        try:\n",
    "            snips_full = np.vstack(snips_full)\n",
    "            snips_mean_full.append(np.mean(snips_full, axis=0))\n",
    "            print(\"adding this mouse\")\n",
    "        except:\n",
    "            print(\"no snips to concatenate\")\n",
    "\n",
    "        snips_mean_start.append(np.mean(snips_start, axis=0))\n",
    "        snips_mean_end.append(np.mean(snips_end, axis=0))\n",
    "   \n",
    "    snips_mean_full = np.array(snips_mean_full)\n",
    "    \n",
    "    return snips_mean_start, snips_mean_end, snips_mean_full"
   ]
  },
  {
   "cell_type": "code",
   "execution_count": 5,
   "metadata": {},
   "outputs": [
    {
     "name": "stdout",
     "output_type": "stream",
     "text": [
      "<class 'numpy.ndarray'>\n",
      "Found 0 potential artifacts.\n",
      "No artifacts found.\n",
      "<class 'numpy.ndarray'>\n",
      "Found 0 potential artifacts.\n",
      "No artifacts found.\n",
      "<class 'numpy.ndarray'>\n",
      "Found 0 potential artifacts.\n",
      "No artifacts found.\n",
      "adding this mouse\n",
      "<class 'numpy.ndarray'>\n",
      "Found 0 potential artifacts.\n",
      "No artifacts found.\n",
      "<class 'numpy.ndarray'>\n",
      "Found 1 potential artifacts.\n",
      "<class 'numpy.ndarray'>\n",
      "Found 0 potential artifacts.\n",
      "No artifacts found.\n",
      "adding this mouse\n",
      "<class 'numpy.ndarray'>\n",
      "Found 0 potential artifacts.\n",
      "No artifacts found.\n",
      "<class 'numpy.ndarray'>"
     ]
    },
    {
     "name": "stderr",
     "output_type": "stream",
     "text": [
      "C:\\Users\\kvo019\\Anaconda3\\lib\\site-packages\\trompy\\snipper_class.py:215: VisibleDeprecationWarning: Creating an ndarray from ragged nested sequences (which is a list-or-tuple of lists-or-tuples-or ndarrays with different lengths or shapes) is deprecated. If you meant to do this, you must specify 'dtype=object' when creating the ndarray\n",
      "  self.snips = np.array([self.put_snip_in_bins(snip) for snip in self.snips])\n",
      "C:\\Users\\kvo019\\Anaconda3\\lib\\site-packages\\trompy\\snipper_class.py:229: VisibleDeprecationWarning: Creating an ndarray from ragged nested sequences (which is a list-or-tuple of lists-or-tuples-or ndarrays with different lengths or shapes) is deprecated. If you meant to do this, you must specify 'dtype=object' when creating the ndarray\n",
      "  self.snips = np.array(z_snips)\n",
      "C:\\Users\\kvo019\\Anaconda3\\lib\\site-packages\\trompy\\snipper_class.py:215: VisibleDeprecationWarning: Creating an ndarray from ragged nested sequences (which is a list-or-tuple of lists-or-tuples-or ndarrays with different lengths or shapes) is deprecated. If you meant to do this, you must specify 'dtype=object' when creating the ndarray\n",
      "  self.snips = np.array([self.put_snip_in_bins(snip) for snip in self.snips])\n",
      "C:\\Users\\kvo019\\Anaconda3\\lib\\site-packages\\trompy\\snipper_class.py:229: VisibleDeprecationWarning: Creating an ndarray from ragged nested sequences (which is a list-or-tuple of lists-or-tuples-or ndarrays with different lengths or shapes) is deprecated. If you meant to do this, you must specify 'dtype=object' when creating the ndarray\n",
      "  self.snips = np.array(z_snips)\n",
      "C:\\Users\\kvo019\\Anaconda3\\lib\\site-packages\\trompy\\snipper_class.py:215: VisibleDeprecationWarning: Creating an ndarray from ragged nested sequences (which is a list-or-tuple of lists-or-tuples-or ndarrays with different lengths or shapes) is deprecated. If you meant to do this, you must specify 'dtype=object' when creating the ndarray\n",
      "  self.snips = np.array([self.put_snip_in_bins(snip) for snip in self.snips])\n",
      "C:\\Users\\kvo019\\Anaconda3\\lib\\site-packages\\trompy\\snipper_class.py:229: VisibleDeprecationWarning: Creating an ndarray from ragged nested sequences (which is a list-or-tuple of lists-or-tuples-or ndarrays with different lengths or shapes) is deprecated. If you meant to do this, you must specify 'dtype=object' when creating the ndarray\n",
      "  self.snips = np.array(z_snips)\n",
      "C:\\Users\\kvo019\\Anaconda3\\lib\\site-packages\\trompy\\snipper_class.py:215: VisibleDeprecationWarning: Creating an ndarray from ragged nested sequences (which is a list-or-tuple of lists-or-tuples-or ndarrays with different lengths or shapes) is deprecated. If you meant to do this, you must specify 'dtype=object' when creating the ndarray\n",
      "  self.snips = np.array([self.put_snip_in_bins(snip) for snip in self.snips])\n",
      "C:\\Users\\kvo019\\Anaconda3\\lib\\site-packages\\trompy\\snipper_class.py:229: VisibleDeprecationWarning: Creating an ndarray from ragged nested sequences (which is a list-or-tuple of lists-or-tuples-or ndarrays with different lengths or shapes) is deprecated. If you meant to do this, you must specify 'dtype=object' when creating the ndarray\n",
      "  self.snips = np.array(z_snips)\n",
      "C:\\Users\\kvo019\\Anaconda3\\lib\\site-packages\\trompy\\snipper_class.py:215: VisibleDeprecationWarning: Creating an ndarray from ragged nested sequences (which is a list-or-tuple of lists-or-tuples-or ndarrays with different lengths or shapes) is deprecated. If you meant to do this, you must specify 'dtype=object' when creating the ndarray\n",
      "  self.snips = np.array([self.put_snip_in_bins(snip) for snip in self.snips])\n",
      "C:\\Users\\kvo019\\Anaconda3\\lib\\site-packages\\trompy\\snipper_class.py:229: VisibleDeprecationWarning: Creating an ndarray from ragged nested sequences (which is a list-or-tuple of lists-or-tuples-or ndarrays with different lengths or shapes) is deprecated. If you meant to do this, you must specify 'dtype=object' when creating the ndarray\n",
      "  self.snips = np.array(z_snips)\n",
      "C:\\Users\\kvo019\\Anaconda3\\lib\\site-packages\\trompy\\snipper_class.py:215: VisibleDeprecationWarning: Creating an ndarray from ragged nested sequences (which is a list-or-tuple of lists-or-tuples-or ndarrays with different lengths or shapes) is deprecated. If you meant to do this, you must specify 'dtype=object' when creating the ndarray\n",
      "  self.snips = np.array([self.put_snip_in_bins(snip) for snip in self.snips])\n",
      "C:\\Users\\kvo019\\Anaconda3\\lib\\site-packages\\trompy\\snipper_class.py:229: VisibleDeprecationWarning: Creating an ndarray from ragged nested sequences (which is a list-or-tuple of lists-or-tuples-or ndarrays with different lengths or shapes) is deprecated. If you meant to do this, you must specify 'dtype=object' when creating the ndarray\n",
      "  self.snips = np.array(z_snips)\n",
      "C:\\Users\\kvo019\\Anaconda3\\lib\\site-packages\\trompy\\snipper_class.py:215: VisibleDeprecationWarning: Creating an ndarray from ragged nested sequences (which is a list-or-tuple of lists-or-tuples-or ndarrays with different lengths or shapes) is deprecated. If you meant to do this, you must specify 'dtype=object' when creating the ndarray\n",
      "  self.snips = np.array([self.put_snip_in_bins(snip) for snip in self.snips])\n",
      "C:\\Users\\kvo019\\Anaconda3\\lib\\site-packages\\trompy\\snipper_class.py:229: VisibleDeprecationWarning: Creating an ndarray from ragged nested sequences (which is a list-or-tuple of lists-or-tuples-or ndarrays with different lengths or shapes) is deprecated. If you meant to do this, you must specify 'dtype=object' when creating the ndarray\n",
      "  self.snips = np.array(z_snips)\n",
      "C:\\Users\\kvo019\\Anaconda3\\lib\\site-packages\\trompy\\snipper_class.py:215: VisibleDeprecationWarning: Creating an ndarray from ragged nested sequences (which is a list-or-tuple of lists-or-tuples-or ndarrays with different lengths or shapes) is deprecated. If you meant to do this, you must specify 'dtype=object' when creating the ndarray\n",
      "  self.snips = np.array([self.put_snip_in_bins(snip) for snip in self.snips])\n",
      "C:\\Users\\kvo019\\Anaconda3\\lib\\site-packages\\trompy\\snipper_class.py:229: VisibleDeprecationWarning: Creating an ndarray from ragged nested sequences (which is a list-or-tuple of lists-or-tuples-or ndarrays with different lengths or shapes) is deprecated. If you meant to do this, you must specify 'dtype=object' when creating the ndarray\n",
      "  self.snips = np.array(z_snips)\n"
     ]
    },
    {
     "name": "stdout",
     "output_type": "stream",
     "text": [
      "\n",
      "Found 0 potential artifacts.\n",
      "No artifacts found.\n",
      "<class 'numpy.ndarray'>\n",
      "Found 0 potential artifacts.\n",
      "No artifacts found.\n",
      "adding this mouse\n",
      "<class 'numpy.ndarray'>\n",
      "Found 0 potential artifacts.\n",
      "No artifacts found.\n",
      "<class 'numpy.ndarray'>\n",
      "Found 0 potential artifacts.\n",
      "No artifacts found.\n",
      "<class 'numpy.ndarray'>\n",
      "Found 0 potential artifacts.\n",
      "No artifacts found.\n",
      "adding this mouse\n",
      "<class 'numpy.ndarray'>\n",
      "Found 0 potential artifacts.\n",
      "No artifacts found.\n",
      "<class 'numpy.ndarray'>\n",
      "Found 0 potential artifacts.\n",
      "No artifacts found.\n",
      "<class 'numpy.ndarray'>\n"
     ]
    },
    {
     "name": "stderr",
     "output_type": "stream",
     "text": [
      "C:\\Users\\kvo019\\Anaconda3\\lib\\site-packages\\trompy\\snipper_class.py:215: VisibleDeprecationWarning: Creating an ndarray from ragged nested sequences (which is a list-or-tuple of lists-or-tuples-or ndarrays with different lengths or shapes) is deprecated. If you meant to do this, you must specify 'dtype=object' when creating the ndarray\n",
      "  self.snips = np.array([self.put_snip_in_bins(snip) for snip in self.snips])\n",
      "C:\\Users\\kvo019\\Anaconda3\\lib\\site-packages\\trompy\\snipper_class.py:229: VisibleDeprecationWarning: Creating an ndarray from ragged nested sequences (which is a list-or-tuple of lists-or-tuples-or ndarrays with different lengths or shapes) is deprecated. If you meant to do this, you must specify 'dtype=object' when creating the ndarray\n",
      "  self.snips = np.array(z_snips)\n",
      "C:\\Users\\kvo019\\Anaconda3\\lib\\site-packages\\trompy\\snipper_class.py:215: VisibleDeprecationWarning: Creating an ndarray from ragged nested sequences (which is a list-or-tuple of lists-or-tuples-or ndarrays with different lengths or shapes) is deprecated. If you meant to do this, you must specify 'dtype=object' when creating the ndarray\n",
      "  self.snips = np.array([self.put_snip_in_bins(snip) for snip in self.snips])\n",
      "C:\\Users\\kvo019\\Anaconda3\\lib\\site-packages\\trompy\\snipper_class.py:229: VisibleDeprecationWarning: Creating an ndarray from ragged nested sequences (which is a list-or-tuple of lists-or-tuples-or ndarrays with different lengths or shapes) is deprecated. If you meant to do this, you must specify 'dtype=object' when creating the ndarray\n",
      "  self.snips = np.array(z_snips)\n",
      "C:\\Users\\kvo019\\Anaconda3\\lib\\site-packages\\trompy\\snipper_class.py:215: VisibleDeprecationWarning: Creating an ndarray from ragged nested sequences (which is a list-or-tuple of lists-or-tuples-or ndarrays with different lengths or shapes) is deprecated. If you meant to do this, you must specify 'dtype=object' when creating the ndarray\n",
      "  self.snips = np.array([self.put_snip_in_bins(snip) for snip in self.snips])\n",
      "C:\\Users\\kvo019\\Anaconda3\\lib\\site-packages\\trompy\\snipper_class.py:229: VisibleDeprecationWarning: Creating an ndarray from ragged nested sequences (which is a list-or-tuple of lists-or-tuples-or ndarrays with different lengths or shapes) is deprecated. If you meant to do this, you must specify 'dtype=object' when creating the ndarray\n",
      "  self.snips = np.array(z_snips)\n",
      "C:\\Users\\kvo019\\Anaconda3\\lib\\site-packages\\trompy\\snipper_class.py:215: VisibleDeprecationWarning: Creating an ndarray from ragged nested sequences (which is a list-or-tuple of lists-or-tuples-or ndarrays with different lengths or shapes) is deprecated. If you meant to do this, you must specify 'dtype=object' when creating the ndarray\n",
      "  self.snips = np.array([self.put_snip_in_bins(snip) for snip in self.snips])\n",
      "C:\\Users\\kvo019\\Anaconda3\\lib\\site-packages\\trompy\\snipper_class.py:229: VisibleDeprecationWarning: Creating an ndarray from ragged nested sequences (which is a list-or-tuple of lists-or-tuples-or ndarrays with different lengths or shapes) is deprecated. If you meant to do this, you must specify 'dtype=object' when creating the ndarray\n",
      "  self.snips = np.array(z_snips)\n",
      "C:\\Users\\kvo019\\Anaconda3\\lib\\site-packages\\trompy\\snipper_class.py:215: VisibleDeprecationWarning: Creating an ndarray from ragged nested sequences (which is a list-or-tuple of lists-or-tuples-or ndarrays with different lengths or shapes) is deprecated. If you meant to do this, you must specify 'dtype=object' when creating the ndarray\n",
      "  self.snips = np.array([self.put_snip_in_bins(snip) for snip in self.snips])\n",
      "C:\\Users\\kvo019\\Anaconda3\\lib\\site-packages\\trompy\\snipper_class.py:229: VisibleDeprecationWarning: Creating an ndarray from ragged nested sequences (which is a list-or-tuple of lists-or-tuples-or ndarrays with different lengths or shapes) is deprecated. If you meant to do this, you must specify 'dtype=object' when creating the ndarray\n",
      "  self.snips = np.array(z_snips)\n",
      "C:\\Users\\kvo019\\Anaconda3\\lib\\site-packages\\trompy\\snipper_class.py:215: VisibleDeprecationWarning: Creating an ndarray from ragged nested sequences (which is a list-or-tuple of lists-or-tuples-or ndarrays with different lengths or shapes) is deprecated. If you meant to do this, you must specify 'dtype=object' when creating the ndarray\n",
      "  self.snips = np.array([self.put_snip_in_bins(snip) for snip in self.snips])\n",
      "C:\\Users\\kvo019\\Anaconda3\\lib\\site-packages\\trompy\\snipper_class.py:229: VisibleDeprecationWarning: Creating an ndarray from ragged nested sequences (which is a list-or-tuple of lists-or-tuples-or ndarrays with different lengths or shapes) is deprecated. If you meant to do this, you must specify 'dtype=object' when creating the ndarray\n",
      "  self.snips = np.array(z_snips)\n",
      "C:\\Users\\kvo019\\Anaconda3\\lib\\site-packages\\trompy\\snipper_class.py:215: VisibleDeprecationWarning: Creating an ndarray from ragged nested sequences (which is a list-or-tuple of lists-or-tuples-or ndarrays with different lengths or shapes) is deprecated. If you meant to do this, you must specify 'dtype=object' when creating the ndarray\n",
      "  self.snips = np.array([self.put_snip_in_bins(snip) for snip in self.snips])\n",
      "C:\\Users\\kvo019\\Anaconda3\\lib\\site-packages\\trompy\\snipper_class.py:229: VisibleDeprecationWarning: Creating an ndarray from ragged nested sequences (which is a list-or-tuple of lists-or-tuples-or ndarrays with different lengths or shapes) is deprecated. If you meant to do this, you must specify 'dtype=object' when creating the ndarray\n",
      "  self.snips = np.array(z_snips)\n"
     ]
    },
    {
     "name": "stdout",
     "output_type": "stream",
     "text": [
      "Found 0 potential artifacts.\n",
      "No artifacts found.\n",
      "adding this mouse\n",
      "<class 'numpy.ndarray'>\n",
      "Found 0 potential artifacts.\n",
      "No artifacts found.\n",
      "<class 'numpy.ndarray'>\n",
      "Found 0 potential artifacts.\n",
      "No artifacts found.\n",
      "<class 'numpy.ndarray'>\n",
      "Found 0 potential artifacts.\n",
      "No artifacts found.\n",
      "adding this mouse\n",
      "<class 'numpy.ndarray'>\n",
      "Found 0 potential artifacts.\n",
      "No artifacts found.\n",
      "<class 'numpy.ndarray'>\n",
      "Found 0 potential artifacts.\n",
      "No artifacts found.\n",
      "<class 'numpy.ndarray'>\n"
     ]
    },
    {
     "name": "stderr",
     "output_type": "stream",
     "text": [
      "C:\\Users\\kvo019\\Anaconda3\\lib\\site-packages\\trompy\\snipper_class.py:215: VisibleDeprecationWarning: Creating an ndarray from ragged nested sequences (which is a list-or-tuple of lists-or-tuples-or ndarrays with different lengths or shapes) is deprecated. If you meant to do this, you must specify 'dtype=object' when creating the ndarray\n",
      "  self.snips = np.array([self.put_snip_in_bins(snip) for snip in self.snips])\n",
      "C:\\Users\\kvo019\\Anaconda3\\lib\\site-packages\\trompy\\snipper_class.py:229: VisibleDeprecationWarning: Creating an ndarray from ragged nested sequences (which is a list-or-tuple of lists-or-tuples-or ndarrays with different lengths or shapes) is deprecated. If you meant to do this, you must specify 'dtype=object' when creating the ndarray\n",
      "  self.snips = np.array(z_snips)\n",
      "C:\\Users\\kvo019\\Anaconda3\\lib\\site-packages\\trompy\\snipper_class.py:215: VisibleDeprecationWarning: Creating an ndarray from ragged nested sequences (which is a list-or-tuple of lists-or-tuples-or ndarrays with different lengths or shapes) is deprecated. If you meant to do this, you must specify 'dtype=object' when creating the ndarray\n",
      "  self.snips = np.array([self.put_snip_in_bins(snip) for snip in self.snips])\n",
      "C:\\Users\\kvo019\\Anaconda3\\lib\\site-packages\\trompy\\snipper_class.py:229: VisibleDeprecationWarning: Creating an ndarray from ragged nested sequences (which is a list-or-tuple of lists-or-tuples-or ndarrays with different lengths or shapes) is deprecated. If you meant to do this, you must specify 'dtype=object' when creating the ndarray\n",
      "  self.snips = np.array(z_snips)\n",
      "C:\\Users\\kvo019\\Anaconda3\\lib\\site-packages\\trompy\\snipper_class.py:215: VisibleDeprecationWarning: Creating an ndarray from ragged nested sequences (which is a list-or-tuple of lists-or-tuples-or ndarrays with different lengths or shapes) is deprecated. If you meant to do this, you must specify 'dtype=object' when creating the ndarray\n",
      "  self.snips = np.array([self.put_snip_in_bins(snip) for snip in self.snips])\n",
      "C:\\Users\\kvo019\\Anaconda3\\lib\\site-packages\\trompy\\snipper_class.py:229: VisibleDeprecationWarning: Creating an ndarray from ragged nested sequences (which is a list-or-tuple of lists-or-tuples-or ndarrays with different lengths or shapes) is deprecated. If you meant to do this, you must specify 'dtype=object' when creating the ndarray\n",
      "  self.snips = np.array(z_snips)\n",
      "C:\\Users\\kvo019\\Anaconda3\\lib\\site-packages\\trompy\\lickcalc.py:239: RuntimeWarning: invalid value encountered in power\n",
      "  return (np.exp(-(alpha*x)**beta))\n",
      "C:\\Users\\kvo019\\Anaconda3\\lib\\site-packages\\trompy\\snipper_class.py:215: VisibleDeprecationWarning: Creating an ndarray from ragged nested sequences (which is a list-or-tuple of lists-or-tuples-or ndarrays with different lengths or shapes) is deprecated. If you meant to do this, you must specify 'dtype=object' when creating the ndarray\n",
      "  self.snips = np.array([self.put_snip_in_bins(snip) for snip in self.snips])\n",
      "C:\\Users\\kvo019\\Anaconda3\\lib\\site-packages\\trompy\\snipper_class.py:229: VisibleDeprecationWarning: Creating an ndarray from ragged nested sequences (which is a list-or-tuple of lists-or-tuples-or ndarrays with different lengths or shapes) is deprecated. If you meant to do this, you must specify 'dtype=object' when creating the ndarray\n",
      "  self.snips = np.array(z_snips)\n",
      "C:\\Users\\kvo019\\Anaconda3\\lib\\site-packages\\trompy\\lickcalc.py:239: RuntimeWarning: invalid value encountered in power\n",
      "  return (np.exp(-(alpha*x)**beta))\n",
      "C:\\Users\\kvo019\\Anaconda3\\lib\\site-packages\\trompy\\snipper_class.py:215: VisibleDeprecationWarning: Creating an ndarray from ragged nested sequences (which is a list-or-tuple of lists-or-tuples-or ndarrays with different lengths or shapes) is deprecated. If you meant to do this, you must specify 'dtype=object' when creating the ndarray\n",
      "  self.snips = np.array([self.put_snip_in_bins(snip) for snip in self.snips])\n",
      "C:\\Users\\kvo019\\Anaconda3\\lib\\site-packages\\trompy\\snipper_class.py:229: VisibleDeprecationWarning: Creating an ndarray from ragged nested sequences (which is a list-or-tuple of lists-or-tuples-or ndarrays with different lengths or shapes) is deprecated. If you meant to do this, you must specify 'dtype=object' when creating the ndarray\n",
      "  self.snips = np.array(z_snips)\n",
      "C:\\Users\\kvo019\\Anaconda3\\lib\\site-packages\\trompy\\snipper_class.py:215: VisibleDeprecationWarning: Creating an ndarray from ragged nested sequences (which is a list-or-tuple of lists-or-tuples-or ndarrays with different lengths or shapes) is deprecated. If you meant to do this, you must specify 'dtype=object' when creating the ndarray\n",
      "  self.snips = np.array([self.put_snip_in_bins(snip) for snip in self.snips])\n",
      "C:\\Users\\kvo019\\Anaconda3\\lib\\site-packages\\trompy\\snipper_class.py:229: VisibleDeprecationWarning: Creating an ndarray from ragged nested sequences (which is a list-or-tuple of lists-or-tuples-or ndarrays with different lengths or shapes) is deprecated. If you meant to do this, you must specify 'dtype=object' when creating the ndarray\n",
      "  self.snips = np.array(z_snips)\n",
      "C:\\Users\\kvo019\\Anaconda3\\lib\\site-packages\\trompy\\snipper_class.py:215: VisibleDeprecationWarning: Creating an ndarray from ragged nested sequences (which is a list-or-tuple of lists-or-tuples-or ndarrays with different lengths or shapes) is deprecated. If you meant to do this, you must specify 'dtype=object' when creating the ndarray\n",
      "  self.snips = np.array([self.put_snip_in_bins(snip) for snip in self.snips])\n",
      "C:\\Users\\kvo019\\Anaconda3\\lib\\site-packages\\trompy\\snipper_class.py:229: VisibleDeprecationWarning: Creating an ndarray from ragged nested sequences (which is a list-or-tuple of lists-or-tuples-or ndarrays with different lengths or shapes) is deprecated. If you meant to do this, you must specify 'dtype=object' when creating the ndarray\n",
      "  self.snips = np.array(z_snips)\n"
     ]
    },
    {
     "name": "stdout",
     "output_type": "stream",
     "text": [
      "Found 0 potential artifacts.\n",
      "No artifacts found.\n",
      "adding this mouse\n",
      "<class 'numpy.ndarray'>\n",
      "Found 0 potential artifacts.\n",
      "No artifacts found.\n",
      "<class 'numpy.ndarray'>\n",
      "Found 0 potential artifacts.\n",
      "No artifacts found.\n",
      "adding this mouse\n",
      "<class 'numpy.ndarray'>\n",
      "Found 0 potential artifacts.\n",
      "No artifacts found.\n",
      "<class 'numpy.ndarray'>\n",
      "Found 1 potential artifacts.\n",
      "adding this mouse\n",
      "<class 'numpy.ndarray'>\n",
      "Found 0 potential artifacts.\n",
      "No artifacts found.\n",
      "<class 'numpy.ndarray'>\n",
      "Found 0 potential artifacts.\n",
      "No artifacts found.\n",
      "adding this mouse\n",
      "<class 'numpy.ndarray'>\n",
      "Found 0 potential artifacts.\n",
      "No artifacts found.\n",
      "<class 'numpy.ndarray'>\n",
      "Found 0 potential artifacts.\n",
      "No artifacts found.\n",
      "adding this mouse\n",
      "<class 'numpy.ndarray'>\n",
      "Found 0 potential artifacts.\n",
      "No artifacts found.\n",
      "<class 'numpy.ndarray'>\n",
      "Found 0 potential artifacts.\n",
      "No artifacts found.\n",
      "adding this mouse\n",
      "<class 'numpy.ndarray'>"
     ]
    },
    {
     "name": "stderr",
     "output_type": "stream",
     "text": [
      "C:\\Users\\kvo019\\Anaconda3\\lib\\site-packages\\trompy\\snipper_class.py:215: VisibleDeprecationWarning: Creating an ndarray from ragged nested sequences (which is a list-or-tuple of lists-or-tuples-or ndarrays with different lengths or shapes) is deprecated. If you meant to do this, you must specify 'dtype=object' when creating the ndarray\n",
      "  self.snips = np.array([self.put_snip_in_bins(snip) for snip in self.snips])\n",
      "C:\\Users\\kvo019\\Anaconda3\\lib\\site-packages\\trompy\\snipper_class.py:229: VisibleDeprecationWarning: Creating an ndarray from ragged nested sequences (which is a list-or-tuple of lists-or-tuples-or ndarrays with different lengths or shapes) is deprecated. If you meant to do this, you must specify 'dtype=object' when creating the ndarray\n",
      "  self.snips = np.array(z_snips)\n",
      "C:\\Users\\kvo019\\Anaconda3\\lib\\site-packages\\trompy\\snipper_class.py:215: VisibleDeprecationWarning: Creating an ndarray from ragged nested sequences (which is a list-or-tuple of lists-or-tuples-or ndarrays with different lengths or shapes) is deprecated. If you meant to do this, you must specify 'dtype=object' when creating the ndarray\n",
      "  self.snips = np.array([self.put_snip_in_bins(snip) for snip in self.snips])\n",
      "C:\\Users\\kvo019\\Anaconda3\\lib\\site-packages\\trompy\\snipper_class.py:229: VisibleDeprecationWarning: Creating an ndarray from ragged nested sequences (which is a list-or-tuple of lists-or-tuples-or ndarrays with different lengths or shapes) is deprecated. If you meant to do this, you must specify 'dtype=object' when creating the ndarray\n",
      "  self.snips = np.array(z_snips)\n",
      "C:\\Users\\kvo019\\Anaconda3\\lib\\site-packages\\trompy\\snipper_class.py:215: VisibleDeprecationWarning: Creating an ndarray from ragged nested sequences (which is a list-or-tuple of lists-or-tuples-or ndarrays with different lengths or shapes) is deprecated. If you meant to do this, you must specify 'dtype=object' when creating the ndarray\n",
      "  self.snips = np.array([self.put_snip_in_bins(snip) for snip in self.snips])\n",
      "C:\\Users\\kvo019\\Anaconda3\\lib\\site-packages\\trompy\\snipper_class.py:229: VisibleDeprecationWarning: Creating an ndarray from ragged nested sequences (which is a list-or-tuple of lists-or-tuples-or ndarrays with different lengths or shapes) is deprecated. If you meant to do this, you must specify 'dtype=object' when creating the ndarray\n",
      "  self.snips = np.array(z_snips)\n",
      "C:\\Users\\kvo019\\Anaconda3\\lib\\site-packages\\trompy\\snipper_class.py:215: VisibleDeprecationWarning: Creating an ndarray from ragged nested sequences (which is a list-or-tuple of lists-or-tuples-or ndarrays with different lengths or shapes) is deprecated. If you meant to do this, you must specify 'dtype=object' when creating the ndarray\n",
      "  self.snips = np.array([self.put_snip_in_bins(snip) for snip in self.snips])\n",
      "C:\\Users\\kvo019\\Anaconda3\\lib\\site-packages\\trompy\\snipper_class.py:229: VisibleDeprecationWarning: Creating an ndarray from ragged nested sequences (which is a list-or-tuple of lists-or-tuples-or ndarrays with different lengths or shapes) is deprecated. If you meant to do this, you must specify 'dtype=object' when creating the ndarray\n",
      "  self.snips = np.array(z_snips)\n",
      "C:\\Users\\kvo019\\Anaconda3\\lib\\site-packages\\trompy\\snipper_class.py:215: VisibleDeprecationWarning: Creating an ndarray from ragged nested sequences (which is a list-or-tuple of lists-or-tuples-or ndarrays with different lengths or shapes) is deprecated. If you meant to do this, you must specify 'dtype=object' when creating the ndarray\n",
      "  self.snips = np.array([self.put_snip_in_bins(snip) for snip in self.snips])\n",
      "C:\\Users\\kvo019\\Anaconda3\\lib\\site-packages\\trompy\\snipper_class.py:229: VisibleDeprecationWarning: Creating an ndarray from ragged nested sequences (which is a list-or-tuple of lists-or-tuples-or ndarrays with different lengths or shapes) is deprecated. If you meant to do this, you must specify 'dtype=object' when creating the ndarray\n",
      "  self.snips = np.array(z_snips)\n",
      "C:\\Users\\kvo019\\Anaconda3\\lib\\site-packages\\trompy\\snipper_class.py:215: VisibleDeprecationWarning: Creating an ndarray from ragged nested sequences (which is a list-or-tuple of lists-or-tuples-or ndarrays with different lengths or shapes) is deprecated. If you meant to do this, you must specify 'dtype=object' when creating the ndarray\n",
      "  self.snips = np.array([self.put_snip_in_bins(snip) for snip in self.snips])\n",
      "C:\\Users\\kvo019\\Anaconda3\\lib\\site-packages\\trompy\\snipper_class.py:229: VisibleDeprecationWarning: Creating an ndarray from ragged nested sequences (which is a list-or-tuple of lists-or-tuples-or ndarrays with different lengths or shapes) is deprecated. If you meant to do this, you must specify 'dtype=object' when creating the ndarray\n",
      "  self.snips = np.array(z_snips)\n",
      "C:\\Users\\kvo019\\Anaconda3\\lib\\site-packages\\trompy\\snipper_class.py:215: VisibleDeprecationWarning: Creating an ndarray from ragged nested sequences (which is a list-or-tuple of lists-or-tuples-or ndarrays with different lengths or shapes) is deprecated. If you meant to do this, you must specify 'dtype=object' when creating the ndarray\n",
      "  self.snips = np.array([self.put_snip_in_bins(snip) for snip in self.snips])\n",
      "C:\\Users\\kvo019\\Anaconda3\\lib\\site-packages\\trompy\\snipper_class.py:229: VisibleDeprecationWarning: Creating an ndarray from ragged nested sequences (which is a list-or-tuple of lists-or-tuples-or ndarrays with different lengths or shapes) is deprecated. If you meant to do this, you must specify 'dtype=object' when creating the ndarray\n",
      "  self.snips = np.array(z_snips)\n",
      "C:\\Users\\kvo019\\Anaconda3\\lib\\site-packages\\trompy\\snipper_class.py:215: VisibleDeprecationWarning: Creating an ndarray from ragged nested sequences (which is a list-or-tuple of lists-or-tuples-or ndarrays with different lengths or shapes) is deprecated. If you meant to do this, you must specify 'dtype=object' when creating the ndarray\n",
      "  self.snips = np.array([self.put_snip_in_bins(snip) for snip in self.snips])\n",
      "C:\\Users\\kvo019\\Anaconda3\\lib\\site-packages\\trompy\\snipper_class.py:229: VisibleDeprecationWarning: Creating an ndarray from ragged nested sequences (which is a list-or-tuple of lists-or-tuples-or ndarrays with different lengths or shapes) is deprecated. If you meant to do this, you must specify 'dtype=object' when creating the ndarray\n",
      "  self.snips = np.array(z_snips)\n",
      "C:\\Users\\kvo019\\Anaconda3\\lib\\site-packages\\trompy\\snipper_class.py:215: VisibleDeprecationWarning: Creating an ndarray from ragged nested sequences (which is a list-or-tuple of lists-or-tuples-or ndarrays with different lengths or shapes) is deprecated. If you meant to do this, you must specify 'dtype=object' when creating the ndarray\n",
      "  self.snips = np.array([self.put_snip_in_bins(snip) for snip in self.snips])\n",
      "C:\\Users\\kvo019\\Anaconda3\\lib\\site-packages\\trompy\\snipper_class.py:229: VisibleDeprecationWarning: Creating an ndarray from ragged nested sequences (which is a list-or-tuple of lists-or-tuples-or ndarrays with different lengths or shapes) is deprecated. If you meant to do this, you must specify 'dtype=object' when creating the ndarray\n",
      "  self.snips = np.array(z_snips)\n",
      "C:\\Users\\kvo019\\Anaconda3\\lib\\site-packages\\trompy\\snipper_class.py:215: VisibleDeprecationWarning: Creating an ndarray from ragged nested sequences (which is a list-or-tuple of lists-or-tuples-or ndarrays with different lengths or shapes) is deprecated. If you meant to do this, you must specify 'dtype=object' when creating the ndarray\n",
      "  self.snips = np.array([self.put_snip_in_bins(snip) for snip in self.snips])\n",
      "C:\\Users\\kvo019\\Anaconda3\\lib\\site-packages\\trompy\\snipper_class.py:229: VisibleDeprecationWarning: Creating an ndarray from ragged nested sequences (which is a list-or-tuple of lists-or-tuples-or ndarrays with different lengths or shapes) is deprecated. If you meant to do this, you must specify 'dtype=object' when creating the ndarray\n",
      "  self.snips = np.array(z_snips)\n",
      "C:\\Users\\kvo019\\Anaconda3\\lib\\site-packages\\trompy\\snipper_class.py:215: VisibleDeprecationWarning: Creating an ndarray from ragged nested sequences (which is a list-or-tuple of lists-or-tuples-or ndarrays with different lengths or shapes) is deprecated. If you meant to do this, you must specify 'dtype=object' when creating the ndarray\n",
      "  self.snips = np.array([self.put_snip_in_bins(snip) for snip in self.snips])\n",
      "C:\\Users\\kvo019\\Anaconda3\\lib\\site-packages\\trompy\\snipper_class.py:229: VisibleDeprecationWarning: Creating an ndarray from ragged nested sequences (which is a list-or-tuple of lists-or-tuples-or ndarrays with different lengths or shapes) is deprecated. If you meant to do this, you must specify 'dtype=object' when creating the ndarray\n",
      "  self.snips = np.array(z_snips)\n"
     ]
    },
    {
     "name": "stdout",
     "output_type": "stream",
     "text": [
      "\n",
      "Found 1 potential artifacts.\n",
      "<class 'numpy.ndarray'>\n",
      "Found 0 potential artifacts.\n",
      "No artifacts found.\n",
      "adding this mouse\n",
      "<class 'numpy.ndarray'>\n",
      "Found 0 potential artifacts.\n",
      "No artifacts found.\n",
      "<class 'numpy.ndarray'>\n",
      "Found 0 potential artifacts.\n",
      "No artifacts found.\n",
      "adding this mouse\n",
      "<class 'numpy.ndarray'>\n",
      "Found 0 potential artifacts.\n",
      "No artifacts found.\n",
      "<class 'numpy.ndarray'>\n",
      "Found 0 potential artifacts.\n",
      "No artifacts found.\n",
      "<class 'numpy.ndarray'>\n",
      "Found 0 potential artifacts.\n",
      "No artifacts found.\n",
      "adding this mouse\n",
      "<class 'numpy.ndarray'>\n",
      "Found 0 potential artifacts.\n",
      "No artifacts found.\n",
      "<class 'numpy.ndarray'>\n",
      "Found 0 potential artifacts.\n",
      "No artifacts found.\n",
      "<class 'numpy.ndarray'>\n",
      "Found 0 potential artifacts.\n",
      "No artifacts found.\n",
      "adding this mouse\n",
      "<class 'numpy.ndarray'>\n",
      "Found 0 potential artifacts.\n",
      "No artifacts found.\n",
      "<class 'numpy.ndarray'>\n",
      "Found 0 potential artifacts.\n",
      "No artifacts found.\n",
      "<class 'numpy.ndarray'>\n",
      "Found 0 potential artifacts.\n",
      "No artifacts found.\n",
      "adding this mouse\n",
      "<class 'numpy.ndarray'>\n",
      "Found 0 potential artifacts.\n",
      "No artifacts found.\n",
      "<class 'numpy.ndarray'>\n",
      "Found 0 potential artifacts.\n",
      "No artifacts found.\n",
      "adding this mouse\n",
      "<class 'numpy.ndarray'>"
     ]
    },
    {
     "name": "stderr",
     "output_type": "stream",
     "text": [
      "C:\\Users\\kvo019\\Anaconda3\\lib\\site-packages\\trompy\\snipper_class.py:215: VisibleDeprecationWarning: Creating an ndarray from ragged nested sequences (which is a list-or-tuple of lists-or-tuples-or ndarrays with different lengths or shapes) is deprecated. If you meant to do this, you must specify 'dtype=object' when creating the ndarray\n",
      "  self.snips = np.array([self.put_snip_in_bins(snip) for snip in self.snips])\n",
      "C:\\Users\\kvo019\\Anaconda3\\lib\\site-packages\\trompy\\snipper_class.py:229: VisibleDeprecationWarning: Creating an ndarray from ragged nested sequences (which is a list-or-tuple of lists-or-tuples-or ndarrays with different lengths or shapes) is deprecated. If you meant to do this, you must specify 'dtype=object' when creating the ndarray\n",
      "  self.snips = np.array(z_snips)\n",
      "C:\\Users\\kvo019\\Anaconda3\\lib\\site-packages\\trompy\\snipper_class.py:215: VisibleDeprecationWarning: Creating an ndarray from ragged nested sequences (which is a list-or-tuple of lists-or-tuples-or ndarrays with different lengths or shapes) is deprecated. If you meant to do this, you must specify 'dtype=object' when creating the ndarray\n",
      "  self.snips = np.array([self.put_snip_in_bins(snip) for snip in self.snips])\n",
      "C:\\Users\\kvo019\\Anaconda3\\lib\\site-packages\\trompy\\snipper_class.py:229: VisibleDeprecationWarning: Creating an ndarray from ragged nested sequences (which is a list-or-tuple of lists-or-tuples-or ndarrays with different lengths or shapes) is deprecated. If you meant to do this, you must specify 'dtype=object' when creating the ndarray\n",
      "  self.snips = np.array(z_snips)\n",
      "C:\\Users\\kvo019\\Anaconda3\\lib\\site-packages\\trompy\\snipper_class.py:215: VisibleDeprecationWarning: Creating an ndarray from ragged nested sequences (which is a list-or-tuple of lists-or-tuples-or ndarrays with different lengths or shapes) is deprecated. If you meant to do this, you must specify 'dtype=object' when creating the ndarray\n",
      "  self.snips = np.array([self.put_snip_in_bins(snip) for snip in self.snips])\n",
      "C:\\Users\\kvo019\\Anaconda3\\lib\\site-packages\\trompy\\snipper_class.py:229: VisibleDeprecationWarning: Creating an ndarray from ragged nested sequences (which is a list-or-tuple of lists-or-tuples-or ndarrays with different lengths or shapes) is deprecated. If you meant to do this, you must specify 'dtype=object' when creating the ndarray\n",
      "  self.snips = np.array(z_snips)\n",
      "C:\\Users\\kvo019\\Anaconda3\\lib\\site-packages\\trompy\\snipper_class.py:215: VisibleDeprecationWarning: Creating an ndarray from ragged nested sequences (which is a list-or-tuple of lists-or-tuples-or ndarrays with different lengths or shapes) is deprecated. If you meant to do this, you must specify 'dtype=object' when creating the ndarray\n",
      "  self.snips = np.array([self.put_snip_in_bins(snip) for snip in self.snips])\n",
      "C:\\Users\\kvo019\\Anaconda3\\lib\\site-packages\\trompy\\snipper_class.py:229: VisibleDeprecationWarning: Creating an ndarray from ragged nested sequences (which is a list-or-tuple of lists-or-tuples-or ndarrays with different lengths or shapes) is deprecated. If you meant to do this, you must specify 'dtype=object' when creating the ndarray\n",
      "  self.snips = np.array(z_snips)\n",
      "C:\\Users\\kvo019\\Anaconda3\\lib\\site-packages\\trompy\\snipper_class.py:215: VisibleDeprecationWarning: Creating an ndarray from ragged nested sequences (which is a list-or-tuple of lists-or-tuples-or ndarrays with different lengths or shapes) is deprecated. If you meant to do this, you must specify 'dtype=object' when creating the ndarray\n",
      "  self.snips = np.array([self.put_snip_in_bins(snip) for snip in self.snips])\n",
      "C:\\Users\\kvo019\\Anaconda3\\lib\\site-packages\\trompy\\snipper_class.py:229: VisibleDeprecationWarning: Creating an ndarray from ragged nested sequences (which is a list-or-tuple of lists-or-tuples-or ndarrays with different lengths or shapes) is deprecated. If you meant to do this, you must specify 'dtype=object' when creating the ndarray\n",
      "  self.snips = np.array(z_snips)\n",
      "C:\\Users\\kvo019\\Anaconda3\\lib\\site-packages\\trompy\\snipper_class.py:215: VisibleDeprecationWarning: Creating an ndarray from ragged nested sequences (which is a list-or-tuple of lists-or-tuples-or ndarrays with different lengths or shapes) is deprecated. If you meant to do this, you must specify 'dtype=object' when creating the ndarray\n",
      "  self.snips = np.array([self.put_snip_in_bins(snip) for snip in self.snips])\n",
      "C:\\Users\\kvo019\\Anaconda3\\lib\\site-packages\\trompy\\snipper_class.py:229: VisibleDeprecationWarning: Creating an ndarray from ragged nested sequences (which is a list-or-tuple of lists-or-tuples-or ndarrays with different lengths or shapes) is deprecated. If you meant to do this, you must specify 'dtype=object' when creating the ndarray\n",
      "  self.snips = np.array(z_snips)\n",
      "C:\\Users\\kvo019\\Anaconda3\\lib\\site-packages\\trompy\\snipper_class.py:215: VisibleDeprecationWarning: Creating an ndarray from ragged nested sequences (which is a list-or-tuple of lists-or-tuples-or ndarrays with different lengths or shapes) is deprecated. If you meant to do this, you must specify 'dtype=object' when creating the ndarray\n",
      "  self.snips = np.array([self.put_snip_in_bins(snip) for snip in self.snips])\n",
      "C:\\Users\\kvo019\\Anaconda3\\lib\\site-packages\\trompy\\snipper_class.py:229: VisibleDeprecationWarning: Creating an ndarray from ragged nested sequences (which is a list-or-tuple of lists-or-tuples-or ndarrays with different lengths or shapes) is deprecated. If you meant to do this, you must specify 'dtype=object' when creating the ndarray\n",
      "  self.snips = np.array(z_snips)\n",
      "C:\\Users\\kvo019\\Anaconda3\\lib\\site-packages\\trompy\\snipper_class.py:215: VisibleDeprecationWarning: Creating an ndarray from ragged nested sequences (which is a list-or-tuple of lists-or-tuples-or ndarrays with different lengths or shapes) is deprecated. If you meant to do this, you must specify 'dtype=object' when creating the ndarray\n",
      "  self.snips = np.array([self.put_snip_in_bins(snip) for snip in self.snips])\n",
      "C:\\Users\\kvo019\\Anaconda3\\lib\\site-packages\\trompy\\snipper_class.py:229: VisibleDeprecationWarning: Creating an ndarray from ragged nested sequences (which is a list-or-tuple of lists-or-tuples-or ndarrays with different lengths or shapes) is deprecated. If you meant to do this, you must specify 'dtype=object' when creating the ndarray\n",
      "  self.snips = np.array(z_snips)\n",
      "C:\\Users\\kvo019\\Anaconda3\\lib\\site-packages\\trompy\\snipper_class.py:215: VisibleDeprecationWarning: Creating an ndarray from ragged nested sequences (which is a list-or-tuple of lists-or-tuples-or ndarrays with different lengths or shapes) is deprecated. If you meant to do this, you must specify 'dtype=object' when creating the ndarray\n",
      "  self.snips = np.array([self.put_snip_in_bins(snip) for snip in self.snips])\n",
      "C:\\Users\\kvo019\\Anaconda3\\lib\\site-packages\\trompy\\snipper_class.py:229: VisibleDeprecationWarning: Creating an ndarray from ragged nested sequences (which is a list-or-tuple of lists-or-tuples-or ndarrays with different lengths or shapes) is deprecated. If you meant to do this, you must specify 'dtype=object' when creating the ndarray\n",
      "  self.snips = np.array(z_snips)\n",
      "C:\\Users\\kvo019\\Anaconda3\\lib\\site-packages\\trompy\\snipper_class.py:215: VisibleDeprecationWarning: Creating an ndarray from ragged nested sequences (which is a list-or-tuple of lists-or-tuples-or ndarrays with different lengths or shapes) is deprecated. If you meant to do this, you must specify 'dtype=object' when creating the ndarray\n",
      "  self.snips = np.array([self.put_snip_in_bins(snip) for snip in self.snips])\n",
      "C:\\Users\\kvo019\\Anaconda3\\lib\\site-packages\\trompy\\snipper_class.py:229: VisibleDeprecationWarning: Creating an ndarray from ragged nested sequences (which is a list-or-tuple of lists-or-tuples-or ndarrays with different lengths or shapes) is deprecated. If you meant to do this, you must specify 'dtype=object' when creating the ndarray\n",
      "  self.snips = np.array(z_snips)\n",
      "C:\\Users\\kvo019\\Anaconda3\\lib\\site-packages\\trompy\\snipper_class.py:215: VisibleDeprecationWarning: Creating an ndarray from ragged nested sequences (which is a list-or-tuple of lists-or-tuples-or ndarrays with different lengths or shapes) is deprecated. If you meant to do this, you must specify 'dtype=object' when creating the ndarray\n",
      "  self.snips = np.array([self.put_snip_in_bins(snip) for snip in self.snips])\n",
      "C:\\Users\\kvo019\\Anaconda3\\lib\\site-packages\\trompy\\snipper_class.py:229: VisibleDeprecationWarning: Creating an ndarray from ragged nested sequences (which is a list-or-tuple of lists-or-tuples-or ndarrays with different lengths or shapes) is deprecated. If you meant to do this, you must specify 'dtype=object' when creating the ndarray\n",
      "  self.snips = np.array(z_snips)\n",
      "C:\\Users\\kvo019\\Anaconda3\\lib\\site-packages\\trompy\\snipper_class.py:215: VisibleDeprecationWarning: Creating an ndarray from ragged nested sequences (which is a list-or-tuple of lists-or-tuples-or ndarrays with different lengths or shapes) is deprecated. If you meant to do this, you must specify 'dtype=object' when creating the ndarray\n",
      "  self.snips = np.array([self.put_snip_in_bins(snip) for snip in self.snips])\n",
      "C:\\Users\\kvo019\\Anaconda3\\lib\\site-packages\\trompy\\snipper_class.py:229: VisibleDeprecationWarning: Creating an ndarray from ragged nested sequences (which is a list-or-tuple of lists-or-tuples-or ndarrays with different lengths or shapes) is deprecated. If you meant to do this, you must specify 'dtype=object' when creating the ndarray\n",
      "  self.snips = np.array(z_snips)\n",
      "C:\\Users\\kvo019\\Anaconda3\\lib\\site-packages\\trompy\\snipper_class.py:215: VisibleDeprecationWarning: Creating an ndarray from ragged nested sequences (which is a list-or-tuple of lists-or-tuples-or ndarrays with different lengths or shapes) is deprecated. If you meant to do this, you must specify 'dtype=object' when creating the ndarray\n",
      "  self.snips = np.array([self.put_snip_in_bins(snip) for snip in self.snips])\n",
      "C:\\Users\\kvo019\\Anaconda3\\lib\\site-packages\\trompy\\snipper_class.py:229: VisibleDeprecationWarning: Creating an ndarray from ragged nested sequences (which is a list-or-tuple of lists-or-tuples-or ndarrays with different lengths or shapes) is deprecated. If you meant to do this, you must specify 'dtype=object' when creating the ndarray\n",
      "  self.snips = np.array(z_snips)\n",
      "C:\\Users\\kvo019\\Anaconda3\\lib\\site-packages\\trompy\\snipper_class.py:215: VisibleDeprecationWarning: Creating an ndarray from ragged nested sequences (which is a list-or-tuple of lists-or-tuples-or ndarrays with different lengths or shapes) is deprecated. If you meant to do this, you must specify 'dtype=object' when creating the ndarray\n",
      "  self.snips = np.array([self.put_snip_in_bins(snip) for snip in self.snips])\n",
      "C:\\Users\\kvo019\\Anaconda3\\lib\\site-packages\\trompy\\snipper_class.py:229: VisibleDeprecationWarning: Creating an ndarray from ragged nested sequences (which is a list-or-tuple of lists-or-tuples-or ndarrays with different lengths or shapes) is deprecated. If you meant to do this, you must specify 'dtype=object' when creating the ndarray\n",
      "  self.snips = np.array(z_snips)\n",
      "C:\\Users\\kvo019\\Anaconda3\\lib\\site-packages\\trompy\\snipper_class.py:215: VisibleDeprecationWarning: Creating an ndarray from ragged nested sequences (which is a list-or-tuple of lists-or-tuples-or ndarrays with different lengths or shapes) is deprecated. If you meant to do this, you must specify 'dtype=object' when creating the ndarray\n",
      "  self.snips = np.array([self.put_snip_in_bins(snip) for snip in self.snips])\n",
      "C:\\Users\\kvo019\\Anaconda3\\lib\\site-packages\\trompy\\snipper_class.py:229: VisibleDeprecationWarning: Creating an ndarray from ragged nested sequences (which is a list-or-tuple of lists-or-tuples-or ndarrays with different lengths or shapes) is deprecated. If you meant to do this, you must specify 'dtype=object' when creating the ndarray\n",
      "  self.snips = np.array(z_snips)\n"
     ]
    },
    {
     "name": "stdout",
     "output_type": "stream",
     "text": [
      "\n",
      "Found 0 potential artifacts.\n",
      "No artifacts found.\n",
      "<class 'numpy.ndarray'>\n",
      "Found 0 potential artifacts.\n",
      "No artifacts found.\n",
      "<class 'numpy.ndarray'>\n",
      "Found 0 potential artifacts.\n",
      "No artifacts found.\n",
      "adding this mouse\n",
      "<class 'numpy.ndarray'>\n",
      "Found 0 potential artifacts.\n",
      "No artifacts found.\n",
      "<class 'numpy.ndarray'>\n",
      "Found 0 potential artifacts.\n",
      "No artifacts found.\n",
      "<class 'numpy.ndarray'>\n",
      "Found 0 potential artifacts.\n",
      "No artifacts found.\n",
      "adding this mouse\n",
      "<class 'numpy.ndarray'>\n",
      "Found 0 potential artifacts.\n",
      "No artifacts found.\n",
      "<class 'numpy.ndarray'>\n",
      "Found 0 potential artifacts.\n",
      "No artifacts found.\n",
      "<class 'numpy.ndarray'>\n",
      "Found 0 potential artifacts.\n",
      "No artifacts found.\n",
      "adding this mouse\n",
      "<class 'numpy.ndarray'>\n",
      "Found 1 potential artifacts.\n",
      "adding this mouse\n",
      "<class 'numpy.ndarray'>\n",
      "Found 0 potential artifacts.\n",
      "No artifacts found.\n",
      "adding this mouse\n",
      "<class 'numpy.ndarray'>\n",
      "Found 0 potential artifacts.\n",
      "No artifacts found.\n",
      "adding this mouse\n",
      "<class 'numpy.ndarray'>\n",
      "Found 0 potential artifacts.\n",
      "No artifacts found.\n",
      "adding this mouse\n",
      "<class 'numpy.ndarray'>"
     ]
    },
    {
     "name": "stderr",
     "output_type": "stream",
     "text": [
      "C:\\Users\\kvo019\\Anaconda3\\lib\\site-packages\\trompy\\snipper_class.py:215: VisibleDeprecationWarning: Creating an ndarray from ragged nested sequences (which is a list-or-tuple of lists-or-tuples-or ndarrays with different lengths or shapes) is deprecated. If you meant to do this, you must specify 'dtype=object' when creating the ndarray\n",
      "  self.snips = np.array([self.put_snip_in_bins(snip) for snip in self.snips])\n",
      "C:\\Users\\kvo019\\Anaconda3\\lib\\site-packages\\trompy\\snipper_class.py:229: VisibleDeprecationWarning: Creating an ndarray from ragged nested sequences (which is a list-or-tuple of lists-or-tuples-or ndarrays with different lengths or shapes) is deprecated. If you meant to do this, you must specify 'dtype=object' when creating the ndarray\n",
      "  self.snips = np.array(z_snips)\n",
      "C:\\Users\\kvo019\\Anaconda3\\lib\\site-packages\\trompy\\snipper_class.py:215: VisibleDeprecationWarning: Creating an ndarray from ragged nested sequences (which is a list-or-tuple of lists-or-tuples-or ndarrays with different lengths or shapes) is deprecated. If you meant to do this, you must specify 'dtype=object' when creating the ndarray\n",
      "  self.snips = np.array([self.put_snip_in_bins(snip) for snip in self.snips])\n",
      "C:\\Users\\kvo019\\Anaconda3\\lib\\site-packages\\trompy\\snipper_class.py:229: VisibleDeprecationWarning: Creating an ndarray from ragged nested sequences (which is a list-or-tuple of lists-or-tuples-or ndarrays with different lengths or shapes) is deprecated. If you meant to do this, you must specify 'dtype=object' when creating the ndarray\n",
      "  self.snips = np.array(z_snips)\n",
      "C:\\Users\\kvo019\\Anaconda3\\lib\\site-packages\\trompy\\snipper_class.py:215: VisibleDeprecationWarning: Creating an ndarray from ragged nested sequences (which is a list-or-tuple of lists-or-tuples-or ndarrays with different lengths or shapes) is deprecated. If you meant to do this, you must specify 'dtype=object' when creating the ndarray\n",
      "  self.snips = np.array([self.put_snip_in_bins(snip) for snip in self.snips])\n",
      "C:\\Users\\kvo019\\Anaconda3\\lib\\site-packages\\trompy\\snipper_class.py:229: VisibleDeprecationWarning: Creating an ndarray from ragged nested sequences (which is a list-or-tuple of lists-or-tuples-or ndarrays with different lengths or shapes) is deprecated. If you meant to do this, you must specify 'dtype=object' when creating the ndarray\n",
      "  self.snips = np.array(z_snips)\n",
      "C:\\Users\\kvo019\\Anaconda3\\lib\\site-packages\\trompy\\snipper_class.py:215: VisibleDeprecationWarning: Creating an ndarray from ragged nested sequences (which is a list-or-tuple of lists-or-tuples-or ndarrays with different lengths or shapes) is deprecated. If you meant to do this, you must specify 'dtype=object' when creating the ndarray\n",
      "  self.snips = np.array([self.put_snip_in_bins(snip) for snip in self.snips])\n",
      "C:\\Users\\kvo019\\Anaconda3\\lib\\site-packages\\trompy\\snipper_class.py:229: VisibleDeprecationWarning: Creating an ndarray from ragged nested sequences (which is a list-or-tuple of lists-or-tuples-or ndarrays with different lengths or shapes) is deprecated. If you meant to do this, you must specify 'dtype=object' when creating the ndarray\n",
      "  self.snips = np.array(z_snips)\n",
      "C:\\Users\\kvo019\\Anaconda3\\lib\\site-packages\\trompy\\snipper_class.py:215: VisibleDeprecationWarning: Creating an ndarray from ragged nested sequences (which is a list-or-tuple of lists-or-tuples-or ndarrays with different lengths or shapes) is deprecated. If you meant to do this, you must specify 'dtype=object' when creating the ndarray\n",
      "  self.snips = np.array([self.put_snip_in_bins(snip) for snip in self.snips])\n",
      "C:\\Users\\kvo019\\Anaconda3\\lib\\site-packages\\trompy\\snipper_class.py:229: VisibleDeprecationWarning: Creating an ndarray from ragged nested sequences (which is a list-or-tuple of lists-or-tuples-or ndarrays with different lengths or shapes) is deprecated. If you meant to do this, you must specify 'dtype=object' when creating the ndarray\n",
      "  self.snips = np.array(z_snips)\n",
      "C:\\Users\\kvo019\\Anaconda3\\lib\\site-packages\\trompy\\snipper_class.py:215: VisibleDeprecationWarning: Creating an ndarray from ragged nested sequences (which is a list-or-tuple of lists-or-tuples-or ndarrays with different lengths or shapes) is deprecated. If you meant to do this, you must specify 'dtype=object' when creating the ndarray\n",
      "  self.snips = np.array([self.put_snip_in_bins(snip) for snip in self.snips])\n",
      "C:\\Users\\kvo019\\Anaconda3\\lib\\site-packages\\trompy\\snipper_class.py:229: VisibleDeprecationWarning: Creating an ndarray from ragged nested sequences (which is a list-or-tuple of lists-or-tuples-or ndarrays with different lengths or shapes) is deprecated. If you meant to do this, you must specify 'dtype=object' when creating the ndarray\n",
      "  self.snips = np.array(z_snips)\n",
      "C:\\Users\\kvo019\\Anaconda3\\lib\\site-packages\\trompy\\snipper_class.py:215: VisibleDeprecationWarning: Creating an ndarray from ragged nested sequences (which is a list-or-tuple of lists-or-tuples-or ndarrays with different lengths or shapes) is deprecated. If you meant to do this, you must specify 'dtype=object' when creating the ndarray\n",
      "  self.snips = np.array([self.put_snip_in_bins(snip) for snip in self.snips])\n",
      "C:\\Users\\kvo019\\Anaconda3\\lib\\site-packages\\trompy\\snipper_class.py:229: VisibleDeprecationWarning: Creating an ndarray from ragged nested sequences (which is a list-or-tuple of lists-or-tuples-or ndarrays with different lengths or shapes) is deprecated. If you meant to do this, you must specify 'dtype=object' when creating the ndarray\n",
      "  self.snips = np.array(z_snips)\n",
      "C:\\Users\\kvo019\\Anaconda3\\lib\\site-packages\\trompy\\snipper_class.py:215: VisibleDeprecationWarning: Creating an ndarray from ragged nested sequences (which is a list-or-tuple of lists-or-tuples-or ndarrays with different lengths or shapes) is deprecated. If you meant to do this, you must specify 'dtype=object' when creating the ndarray\n",
      "  self.snips = np.array([self.put_snip_in_bins(snip) for snip in self.snips])\n",
      "C:\\Users\\kvo019\\Anaconda3\\lib\\site-packages\\trompy\\snipper_class.py:229: VisibleDeprecationWarning: Creating an ndarray from ragged nested sequences (which is a list-or-tuple of lists-or-tuples-or ndarrays with different lengths or shapes) is deprecated. If you meant to do this, you must specify 'dtype=object' when creating the ndarray\n",
      "  self.snips = np.array(z_snips)\n",
      "C:\\Users\\kvo019\\Anaconda3\\lib\\site-packages\\trompy\\snipper_class.py:215: VisibleDeprecationWarning: Creating an ndarray from ragged nested sequences (which is a list-or-tuple of lists-or-tuples-or ndarrays with different lengths or shapes) is deprecated. If you meant to do this, you must specify 'dtype=object' when creating the ndarray\n",
      "  self.snips = np.array([self.put_snip_in_bins(snip) for snip in self.snips])\n",
      "C:\\Users\\kvo019\\Anaconda3\\lib\\site-packages\\trompy\\snipper_class.py:229: VisibleDeprecationWarning: Creating an ndarray from ragged nested sequences (which is a list-or-tuple of lists-or-tuples-or ndarrays with different lengths or shapes) is deprecated. If you meant to do this, you must specify 'dtype=object' when creating the ndarray\n",
      "  self.snips = np.array(z_snips)\n",
      "C:\\Users\\kvo019\\Anaconda3\\lib\\site-packages\\trompy\\snipper_class.py:215: VisibleDeprecationWarning: Creating an ndarray from ragged nested sequences (which is a list-or-tuple of lists-or-tuples-or ndarrays with different lengths or shapes) is deprecated. If you meant to do this, you must specify 'dtype=object' when creating the ndarray\n",
      "  self.snips = np.array([self.put_snip_in_bins(snip) for snip in self.snips])\n",
      "C:\\Users\\kvo019\\Anaconda3\\lib\\site-packages\\trompy\\snipper_class.py:229: VisibleDeprecationWarning: Creating an ndarray from ragged nested sequences (which is a list-or-tuple of lists-or-tuples-or ndarrays with different lengths or shapes) is deprecated. If you meant to do this, you must specify 'dtype=object' when creating the ndarray\n",
      "  self.snips = np.array(z_snips)\n"
     ]
    },
    {
     "name": "stdout",
     "output_type": "stream",
     "text": [
      "\n",
      "Found 0 potential artifacts.\n",
      "No artifacts found.\n",
      "adding this mouse\n",
      "<class 'numpy.ndarray'>\n",
      "Found 0 potential artifacts.\n",
      "No artifacts found.\n",
      "adding this mouse\n",
      "<class 'numpy.ndarray'>\n",
      "Found 0 potential artifacts.\n",
      "No artifacts found.\n",
      "adding this mouse\n"
     ]
    },
    {
     "name": "stderr",
     "output_type": "stream",
     "text": [
      "C:\\Users\\kvo019\\Anaconda3\\lib\\site-packages\\trompy\\snipper_class.py:215: VisibleDeprecationWarning: Creating an ndarray from ragged nested sequences (which is a list-or-tuple of lists-or-tuples-or ndarrays with different lengths or shapes) is deprecated. If you meant to do this, you must specify 'dtype=object' when creating the ndarray\n",
      "  self.snips = np.array([self.put_snip_in_bins(snip) for snip in self.snips])\n",
      "C:\\Users\\kvo019\\Anaconda3\\lib\\site-packages\\trompy\\snipper_class.py:229: VisibleDeprecationWarning: Creating an ndarray from ragged nested sequences (which is a list-or-tuple of lists-or-tuples-or ndarrays with different lengths or shapes) is deprecated. If you meant to do this, you must specify 'dtype=object' when creating the ndarray\n",
      "  self.snips = np.array(z_snips)\n"
     ]
    },
    {
     "data": {
      "image/png": "[encoded data removed]",
      "text/plain": [
       "<Figure size 432x288 with 1 Axes>"
      ]
     },
     "metadata": {
      "needs_background": "light"
     },
     "output_type": "display_data"
    }
   ],
   "source": [
    "#getting snips\n",
    "restricted_start, restricted_end, restricted_full = get_snips(restricted_dark)\n",
    "dark_start, dark_end, dark_full = get_snips(adlib_dark)\n",
    "light_start, light_end, light_full = get_snips(adlib_light)\n",
    "sucralose_start, sucralose_end, sucralose_full = get_snips(adlib_sucralose)\n",
    "\n",
    "#takes into account that last mouse does not have data - could look into it\n",
    "#indices_to_keep = [0,1,2,3,4,6]\n",
    "#sucralose_full = np.array(sucralose_full[indices_to_keep])\n",
    "\n",
    "#temp_list = []\n",
    "#for mouse in sucralose_full:\n",
    "#    temp_list.append(mouse)\n",
    "    \n",
    "#sucralose_full = np.array(temp_list)\n"
   ]
  },
  {
   "cell_type": "code",
   "execution_count": 6,
   "metadata": {},
   "outputs": [
    {
     "data": {
      "text/plain": [
       "array([607. , 996.5, 643.5, 487. , 968. , 737.5, 625. ])"
      ]
     },
     "execution_count": 6,
     "metadata": {},
     "output_type": "execute_result"
    }
   ],
   "source": [
    "def get_licks(data):\n",
    "    \n",
    "    mice = get_list_of_mice(data)\n",
    "    licks = []\n",
    "    \n",
    "    for mouse in mice:\n",
    "        temp_licks = 0\n",
    "        sessions = 0\n",
    "        for key, val in data.items():\n",
    "            if val[\"mouse_ID\"]==mouse:\n",
    "                #print(val)\n",
    "                onset = val[\"licks\"]\n",
    "                temp_licks = temp_licks + len(onset)\n",
    "                sessions = sessions + 1\n",
    "        licks.append(temp_licks / sessions)\n",
    "        \n",
    "    return np.array(licks)\n",
    "      \n",
    "def get_runs(onset, min_run_length=3, run_threshold=8):\n",
    "\n",
    "    current_list = []\n",
    "    runs = []\n",
    "    \n",
    "    for i in range(1, len(onset)):\n",
    "        time_diff = (onset[i] - onset[i - 1])\n",
    "        if time_diff <= run_threshold:\n",
    "            current_list.append(onset[i])\n",
    "        else:\n",
    "            current_list = [onset[i]]\n",
    "            runs.append(current_list)\n",
    "            \n",
    "    no_short_runs = []\n",
    "    \n",
    "    for run in runs:\n",
    "        if len(run) > min_run_length-1:\n",
    "            no_short_runs.append(run)\n",
    "     \n",
    "    time_zeroed_runs = []\n",
    "    \n",
    "    for run in no_short_runs:\n",
    "        time_zeroed_runs.append([t-run[0] for t in run])\n",
    "\n",
    "    return time_zeroed_runs\n",
    "\n",
    "def get_runs_from_all (data):\n",
    "    \n",
    "    mice = get_list_of_mice(data)\n",
    "    all_runs = []\n",
    "\n",
    "    for mouse in mice:\n",
    "        temp_runs = []\n",
    "        for key, val in data.items():\n",
    "            if val[\"mouse_ID\"] == mouse:\n",
    "                onset = val[\"licks\"]\n",
    "                temp_runs.append(get_runs(onset))\n",
    "\n",
    "        all_runs.append(tp.flatten_list(temp_runs))\n",
    "\n",
    "    return all_runs\n",
    "\n",
    "def sort_runs(runs):\n",
    "    sort_order = np.argsort([x[-1]for x in runs])\n",
    "    runs_sorted = [runs[i] for i in sort_order]\n",
    "    \n",
    "    return runs_sorted\n",
    "\n",
    "def get_run_lengths_for_pseudo_raster(runs, color=\"red\"):\n",
    "    lines = []\n",
    "    for idx, trial in enumerate(runs):\n",
    "            lines.append([(trial[0], idx), (trial[-1], idx)])\n",
    "        \n",
    "    return LineCollection(lines, color=color, linewidth=0.6)\n",
    "\n",
    "get_licks(adlib_dark)"
   ]
  },
  {
   "cell_type": "code",
   "execution_count": 7,
   "metadata": {},
   "outputs": [],
   "source": [
    "#getting behavior\n",
    "\n",
    "restricted_licks = get_licks(restricted_dark)\n",
    "adlib_dark_licks = get_licks(adlib_dark)\n",
    "adlib_light_licks = get_licks(adlib_light)\n",
    "sucralose_licks = get_licks(adlib_sucralose)\n",
    "\n",
    "restricted_runs = get_runs_from_all(restricted_dark)\n",
    "adlib_dark_runs = get_runs_from_all(adlib_dark)\n",
    "adlib_light_runs = get_runs_from_all(adlib_light)\n",
    "sucralose_runs = get_runs_from_all(adlib_sucralose)\n",
    "\n",
    "bins= np.arange(-5,40,1)\n",
    "\n",
    "# restricted_hist = np.histogram(tp.flatten_list(restricted_runs), bins=bins)\n",
    "# adlib_dark_hist = np.histogram(tp.flatten_list(adlib_dark_runs), bins=bins)\n",
    "# adlib_light_hist = np.histogram(tp.flatten_list(adlib_light_runs), bins=bins)\n",
    "# sucralose_hist = np.histogram(tp.flatten_list(sucralose_runs), bins=bins)\n",
    "\n",
    "restricted_sorted_runs = sort_runs(tp.flatten_list(restricted_runs))\n",
    "adlib_dark_sorted_runs = sort_runs(tp.flatten_list(adlib_dark_runs))\n",
    "adlib_light_sorted_runs = sort_runs(tp.flatten_list(adlib_light_runs))\n",
    "sucralose_sorted_runs = sort_runs(tp.flatten_list(sucralose_runs))"
   ]
  },
  {
   "cell_type": "code",
   "execution_count": 8,
   "metadata": {},
   "outputs": [
    {
     "data": {
      "image/png": "[encoded data removed]",
      "text/plain": [
       "<Figure size 86.4x115.2 with 1 Axes>"
      ]
     },
     "metadata": {
      "needs_background": "light"
     },
     "output_type": "display_data"
    }
   ],
   "source": [
    "# average licks per session\n",
    "f, ax = plt.subplots(figsize=(1.2,1.6))\n",
    "\n",
    "ax.bar([1,2,3,4],\n",
    "       [np.mean(restricted_licks),\n",
    "        np.mean(adlib_light_licks),\n",
    "        np.mean(adlib_dark_licks),\n",
    "        np.mean(sucralose_licks)\n",
    "        ],\n",
    "       color=[colors_restricted, colors_adlib_light, colors_adlib_dark, colors_sucralose]\n",
    "         )\n",
    "\n",
    "for x, ydata, color in zip([1,2,3,4],\n",
    "                            [restricted_licks,\n",
    "                             adlib_light_licks,\n",
    "                            adlib_dark_licks,\n",
    "                            sucralose_licks\n",
    "                            ],\n",
    "                            [colors_restricted, colors_adlib_light, colors_adlib_dark, colors_sucralose]\n",
    "                            ):\n",
    "    \n",
    "    ax.errorbar(x, np.mean(ydata),\n",
    "                yerr=np.std(ydata) / np.sqrt(len(ydata)),\n",
    "                color=color,\n",
    "                zorder=0\n",
    "                      ),\n",
    "    \n",
    "ax.set_xticks([])\n",
    "# ax.set_ylim([-25, 0])\n",
    "ax.set_yticks([0, 500, 1000, 1500])\n",
    "ax.set_yticklabels([])\n",
    "\n",
    "for spine in [\"top\", \"right\", \"bottom\"]:\n",
    "    ax.spines[spine].set_visible(False)\n",
    "    \n",
    "\n",
    "f.savefig(FIGSFOLDER / \"VMH_licks_per_session.pdf\")\n",
    "\n",
    "## SAVE DATA FOR STATS\n",
    "data = np.column_stack((restricted_licks, adlib_dark_licks, adlib_light_licks, sucralose_licks))\n",
    "file_path = STATSFOLDER / 'VMH_licks_per_session.csv'\n",
    "\n",
    "#np.savetxt(str(file_path), data, delimiter=',', fmt='%.6f', header='Restricted Licks, Adlib Dark Licks, Adlib Light Licks, Sucralose Licks')\n"
   ]
  },
  {
   "cell_type": "code",
   "execution_count": 9,
   "metadata": {},
   "outputs": [
    {
     "data": {
      "image/png": "[encoded data removed]",
      "text/plain": [
       "<Figure size 86.4x115.2 with 1 Axes>"
      ]
     },
     "metadata": {
      "needs_background": "light"
     },
     "output_type": "display_data"
    }
   ],
   "source": [
    "def get_number_of_runs(runs, nsessions):\n",
    "    return [len(x)/nsessions for x in runs]\n",
    "\n",
    "def get_average_run_length(runs):\n",
    "    return [np.mean([len(x) for x in y]) for y in runs]\n",
    "\n",
    "# average number of runs per session\n",
    "f, ax = plt.subplots(figsize=(1.2,1.6))\n",
    "\n",
    "ax.bar([1,2,3,4],\n",
    "       [np.mean(get_number_of_runs(restricted_runs, 3)),\n",
    "        np.mean(get_number_of_runs(adlib_light_runs, 3)),\n",
    "        np.mean(get_number_of_runs(adlib_dark_runs, 2)),\n",
    "        np.mean(get_number_of_runs(sucralose_runs, 2))\n",
    "        ],\n",
    "       color=[colors_restricted, colors_adlib_light, colors_adlib_dark, colors_sucralose]\n",
    "         )\n",
    "\n",
    "for x, ydata, color in zip([1,2,3,4],\n",
    "                            [get_number_of_runs(restricted_runs, 3),\n",
    "                            get_number_of_runs(adlib_light_runs, 3),\n",
    "                            get_number_of_runs(adlib_dark_runs, 2),\n",
    "                            get_number_of_runs(sucralose_runs, 2)\n",
    "                            ],\n",
    "                            [colors_restricted, colors_adlib_light, colors_adlib_dark, colors_sucralose]\n",
    "                            ):\n",
    "    \n",
    "    ax.errorbar(x, np.mean(ydata),\n",
    "                yerr=np.std(ydata) / np.sqrt(len(ydata)),\n",
    "                color=color,\n",
    "                zorder=0\n",
    "                      ),\n",
    "    \n",
    "ax.set_xticks([])\n",
    "# ax.set_ylim([-25, 0])\n",
    "ax.set_yticks([0, 10, 20])\n",
    "#ax.set_yticklabels([])\n",
    "\n",
    "for spine in [\"top\", \"right\", \"bottom\"]:\n",
    "    ax.spines[spine].set_visible(False)\n",
    "    \n",
    "#f.savefig(FIGSFOLDER / \"VMH_runs_per_session.pdf\")\n",
    "\n",
    "\n",
    "# Making file with avg number of runs per session\n",
    "number_runs_restricted = get_number_of_runs(restricted_runs, 3)\n",
    "number_runs_light = get_number_of_runs(adlib_light_runs, 3)\n",
    "number_runs_dark = get_number_of_runs(adlib_dark_runs, 2)\n",
    "number_runs_sucralose = get_number_of_runs(sucralose_runs, 2)\n",
    "\n",
    "number_runs_all = np.column_stack([number_runs_restricted, number_runs_light, number_runs_dark, number_runs_sucralose])\n",
    "\n",
    "file_path = STATSFOLDER / 'VMH_number_of_runs_per_session.csv'\n",
    "\n",
    "#np.savetxt(file_path, number_runs_all, delimiter=',', fmt='%.6f', header='Restricted Runs, Adlib Light Runs, Adlib Dark Runs, Sucralose Runs')"
   ]
  },
  {
   "cell_type": "code",
   "execution_count": 10,
   "metadata": {
    "scrolled": true
   },
   "outputs": [
    {
     "data": {
      "image/png": "[encoded data removed]",
      "text/plain": [
       "<Figure size 86.4x115.2 with 1 Axes>"
      ]
     },
     "metadata": {
      "needs_background": "light"
     },
     "output_type": "display_data"
    }
   ],
   "source": [
    "# average run length per session\n",
    "f, ax = plt.subplots(figsize=(1.2,1.6))\n",
    "\n",
    "ax.bar([1,2,3,4],\n",
    "       [np.mean(get_average_run_length(restricted_runs)),\n",
    "        np.mean(get_average_run_length(adlib_light_runs)),\n",
    "        np.mean(get_average_run_length(adlib_dark_runs)),\n",
    "        np.mean(get_average_run_length(sucralose_runs))\n",
    "        ],\n",
    "       color=[colors_restricted, colors_adlib_light, colors_adlib_dark, colors_sucralose]\n",
    "         )\n",
    "\n",
    "for x, ydata, color in zip([1,2,3,4],\n",
    "                            [get_average_run_length(restricted_runs),\n",
    "                            get_average_run_length(adlib_light_runs),\n",
    "                            get_average_run_length(adlib_dark_runs),\n",
    "                            get_average_run_length(sucralose_runs)\n",
    "                            ],\n",
    "                            [colors_restricted, colors_adlib_light, colors_adlib_dark, colors_sucralose]\n",
    "                            ):\n",
    "    \n",
    "    ax.errorbar(x, np.mean(ydata),\n",
    "                yerr=np.std(ydata) / np.sqrt(len(ydata)),\n",
    "                color=color,\n",
    "                zorder=0\n",
    "                      ),\n",
    "    \n",
    "ax.set_xticks([])\n",
    "# ax.set_ylim([-25, 0])\n",
    "ax.set_yticks([0, 100, 200])\n",
    "#ax.set_yticklabels([])\n",
    "\n",
    "for spine in [\"top\", \"right\", \"bottom\"]:\n",
    "    ax.spines[spine].set_visible(False)\n",
    "    \n",
    "#f.savefig(FIGSFOLDER / \"VMH_runlengths.pdf\")\n",
    "\n",
    "\n",
    "# Making file\n",
    "length_runs_restricted = get_average_run_length(restricted_runs)\n",
    "length_runs_light = get_average_run_length(adlib_light_runs)\n",
    "length_runs_dark = get_average_run_length(adlib_dark_runs)\n",
    "length_runs_sucralose = get_average_run_length(sucralose_runs)\n",
    "\n",
    "length_runs_all = np.column_stack([length_runs_restricted, length_runs_light, length_runs_dark, length_runs_sucralose])\n",
    "\n",
    "file_path = STATSFOLDER / 'VMH_length_of_runs.csv'\n",
    "\n",
    "## Save the data to the file with header\n",
    "np.savetxt(file_path, length_runs_all, delimiter=',', fmt='%.6f', header='Restricted Runs, Adlib Light Runs, Adlib Dark Runs, Sucralose Runs', comments='')"
   ]
  },
  {
   "cell_type": "code",
   "execution_count": 11,
   "metadata": {},
   "outputs": [
    {
     "data": {
      "image/png": "[encoded data removed]",
      "text/plain": [
       "<Figure size 108x108 with 2 Axes>"
      ]
     },
     "metadata": {
      "needs_background": "light"
     },
     "output_type": "display_data"
    },
    {
     "data": {
      "image/png": "[encoded data removed]",
      "text/plain": [
       "<Figure size 108x108 with 2 Axes>"
      ]
     },
     "metadata": {
      "needs_background": "light"
     },
     "output_type": "display_data"
    },
    {
     "data": {
      "image/png": "[encoded data removed]",
      "text/plain": [
       "<Figure size 108x108 with 2 Axes>"
      ]
     },
     "metadata": {
      "needs_background": "light"
     },
     "output_type": "display_data"
    }
   ],
   "source": [
    "def make_pseudoraster_fig(data1, data2, color1, color2):\n",
    "    f,ax = plt.subplots(figsize=(1.5, 1.5),nrows=2, sharex = True,\n",
    "                        gridspec_kw={\"hspace\":0.4,\n",
    "                                     \"left\":0.20,\n",
    "                                     \"right\":0.93,\n",
    "                                     \"top\":0.95,\n",
    "                                     \"bottom\":0.15})\n",
    "    \n",
    "    data_to_plot1 = get_run_lengths_for_pseudo_raster(data1, color=color1)\n",
    "    data_to_plot2 = get_run_lengths_for_pseudo_raster(data2, color=color2)\n",
    "\n",
    "    ax[0].add_collection(data_to_plot1)\n",
    "    ax[1].add_collection(data_to_plot2)\n",
    "    \n",
    "    for axis in ax:\n",
    "        #axis.set_yticklabels([])\n",
    "        axis.set_xticklabels([])\n",
    "\n",
    "    ax[0].set_yticks([0, len(data1)])\n",
    "    ax[1].set_yticks([0, len(data2)])\n",
    "\n",
    "    ax[0].set_xlim(0,100)\n",
    "    ax[1].set_xticks([0,50,100])\n",
    "    \n",
    "\n",
    "    for ax in [ax[0],ax[1]]:\n",
    "        ax.spines['top'].set_visible(False)\n",
    "        ax.spines['right'].set_visible(False)\n",
    "        \n",
    "    return f\n",
    "\n",
    "f = make_pseudoraster_fig(restricted_sorted_runs, adlib_dark_sorted_runs, colors_restricted, colors_adlib_dark)\n",
    "#f.savefig(FIGSFOLDER / \"VMH_hungry_vs_not_raster.pdf\")\n",
    "\n",
    "f = make_pseudoraster_fig(adlib_light_sorted_runs, adlib_dark_sorted_runs, colors_adlib_light, colors_adlib_dark)\n",
    "#f.savefig(FIGSFOLDER / \"VMH_light_vs_dark_raster.pdf\")\n",
    "\n",
    "f = make_pseudoraster_fig(sucralose_sorted_runs, adlib_dark_sorted_runs, colors_sucralose, colors_adlib_dark)\n",
    "#f.savefig(FIGSFOLDER / \"VMH_calories_vs_none_raster.pdf\")"
   ]
  },
  {
   "cell_type": "code",
   "execution_count": 12,
   "metadata": {},
   "outputs": [
    {
     "data": {
      "image/png": "[encoded data removed]",
      "text/plain": [
       "<Figure size 108x288 with 4 Axes>"
      ]
     },
     "metadata": {
      "needs_background": "light"
     },
     "output_type": "display_data"
    }
   ],
   "source": [
    "f,ax = plt.subplots(figsize=(1.5, 4),nrows=4, sharex = True, gridspec_kw={\"hspace\":0.4})\n",
    "    \n",
    "data_to_plot1 = get_run_lengths_for_pseudo_raster(restricted_sorted_runs, color=colors_restricted)\n",
    "data_to_plot2 = get_run_lengths_for_pseudo_raster(adlib_light_sorted_runs, color=colors_adlib_light)\n",
    "data_to_plot3 = get_run_lengths_for_pseudo_raster(adlib_dark_sorted_runs, color=colors_adlib_dark)\n",
    "data_to_plot4 = get_run_lengths_for_pseudo_raster(sucralose_sorted_runs, color=colors_sucralose)\n",
    "\n",
    "ax[0].add_collection(data_to_plot1)\n",
    "ax[1].add_collection(data_to_plot2)\n",
    "ax[2].add_collection(data_to_plot3)\n",
    "ax[3].add_collection(data_to_plot4)\n",
    "\n",
    "for axis in ax:\n",
    "    axis.set_yticklabels([])\n",
    "    axis.set_xticklabels([])\n",
    "\n",
    "ax[0].set_yticks([0, len(restricted_sorted_runs)])\n",
    "ax[1].set_yticks([0, len(adlib_light_sorted_runs)])\n",
    "ax[2].set_yticks([0, len(adlib_dark_sorted_runs)])\n",
    "ax[3].set_yticks([0, len(sucralose_sorted_runs)])\n",
    "\n",
    "ax[0].set_xlim(0,100)\n",
    "ax[1].set_xticks([0,50,100])\n",
    "\n",
    "\n",
    "for ax in [ax[0],ax[1], ax[2], ax[3]]:\n",
    "    ax.spines['top'].set_visible(False)\n",
    "    ax.spines['right'].set_visible(False)\n",
    "\n",
    "#f.savefig(FIGSFOLDER / \"VMH_raster_all.pdf\")"
   ]
  },
  {
   "cell_type": "code",
   "execution_count": 13,
   "metadata": {},
   "outputs": [
    {
     "data": {
      "image/png": "[encoded data removed]",
      "text/plain": [
       "<Figure size 129.6x115.2 with 1 Axes>"
      ]
     },
     "metadata": {},
     "output_type": "display_data"
    },
    {
     "data": {
      "image/png": "[encoded data removed]",
      "text/plain": [
       "<Figure size 129.6x115.2 with 1 Axes>"
      ]
     },
     "metadata": {},
     "output_type": "display_data"
    },
    {
     "data": {
      "image/png": "[encoded data removed]",
      "text/plain": [
       "<Figure size 129.6x115.2 with 1 Axes>"
      ]
     },
     "metadata": {},
     "output_type": "display_data"
    }
   ],
   "source": [
    "def plot_shaded_error(data, color, ax):\n",
    "    \n",
    "    pre = 5\n",
    "    post = 10\n",
    "    mineventlength=8\n",
    "    binlength=0.1\n",
    "\n",
    "    eventbalance=[6,2]\n",
    "\n",
    "    try:\n",
    "        assert(eventbalance[0] + eventbalance[1] == mineventlength)\n",
    "        early_t = eventbalance[0]\n",
    "        late_t = eventbalance[1]\n",
    "    except:\n",
    "        print(\"No event balance given. Using default 50-50 split.\")\n",
    "        early_t = mineventlength/2\n",
    "        late_t = mineventlength/2\n",
    "\n",
    "    bins_early = int((pre + early_t) / binlength)\n",
    "    bins_late = int((post + late_t) / binlength)\n",
    "\n",
    "    # data1\n",
    "    x1 = np.arange(0,bins_early)\n",
    "    x2 = np.arange(data.shape[1] - bins_late, data.shape[1])\n",
    "\n",
    "    mean = np.mean(data, axis=0)\n",
    "    error_values = np.std(data, axis=0) / np.sqrt(len(data))\n",
    "\n",
    "    ax.plot(x1, mean[:bins_early], color=color)\n",
    "    ax.plot(x2, mean[-bins_late:], color=color)\n",
    "\n",
    "    ax.fill_between(x1, mean[:bins_early]-error_values[:bins_early], \n",
    "                    mean[:bins_early]+error_values[:bins_early], \n",
    "                    color=color, alpha=0.3,\n",
    "                    linewidth=0,\n",
    "                    )\n",
    "    ax.fill_between(x2, mean[-bins_late:]-error_values[-bins_late:], \n",
    "                    mean[-bins_late:]+error_values[-bins_late:], \n",
    "                    color=color, alpha=0.3,\n",
    "                    linewidth=0\n",
    "                    )\n",
    "    \n",
    "\n",
    "def make_snips_plot(data1, data2, color1, color2):\n",
    "    \n",
    "    f, ax =plt.subplots(figsize=[1.8,1.6],\n",
    "                    gridspec_kw={\n",
    "                                \"hspace\":0.3,\n",
    "                                \"left\":0.16,\n",
    "                                \"right\":0.98,\n",
    "                                \"top\":0.98,\n",
    "                                \"bottom\":0.02}\n",
    "                    )\n",
    "\n",
    "\n",
    "\n",
    "    # data2\n",
    "    \n",
    "    plot_shaded_error(data1, color1, ax)\n",
    "    plot_shaded_error(data2, color2, ax)\n",
    "\n",
    "    for spine in [\"top\", \"right\", \"left\", \"bottom\"]:\n",
    "        ax.spines[spine].set_visible(False)\n",
    "\n",
    "    ax.set_yticks([])\n",
    "    ax.set_xticks([])\n",
    "    ax.set_xlim([0,240])\n",
    "\n",
    "    transform = blended_transform_factory(ax.transData, ax.transAxes)\n",
    "    ax.plot([190,240], [0.05, 0.05], linewidth=2, color=\"k\", transform=transform)\n",
    "\n",
    "    ax.plot([2,2], [-1, -2], linewidth=2, color=\"k\")\n",
    "\n",
    "    ax.axvline(50, color=\"k\", linestyle=\"--\", alpha=0.5)\n",
    "    ax.axvline(140, color=\"k\", linestyle=\"--\", alpha=0.5)\n",
    "    \n",
    "    return f\n",
    "\n",
    "f = make_snips_plot(restricted_full, dark_full, colors_restricted, colors_adlib_dark)\n",
    "#f.savefig(FIGSFOLDER / \"VMH_hungry_vs_not_snips.pdf\")\n",
    "\n",
    "f = make_snips_plot(light_full, dark_full, colors_adlib_light, colors_adlib_dark)\n",
    "#f.savefig(FIGSFOLDER / \"VMH_light_vs_dark_snips.pdf\")\n",
    "\n",
    "f = make_snips_plot(sucralose_full, dark_full, colors_sucralose, colors_adlib_dark)\n",
    "#f.savefig(FIGSFOLDER / \"VMH_calories_vs_not_snips.pdf\")"
   ]
  },
  {
   "cell_type": "code",
   "execution_count": 14,
   "metadata": {},
   "outputs": [
    {
     "data": {
      "image/png": "[encoded data removed]",
      "text/plain": [
       "<Figure size 201.6x180 with 1 Axes>"
      ]
     },
     "metadata": {},
     "output_type": "display_data"
    }
   ],
   "source": [
    "f, ax =plt.subplots(figsize=[2.8,2.5]\n",
    "                )\n",
    "\n",
    "plot_shaded_error(restricted_full, colors_restricted, ax)\n",
    "plot_shaded_error(light_full, colors_adlib_light, ax)\n",
    "plot_shaded_error(dark_full, colors_adlib_dark, ax)\n",
    "plot_shaded_error(sucralose_full, colors_sucralose, ax)\n",
    "\n",
    "for spine in [\"top\", \"right\", \"left\", \"bottom\"]:\n",
    "    ax.spines[spine].set_visible(False)\n",
    "\n",
    "ax.set_yticks([])\n",
    "ax.set_xticks([])\n",
    "ax.set_xlim([0,240])\n",
    "\n",
    "transform = blended_transform_factory(ax.transData, ax.transAxes)\n",
    "ax.plot([190,240], [0.05, 0.05], linewidth=2, color=\"k\", transform=transform)\n",
    "\n",
    "ax.plot([2,2], [-1, -2], linewidth=2, color=\"k\")\n",
    "\n",
    "ax.axvline(50, color=\"k\", linestyle=\"--\", alpha=0.5)\n",
    "ax.axvline(140, color=\"k\", linestyle=\"--\", alpha=0.5)\n",
    "\n",
    "\n",
    "\n",
    "\n",
    "f.savefig(FIGSFOLDER / \"VMH_all_snips.pdf\")\n"
   ]
  },
  {
   "cell_type": "code",
   "execution_count": 15,
   "metadata": {},
   "outputs": [
    {
     "data": {
      "image/png": "[encoded data removed]",
      "text/plain": [
       "<Figure size 72x72 with 1 Axes>"
      ]
     },
     "metadata": {
      "needs_background": "light"
     },
     "output_type": "display_data"
    },
    {
     "data": {
      "image/png": "[encoded data removed]",
      "text/plain": [
       "<Figure size 72x72 with 1 Axes>"
      ]
     },
     "metadata": {
      "needs_background": "light"
     },
     "output_type": "display_data"
    },
    {
     "data": {
      "image/png": "[encoded data removed]",
      "text/plain": [
       "<Figure size 72x72 with 1 Axes>"
      ]
     },
     "metadata": {
      "needs_background": "light"
     },
     "output_type": "display_data"
    },
    {
     "data": {
      "image/png": "[encoded data removed]",
      "text/plain": [
       "<Figure size 72x72 with 1 Axes>"
      ]
     },
     "metadata": {
      "needs_background": "light"
     },
     "output_type": "display_data"
    }
   ],
   "source": [
    "def auc(data, epoch=(50, 70)):\n",
    "    \"\"\"Compute area under the curve (AUC) for a given epoch, normalized by the epoch length.\"\"\"\n",
    "    epoch_data = np.array(data)[:, epoch[0]:epoch[1]]\n",
    "    auc_value = np.trapz(epoch_data, axis=1)\n",
    "    epoch_length = epoch[1] - epoch[0]  # Calculate the epoch length\n",
    "    return auc_value / epoch_length  # Normalize by epoch length\n",
    "\n",
    "def mean_auc(data, epoch=(50, 70)):\n",
    "    \"\"\"Compute the mean normalized AUC for a given epoch.\"\"\"\n",
    "    return np.mean(auc(data, epoch=epoch))\n",
    "\n",
    "baseline_epoch = (10, 50)\n",
    "early_lick_epoch = (50, 110)\n",
    "late_lick_epoch = (120, 140)\n",
    "early_post_epoch = (140, 190)\n",
    "late_post_epoch = (190, 240)\n",
    "\n",
    "\n",
    "def make_AUC_plot(epoch):\n",
    "    snips = [restricted_full, light_full, dark_full, sucralose_full]\n",
    "    colors = [colors_restricted, colors_adlib_light, colors_adlib_dark, colors_sucralose]\n",
    "\n",
    "    f, ax = plt.subplots(figsize=[1, 1])  \n",
    "\n",
    "    mean_aucs = []\n",
    "    std_errors = []\n",
    "\n",
    "    # Collect normalized AUC data\n",
    "    for snip in snips:\n",
    "        auc_data = auc(snip, epoch=epoch)\n",
    "        mean_aucs.append(np.mean(auc_data))\n",
    "        std_errors.append(np.std(auc_data) / np.sqrt(len(auc_data)))\n",
    "\n",
    "    # Plotting \n",
    "    x_positions = np.arange(len(mean_aucs)) \n",
    "\n",
    "    ax.bar(x_positions, mean_aucs, color=colors)\n",
    "\n",
    "    for x, ymean, yerr, color in zip(x_positions, mean_aucs, std_errors, colors):\n",
    "        ax.errorbar(x, ymean, yerr=yerr, color=color, zorder=0)\n",
    "\n",
    "    ax.set_xticks([])\n",
    "    ax.set_yticks([2, 0, -2])\n",
    "    ax.set_ylim([-3, 3])\n",
    "    ax.set_yticklabels([])\n",
    "\n",
    "    # Hide spines\n",
    "    for spine in [\"top\", \"right\", \"bottom\"]:\n",
    "        ax.spines[spine].set_visible(False)\n",
    "    \n",
    "    return f  # Return the figure object\n",
    "\n",
    "# Save the plots\n",
    "f = make_AUC_plot(early_lick_epoch)\n",
    "#f.savefig(FIGSFOLDER / \"VMH_AUC_early_lick_epoch.pdf\")\n",
    "\n",
    "f = make_AUC_plot(late_lick_epoch)\n",
    "#f.savefig(FIGSFOLDER / \"VMH_AUC_late_lick_epoch.pdf\")\n",
    "\n",
    "f = make_AUC_plot(early_post_epoch)\n",
    "#f.savefig(FIGSFOLDER / \"VMH_AUC_early_post_epoch.pdf\")\n",
    "\n",
    "f = make_AUC_plot(late_post_epoch)\n",
    "f.savefig(FIGSFOLDER / \"VMH_AUC_late_post_epoch.pdf\")\n"
   ]
  },
  {
   "cell_type": "code",
   "execution_count": 16,
   "metadata": {},
   "outputs": [],
   "source": [
    "conditions = [\"restricted\", 'light', 'dark', \"sucralose\"]\n",
    "\n",
    "epochs = [baseline_epoch, early_lick_epoch, late_lick_epoch, early_post_epoch, late_post_epoch]\n",
    "\n",
    "snips = [restricted_full, light_full, dark_full, sucralose_full]\n",
    "colors = [colors_restricted, colors_adlib_light, colors_adlib_dark, colors_sucralose]\n",
    "\n",
    "#getting CSV file for stats\n",
    "epoch_labels = [\"baseline_epoch\", \"early_lick_epoch\", \"late_lick_epoch\", \"early_post_epoch\", \"late_post_epoch\"]\n",
    "\n",
    "# Correcting headers generation\n",
    "headers = []\n",
    "for epoch_label in epoch_labels:\n",
    "    for condition in conditions:\n",
    "        headers.append(f'{condition} {epoch_label}')\n",
    "\n",
    "# Initialize list to hold AUC data across all epochs\n",
    "auc_all_epochs = []\n",
    "\n",
    "for epoch in epochs:\n",
    "    # Stack AUC data for all conditions for this epoch\n",
    "    auc_epoch = np.column_stack([auc(snip, epoch=epoch) for snip in snips])\n",
    "    auc_all_epochs.append(auc_epoch)\n",
    "\n",
    "# Convert list of AUC arrays into a single array\n",
    "auc_all_epochs = np.hstack(auc_all_epochs)\n",
    "\n",
    "# Create the header array with correct shape\n",
    "headers_array = np.array(headers).reshape(1, -1)\n",
    "\n",
    "# Check if headers and AUC data have the same number of columns\n",
    "assert headers_array.shape[1] == auc_all_epochs.shape[1], \\\n",
    "    \"Mismatch between headers and AUC data column counts.\"\n",
    "\n",
    "# Stack headers and data\n",
    "auc_with_headers = np.vstack([headers_array, auc_all_epochs])\n",
    "\n",
    "# Save to a CSV file\n",
    "#np.savetxt('C:/Users/kvo019/OneDrive - UiT Office 365/Pipette 2/People/Linnea/Manuscripts/hislight paper/VMH_AUC_all_conditions.csv', auc_with_headers, delimiter=',', fmt='%s')\n"
   ]
  },
  {
   "cell_type": "code",
   "execution_count": 21,
   "metadata": {},
   "outputs": [
    {
     "data": {
      "image/png": "[encoded data removed]",
      "text/plain": [
       "<Figure size 108x72 with 1 Axes>"
      ]
     },
     "metadata": {
      "needs_background": "light"
     },
     "output_type": "display_data"
    }
   ],
   "source": [
    "#For Lick frequency\n",
    "\n",
    "def get_runs_from_all_2 (data):\n",
    "    mice = get_list_of_mice(data)\n",
    "    temp_runs = []\n",
    "    \n",
    "    for mouse in mice:\n",
    "        for key, val in data.items():\n",
    "            if val[\"mouse_ID\"] == mouse:\n",
    "                onset = val[\"licks\"]\n",
    "                temp_runs.append(get_runs(onset))\n",
    "\n",
    "    all_runs = []\n",
    "    for session in temp_runs:\n",
    "        for run in session:\n",
    "            all_runs.append(run)\n",
    "            \n",
    "    return all_runs\n",
    "\n",
    "restricted_runs_2 = get_runs_from_all_2(restricted_dark)\n",
    "light_runs_2 = get_runs_from_all_2(adlib_light)\n",
    "dark_runs_2 = get_runs_from_all_2(adlib_dark)\n",
    "sucralose_runs_2 = get_runs_from_all_2(adlib_sucralose)\n",
    "\n",
    "bins= np.arange(-5,40,1)\n",
    "\n",
    "restricted_hist = np.histogram(tp.flatten_list(restricted_runs_2), bins= bins)\n",
    "light_hist = np.histogram(tp.flatten_list(light_runs_2), bins= bins)\n",
    "dark_hist = np.histogram(tp.flatten_list(dark_runs_2), bins= bins)\n",
    "sucralose_hist = np.histogram(tp.flatten_list(sucralose_runs_2), bins= bins)\n",
    "\n",
    "restricted_freq = restricted_hist[0]/len(restricted_runs_2)\n",
    "light_freq = light_hist[0]/len(light_runs_2)\n",
    "dark_freq = dark_hist[0]/len(dark_runs_2)\n",
    "sucralose_freq = sucralose_hist[0]/len(sucralose_runs_2)\n",
    "\n",
    "f, ax = plt.subplots(figsize=[1.5, 1])\n",
    "\n",
    "ax.plot(restricted_freq, color=colors_restricted)\n",
    "ax.plot(light_freq, color=colors_adlib_light)\n",
    "ax.plot(dark_freq, color=colors_adlib_dark)\n",
    "ax.plot(sucralose_freq,  color=colors_sucralose)\n",
    "\n",
    "ax.set_xlim(0,4)\n",
    "ax.set_xticks([0,20,40])\n",
    "\n",
    "ax.set_ylim(0,5.6)\n",
    "ax.set_yticks([0, 2.5, 5])\n",
    "\n",
    "ax.set_yticklabels([])\n",
    "ax.set_xticklabels([])\n",
    "\n",
    "ax.spines['top'].set_visible(False)\n",
    "ax.spines['right'].set_visible(False)\n",
    "\n",
    "f.savefig(FIGSFOLDER / \"VMH_lick_frequency.pdf\")"
   ]
  },
  {
   "cell_type": "code",
   "execution_count": 52,
   "metadata": {},
   "outputs": [
    {
     "data": {
      "image/png": "[encoded data removed]",
      "text/plain": [
       "<Figure size 144x172.8 with 1 Axes>"
      ]
     },
     "metadata": {
      "needs_background": "light"
     },
     "output_type": "display_data"
    }
   ],
   "source": [
    "def auc(data, epoch=(50,100)):\n",
    "    return np.trapz(np.array(data)[:, epoch[0]:epoch[1]], axis=1)\n",
    "\n",
    "def mean_auc(data, epoch=(50,100)):\n",
    "    return np.mean(auc(data, epoch=epoch))\n",
    "\n",
    "f, ax = plt.subplots(figsize=(2,2.4))\n",
    "\n",
    "ax.bar([1,2,3,4],\n",
    "       [mean_auc(restricted_full),\n",
    "        mean_auc(light_full),\n",
    "        mean_auc(dark_full),\n",
    "        mean_auc(sucralose_full)\n",
    "        ],\n",
    "       color=[colors_restricted, colors_adlib_light, colors_adlib_dark, colors_sucralose]\n",
    "         )\n",
    "\n",
    "for x, ydata, color in zip([1,2,3,4],\n",
    "                            [auc(restricted_full),\n",
    "                            auc(light_full),\n",
    "                            auc(dark_full),\n",
    "                            auc(sucralose_full)\n",
    "                            ],\n",
    "                            [colors_restricted, colors_adlib_light, colors_adlib_dark, colors_sucralose]\n",
    "                            ):\n",
    "    \n",
    "    ax.errorbar(x, np.mean(ydata),\n",
    "                yerr=np.std(ydata) / np.sqrt(len(ydata)),\n",
    "                color=color,\n",
    "                zorder=0\n",
    "                      ),\n",
    "    \n",
    "ax.set_xticks([])\n",
    "ax.set_ylim([-60, 0])\n",
    "ax.set_yticks([-60, -30, 0])\n",
    "ax.set_yticklabels([])\n",
    "\n",
    "for spine in [\"top\", \"right\", \"bottom\"]:\n",
    "    ax.spines[spine].set_visible(False)\n",
    "    \n",
    "#f.savefig(FIGSFOLDER / \"start_auc.pdf\")"
   ]
  },
  {
   "cell_type": "code",
   "execution_count": 66,
   "metadata": {},
   "outputs": [],
   "source": [
    "auc_start_sucralose = auc(sucralose_full, epoch=(50,100))"
   ]
  },
  {
   "cell_type": "code",
   "execution_count": 67,
   "metadata": {},
   "outputs": [
    {
     "data": {
      "text/plain": [
       "array([-60.45118   ,   5.39532924,  32.43987361, -91.38987476,\n",
       "       -27.50301217, -80.25615965])"
      ]
     },
     "execution_count": 67,
     "metadata": {},
     "output_type": "execute_result"
    }
   ],
   "source": [
    "auc_start_sucralose"
   ]
  },
  {
   "cell_type": "code",
   "execution_count": 58,
   "metadata": {},
   "outputs": [
    {
     "ename": "ValueError",
     "evalue": "all the input array dimensions for the concatenation axis must match exactly, but along dimension 0, the array at index 0 has size 7 and the array at index 3 has size 6",
     "output_type": "error",
     "traceback": [
      "\u001b[1;31m---------------------------------------------------------------------------\u001b[0m",
      "\u001b[1;31mValueError\u001b[0m                                Traceback (most recent call last)",
      "\u001b[1;32m<ipython-input-58-23a90b4bd3f8>\u001b[0m in \u001b[0;36m<module>\u001b[1;34m\u001b[0m\n\u001b[0;32m      6\u001b[0m \u001b[0mauc_start_sucralose\u001b[0m \u001b[1;33m=\u001b[0m \u001b[0mauc\u001b[0m\u001b[1;33m(\u001b[0m\u001b[0msucralose_full\u001b[0m\u001b[1;33m,\u001b[0m \u001b[0mepoch\u001b[0m\u001b[1;33m=\u001b[0m\u001b[1;33m(\u001b[0m\u001b[1;36m50\u001b[0m\u001b[1;33m,\u001b[0m\u001b[1;36m100\u001b[0m\u001b[1;33m)\u001b[0m\u001b[1;33m)\u001b[0m\u001b[1;33m\u001b[0m\u001b[1;33m\u001b[0m\u001b[0m\n\u001b[0;32m      7\u001b[0m \u001b[1;33m\u001b[0m\u001b[0m\n\u001b[1;32m----> 8\u001b[1;33m \u001b[0mauc_start\u001b[0m \u001b[1;33m=\u001b[0m \u001b[0mnp\u001b[0m\u001b[1;33m.\u001b[0m\u001b[0mcolumn_stack\u001b[0m\u001b[1;33m(\u001b[0m\u001b[1;33m(\u001b[0m\u001b[0mauc_start_restricted\u001b[0m\u001b[1;33m,\u001b[0m \u001b[0mauc_start_dark\u001b[0m\u001b[1;33m,\u001b[0m \u001b[0mauc_start_light\u001b[0m\u001b[1;33m,\u001b[0m \u001b[0mauc_start_sucralose\u001b[0m\u001b[1;33m)\u001b[0m\u001b[1;33m)\u001b[0m\u001b[1;33m\u001b[0m\u001b[1;33m\u001b[0m\u001b[0m\n\u001b[0m\u001b[0;32m      9\u001b[0m \u001b[1;33m\u001b[0m\u001b[0m\n\u001b[0;32m     10\u001b[0m \u001b[0mnp\u001b[0m\u001b[1;33m.\u001b[0m\u001b[0msavetxt\u001b[0m\u001b[1;33m(\u001b[0m\u001b[1;34m'C:/Users/kvo019/OneDrive - UiT Office 365/Pipette 2/People/Linnea/Manuscripts/hislight paper/auc_start.csv'\u001b[0m\u001b[1;33m,\u001b[0m \u001b[0mauc_start\u001b[0m\u001b[1;33m,\u001b[0m \u001b[0mdelimiter\u001b[0m\u001b[1;33m=\u001b[0m\u001b[1;34m','\u001b[0m\u001b[1;33m,\u001b[0m \u001b[0mfmt\u001b[0m\u001b[1;33m=\u001b[0m\u001b[1;34m'%.6f'\u001b[0m\u001b[1;33m)\u001b[0m\u001b[1;33m\u001b[0m\u001b[1;33m\u001b[0m\u001b[0m\n",
      "\u001b[1;32m<__array_function__ internals>\u001b[0m in \u001b[0;36mcolumn_stack\u001b[1;34m(*args, **kwargs)\u001b[0m\n",
      "\u001b[1;32m~\\Anaconda3\\lib\\site-packages\\numpy\\lib\\shape_base.py\u001b[0m in \u001b[0;36mcolumn_stack\u001b[1;34m(tup)\u001b[0m\n\u001b[0;32m    654\u001b[0m             \u001b[0marr\u001b[0m \u001b[1;33m=\u001b[0m \u001b[0marray\u001b[0m\u001b[1;33m(\u001b[0m\u001b[0marr\u001b[0m\u001b[1;33m,\u001b[0m \u001b[0mcopy\u001b[0m\u001b[1;33m=\u001b[0m\u001b[1;32mFalse\u001b[0m\u001b[1;33m,\u001b[0m \u001b[0msubok\u001b[0m\u001b[1;33m=\u001b[0m\u001b[1;32mTrue\u001b[0m\u001b[1;33m,\u001b[0m \u001b[0mndmin\u001b[0m\u001b[1;33m=\u001b[0m\u001b[1;36m2\u001b[0m\u001b[1;33m)\u001b[0m\u001b[1;33m.\u001b[0m\u001b[0mT\u001b[0m\u001b[1;33m\u001b[0m\u001b[1;33m\u001b[0m\u001b[0m\n\u001b[0;32m    655\u001b[0m         \u001b[0marrays\u001b[0m\u001b[1;33m.\u001b[0m\u001b[0mappend\u001b[0m\u001b[1;33m(\u001b[0m\u001b[0marr\u001b[0m\u001b[1;33m)\u001b[0m\u001b[1;33m\u001b[0m\u001b[1;33m\u001b[0m\u001b[0m\n\u001b[1;32m--> 656\u001b[1;33m     \u001b[1;32mreturn\u001b[0m \u001b[0m_nx\u001b[0m\u001b[1;33m.\u001b[0m\u001b[0mconcatenate\u001b[0m\u001b[1;33m(\u001b[0m\u001b[0marrays\u001b[0m\u001b[1;33m,\u001b[0m \u001b[1;36m1\u001b[0m\u001b[1;33m)\u001b[0m\u001b[1;33m\u001b[0m\u001b[1;33m\u001b[0m\u001b[0m\n\u001b[0m\u001b[0;32m    657\u001b[0m \u001b[1;33m\u001b[0m\u001b[0m\n\u001b[0;32m    658\u001b[0m \u001b[1;33m\u001b[0m\u001b[0m\n",
      "\u001b[1;32m<__array_function__ internals>\u001b[0m in \u001b[0;36mconcatenate\u001b[1;34m(*args, **kwargs)\u001b[0m\n",
      "\u001b[1;31mValueError\u001b[0m: all the input array dimensions for the concatenation axis must match exactly, but along dimension 0, the array at index 0 has size 7 and the array at index 3 has size 6"
     ]
    }
   ],
   "source": [
    "#AUC start for stats, start\n",
    "\n",
    "auc_start_restricted = auc(restricted_full, epoch=(50,100))\n",
    "auc_start_dark = auc(dark_full, epoch=(50,100))\n",
    "auc_start_light = auc(light_full, epoch=(50,100))\n",
    "auc_start_sucralose = auc(sucralose_full, epoch=(50,100))\n",
    "\n",
    "auc_start = np.column_stack((auc_start_restricted, auc_start_dark, auc_start_light, auc_start_sucralose))\n",
    "\n",
    "np.savetxt('C:/Users/kvo019/OneDrive - UiT Office 365/Pipette 2/People/Linnea/Manuscripts/hislight paper/auc_start.csv', auc_start, delimiter=',', fmt='%.6f')"
   ]
  },
  {
   "cell_type": "code",
   "execution_count": 19,
   "metadata": {},
   "outputs": [
    {
     "data": {
      "image/png": "[encoded data removed]",
      "text/plain": [
       "<Figure size 144x172.8 with 1 Axes>"
      ]
     },
     "metadata": {
      "needs_background": "light"
     },
     "output_type": "display_data"
    }
   ],
   "source": [
    "post_epoch = (210,260)\n",
    "\n",
    "f, ax = plt.subplots(figsize=(2,2.4))\n",
    "\n",
    "ax.bar([1,2,3,4],\n",
    "       [mean_auc(restricted_full, epoch=post_epoch),\n",
    "        mean_auc(light_full, epoch=post_epoch),\n",
    "        mean_auc(dark_full, epoch=post_epoch),\n",
    "        mean_auc(sucralose_full, epoch=post_epoch)\n",
    "        ],\n",
    "       color=[colors_restricted, colors_adlib_light, colors_adlib_dark, colors_sucralose]\n",
    "         )\n",
    "\n",
    "for x, ydata, color in zip([1,2,3,4],\n",
    "                            [auc(restricted_full, epoch=post_epoch),\n",
    "                            auc(light_full, epoch=post_epoch),\n",
    "                            auc(dark_full, epoch=post_epoch),\n",
    "                            auc(sucralose_full, epoch=post_epoch)\n",
    "                            ],\n",
    "                            [colors_restricted, colors_adlib_light, colors_adlib_dark, colors_sucralose]\n",
    "                            ):\n",
    "    \n",
    "    ax.errorbar(x, np.mean(ydata),\n",
    "                yerr=np.std(ydata) / np.sqrt(len(ydata)),\n",
    "                color=color,\n",
    "                zorder=0\n",
    "                      ),\n",
    "    \n",
    "ax.set_ylim([0, 120])\n",
    "ax.set_yticks([0, 50, 100])\n",
    "ax.set_yticklabels([])\n",
    "ax.set_xticks([])\n",
    "\n",
    "for spine in [\"top\", \"right\", \"bottom\"]:\n",
    "    ax.spines[spine].set_visible(False)\n",
    "    \n",
    "f.savefig(FIGSFOLDER / \"end_auc.pdf\")"
   ]
  },
  {
   "cell_type": "code",
   "execution_count": 20,
   "metadata": {},
   "outputs": [
    {
     "data": {
      "text/plain": [
       "51.74101150296459"
      ]
     },
     "execution_count": 20,
     "metadata": {},
     "output_type": "execute_result"
    }
   ],
   "source": [
    "mean_auc(sucralose_full, epoch=(160,260))"
   ]
  },
  {
   "cell_type": "code",
   "execution_count": 21,
   "metadata": {},
   "outputs": [
    {
     "data": {
      "text/plain": [
       "(6, 260)"
      ]
     },
     "execution_count": 21,
     "metadata": {},
     "output_type": "execute_result"
    }
   ],
   "source": [
    "sucralose_full.shape"
   ]
  },
  {
   "cell_type": "code",
   "execution_count": 22,
   "metadata": {},
   "outputs": [
    {
     "data": {
      "text/plain": [
       "[<matplotlib.lines.Line2D at 0x200d6341e20>]"
      ]
     },
     "execution_count": 22,
     "metadata": {},
     "output_type": "execute_result"
    },
    {
     "data": {
      "image/png": "[encoded data removed]",
      "text/plain": [
       "<Figure size 432x288 with 1 Axes>"
      ]
     },
     "metadata": {
      "needs_background": "light"
     },
     "output_type": "display_data"
    }
   ],
   "source": [
    "plt.plot(np.mean(sucralose_full, axis=0))"
   ]
  },
  {
   "cell_type": "code",
   "execution_count": 23,
   "metadata": {},
   "outputs": [
    {
     "name": "stdout",
     "output_type": "stream",
     "text": [
      "0.24570015630919834\n",
      "-0.6946060757917043\n",
      "0.15156154634132718\n",
      "0.27605361680110035\n",
      "-2.8863125303924675\n",
      "0.2414530371319754\n"
     ]
    },
    {
     "data": {
      "image/png": "[encoded data removed]",
      "text/plain": [
       "<Figure size 432x288 with 1 Axes>"
      ]
     },
     "metadata": {
      "needs_background": "light"
     },
     "output_type": "display_data"
    }
   ],
   "source": [
    "for s in sucralose_full:\n",
    "    plt.plot(s, color=\"gray\", alpha=0.5)\n",
    "    print(s[0])"
   ]
  },
  {
   "cell_type": "code",
   "execution_count": null,
   "metadata": {},
   "outputs": [],
   "source": []
  },
  {
   "cell_type": "code",
   "execution_count": null,
   "metadata": {},
   "outputs": [],
   "source": []
  }
 ],
 "metadata": {
  "kernelspec": {
   "display_name": "Python 3",
   "language": "python",
   "name": "python3"
  },
  "language_info": {
   "codemirror_mode": {
    "name": "ipython",
    "version": 3
   },
   "file_extension": ".py",
   "mimetype": "text/x-python",
   "name": "python",
   "nbconvert_exporter": "python",
   "pygments_lexer": "ipython3",
   "version": "3.8.5"
  }
 },
 "nbformat": 4,
 "nbformat_minor": 2
}

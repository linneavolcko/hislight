{
 "cells": [
  {
   "cell_type": "code",
   "execution_count": 1,
   "metadata": {},
   "outputs": [],
   "source": [
    "from pathlib import Path\n",
    "import pickle\n",
    "import numpy as np\n",
    "import pandas as pd\n",
    "\n",
    "import matplotlib.pyplot as plt\n",
    "from matplotlib.transforms import blended_transform_factory\n",
    "import seaborn as sns\n",
    "\n",
    "import trompy as tp\n",
    "\n",
    "colors_PVH = \"#219C90\"\n",
    "colors_VMH  = \"#90219c\"\n",
    "\n",
    "cmap = \"RdBu_r\""
   ]
  },
  {
   "cell_type": "code",
   "execution_count": 2,
   "metadata": {},
   "outputs": [],
   "source": [
    "DATAFOLDER = Path(\"C:/Data/hislight_pickles/\")\n",
    "FIGSFOLDER = Path(\"C:/Users/kvo019/OneDrive - UiT Office 365/Pipette 2/People/Linnea/Manuscripts/hislight paper/figures\")\n",
    "STATSFOLDER = Path(\"C:/Users/kvo019/OneDrive - UiT Office 365/Pipette 2/People/Linnea/Manuscripts/hislight paper\")\n",
    "\n",
    "with open(DATAFOLDER / \"restricted_dark.pickle\", 'rb') as handle:\n",
    "    PVH = pickle.load(handle)\n",
    "\n",
    "with open(DATAFOLDER / \"HL3_restricted_dark.pickle\", 'rb') as handle:\n",
    "    VMH = pickle.load(handle)   "
   ]
  },
  {
   "cell_type": "code",
   "execution_count": 3,
   "metadata": {},
   "outputs": [],
   "source": [
    "PVH_mouse_to_be_analyzed = \"HL210\"\n",
    "VMH_mouse_to_be_analyzed = \"HL303\" "
   ]
  },
  {
   "cell_type": "code",
   "execution_count": 4,
   "metadata": {},
   "outputs": [],
   "source": [
    "def get_snips(data, mouse):\n",
    "\n",
    "    snips_full = []\n",
    "\n",
    "    kwargs={\"bins\":150, \"trial_length\":15, \"baseline_length\":5}   \n",
    "\n",
    "    pre = 5\n",
    "    post = 10\n",
    "    mineventlength=8\n",
    "    binlength=0.1\n",
    "\n",
    "    for key, val in data.items():\n",
    "        if val[\"mouse_ID\"]==mouse:\n",
    "            if len(val[\"licks\"]) < 10:\n",
    "                continue\n",
    "\n",
    "            lickdata= tp.lickCalc(val[\"licks\"], minrunlength=3)\n",
    "\n",
    "            snipper = tp.Snipper(val[\"corrected\"],\n",
    "                                    lickdata[\"rStart\"],\n",
    "                                    end=lickdata[\"rEnd\"],\n",
    "                                    fs=val[\"fs\"],\n",
    "                                    pre=pre,\n",
    "                                    post=post,\n",
    "                                    binlength=binlength,\n",
    "                                    zscore=True\n",
    "                                    )\n",
    "\n",
    "            snipper.truncate_to_same_length(cols_to_add=10, mineventlength=8, eventbalance=[6,2])\n",
    "            snipper.find_potential_artifacts(threshold=12, method=\"absolute_diff\", showplot=True, remove=True)\n",
    "            snips_full.append(snipper.snips)\n",
    "\n",
    "    try:\n",
    "        snips_full = np.vstack(snips_full)\n",
    "        print(\"adding this mouse\")\n",
    "    except:\n",
    "        print(\"no snips to concatenate\")\n",
    "    \n",
    "    return snips_full"
   ]
  },
  {
   "cell_type": "code",
   "execution_count": 5,
   "metadata": {
    "scrolled": true
   },
   "outputs": [
    {
     "name": "stdout",
     "output_type": "stream",
     "text": [
      "<class 'numpy.ndarray'>\n",
      "Found 0 potential artifacts.\n",
      "No artifacts found.\n",
      "<class 'numpy.ndarray'>\n",
      "Found 0 potential artifacts.\n",
      "No artifacts found.\n",
      "<class 'numpy.ndarray'>\n",
      "Found 0 potential artifacts.\n",
      "No artifacts found.\n",
      "adding this mouse\n",
      "<class 'numpy.ndarray'>\n",
      "Found 0 potential artifacts.\n",
      "No artifacts found.\n",
      "<class 'numpy.ndarray'>\n",
      "Found 1 potential artifacts.\n",
      "<class 'numpy.ndarray'>"
     ]
    },
    {
     "name": "stderr",
     "output_type": "stream",
     "text": [
      "C:\\Users\\kvo019\\Anaconda3\\lib\\site-packages\\trompy\\snipper_class.py:215: VisibleDeprecationWarning: Creating an ndarray from ragged nested sequences (which is a list-or-tuple of lists-or-tuples-or ndarrays with different lengths or shapes) is deprecated. If you meant to do this, you must specify 'dtype=object' when creating the ndarray\n",
      "  self.snips = np.array([self.put_snip_in_bins(snip) for snip in self.snips])\n",
      "C:\\Users\\kvo019\\Anaconda3\\lib\\site-packages\\trompy\\snipper_class.py:229: VisibleDeprecationWarning: Creating an ndarray from ragged nested sequences (which is a list-or-tuple of lists-or-tuples-or ndarrays with different lengths or shapes) is deprecated. If you meant to do this, you must specify 'dtype=object' when creating the ndarray\n",
      "  self.snips = np.array(z_snips)\n",
      "C:\\Users\\kvo019\\Anaconda3\\lib\\site-packages\\trompy\\snipper_class.py:215: VisibleDeprecationWarning: Creating an ndarray from ragged nested sequences (which is a list-or-tuple of lists-or-tuples-or ndarrays with different lengths or shapes) is deprecated. If you meant to do this, you must specify 'dtype=object' when creating the ndarray\n",
      "  self.snips = np.array([self.put_snip_in_bins(snip) for snip in self.snips])\n",
      "C:\\Users\\kvo019\\Anaconda3\\lib\\site-packages\\trompy\\snipper_class.py:229: VisibleDeprecationWarning: Creating an ndarray from ragged nested sequences (which is a list-or-tuple of lists-or-tuples-or ndarrays with different lengths or shapes) is deprecated. If you meant to do this, you must specify 'dtype=object' when creating the ndarray\n",
      "  self.snips = np.array(z_snips)\n",
      "C:\\Users\\kvo019\\Anaconda3\\lib\\site-packages\\trompy\\snipper_class.py:215: VisibleDeprecationWarning: Creating an ndarray from ragged nested sequences (which is a list-or-tuple of lists-or-tuples-or ndarrays with different lengths or shapes) is deprecated. If you meant to do this, you must specify 'dtype=object' when creating the ndarray\n",
      "  self.snips = np.array([self.put_snip_in_bins(snip) for snip in self.snips])\n",
      "C:\\Users\\kvo019\\Anaconda3\\lib\\site-packages\\trompy\\snipper_class.py:229: VisibleDeprecationWarning: Creating an ndarray from ragged nested sequences (which is a list-or-tuple of lists-or-tuples-or ndarrays with different lengths or shapes) is deprecated. If you meant to do this, you must specify 'dtype=object' when creating the ndarray\n",
      "  self.snips = np.array(z_snips)\n",
      "C:\\Users\\kvo019\\Anaconda3\\lib\\site-packages\\trompy\\snipper_class.py:215: VisibleDeprecationWarning: Creating an ndarray from ragged nested sequences (which is a list-or-tuple of lists-or-tuples-or ndarrays with different lengths or shapes) is deprecated. If you meant to do this, you must specify 'dtype=object' when creating the ndarray\n",
      "  self.snips = np.array([self.put_snip_in_bins(snip) for snip in self.snips])\n",
      "C:\\Users\\kvo019\\Anaconda3\\lib\\site-packages\\trompy\\snipper_class.py:229: VisibleDeprecationWarning: Creating an ndarray from ragged nested sequences (which is a list-or-tuple of lists-or-tuples-or ndarrays with different lengths or shapes) is deprecated. If you meant to do this, you must specify 'dtype=object' when creating the ndarray\n",
      "  self.snips = np.array(z_snips)\n",
      "C:\\Users\\kvo019\\Anaconda3\\lib\\site-packages\\trompy\\snipper_class.py:215: VisibleDeprecationWarning: Creating an ndarray from ragged nested sequences (which is a list-or-tuple of lists-or-tuples-or ndarrays with different lengths or shapes) is deprecated. If you meant to do this, you must specify 'dtype=object' when creating the ndarray\n",
      "  self.snips = np.array([self.put_snip_in_bins(snip) for snip in self.snips])\n",
      "C:\\Users\\kvo019\\Anaconda3\\lib\\site-packages\\trompy\\snipper_class.py:229: VisibleDeprecationWarning: Creating an ndarray from ragged nested sequences (which is a list-or-tuple of lists-or-tuples-or ndarrays with different lengths or shapes) is deprecated. If you meant to do this, you must specify 'dtype=object' when creating the ndarray\n",
      "  self.snips = np.array(z_snips)\n"
     ]
    },
    {
     "name": "stdout",
     "output_type": "stream",
     "text": [
      "\n",
      "Found 0 potential artifacts.\n",
      "No artifacts found.\n",
      "adding this mouse\n"
     ]
    },
    {
     "name": "stderr",
     "output_type": "stream",
     "text": [
      "C:\\Users\\kvo019\\Anaconda3\\lib\\site-packages\\trompy\\snipper_class.py:215: VisibleDeprecationWarning: Creating an ndarray from ragged nested sequences (which is a list-or-tuple of lists-or-tuples-or ndarrays with different lengths or shapes) is deprecated. If you meant to do this, you must specify 'dtype=object' when creating the ndarray\n",
      "  self.snips = np.array([self.put_snip_in_bins(snip) for snip in self.snips])\n",
      "C:\\Users\\kvo019\\Anaconda3\\lib\\site-packages\\trompy\\snipper_class.py:229: VisibleDeprecationWarning: Creating an ndarray from ragged nested sequences (which is a list-or-tuple of lists-or-tuples-or ndarrays with different lengths or shapes) is deprecated. If you meant to do this, you must specify 'dtype=object' when creating the ndarray\n",
      "  self.snips = np.array(z_snips)\n"
     ]
    },
    {
     "data": {
      "image/png": "[encoded data removed]",
      "text/plain": [
       "<Figure size 432x288 with 1 Axes>"
      ]
     },
     "metadata": {
      "needs_background": "light"
     },
     "output_type": "display_data"
    }
   ],
   "source": [
    "PVH_snips_full = get_snips(PVH, PVH_mouse_to_be_analyzed)\n",
    "VMH_snips_full = get_snips(VMH, VMH_mouse_to_be_analyzed)"
   ]
  },
  {
   "cell_type": "code",
   "execution_count": 6,
   "metadata": {},
   "outputs": [
    {
     "name": "stdout",
     "output_type": "stream",
     "text": [
      "number of runs for representative PVH mouse: 39\n",
      "number of runs for representative VMH mouse: 31\n"
     ]
    }
   ],
   "source": [
    "print(\"number of runs for representative PVH mouse:\", len(PVH_snips_full))\n",
    "print(\"number of runs for representative VMH mouse:\", len(VMH_snips_full))"
   ]
  },
  {
   "cell_type": "code",
   "execution_count": 7,
   "metadata": {},
   "outputs": [],
   "source": [
    "pre = 5\n",
    "post = 10\n",
    "mineventlength=8\n",
    "binlength=0.1\n",
    "\n",
    "eventbalance=[6,2]"
   ]
  },
  {
   "cell_type": "code",
   "execution_count": 9,
   "metadata": {},
   "outputs": [],
   "source": [
    "def sort_snips_by_time_period(snips, time_period):\n",
    "\n",
    "    start, end = time_period\n",
    "    time_period_indices = range(start, end)\n",
    "\n",
    "    time_period_means = np.mean(snips[:, time_period_indices], axis=1)\n",
    "\n",
    "    sorted_indices = np.argsort(-time_period_means)\n",
    "\n",
    "    sorted_snips = snips[sorted_indices]\n",
    "    return sorted_snips\n",
    "\n",
    "time_period = (140, 240)\n",
    "\n",
    "sorted_snips_PVH = sort_snips_by_time_period(PVH_snips_full, time_period)\n",
    "sorted_snips_VMH = sort_snips_by_time_period(VMH_snips_full, time_period)\n"
   ]
  },
  {
   "cell_type": "code",
   "execution_count": 11,
   "metadata": {},
   "outputs": [
    {
     "data": {
      "image/png": "[encoded data removed]",
      "text/plain": [
       "<Figure size 144x216 with 2 Axes>"
      ]
     },
     "metadata": {},
     "output_type": "display_data"
    }
   ],
   "source": [
    "#PVH mouse\n",
    "f, [[ax1, ax2], [ax3, ax4]] = plt.subplots(nrows=2, ncols=2,\n",
    "                                           figsize=[2,3],\n",
    "                                           gridspec_kw={\n",
    "                                                    \"width_ratios\":[10,1],\n",
    "                                                    \"hspace\": 0,\n",
    "                                                    \"left\": 0,\n",
    "                                                    \"top\": 1,\n",
    "                                                    \"bottom\": 0,\n",
    "                                                    \"right\": 1\n",
    "                                                        }\n",
    ")\n",
    "\n",
    "sns.heatmap(sorted_snips_PVH, ax=ax1, cbar_ax= ax2, cmap=cmap, vmax=3, vmin=-3,\n",
    "            cbar_kws={\"ticks\": []})    \n",
    "\n",
    "try:\n",
    "    assert(eventbalance[0] + eventbalance[1] == mineventlength)\n",
    "    early_t = eventbalance[0]\n",
    "    late_t = eventbalance[1]\n",
    "except:\n",
    "    print(\"No event balance given. Using default 50-50 split.\")\n",
    "    early_t = mineventlength/2\n",
    "    late_t = mineventlength/2\n",
    "            \n",
    "bins_early = int((pre + early_t) / binlength)\n",
    "bins_late = int((post + late_t) / binlength)\n",
    "\n",
    "\n",
    "x1 = np.arange(0,bins_early)\n",
    "x2 = np.arange(sorted_snips_PVH.shape[1] - bins_late, sorted_snips_PVH.shape[1])\n",
    "\n",
    "mean = np.mean(sorted_snips_PVH, axis=0)\n",
    "error_values = np.std(sorted_snips_PVH, axis=0) / np.sqrt(len(sorted_snips_PVH))\n",
    "\n",
    "color=colors_PVH\n",
    "\n",
    "ax3.plot(x1, mean[:bins_early], color=color)\n",
    "ax3.plot(x2, mean[-bins_late:], color=color)\n",
    "ax3.fill_between(x1, mean[:bins_early]-error_values[:bins_early], mean[:bins_early]+error_values[:bins_early], color=color, alpha=0.3, linewidth=0)\n",
    "ax3.fill_between(x2, mean[-bins_late:]-error_values[-bins_late:], mean[-bins_late:]+error_values[-bins_late:], color=color, alpha=0.3, linewidth=0)\n",
    "\n",
    "ax2.remove()\n",
    "ax4.remove()\n",
    "\n",
    "ax1.set_yticks([])\n",
    "ax1.set_xticks([])\n",
    "ax1.axvline(50, color=\"black\", linestyle=\"--\")\n",
    "ax1.axvline(140, color=\"black\", linestyle=\"--\")\n",
    "\n",
    "ax3.set_yticks([])\n",
    "ax3.set_xticks([])\n",
    "\n",
    "ax3.set_xlim([0,240])\n",
    "ax3.set_ylim([-4.5, 4])\n",
    "\n",
    "for spine in [\"top\", \"right\", \"left\", \"bottom\"]:\n",
    "    ax3.spines[spine].set_visible(False)\n",
    "\n",
    "transform = blended_transform_factory(ax3.transData, ax3.transAxes)\n",
    "ax3.plot([190,240], [0.05, 0.05], linewidth=2, color=\"k\", transform=transform)\n",
    "\n",
    "ax3.plot([2,2], [0.5, 1.5], linewidth=2, color=\"k\")\n",
    "\n",
    "ax3.axvline(50, color=\"k\", linestyle=\"--\", alpha=0.5)\n",
    "ax3.axvline(140, color=\"k\", linestyle=\"--\", alpha=0.5)\n",
    "\n",
    "f.savefig(FIGSFOLDER / \"PVH_rep_snips.pdf\")"
   ]
  },
  {
   "cell_type": "code",
   "execution_count": 12,
   "metadata": {
    "scrolled": true
   },
   "outputs": [
    {
     "data": {
      "image/png": "[encoded data removed]",
      "text/plain": [
       "<Figure size 144x216 with 3 Axes>"
      ]
     },
     "metadata": {},
     "output_type": "display_data"
    }
   ],
   "source": [
    "#VMH mouse\n",
    "f, [[ax1, ax2], [ax3, ax4]] = plt.subplots(nrows=2, ncols=2,\n",
    "                                           figsize=[2,3],\n",
    "                                           gridspec_kw={\n",
    "                                                    \"width_ratios\":[10,1],\n",
    "                                                    \"hspace\": 0,\n",
    "                                                    \"left\": 0,\n",
    "                                                    \"top\": 1,\n",
    "                                                    \"bottom\": 0,\n",
    "                                                    \"right\": 1\n",
    "                                                        }\n",
    "                                           )\n",
    "\n",
    "sns.heatmap(sorted_snips_VMH, ax=ax1, cbar_ax= ax2, cmap=cmap, vmax=3, vmin=-3,\n",
    "            cbar_kws={\"ticks\": []})    \n",
    "\n",
    "try:\n",
    "    assert(eventbalance[0] + eventbalance[1] == mineventlength)\n",
    "    early_t = eventbalance[0]\n",
    "    late_t = eventbalance[1]\n",
    "except:\n",
    "    print(\"No event balance given. Using default 50-50 split.\")\n",
    "    early_t = mineventlength/2\n",
    "    late_t = mineventlength/2\n",
    "            \n",
    "bins_early = int((pre + early_t) / binlength)\n",
    "bins_late = int((post + late_t) / binlength)\n",
    "\n",
    "x1 = np.arange(0,bins_early)\n",
    "x2 = np.arange(sorted_snips_VMH.shape[1] - bins_late, sorted_snips_VMH.shape[1])\n",
    "\n",
    "mean = np.mean(sorted_snips_VMH, axis=0)\n",
    "error_values = np.std(sorted_snips_VMH, axis=0) / np.sqrt(len(sorted_snips_VMH))\n",
    "\n",
    "color=colors_VMH\n",
    "\n",
    "ax3.plot(x1, mean[:bins_early], color=color)\n",
    "ax3.plot(x2, mean[-bins_late:], color=color)\n",
    "ax3.fill_between(x1, mean[:bins_early]-error_values[:bins_early], mean[:bins_early]+error_values[:bins_early], color=color, alpha=0.3, linewidth=0)\n",
    "ax3.fill_between(x2, mean[-bins_late:]-error_values[-bins_late:], mean[-bins_late:]+error_values[-bins_late:], color=color, alpha=0.3, linewidth=0)\n",
    "\n",
    "ax4.remove()\n",
    "\n",
    "ax1.set_yticks([])\n",
    "ax1.set_xticks([])\n",
    "ax1.axvline(50, color=\"black\", linestyle=\"--\")\n",
    "ax1.axvline(140, color=\"black\", linestyle=\"--\")\n",
    "\n",
    "ax3.set_yticks([])\n",
    "ax3.set_xticks([])\n",
    "\n",
    "ax3.set_xlim([0,240])\n",
    "ax3.set_ylim([-4.5, 4])\n",
    "\n",
    "for spine in [\"top\", \"right\", \"left\", \"bottom\"]:\n",
    "    ax3.spines[spine].set_visible(False)\n",
    "\n",
    "transform = blended_transform_factory(ax3.transData, ax3.transAxes)\n",
    "ax3.plot([190,240], [0.05, 0.05], linewidth=2, color=\"k\", transform=transform)\n",
    "\n",
    "ax3.plot([2,2], [0.5, 1.5], linewidth=2, color=\"k\")\n",
    "\n",
    "ax3.axvline(50, color=\"k\", linestyle=\"--\", alpha=0.5)\n",
    "ax3.axvline(140, color=\"k\", linestyle=\"--\", alpha=0.5)\n",
    "\n",
    "f.savefig(FIGSFOLDER / \"VMH_rep_snips.pdf\")"
   ]
  },
  {
   "cell_type": "code",
   "execution_count": null,
   "metadata": {},
   "outputs": [],
   "source": []
  }
 ],
 "metadata": {
  "kernelspec": {
   "display_name": "Python 3",
   "language": "python",
   "name": "python3"
  },
  "language_info": {
   "codemirror_mode": {
    "name": "ipython",
    "version": 3
   },
   "file_extension": ".py",
   "mimetype": "text/x-python",
   "name": "python",
   "nbconvert_exporter": "python",
   "pygments_lexer": "ipython3",
   "version": "3.8.5"
  }
 },
 "nbformat": 4,
 "nbformat_minor": 4
}

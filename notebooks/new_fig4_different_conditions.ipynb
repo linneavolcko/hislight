{
 "cells": [
  {
   "cell_type": "code",
   "execution_count": 1,
   "metadata": {},
   "outputs": [],
   "source": [
    "from pathlib import Path\n",
    "import matplotlib.pyplot as plt\n",
    "import trompy as tp\n",
    "import numpy as np\n",
    "import pickle\n",
    "import pandas as pd\n",
    "import seaborn as sns\n",
    "%matplotlib inline"
   ]
  },
  {
   "cell_type": "code",
   "execution_count": 2,
   "metadata": {},
   "outputs": [],
   "source": [
    "with open(\"C://Data//hislight_pickles//restricted_dark.pickle\", 'rb') as handle:\n",
    "    restricted_dark = pickle.load(handle)\n",
    "    \n",
    "with open('C://Data//hislight_pickles//adlib_light.pickle', 'rb') as handle:\n",
    "    adlib_light = pickle.load(handle)\n",
    "    \n",
    "with open('C://Data//hislight_pickles//adlib_dark.pickle', 'rb') as handle:\n",
    "    adlib_dark = pickle.load(handle)\n",
    "\n",
    "with open('C://Data//hislight_pickles//adlib_sucralose.pickle', 'rb') as handle:\n",
    "    adlib_sucralose = pickle.load(handle)    \n",
    "    "
   ]
  },
  {
   "cell_type": "code",
   "execution_count": 3,
   "metadata": {},
   "outputs": [],
   "source": [
    "list_of_mice = []\n",
    "\n",
    "for key, val in restricted_dark.items():\n",
    "    if val[\"mouse_ID\"] not in list_of_mice:\n",
    "        list_of_mice.append(val[\"mouse_ID\"])"
   ]
  },
  {
   "cell_type": "code",
   "execution_count": 4,
   "metadata": {},
   "outputs": [
    {
     "name": "stderr",
     "output_type": "stream",
     "text": [
      "C:\\Users\\kvo019\\Anaconda3\\lib\\site-packages\\trompy\\snipper_class.py:158: VisibleDeprecationWarning: Creating an ndarray from ragged nested sequences (which is a list-or-tuple of lists-or-tuples-or ndarrays with different lengths or shapes) is deprecated. If you meant to do this, you must specify 'dtype=object' when creating the ndarray\n",
      "  self.snips = np.array([self.put_snip_in_bins(snip) for snip in self.snips])\n",
      "C:\\Users\\kvo019\\Anaconda3\\lib\\site-packages\\trompy\\snipper_class.py:172: VisibleDeprecationWarning: Creating an ndarray from ragged nested sequences (which is a list-or-tuple of lists-or-tuples-or ndarrays with different lengths or shapes) is deprecated. If you meant to do this, you must specify 'dtype=object' when creating the ndarray\n",
      "  self.snips = np.array(z_snips)\n"
     ]
    }
   ],
   "source": [
    "restricted_snips_mean_start= []\n",
    "restricted_snips_mean_end = []\n",
    "restricted_snips_mean_full = []\n",
    "\n",
    "kwargs={\"bins\":150, \"trial_length\":15, \"baseline_length\":5}   \n",
    "\n",
    "pre = 5\n",
    "post = 10\n",
    "mineventlength=10\n",
    "binlength=0.1\n",
    "\n",
    "for mouse in list_of_mice:\n",
    "    snips_start = []\n",
    "    snips_end = []\n",
    "    snips_full = []\n",
    "    \n",
    "    for key, val in restricted_dark.items():\n",
    "        if val[\"mouse_ID\"]==mouse:\n",
    "\n",
    "            lickdata= tp.lickCalc(val[\"licks\"], minrunlength=3)\n",
    "\n",
    "            snips_start.append(tp.snipper(val[\"corrected\"], lickdata[\"rStart\"], val[\"fs\"], **kwargs)[0])\n",
    "            snips_end.append(tp.snipper(val[\"corrected\"], lickdata[\"rEnd\"], val[\"fs\"], **kwargs)[0])\n",
    "\n",
    "            snipper = tp.Snipper(val[\"corrected\"],\n",
    "                                    lickdata[\"rStart\"],\n",
    "                                    end=lickdata[\"rEnd\"],\n",
    "                                    fs=val[\"fs\"],\n",
    "                                    pre=pre,\n",
    "                                    post=post,\n",
    "                                    binlength=binlength,\n",
    "                                    zscore=True\n",
    "                                    )\n",
    "\n",
    "            # plt.plot(snipper.snips)\n",
    "            snipper.truncate_to_same_length(cols_to_add=10, mineventlength=mineventlength)\n",
    "            snips_full.append(snipper.snips)\n",
    "            #print(len(snipper.snips))\n",
    "            #print(len(snipper.snips[0]))\n",
    "            #print(len(snipper.snips[1]))\n",
    "\n",
    "\n",
    "            #run_length = tp.flatten_list(run_length)\n",
    "            #run_licks = tp.flatten_list(run_licks)\n",
    "\n",
    "    snips_start = np.vstack(snips_start)\n",
    "    snips_end = np.vstack(snips_end)\n",
    "    snips_full = np.vstack(snips_full)\n",
    "\n",
    "    restricted_snips_mean_start.append(np.mean(snips_start, axis=0))\n",
    "    restricted_snips_mean_end.append(np.mean(snips_end, axis=0))\n",
    "    restricted_snips_mean_full.append(np.mean(snips_full, axis=0))\n",
    "    \n",
    "restricted_snips_mean_full = np.array(restricted_snips_mean_full)"
   ]
  },
  {
   "cell_type": "code",
   "execution_count": 6,
   "metadata": {},
   "outputs": [],
   "source": [
    "light_snips_mean_start= []\n",
    "light_snips_mean_end = []\n",
    "light_snips_mean_full = []\n",
    "\n",
    "kwargs={\"bins\":150, \"trial_length\":15, \"baseline_length\":5}   \n",
    "\n",
    "pre = 5\n",
    "post = 10\n",
    "mineventlength=10\n",
    "binlength=0.1\n",
    "\n",
    "for mouse in list_of_mice:\n",
    "    snips_start = []\n",
    "    snips_end = []\n",
    "    snips_full = []\n",
    "    \n",
    "    for key, val in adlib_light.items():\n",
    "        if val[\"mouse_ID\"]==mouse:\n",
    "            if len(val[\"licks\"]) < 50:\n",
    "                continue\n",
    "\n",
    "            lickdata= tp.lickCalc(val[\"licks\"], minrunlength=3)\n",
    "\n",
    "            #run_length.append(lickdata[\"rTime\"])\n",
    "            #run_licks.append(lickdata[\"rLicks\"])\n",
    "\n",
    "            snips_start.append(tp.snipper(val[\"corrected\"], lickdata[\"rStart\"], val[\"fs\"], **kwargs)[0])\n",
    "            snips_end.append(tp.snipper(val[\"corrected\"], lickdata[\"rEnd\"], val[\"fs\"], **kwargs)[0])\n",
    "\n",
    "            snipper = tp.Snipper(val[\"corrected\"],\n",
    "                                    lickdata[\"rStart\"],\n",
    "                                    end=lickdata[\"rEnd\"],\n",
    "                                    fs=val[\"fs\"],\n",
    "                                    pre=pre,\n",
    "                                    post=post,\n",
    "                                    binlength=binlength,\n",
    "                                    zscore=True\n",
    "                                    )\n",
    "\n",
    "            # plt.plot(snipper.snips)\n",
    "            snipper.truncate_to_same_length(cols_to_add=10, mineventlength=mineventlength)\n",
    "            snips_full.append(snipper.snips)\n",
    "            #print(len(snipper.snips))\n",
    "            #print(len(snipper.snips[0]))\n",
    "            #print(len(snipper.snips[1]))\n",
    "\n",
    "\n",
    "            #run_length = tp.flatten_list(run_length)\n",
    "            #run_licks = tp.flatten_list(run_licks)\n",
    "\n",
    "    snips_start = np.vstack(snips_start)\n",
    "    snips_end = np.vstack(snips_end)\n",
    "    snips_full = np.vstack(snips_full)\n",
    "\n",
    "    light_snips_mean_start.append(np.mean(snips_start, axis=0))\n",
    "    light_snips_mean_end.append(np.mean(snips_end, axis=0))\n",
    "    light_snips_mean_full.append(np.mean(snips_full, axis=0))\n",
    "    \n",
    "light_snips_mean_full = np.array(light_snips_mean_full)"
   ]
  },
  {
   "cell_type": "code",
   "execution_count": 12,
   "metadata": {},
   "outputs": [
    {
     "name": "stderr",
     "output_type": "stream",
     "text": [
      "C:\\Users\\kvo019\\Anaconda3\\lib\\site-packages\\trompy\\snipper_class.py:158: VisibleDeprecationWarning: Creating an ndarray from ragged nested sequences (which is a list-or-tuple of lists-or-tuples-or ndarrays with different lengths or shapes) is deprecated. If you meant to do this, you must specify 'dtype=object' when creating the ndarray\n",
      "  self.snips = np.array([self.put_snip_in_bins(snip) for snip in self.snips])\n",
      "C:\\Users\\kvo019\\Anaconda3\\lib\\site-packages\\trompy\\snipper_class.py:172: VisibleDeprecationWarning: Creating an ndarray from ragged nested sequences (which is a list-or-tuple of lists-or-tuples-or ndarrays with different lengths or shapes) is deprecated. If you meant to do this, you must specify 'dtype=object' when creating the ndarray\n",
      "  self.snips = np.array(z_snips)\n"
     ]
    }
   ],
   "source": [
    "dark_snips_mean_start= []\n",
    "dark_snips_mean_end = []\n",
    "dark_snips_mean_full = []\n",
    "\n",
    "kwargs={\"bins\":150, \"trial_length\":15, \"baseline_length\":5}   \n",
    "\n",
    "pre = 5\n",
    "post = 10\n",
    "mineventlength=10\n",
    "binlength=0.1\n",
    "\n",
    "for mouse in list_of_mice:\n",
    "    snips_start = []\n",
    "    snips_end = []\n",
    "    snips_full = []\n",
    "    \n",
    "    for key, val in adlib_dark.items():\n",
    "        if val[\"mouse_ID\"]==mouse:\n",
    "            \n",
    "            lickdata= tp.lickCalc(val[\"licks\"], minrunlength=3)\n",
    "\n",
    "            #run_length.append(lickdata[\"rTime\"])\n",
    "            #run_licks.append(lickdata[\"rLicks\"])\n",
    "\n",
    "            snips_start.append(tp.snipper(val[\"corrected\"], lickdata[\"rStart\"], val[\"fs\"], **kwargs)[0])\n",
    "            snips_end.append(tp.snipper(val[\"corrected\"], lickdata[\"rEnd\"], val[\"fs\"], **kwargs)[0])\n",
    "\n",
    "            snipper = tp.Snipper(val[\"corrected\"],\n",
    "                                    lickdata[\"rStart\"],\n",
    "                                    end=lickdata[\"rEnd\"],\n",
    "                                    fs=val[\"fs\"],\n",
    "                                    pre=pre,\n",
    "                                    post=post,\n",
    "                                    binlength=binlength,\n",
    "                                    zscore=True\n",
    "                                    )\n",
    "\n",
    "            # plt.plot(snipper.snips)\n",
    "            snipper.truncate_to_same_length(cols_to_add=10, mineventlength=mineventlength)\n",
    "            snips_full.append(snipper.snips)\n",
    "            #print(len(snipper.snips))\n",
    "            #print(len(snipper.snips[0]))\n",
    "            #print(len(snipper.snips[1]))\n",
    "\n",
    "\n",
    "            #run_length = tp.flatten_list(run_length)\n",
    "            #run_licks = tp.flatten_list(run_licks)\n",
    "\n",
    "    snips_start = np.vstack(snips_start)\n",
    "    snips_end = np.vstack(snips_end)\n",
    "    snips_full = np.vstack(snips_full)\n",
    "\n",
    "    dark_snips_mean_start.append(np.mean(snips_start, axis=0))\n",
    "    dark_snips_mean_end.append(np.mean(snips_end, axis=0))\n",
    "    dark_snips_mean_full.append(np.mean(snips_full, axis=0))\n",
    "    \n",
    "dark_snips_mean_full = np.array(dark_snips_mean_full)"
   ]
  },
  {
   "cell_type": "code",
   "execution_count": 13,
   "metadata": {
    "scrolled": true
   },
   "outputs": [
    {
     "name": "stderr",
     "output_type": "stream",
     "text": [
      "C:\\Users\\kvo019\\Anaconda3\\lib\\site-packages\\numpy\\core\\fromnumeric.py:3372: RuntimeWarning: Mean of empty slice.\n",
      "  return _methods._mean(a, axis=axis, dtype=dtype,\n",
      "C:\\Users\\kvo019\\Anaconda3\\lib\\site-packages\\numpy\\core\\_methods.py:162: RuntimeWarning: invalid value encountered in true_divide\n",
      "  ret = um.true_divide(\n"
     ]
    }
   ],
   "source": [
    "sucralose_snips_mean_start= []\n",
    "sucralose_snips_mean_end = []\n",
    "sucralose_snips_mean_full = []\n",
    "\n",
    "kwargs={\"bins\":150, \"trial_length\":15, \"baseline_length\":5}   \n",
    "\n",
    "pre = 5\n",
    "post = 10\n",
    "mineventlength=10\n",
    "binlength=0.1\n",
    "\n",
    "for mouse in list_of_mice:\n",
    "    snips_start = []\n",
    "    snips_end = []\n",
    "    snips_full = []\n",
    "    \n",
    "    for key, val in adlib_sucralose.items():\n",
    "        if val[\"mouse_ID\"]==mouse:\n",
    "            if len(val[\"licks\"]) < 50:\n",
    "                continue\n",
    "                \n",
    "            lickdata= tp.lickCalc(val[\"licks\"], minrunlength=3)\n",
    "\n",
    "            snips_start.append(tp.snipper(val[\"corrected\"], lickdata[\"rStart\"], val[\"fs\"], **kwargs)[0])\n",
    "            snips_end.append(tp.snipper(val[\"corrected\"], lickdata[\"rEnd\"], val[\"fs\"], **kwargs)[0])\n",
    "\n",
    "            snipper = tp.Snipper(val[\"corrected\"],\n",
    "                                    lickdata[\"rStart\"],\n",
    "                                    end=lickdata[\"rEnd\"],\n",
    "                                    fs=val[\"fs\"],\n",
    "                                    pre=pre,\n",
    "                                    post=post,\n",
    "                                    binlength=binlength,\n",
    "                                    zscore=True\n",
    "                                    )\n",
    "\n",
    "            # plt.plot(snipper.snips)\n",
    "            snipper.truncate_to_same_length(cols_to_add=10, mineventlength=mineventlength)\n",
    "            snips_full.append(snipper.snips)\n",
    "            #print(len(snipper.snips))\n",
    "            #print(len(snipper.snips[0]))\n",
    "            #print(len(snipper.snips[1]))\n",
    "\n",
    "\n",
    "            #run_length = tp.flatten_list(run_length)\n",
    "            #run_licks = tp.flatten_list(run_licks)\n",
    "\n",
    "    snips_start = np.vstack(snips_start)\n",
    "    snips_end = np.vstack(snips_end)\n",
    "    snips_full = np.vstack(snips_full)\n",
    "\n",
    "    sucralose_snips_mean_start.append(np.mean(snips_start, axis=0))\n",
    "    sucralose_snips_mean_end.append(np.mean(snips_end, axis=0))\n",
    "    sucralose_snips_mean_full.append(np.mean(snips_full, axis=0))\n",
    "    \n",
    "sucralose_snips_mean_full = np.array(sucralose_snips_mean_full)"
   ]
  },
  {
   "cell_type": "code",
   "execution_count": 14,
   "metadata": {},
   "outputs": [
    {
     "data": {
      "text/plain": [
       "array([[-0.48989832, -0.89788092, -0.2138647 , ..., -2.53088655,\n",
       "        -2.17284109, -2.17891548],\n",
       "       [ 0.24570016,  0.40590244,  0.62789067, ...,  4.14107989,\n",
       "         4.81704502,  4.29829933],\n",
       "       [-0.69460608, -1.02271533, -0.3055627 , ...,  1.92085374,\n",
       "         1.07086066,  1.09368415],\n",
       "       ...,\n",
       "       [        nan,         nan,         nan, ...,         nan,\n",
       "                nan,         nan],\n",
       "       [-0.26997265,  0.57064997,  0.64436166, ..., -0.02211018,\n",
       "         0.5231967 ,  0.72735257],\n",
       "       [ 1.50579634, -0.21453572,  0.29668477, ..., 13.50439128,\n",
       "        13.08915917, 12.47589936]])"
      ]
     },
     "execution_count": 14,
     "metadata": {},
     "output_type": "execute_result"
    }
   ],
   "source": [
    "sucralose_snips_mean_full"
   ]
  },
  {
   "cell_type": "code",
   "execution_count": 15,
   "metadata": {},
   "outputs": [],
   "source": [
    "colors_adlib_light = \"#D83F31\"\n",
    "colors_adlib_dark = \"#EE9322\"\n",
    "colors_restricted = \"#219C90\"\n",
    "colors_sucralose = \"#E9B824\"\n",
    "\n",
    "colors_adlib_light_2 = \"#f7d8d5\"\n",
    "colors_adlib_dark_2 = \"#fbe9d2\"\n",
    "colors_restricted_2 = \"#d2ebe8\"\n",
    "colors_sucralose_2 = \"#faf0d3\"\n",
    "\n",
    "colors = [\"#D83F31\", \"#EE9322\", \"#219C90\",\"#E9B824\"]"
   ]
  },
  {
   "cell_type": "code",
   "execution_count": 16,
   "metadata": {},
   "outputs": [
    {
     "data": {
      "image/png": "[encoded data removed]",
      "text/plain": [
       "<Figure size 360x360 with 1 Axes>"
      ]
     },
     "metadata": {},
     "output_type": "display_data"
    }
   ],
   "source": [
    "f, ax =plt.subplots(figsize=[5,5])\n",
    "\n",
    "bins_early = int((pre + mineventlength/2)/binlength)\n",
    "bins_late = int((post + mineventlength/2)/binlength)\n",
    "\n",
    "#restricted\n",
    "x1_restricted = np.arange(0,bins_early)\n",
    "x2_restricted = np.arange(restricted_snips_mean_full.shape[1] - bins_late, restricted_snips_mean_full.shape[1])\n",
    "\n",
    "mean_restricted = np.mean(restricted_snips_mean_full, axis=0)\n",
    "error_values_restricted = np.std(restricted_snips_mean_full, axis=0) / np.sqrt(len(restricted_snips_mean_full))\n",
    "\n",
    "ax.plot(x1_restricted, mean_restricted[:bins_early], color=colors_restricted)\n",
    "ax.plot(x2_restricted, mean_restricted[-bins_late:], color=colors_restricted)\n",
    "\n",
    "ax.fill_between(x1_restricted, mean_restricted[:bins_early]-error_values_restricted[:bins_early], \n",
    "                mean_restricted[:bins_early]+error_values_restricted[:bins_early], \n",
    "                color=colors_restricted, alpha=0.3)\n",
    "ax.fill_between(x2_restricted, mean_restricted[-bins_late:]-error_values_restricted[-bins_late:], \n",
    "                mean_restricted[-bins_late:]+error_values_restricted[-bins_late:], \n",
    "                color=colors_restricted, alpha=0.3)\n",
    "\n",
    "# adlib light\n",
    "\n",
    "x1_light = np.arange(0,bins_early)\n",
    "x2_light = np.arange(light_snips_mean_full.shape[1] - bins_late, light_snips_mean_full.shape[1])\n",
    "\n",
    "mean_light = np.mean(light_snips_mean_full, axis=0)\n",
    "error_values_light = np.std(light_snips_mean_full, axis=0) / np.sqrt(len(light_snips_mean_full))\n",
    "\n",
    "ax.plot(x1_light, mean_light[:bins_early], color=colors_adlib_light)\n",
    "ax.plot(x2_light, mean_light[-bins_late:], color=colors_adlib_light)\n",
    "\n",
    "ax.fill_between(x1_light, mean_light[:bins_early]-error_values_light[:bins_early], \n",
    "                mean_light[:bins_early]+error_values_light[:bins_early], \n",
    "                color=colors_adlib_light, alpha=0.3)\n",
    "ax.fill_between(x2_light, mean_light[-bins_late:]-error_values_light[-bins_late:], \n",
    "                mean_light[-bins_late:]+error_values_light[-bins_late:], \n",
    "                color=colors_adlib_light, alpha=0.3)\n",
    "\n",
    "# adlib dark\n",
    "\n",
    "x1_dark = np.arange(0,bins_early)\n",
    "x2_dark = np.arange(dark_snips_mean_full.shape[1] - bins_late, dark_snips_mean_full.shape[1])\n",
    "\n",
    "mean_dark = np.mean(dark_snips_mean_full, axis=0)\n",
    "error_values_dark = np.std(dark_snips_mean_full, axis=0) / np.sqrt(len(dark_snips_mean_full))\n",
    "\n",
    "ax.plot(x1_dark, mean_dark[:bins_early], color=colors_adlib_dark)\n",
    "ax.plot(x2_dark, mean_dark[-bins_late:], color=colors_adlib_dark)\n",
    "\n",
    "ax.fill_between(x1_dark, mean_dark[:bins_early]-error_values_dark[:bins_early], \n",
    "                mean_dark[:bins_early]+error_values_dark[:bins_early], \n",
    "                color=colors_adlib_dark, alpha=0.3)\n",
    "ax.fill_between(x2_dark, mean_dark[-bins_late:]-error_values_dark[-bins_late:], \n",
    "                mean_dark[-bins_late:]+error_values_dark[-bins_late:], \n",
    "                color=colors_adlib_dark, alpha=0.3)\n",
    "\n",
    "\n",
    "# sucralose\n",
    "\n",
    "x1_sucralose = np.arange(0,bins_early)\n",
    "x2_sucralose = np.arange(sucralose_snips_mean_full.shape[1] - bins_late, sucralose_snips_mean_full.shape[1])\n",
    "\n",
    "mean_sucralose = np.nanmean(sucralose_snips_mean_full, axis=0)\n",
    "error_values_sucralose= np.std(sucralose_snips_mean_full, axis=0) / np.sqrt(len(sucralose_snips_mean_full))\n",
    "\n",
    "ax.plot(x1_sucralose, mean_sucralose[:bins_early], color=colors_sucralose)\n",
    "ax.plot(x2_sucralose, mean_sucralose[-bins_late:], color=colors_sucralose)\n",
    "\n",
    "ax.fill_between(x1_sucralose, mean_sucralose[:bins_early]-error_values_sucralose[:bins_early], \n",
    "                mean_sucralose[:bins_early]+error_values_sucralose[:bins_early], \n",
    "                color=colors_sucralose, alpha=0.3)\n",
    "ax.fill_between(x2_sucralose, mean_sucralose[-bins_late:]-error_values_sucralose[-bins_late:], \n",
    "                mean_dark[-bins_late:]+error_values_sucralose[-bins_late:], \n",
    "                color=colors_sucralose, alpha=0.3)\n",
    "\n",
    "for spine in [\"top\", \"right\", \"left\", \"bottom\"]:\n",
    "    ax.spines[spine].set_visible(False)\n",
    "\n",
    "ax.set_yticks([])\n",
    "ax.set_xticks([])\n",
    "\n",
    "ax.plot([200,250], [-1,-1], linewidth=2, color=\"k\")\n",
    "ax.text(225,-1.1,\"5 s\", va=\"top\", ha=\"center\")\n",
    "\n",
    "ax.plot([0,0], [0.5, 1.5], linewidth=2, color=\"k\")\n",
    "ax.text(-3, 1, \"1 Z\", va=\"center\", ha=\"right\")\n",
    "\n",
    "ax.axvline(50, color=\"k\", linestyle=\"--\", alpha=0.5)\n",
    "ax.axvline(160, color=\"k\", linestyle=\"--\", alpha=0.5)\n",
    "\n",
    "\n",
    "f.savefig(\"C:\\\\Users\\\\kvo019\\\\OneDrive - UiT Office 365\\\\Pipette 2\\\\People\\\\Linnea\\\\Manuscripts\\\\hislight paper\\\\figures\\\\new_diff_conditions.pdf\")"
   ]
  },
  {
   "cell_type": "code",
   "execution_count": 35,
   "metadata": {},
   "outputs": [],
   "source": [
    "AUC_restricted_last5 = np.trapz(np.array(restricted_snips_mean_end)[:,0:50])\n",
    "AUC_restricted_first5= np.trapz(np.array(restricted_snips_mean_end)[:,50:100])\n",
    "AUC_restricted_next5= np.trapz(np.array(restricted_snips_mean_end)[:,100:150])\n",
    "AUC_restricted_diff1 = AUC_restricted_last5 - AUC_restricted_first5"
   ]
  },
  {
   "cell_type": "code",
   "execution_count": 37,
   "metadata": {},
   "outputs": [
    {
     "data": {
      "text/plain": [
       "array([ 0.07395217,  0.04322746, -0.0220078 , -0.00088342,  0.02343833,\n",
       "       -0.00584993,  0.00295742, -0.01332938,  0.04417415, -0.01125679,\n",
       "        0.02054138])"
      ]
     },
     "execution_count": 37,
     "metadata": {},
     "output_type": "execute_result"
    }
   ],
   "source": [
    "AUC_restricted_last5"
   ]
  },
  {
   "cell_type": "code",
   "execution_count": 36,
   "metadata": {},
   "outputs": [
    {
     "data": {
      "text/plain": [
       "array([-5.56312444, -3.7622739 , -1.35709332,  6.70030251, -1.05717506,\n",
       "       -3.63026422, -2.72807639, -4.01957807, -5.40201071, -2.94018383,\n",
       "       -0.15640614])"
      ]
     },
     "execution_count": 36,
     "metadata": {},
     "output_type": "execute_result"
    }
   ],
   "source": [
    "AUC_restricted_diff1"
   ]
  },
  {
   "cell_type": "code",
   "execution_count": 29,
   "metadata": {},
   "outputs": [],
   "source": [
    "def AUC_differences_run_end(data):\n",
    "    AUC_last5s_licking = np.trapz(np.array(data)[:,0:50])\n",
    "    AUC_first5s_after_licking = np.trapz(np.array(data)[:,50:100])\n",
    "    AUC_next5s_after_licking= np.trapz(np.array(data)[:,100:150])\n",
    "    AUC_diff1 = AUC_last5s_licking - AUC_first5s_after_licking\n",
    "    AUC_diff2 = AUC_last5s_licking - AUC_next5s_after_licking\n",
    "    \n",
    "    return AUC_diff1, AUC_diff2"
   ]
  },
  {
   "cell_type": "code",
   "execution_count": null,
   "metadata": {},
   "outputs": [],
   "source": [
    "AUC_light_1, AUC_light_2 = AUC_differences_run_end(light_snips_mean_end)\n",
    "AUC_dark_1, AUC_dark_2 = AUC_differences_run_end(dark_snips_mean_end)\n",
    "AUC_restricted_1, AUC_restricted_2 = AUC_differences_run_end(restricted_snips_mean_end)\n",
    "AUC_sucralose_1, AUC_sucralose_2 = AUC_differences_run_end(sucralose_snips_mean_end)"
   ]
  },
  {
   "cell_type": "code",
   "execution_count": 32,
   "metadata": {
    "scrolled": true
   },
   "outputs": [
    {
     "data": {
      "text/plain": [
       "array([-5.56312444, -3.7622739 , -1.35709332,  6.70030251, -1.05717506,\n",
       "       -3.63026422, -2.72807639, -4.01957807, -5.40201071, -2.94018383,\n",
       "       -0.15640614])"
      ]
     },
     "execution_count": 32,
     "metadata": {},
     "output_type": "execute_result"
    }
   ],
   "source": [
    "AUC_restricted_1"
   ]
  },
  {
   "cell_type": "code",
   "execution_count": 33,
   "metadata": {},
   "outputs": [
    {
     "data": {
      "text/plain": [
       "array([  2.75148   , -21.70708473,  -5.13795592,  -5.35725376,\n",
       "       -19.56522121,  -9.50091364, -11.40344763, -18.99402274,\n",
       "       -37.10158356,  -8.2443581 ,  -3.7147843 ])"
      ]
     },
     "execution_count": 33,
     "metadata": {},
     "output_type": "execute_result"
    }
   ],
   "source": [
    "AUC_restricted_2"
   ]
  },
  {
   "cell_type": "code",
   "execution_count": 30,
   "metadata": {},
   "outputs": [
    {
     "data": {
      "text/plain": [
       "(<AxesSubplot:>,\n",
       " [1, 2, 3, 4],\n",
       " [<BarContainer object of 1 artists>,\n",
       "  <BarContainer object of 1 artists>,\n",
       "  <BarContainer object of 1 artists>,\n",
       "  <BarContainer object of 1 artists>],\n",
       " [[<matplotlib.lines.Line2D at 0x1c8bfa2d0a0>],\n",
       "  [<matplotlib.lines.Line2D at 0x1c8bfa2dfa0>],\n",
       "  [<matplotlib.lines.Line2D at 0x1c8bfa3c340>],\n",
       "  [<matplotlib.lines.Line2D at 0x1c8bfa3c6a0>],\n",
       "  [<matplotlib.lines.Line2D at 0x1c8bfa3ca00>],\n",
       "  [<matplotlib.lines.Line2D at 0x1c8bfa3cd60>],\n",
       "  [<matplotlib.lines.Line2D at 0x1c8bfa47100>],\n",
       "  [<matplotlib.lines.Line2D at 0x1c8bfa47460>],\n",
       "  [<matplotlib.lines.Line2D at 0x1c8bfa477c0>],\n",
       "  [<matplotlib.lines.Line2D at 0x1c8bfa47b20>],\n",
       "  [<matplotlib.lines.Line2D at 0x1c8bfa47e80>]])"
      ]
     },
     "execution_count": 30,
     "metadata": {},
     "output_type": "execute_result"
    },
    {
     "data": {
      "image/png": "[encoded data removed]",
      "text/plain": [
       "<Figure size 432x216 with 2 Axes>"
      ]
     },
     "metadata": {
      "needs_background": "light"
     },
     "output_type": "display_data"
    }
   ],
   "source": [
    "\n",
    "\n",
    "f, [ax1, ax2] =plt.subplots(ncols=2,\n",
    "                            figsize=[6,3],\n",
    "                            sharey= True,\n",
    "                            gridspec_kw={\"wspace\":0.2})\n",
    "\n",
    "tp.barscatter([AUC_light_1,\n",
    "               AUC_dark_1,\n",
    "               AUC_restricted_1,\n",
    "               AUC_sucralose_1],\n",
    "               paired=True,\n",
    "               barfacecolor_option='individual',\n",
    "               barfacecolor=colors,\n",
    "               grouplabel= [\"ad lib \\nlight\", \"ad lib \\ndark\", \"rest.\", \"ad lib \\nsucralose\"],\n",
    "               grouplabeloffset=-0.08,\n",
    "               fontsize=8,\n",
    "               scattersize=60,\n",
    "               scatteralpha=0.5,\n",
    "               ax=ax1)\n",
    "\n",
    "tp.barscatter([AUC_light_2,\n",
    "               AUC_dark_2,\n",
    "               AUC_restricted_2,\n",
    "               AUC_sucralose_2],\n",
    "               paired=True,\n",
    "               barfacecolor_option='individual',\n",
    "               barfacecolor=colors,\n",
    "               grouplabel= [\"ad lib \\nlight\", \"ad lib \\ndark\", \"rest.\", \"ad lib \\nsucralose\"],\n",
    "               grouplabeloffset=-0.08,\n",
    "               fontsize=8,\n",
    "               scattersize=60,\n",
    "               scatteralpha=0.5,\n",
    "               ax=ax2)\n"
   ]
  },
  {
   "cell_type": "code",
   "execution_count": null,
   "metadata": {},
   "outputs": [],
   "source": []
  },
  {
   "cell_type": "code",
   "execution_count": 177,
   "metadata": {},
   "outputs": [
    {
     "data": {
      "image/png": "[encoded data removed]",
      "text/plain": [
       "<Figure size 432x216 with 3 Axes>"
      ]
     },
     "metadata": {
      "needs_background": "light"
     },
     "output_type": "display_data"
    }
   ],
   "source": [
    "f, [ax1, ax2, ax3] =plt.subplots(ncols=3,\n",
    "                            figsize=[6,3],\n",
    "                            sharey= True,\n",
    "                            gridspec_kw={\"wspace\":0.2})\n",
    "\n",
    "tp.barscatter([np.trapz(np.array(light_snips_mean_start)[:,50:100]),\n",
    "               np.trapz(np.array(dark_snips_mean_start)[:,50:100]),\n",
    "               np.trapz(np.array(restricted_snips_mean_start)[:,50:100]),\n",
    "               np.trapz(np.array(sucralose_snips_mean_start)[:,50:100])],\n",
    "               paired=True,\n",
    "               barfacecolor_option='individual',\n",
    "               barfacecolor=colors,\n",
    "               grouplabel= [\"ad lib \\nlight\", \"ad lib \\ndark\", \"rest.\", \"ad lib \\nsucralose\"],\n",
    "               grouplabeloffset=-0.08,\n",
    "               fontsize=8,\n",
    "               scattersize=60,\n",
    "               scatteralpha=0.5,\n",
    "               ax=ax1)\n",
    "\n",
    "tp.barscatter([np.trapz(np.array(light_snips_mean_end)[:,50:100]),\n",
    "               np.trapz(np.array(dark_snips_mean_end)[:,50:100]),\n",
    "               np.trapz(np.array(restricted_snips_mean_end)[:,50:100]),\n",
    "               np.trapz(np.array(sucralose_snips_mean_end)[:,50:100])],\n",
    "               paired=True,\n",
    "               barfacecolor_option='individual',\n",
    "               barfacecolor=colors,\n",
    "               grouplabel= [\"ad lib \\nlight\", \"ad lib \\ndark\", \"rest.\", \"ad lib \\nsucralose\"],\n",
    "               grouplabeloffset=-0.08,\n",
    "               fontsize=8,\n",
    "               scattersize=60,\n",
    "               scatteralpha=0.5,\n",
    "               ax=ax2)\n",
    "\n",
    "tp.barscatter([np.trapz(np.array(light_snips_mean_end)[:,100:]),\n",
    "               np.trapz(np.array(dark_snips_mean_end)[:,100:]),\n",
    "               np.trapz(np.array(restricted_snips_mean_end)[:,100:]),\n",
    "               np.trapz(np.array(sucralose_snips_mean_end)[:,100:])],\n",
    "               paired=True,\n",
    "               barfacecolor_option='individual',\n",
    "               barfacecolor=colors,\n",
    "               grouplabel= [\"ad lib \\nlight\", \"ad lib \\ndark\", \"rest.\", \"ad lib \\nsucralose\"],\n",
    "               grouplabeloffset=-0.08,\n",
    "               fontsize=8,\n",
    "               scattersize=60,\n",
    "               scatteralpha=0.5,\n",
    "               ax=ax3)\n",
    "\n",
    "ax1.set_ylabel(\"AUC\")\n",
    "ax1.set_title(\"fist 5 s licking\")\n",
    "ax2.set_title(\"fist 5 s after licking\")\n",
    "ax3.set_title(\"5 - 10 s after licking\")\n",
    "\n",
    "f.savefig(\"C:\\\\Users\\\\kvo019\\\\OneDrive - UiT Office 365\\\\Pipette 2\\\\People\\\\Linnea\\\\Manuscripts\\\\hislight paper\\\\figures\\\\new_diff_conditions_AUC.pdf\")"
   ]
  },
  {
   "cell_type": "code",
   "execution_count": null,
   "metadata": {},
   "outputs": [],
   "source": []
  },
  {
   "cell_type": "code",
   "execution_count": 169,
   "metadata": {},
   "outputs": [
    {
     "data": {
      "text/plain": [
       "(<AxesSubplot:>,\n",
       " [1, 2, 3, 4],\n",
       " [<BarContainer object of 1 artists>,\n",
       "  <BarContainer object of 1 artists>,\n",
       "  <BarContainer object of 1 artists>,\n",
       "  <BarContainer object of 1 artists>],\n",
       " [<matplotlib.collections.PathCollection at 0x225f37fafa0>,\n",
       "  <matplotlib.collections.PathCollection at 0x225f3808e20>,\n",
       "  <matplotlib.collections.PathCollection at 0x225f3819220>,\n",
       "  <matplotlib.collections.PathCollection at 0x225f38195e0>,\n",
       "  <matplotlib.collections.PathCollection at 0x225f3819a00>,\n",
       "  <matplotlib.collections.PathCollection at 0x225f3808dc0>,\n",
       "  <matplotlib.collections.PathCollection at 0x225f3819ee0>,\n",
       "  <matplotlib.collections.PathCollection at 0x225f38262e0>,\n",
       "  <matplotlib.collections.PathCollection at 0x225f38266a0>,\n",
       "  <matplotlib.collections.PathCollection at 0x225f3826a60>,\n",
       "  <matplotlib.collections.PathCollection at 0x225f3826e20>,\n",
       "  <matplotlib.collections.PathCollection at 0x225f3832220>,\n",
       "  <matplotlib.collections.PathCollection at 0x225f38325e0>,\n",
       "  <matplotlib.collections.PathCollection at 0x225f38329a0>,\n",
       "  <matplotlib.collections.PathCollection at 0x225f3826e80>,\n",
       "  <matplotlib.collections.PathCollection at 0x225f38321f0>,\n",
       "  <matplotlib.collections.PathCollection at 0x225f38400a0>,\n",
       "  <matplotlib.collections.PathCollection at 0x225f3840460>,\n",
       "  <matplotlib.collections.PathCollection at 0x225f3840820>,\n",
       "  <matplotlib.collections.PathCollection at 0x225f3840be0>,\n",
       "  <matplotlib.collections.PathCollection at 0x225f3840fa0>,\n",
       "  <matplotlib.collections.PathCollection at 0x225f384d3a0>,\n",
       "  <matplotlib.collections.PathCollection at 0x225f384d760>,\n",
       "  <matplotlib.collections.PathCollection at 0x225f3840f70>,\n",
       "  <matplotlib.collections.PathCollection at 0x225f384d400>,\n",
       "  <matplotlib.collections.PathCollection at 0x225f384de20>,\n",
       "  <matplotlib.collections.PathCollection at 0x225f385b220>,\n",
       "  <matplotlib.collections.PathCollection at 0x225f385b5e0>,\n",
       "  <matplotlib.collections.PathCollection at 0x225f385b9a0>,\n",
       "  <matplotlib.collections.PathCollection at 0x225f385bd60>,\n",
       "  <matplotlib.collections.PathCollection at 0x225f3867160>,\n",
       "  <matplotlib.collections.PathCollection at 0x225f3867520>,\n",
       "  <matplotlib.collections.PathCollection at 0x225f385bdc0>,\n",
       "  <matplotlib.collections.PathCollection at 0x225f3867130>,\n",
       "  <matplotlib.collections.PathCollection at 0x225f3867be0>,\n",
       "  <matplotlib.collections.PathCollection at 0x225f3867fa0>,\n",
       "  <matplotlib.collections.PathCollection at 0x225f38773a0>,\n",
       "  <matplotlib.collections.PathCollection at 0x225f3877760>,\n",
       "  <matplotlib.collections.PathCollection at 0x225f3877b20>,\n",
       "  <matplotlib.collections.PathCollection at 0x225f3877ee0>,\n",
       "  <matplotlib.collections.PathCollection at 0x225f38822e0>,\n",
       "  <matplotlib.collections.PathCollection at 0x225f3877ac0>,\n",
       "  <matplotlib.collections.PathCollection at 0x225f385b640>,\n",
       "  <matplotlib.collections.PathCollection at 0x225f38829a0>])"
      ]
     },
     "execution_count": 169,
     "metadata": {},
     "output_type": "execute_result"
    },
    {
     "data": {
      "image/png": "[encoded data removed]",
      "text/plain": [
       "<Figure size 432x288 with 1 Axes>"
      ]
     },
     "metadata": {
      "needs_background": "light"
     },
     "output_type": "display_data"
    }
   ],
   "source": [
    "restricted_min_start= []\n",
    "light_min_start= []\n",
    "dark_min_start= []\n",
    "sucralose_min_start= []\n",
    "\n",
    "for snip in restricted_snips_mean_start:\n",
    "    restricted_min_start.append(np.min(snip)) \n",
    "    \n",
    "for snip in light_snips_mean_start:\n",
    "    light_min_start.append(np.min(snip)) \n",
    "    \n",
    "for snip in dark_snips_mean_start:\n",
    "    dark_min_start.append(np.min(snip)) \n",
    "    \n",
    "for snip in sucralose_snips_mean_start:\n",
    "    sucralose_min_start.append(np.min(snip)) \n",
    "    \n",
    "tp.barscatter([restricted_min_start, light_min_start, dark_min_start, sucralose_min_start] )  "
   ]
  },
  {
   "cell_type": "code",
   "execution_count": 167,
   "metadata": {},
   "outputs": [
    {
     "data": {
      "text/plain": [
       "[-0.5084407371203659,\n",
       " -0.36219030673165714,\n",
       " -0.0730815495768999,\n",
       " -0.4242191282693648,\n",
       " -0.6587158331982538,\n",
       " -0.09875609844155125,\n",
       " -0.33948346622287345,\n",
       " -0.2709053563934905,\n",
       " -0.6082468217804128,\n",
       " -0.10322066971342178,\n",
       " -0.1479603627248506]"
      ]
     },
     "execution_count": 167,
     "metadata": {},
     "output_type": "execute_result"
    }
   ],
   "source": [
    "restricted_min"
   ]
  },
  {
   "cell_type": "code",
   "execution_count": 152,
   "metadata": {},
   "outputs": [
    {
     "data": {
      "text/plain": [
       "Text(0, 0.5, 'AUC')"
      ]
     },
     "execution_count": 152,
     "metadata": {},
     "output_type": "execute_result"
    },
    {
     "data": {
      "image/png": "[encoded data removed]",
      "text/plain": [
       "<Figure size 360x144 with 2 Axes>"
      ]
     },
     "metadata": {
      "needs_background": "light"
     },
     "output_type": "display_data"
    }
   ],
   "source": [
    "f, [ax1, ax2] =plt.subplots(ncols=2,\n",
    "                            figsize=[5,2],\n",
    "                            sharey= True,\n",
    "                            gridspec_kw={\"wspace\":0.2})\n",
    "\n",
    "tp.barscatter([np.trapz(np.array(light_snips_mean_start)[:,50:100]),\n",
    "               np.trapz(np.array(dark_snips_mean_start)[:,50:100]),\n",
    "               np.trapz(np.array(restricted_snips_mean_start)[:,50:100]),\n",
    "               np.trapz(np.array(sucralose_snips_mean_start)[:,50:100])],\n",
    "               paired=True,\n",
    "               barfacecolor_option='individual',\n",
    "               barfacecolor=colors,\n",
    "               grouplabel= [\"ad lib \\nlight\", \"ad lib \\ndark\", \"rest.\", \"ad lib \\nsucralose\"],\n",
    "               grouplabeloffset=-0.08,\n",
    "               fontsize=8,\n",
    "               scattersize=60,\n",
    "               scatteralpha=0.5,\n",
    "               ax=ax1)\n",
    "\n",
    "tp.barscatter([np.trapz(np.array(light_snips_mean_end)[:,50:100]),\n",
    "               np.trapz(np.array(dark_snips_mean_end)[:,50:100]),\n",
    "               np.trapz(np.array(restricted_snips_mean_end)[:,50:100]),\n",
    "               np.trapz(np.array(sucralose_snips_mean_end)[:,50:100])],\n",
    "               paired=True,\n",
    "               barfacecolor_option='individual',\n",
    "               barfacecolor=colors,\n",
    "               grouplabel= [\"ad lib \\nlight\", \"ad lib \\ndark\", \"rest.\", \"ad lib \\nsucralose\"],\n",
    "               grouplabeloffset=-0.08,\n",
    "               fontsize=8,\n",
    "               scattersize=60,\n",
    "               scatteralpha=0.5,\n",
    "               ax=ax2)\n",
    "\n",
    "ax1.set_ylabel(\"AUC\")\n",
    "#ax2.set_ylabel(\"AUC\")"
   ]
  }
 ],
 "metadata": {
  "kernelspec": {
   "display_name": "Python 3",
   "language": "python",
   "name": "python3"
  },
  "language_info": {
   "codemirror_mode": {
    "name": "ipython",
    "version": 3
   },
   "file_extension": ".py",
   "mimetype": "text/x-python",
   "name": "python",
   "nbconvert_exporter": "python",
   "pygments_lexer": "ipython3",
   "version": "3.8.5"
  }
 },
 "nbformat": 4,
 "nbformat_minor": 4
}

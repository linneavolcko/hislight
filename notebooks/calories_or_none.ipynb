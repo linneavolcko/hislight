{
 "cells": [
  {
   "cell_type": "code",
   "execution_count": 1,
   "metadata": {},
   "outputs": [],
   "source": [
    "from pathlib import Path\n",
    "import matplotlib.pyplot as plt\n",
    "import trompy as tp\n",
    "import numpy as np\n",
    "import pickle\n",
    "import pandas as pd\n",
    "import seaborn as sns\n",
    "%matplotlib inline"
   ]
  },
  {
   "cell_type": "code",
   "execution_count": 2,
   "metadata": {},
   "outputs": [],
   "source": [
    "with open('C://Data//hislight_pickles//adlib_sucralose.pickle', 'rb') as handle:\n",
    "    adlib_sucralose = pickle.load(handle)    \n",
    "    \n",
    "with open('C://Data//hislight_pickles//adlib_dark.pickle', 'rb') as handle:\n",
    "    adlib_dark = pickle.load(handle)"
   ]
  },
  {
   "cell_type": "code",
   "execution_count": 3,
   "metadata": {},
   "outputs": [],
   "source": [
    "mice_to_exclude = [\"HL202\", \"HL205\", \"HL206\", \"HL211\"]\n",
    "\n",
    "#\"HL202\", \"HL205\", \"HL206\", \"HL211\" have not great placements"
   ]
  },
  {
   "cell_type": "code",
   "execution_count": 4,
   "metadata": {},
   "outputs": [],
   "source": [
    "list_of_mice = []\n",
    "\n",
    "for key, val in adlib_dark.items():\n",
    "    if val[\"mouse_ID\"] not in mice_to_exclude:\n",
    "        if val[\"mouse_ID\"] not in list_of_mice:\n",
    "            list_of_mice.append(val[\"mouse_ID\"])"
   ]
  },
  {
   "cell_type": "code",
   "execution_count": 5,
   "metadata": {},
   "outputs": [],
   "source": [
    "def get_snips(data):\n",
    "\n",
    "    snips_mean_start= []\n",
    "    snips_mean_end = []\n",
    "    snips_mean_full = []\n",
    "\n",
    "    kwargs={\"bins\":150, \"trial_length\":15, \"baseline_length\":5}   \n",
    "\n",
    "    pre = 5\n",
    "    post = 10\n",
    "    mineventlength=10\n",
    "    binlength=0.1\n",
    "\n",
    "    for mouse in list_of_mice:\n",
    "        snips_start = []\n",
    "        snips_end = []\n",
    "        snips_full = []\n",
    "\n",
    "        for key, val in data.items():\n",
    "            if val[\"mouse_ID\"]==mouse:\n",
    "                if len(val[\"licks\"]) < 10:\n",
    "                    continue\n",
    "\n",
    "                lickdata= tp.lickCalc(val[\"licks\"], minrunlength=3)\n",
    "\n",
    "                snips_start.append(tp.snipper(val[\"corrected\"], lickdata[\"rStart\"], val[\"fs\"], **kwargs)[0])\n",
    "                snips_end.append(tp.snipper(val[\"corrected\"], lickdata[\"rEnd\"], val[\"fs\"], **kwargs)[0])\n",
    "\n",
    "                snipper = tp.Snipper(val[\"corrected\"],\n",
    "                                        lickdata[\"rStart\"],\n",
    "                                        end=lickdata[\"rEnd\"],\n",
    "                                        fs=val[\"fs\"],\n",
    "                                        pre=pre,\n",
    "                                        post=post,\n",
    "                                        binlength=binlength,\n",
    "                                        zscore=True\n",
    "                                        )\n",
    "\n",
    "                snipper.truncate_to_same_length(cols_to_add=10, mineventlength=mineventlength)\n",
    "                snipper.find_potential_artifacts(threshold=8, method=\"sum\")\n",
    "                snips_full.append(snipper.snips)\n",
    "\n",
    "\n",
    "        snips_start = np.vstack(snips_start)\n",
    "        snips_end = np.vstack(snips_end)\n",
    "        \n",
    "        try:\n",
    "            snips_full = np.vstack(snips_full)\n",
    "            snips_mean_full.append(np.mean(snips_full, axis=0))\n",
    "            print(\"adding this mouse\")\n",
    "        except:\n",
    "            print(\"no snips to concatenate\")\n",
    "\n",
    "        snips_mean_start.append(np.mean(snips_start, axis=0))\n",
    "        snips_mean_end.append(np.mean(snips_end, axis=0))\n",
    "   \n",
    "    snips_mean_full = np.array(snips_mean_full)\n",
    "    \n",
    "    return snips_mean_start, snips_mean_end, snips_mean_full"
   ]
  },
  {
   "cell_type": "code",
   "execution_count": 6,
   "metadata": {},
   "outputs": [],
   "source": [
    "def get_runs(onset, min_run_length=3, run_threshold=10):\n",
    "\n",
    "    current_list = []\n",
    "    runs = []\n",
    "    \n",
    "    for i in range(1, len(onset)):\n",
    "        time_diff = (onset[i] - onset[i - 1])\n",
    "        if time_diff <= run_threshold:\n",
    "            current_list.append(onset[i])\n",
    "        else:\n",
    "            current_list = [onset[i]]\n",
    "            runs.append(current_list)\n",
    "            \n",
    "    no_short_runs = []\n",
    "    \n",
    "    for run in runs:\n",
    "        if len(run)>min_run_length-1:\n",
    "            no_short_runs.append(run)\n",
    "     \n",
    "    time_zeroed_runs = []\n",
    "    \n",
    "    for run in no_short_runs:\n",
    "        time_zeroed_runs.append([t-run[0] for t in run])\n",
    "\n",
    "    return time_zeroed_runs\n",
    "\n",
    "\n",
    "def get_runs_from_all (data, mice):\n",
    "    #print(data)\n",
    "\n",
    "    temp_runs = []\n",
    "    \n",
    "    for mouse in mice:\n",
    "        for key, val in data.items():\n",
    "            #print(val)\n",
    "            onset = val[\"licks\"]\n",
    "            temp_runs.append(get_runs(onset))\n",
    "\n",
    "    all_runs = []\n",
    "    for session in temp_runs:\n",
    "        for run in session:\n",
    "            all_runs.append(run)\n",
    "            \n",
    "    return all_runs\n",
    "\n",
    "\n",
    "def sort_runs(runs):\n",
    "    sort_order = np.argsort([x[-1]for x in runs])\n",
    "    runs_sorted = [runs[i] for i in sort_order]\n",
    "    \n",
    "    return runs_sorted \n",
    "\n",
    "def make_data_for_lick_raster(runs):\n",
    "    data= tp.flatten_list(runs)\n",
    "    ymin= []\n",
    "    ymax= []\n",
    "    for idx,run in enumerate(runs):\n",
    "        ymin.append([idx]*len(run))\n",
    "    \n",
    "    ymin=np.array(tp.flatten_list(ymin))\n",
    "    ymax=ymin+0.9\n",
    "\n",
    "    return data, ymin, ymax"
   ]
  },
  {
   "cell_type": "code",
   "execution_count": 7,
   "metadata": {},
   "outputs": [
    {
     "name": "stdout",
     "output_type": "stream",
     "text": [
      "<class 'numpy.ndarray'>\n",
      "Found 1 potential artifacts.\n",
      "<class 'numpy.ndarray'>\n",
      "Found 1 potential artifacts.\n",
      "adding this mouse\n",
      "<class 'numpy.ndarray'>\n",
      "<class 'numpy.ndarray'>\n",
      "adding this mouse\n",
      "<class 'numpy.ndarray'>\n",
      "<class 'numpy.ndarray'>\n",
      "Found 1 potential artifacts.\n",
      "no snips to concatenate\n",
      "<class 'numpy.ndarray'>\n",
      "Found 2 potential artifacts.\n",
      "<class 'numpy.ndarray'>"
     ]
    },
    {
     "name": "stderr",
     "output_type": "stream",
     "text": [
      "C:\\Users\\kvo019\\Anaconda3\\lib\\site-packages\\trompy\\snipper_class.py:172: VisibleDeprecationWarning: Creating an ndarray from ragged nested sequences (which is a list-or-tuple of lists-or-tuples-or ndarrays with different lengths or shapes) is deprecated. If you meant to do this, you must specify 'dtype=object' when creating the ndarray\n",
      "  self.snips = np.array([self.put_snip_in_bins(snip) for snip in self.snips])\n",
      "C:\\Users\\kvo019\\Anaconda3\\lib\\site-packages\\trompy\\snipper_class.py:186: VisibleDeprecationWarning: Creating an ndarray from ragged nested sequences (which is a list-or-tuple of lists-or-tuples-or ndarrays with different lengths or shapes) is deprecated. If you meant to do this, you must specify 'dtype=object' when creating the ndarray\n",
      "  self.snips = np.array(z_snips)\n"
     ]
    },
    {
     "name": "stdout",
     "output_type": "stream",
     "text": [
      "\n",
      "adding this mouse\n",
      "<class 'numpy.ndarray'>\n",
      "<class 'numpy.ndarray'>\n",
      "adding this mouse\n",
      "<class 'numpy.ndarray'>\n",
      "<class 'numpy.ndarray'>\n",
      "adding this mouse\n",
      "<class 'numpy.ndarray'>\n",
      "Found 1 potential artifacts.\n",
      "<class 'numpy.ndarray'>\n",
      "Found 1 potential artifacts.\n",
      "adding this mouse\n",
      "<class 'numpy.ndarray'>\n",
      "<class 'numpy.ndarray'>\n",
      "adding this mouse\n",
      "<class 'numpy.ndarray'>\n",
      "<class 'numpy.ndarray'>\n"
     ]
    },
    {
     "name": "stderr",
     "output_type": "stream",
     "text": [
      "C:\\Users\\kvo019\\Anaconda3\\lib\\site-packages\\numpy\\core\\fromnumeric.py:3372: RuntimeWarning: Mean of empty slice.\n",
      "  return _methods._mean(a, axis=axis, dtype=dtype,\n",
      "C:\\Users\\kvo019\\Anaconda3\\lib\\site-packages\\numpy\\core\\_methods.py:162: RuntimeWarning: invalid value encountered in true_divide\n",
      "  ret = um.true_divide(\n",
      "<ipython-input-5-32b8be22d27c>:57: VisibleDeprecationWarning: Creating an ndarray from ragged nested sequences (which is a list-or-tuple of lists-or-tuples-or ndarrays with different lengths or shapes) is deprecated. If you meant to do this, you must specify 'dtype=object' when creating the ndarray\n",
      "  snips_mean_full = np.array(snips_mean_full)\n"
     ]
    },
    {
     "name": "stdout",
     "output_type": "stream",
     "text": [
      "adding this mouse\n",
      "<class 'numpy.ndarray'>\n",
      "<class 'numpy.ndarray'>\n",
      "adding this mouse\n",
      "<class 'numpy.ndarray'>\n",
      "Found 5 potential artifacts.\n",
      "<class 'numpy.ndarray'>\n",
      "Found 1 potential artifacts.\n",
      "adding this mouse\n",
      "<class 'numpy.ndarray'>\n",
      "<class 'numpy.ndarray'>\n",
      "adding this mouse\n",
      "<class 'numpy.ndarray'>\n",
      "<class 'numpy.ndarray'>\n",
      "adding this mouse\n",
      "<class 'numpy.ndarray'>\n",
      "Found 1 potential artifacts.\n",
      "<class 'numpy.ndarray'>\n",
      "Found 1 potential artifacts.\n",
      "adding this mouse\n"
     ]
    }
   ],
   "source": [
    "#getting snips\n",
    "sucralose_start, sucralose_end, sucralose_full = get_snips(adlib_sucralose)\n",
    "dark_start, dark_end, dark_full = get_snips(adlib_dark)"
   ]
  },
  {
   "cell_type": "code",
   "execution_count": 8,
   "metadata": {},
   "outputs": [],
   "source": [
    "#getting behavior\n",
    "sucralose_runs = get_runs_from_all(adlib_sucralose, list_of_mice)\n",
    "adlib_dark_runs = get_runs_from_all(adlib_dark, list_of_mice)\n",
    "\n",
    "bins= np.arange(-5,40,1)\n",
    "\n",
    "sucralose_hist = np.histogram(tp.flatten_list(sucralose_runs), bins= bins)\n",
    "adlib_dark_hist = np.histogram(tp.flatten_list(adlib_dark_runs), bins= bins)\n",
    "\n",
    "sucralose_sorted_runs = sort_runs(sucralose_runs)\n",
    "adlib_dark_sorted_runs = sort_runs(adlib_dark_runs)\n",
    "\n",
    "data_sucralose, ymin_sucralose, ymax_sucralose =make_data_for_lick_raster(sucralose_sorted_runs)\n",
    "data_adlib_dark, ymin_adlib_dark, ymax_adlib_dark =make_data_for_lick_raster(adlib_dark_sorted_runs)"
   ]
  },
  {
   "cell_type": "code",
   "execution_count": 9,
   "metadata": {},
   "outputs": [],
   "source": [
    "colors_sucralose = \"#9c9021\"\n",
    "colors_adlib_dark =  \"#9C2135\""
   ]
  },
  {
   "cell_type": "code",
   "execution_count": 10,
   "metadata": {},
   "outputs": [
    {
     "data": {
      "image/png": "[encoded data removed]",
      "text/plain": [
       "<Figure size 216x216 with 2 Axes>"
      ]
     },
     "metadata": {
      "needs_background": "light"
     },
     "output_type": "display_data"
    }
   ],
   "source": [
    "f,ax = plt.subplots(figsize=(3, 3),nrows=2, sharex = True, gridspec_kw={\"hspace\":0.8, \"left\":0.25})\n",
    "#plt.subplots_adjust(hspace=0.8)\n",
    "\n",
    "\n",
    "ax[0].vlines(data_sucralose, ymin_sucralose, ymax_sucralose, color= colors_sucralose)\n",
    "ax[1].vlines(data_adlib_dark, ymin_adlib_dark, ymax_adlib_dark, color= colors_adlib_dark)    \n",
    "\n",
    "\n",
    "#ax[0].set_title(\"adlib light\")\n",
    "#ax[1].set_title(\"adlib dark\")\n",
    "\n",
    "ax[0].set_ylabel(\"runs (sucralose)\")\n",
    "ax[1].set_ylabel(\"runs ('Ensure')\")\n",
    "\n",
    "ax[0].set_yticks([0, len(sucralose_sorted_runs)])\n",
    "ax[1].set_yticks([0,len(adlib_dark_sorted_runs)])\n",
    "\n",
    "ax[0].set_xlim(0,100)\n",
    "\n",
    "ax[1].set_xlabel(\"seconds\")\n",
    "\n",
    "for ax in [ax[0],ax[1]]:\n",
    "    ax.spines['top'].set_visible(False)\n",
    "    ax.spines['right'].set_visible(False)\n",
    "    \n",
    "f.savefig(\"C:\\\\Users\\\\kvo019\\\\OneDrive - UiT Office 365\\\\Pipette 2\\\\People\\\\Linnea\\\\Manuscripts\\\\hislight paper\\\\figures\\\\calories_vs_none_raster.pdf\")"
   ]
  },
  {
   "cell_type": "code",
   "execution_count": 11,
   "metadata": {},
   "outputs": [
    {
     "ename": "IndexError",
     "evalue": "tuple index out of range",
     "output_type": "error",
     "traceback": [
      "\u001b[1;31m---------------------------------------------------------------------------\u001b[0m",
      "\u001b[1;31mIndexError\u001b[0m                                Traceback (most recent call last)",
      "\u001b[1;32m<ipython-input-11-f2f1477d8067>\u001b[0m in \u001b[0;36m<module>\u001b[1;34m\u001b[0m\n\u001b[0;32m     12\u001b[0m \u001b[1;33m\u001b[0m\u001b[0m\n\u001b[0;32m     13\u001b[0m \u001b[0mx1_sucralose\u001b[0m \u001b[1;33m=\u001b[0m \u001b[0mnp\u001b[0m\u001b[1;33m.\u001b[0m\u001b[0marange\u001b[0m\u001b[1;33m(\u001b[0m\u001b[1;36m0\u001b[0m\u001b[1;33m,\u001b[0m\u001b[0mbins_early\u001b[0m\u001b[1;33m)\u001b[0m\u001b[1;33m\u001b[0m\u001b[1;33m\u001b[0m\u001b[0m\n\u001b[1;32m---> 14\u001b[1;33m \u001b[0mx2_sucralose\u001b[0m \u001b[1;33m=\u001b[0m \u001b[0mnp\u001b[0m\u001b[1;33m.\u001b[0m\u001b[0marange\u001b[0m\u001b[1;33m(\u001b[0m\u001b[0msucralose_full\u001b[0m\u001b[1;33m.\u001b[0m\u001b[0mshape\u001b[0m\u001b[1;33m[\u001b[0m\u001b[1;36m1\u001b[0m\u001b[1;33m]\u001b[0m \u001b[1;33m-\u001b[0m \u001b[0mbins_late\u001b[0m\u001b[1;33m,\u001b[0m \u001b[0msucralose_full\u001b[0m\u001b[1;33m.\u001b[0m\u001b[0mshape\u001b[0m\u001b[1;33m[\u001b[0m\u001b[1;36m1\u001b[0m\u001b[1;33m]\u001b[0m\u001b[1;33m)\u001b[0m\u001b[1;33m\u001b[0m\u001b[1;33m\u001b[0m\u001b[0m\n\u001b[0m\u001b[0;32m     15\u001b[0m \u001b[1;33m\u001b[0m\u001b[0m\n\u001b[0;32m     16\u001b[0m \u001b[0mmean_sucralose\u001b[0m \u001b[1;33m=\u001b[0m \u001b[0mnp\u001b[0m\u001b[1;33m.\u001b[0m\u001b[0mnanmean\u001b[0m\u001b[1;33m(\u001b[0m\u001b[0msucralose_full\u001b[0m\u001b[1;33m,\u001b[0m \u001b[0maxis\u001b[0m\u001b[1;33m=\u001b[0m\u001b[1;36m0\u001b[0m\u001b[1;33m)\u001b[0m\u001b[1;33m\u001b[0m\u001b[1;33m\u001b[0m\u001b[0m\n",
      "\u001b[1;31mIndexError\u001b[0m: tuple index out of range"
     ]
    },
    {
     "data": {
      "image/png": "[encoded data removed]",
      "text/plain": [
       "<Figure size 216x216 with 1 Axes>"
      ]
     },
     "metadata": {
      "needs_background": "light"
     },
     "output_type": "display_data"
    }
   ],
   "source": [
    "f, ax =plt.subplots(figsize=[3,3])\n",
    "\n",
    "pre = 5\n",
    "post = 10\n",
    "mineventlength=10\n",
    "binlength=0.1\n",
    "\n",
    "bins_early = int((pre + mineventlength/2)/binlength)\n",
    "bins_late = int((post + mineventlength/2)/binlength)\n",
    "\n",
    "# sucralose\n",
    "\n",
    "x1_sucralose = np.arange(0,bins_early)\n",
    "x2_sucralose = np.arange(sucralose_full.shape[1] - bins_late, sucralose_full.shape[1])\n",
    "\n",
    "mean_sucralose = np.nanmean(sucralose_full, axis=0)\n",
    "error_values_sucralose= np.std(sucralose_full, axis=0) / np.sqrt(len(sucralose_full))\n",
    "\n",
    "ax.plot(x1_sucralose, mean_sucralose[:bins_early], color=colors_sucralose)\n",
    "ax.plot(x2_sucralose, mean_sucralose[-bins_late:], color=colors_sucralose)\n",
    "\n",
    "ax.fill_between(x1_sucralose, mean_sucralose[:bins_early]-error_values_sucralose[:bins_early], \n",
    "                mean_sucralose[:bins_early]+error_values_sucralose[:bins_early], \n",
    "                color=colors_sucralose, alpha=0.3)\n",
    "ax.fill_between(x2_sucralose, mean_sucralose[-bins_late:]-error_values_sucralose[-bins_late:], \n",
    "                mean_sucralose[-bins_late:]+error_values_sucralose[-bins_late:], \n",
    "                color=colors_sucralose, alpha=0.3)\n",
    "\n",
    "# adlib dark\n",
    "\n",
    "x1_dark = np.arange(0,bins_early)\n",
    "x2_dark = np.arange(dark_full.shape[1] - bins_late, dark_full.shape[1])\n",
    "\n",
    "mean_dark = np.mean(dark_full, axis=0)\n",
    "error_values_dark = np.std(dark_full, axis=0) / np.sqrt(len(dark_full))\n",
    "\n",
    "ax.plot(x1_dark, mean_dark[:bins_early], color=colors_adlib_dark)\n",
    "ax.plot(x2_dark, mean_dark[-bins_late:], color=colors_adlib_dark)\n",
    "\n",
    "ax.fill_between(x1_dark, mean_dark[:bins_early]-error_values_dark[:bins_early], \n",
    "                mean_dark[:bins_early]+error_values_dark[:bins_early], \n",
    "                color=colors_adlib_dark, alpha=0.3)\n",
    "ax.fill_between(x2_dark, mean_dark[-bins_late:]-error_values_dark[-bins_late:], \n",
    "                mean_dark[-bins_late:]+error_values_dark[-bins_late:], \n",
    "                color=colors_adlib_dark, alpha=0.3)\n",
    "\n",
    "for spine in [\"top\", \"right\", \"left\", \"bottom\"]:\n",
    "    ax.spines[spine].set_visible(False)\n",
    "\n",
    "ax.set_yticks([])\n",
    "ax.set_xticks([])\n",
    "\n",
    "ax.plot([200,250], [-1,-1], linewidth=2, color=\"k\")\n",
    "ax.text(225,-1.1,\"5 s\", va=\"top\", ha=\"center\")\n",
    "\n",
    "ax.plot([0,0], [0.5, 1.5], linewidth=2, color=\"k\")\n",
    "ax.text(-3, 1, \"1 Z\", va=\"center\", ha=\"right\")\n",
    "\n",
    "ax.axvline(50, color=\"k\", linestyle=\"--\", alpha=0.5)\n",
    "ax.axvline(160, color=\"k\", linestyle=\"--\", alpha=0.5)\n",
    "\n",
    "f.savefig(\"C:\\\\Users\\\\kvo019\\\\OneDrive - UiT Office 365\\\\Pipette 2\\\\People\\\\Linnea\\\\Manuscripts\\\\hislight paper\\\\figures\\\\calories_vs_none_squiggle.pdf\")"
   ]
  },
  {
   "cell_type": "code",
   "execution_count": null,
   "metadata": {},
   "outputs": [],
   "source": []
  },
  {
   "cell_type": "code",
   "execution_count": null,
   "metadata": {},
   "outputs": [],
   "source": []
  },
  {
   "cell_type": "code",
   "execution_count": null,
   "metadata": {},
   "outputs": [],
   "source": []
  },
  {
   "cell_type": "code",
   "execution_count": null,
   "metadata": {},
   "outputs": [],
   "source": []
  }
 ],
 "metadata": {
  "kernelspec": {
   "display_name": "Python 3",
   "language": "python",
   "name": "python3"
  },
  "language_info": {
   "codemirror_mode": {
    "name": "ipython",
    "version": 3
   },
   "file_extension": ".py",
   "mimetype": "text/x-python",
   "name": "python",
   "nbconvert_exporter": "python",
   "pygments_lexer": "ipython3",
   "version": "3.8.5"
  }
 },
 "nbformat": 4,
 "nbformat_minor": 4
}

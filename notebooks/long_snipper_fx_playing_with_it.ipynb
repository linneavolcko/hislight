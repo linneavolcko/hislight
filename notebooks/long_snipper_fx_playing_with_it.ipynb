{
 "cells": [
  {
   "cell_type": "code",
   "execution_count": 1,
   "metadata": {},
   "outputs": [
    {
     "data": {
      "text/plain": [
       "'\\nIdea for class-based snipper\\nkwargs in the init section so that pre, post, minrun, binlength etc can be given\\nGive it the data stream and start, stop is optional\\nbaseline correction could have options\\nkeeps original un-binned data allowing multiple binnings to be tried easily on the same object and multiple baselines etc\\ndetails of methods updated\\n'"
      ]
     },
     "execution_count": 1,
     "metadata": {},
     "output_type": "execute_result"
    }
   ],
   "source": [
    "\"\"\"\n",
    "Idea for class-based snipper\n",
    "kwargs in the init section so that pre, post, minrun, binlength etc can be given\n",
    "Give it the data stream and start, stop is optional\n",
    "baseline correction could have options\n",
    "keeps original un-binned data allowing multiple binnings to be tried easily on the same object and multiple baselines etc\n",
    "details of methods updated\n",
    "\"\"\""
   ]
  },
  {
   "cell_type": "code",
   "execution_count": 20,
   "metadata": {},
   "outputs": [],
   "source": [
    "from pathlib import Path\n",
    "from math import ceil, floor\n",
    "import matplotlib.pyplot as plt\n",
    "import trompy as tp\n",
    "import numpy as np\n",
    "import pickle\n",
    "import pandas as pd\n",
    "import seaborn as sns"
   ]
  },
  {
   "cell_type": "code",
   "execution_count": 21,
   "metadata": {},
   "outputs": [],
   "source": [
    "DATAPATH = Path(\"C://Data//hislight_pickles//adlib_dark.pickle\")\n",
    "\n",
    "with open(DATAPATH, 'rb') as handle:\n",
    "    restricted_dark = pickle.load(handle)"
   ]
  },
  {
   "cell_type": "code",
   "execution_count": 54,
   "metadata": {},
   "outputs": [],
   "source": [
    "mouse_to_be_analyzed = \"HL202\""
   ]
  },
  {
   "cell_type": "code",
   "execution_count": 55,
   "metadata": {},
   "outputs": [
    {
     "data": {
      "text/plain": [
       "dict_keys(['HL202_7', 'HL203_7', 'HL204_7', 'HL205_7', 'HL206_7', 'HL207_7', 'HL208_7', 'HL209_7', 'HL210_7', 'HL211_7', 'HL212_7', 'HL202_8', 'HL203_8', 'HL204_8', 'HL205_8', 'HL206_8', 'HL207_8', 'HL208_8', 'HL209_8', 'HL210_8', 'HL211_8', 'HL212_8'])"
      ]
     },
     "execution_count": 55,
     "metadata": {},
     "output_type": "execute_result"
    }
   ],
   "source": [
    "restricted_dark.keys()"
   ]
  },
  {
   "cell_type": "code",
   "execution_count": 62,
   "metadata": {},
   "outputs": [],
   "source": [
    "d = restricted_dark[\"HL202_8\"]\n",
    "\n",
    "lickdata = tp.lickCalc(d[\"licks\"], minrunlength=3)"
   ]
  },
  {
   "cell_type": "code",
   "execution_count": 63,
   "metadata": {},
   "outputs": [
    {
     "data": {
      "text/plain": [
       "dict_keys(['licklength', 'longlicks', 'licks', 'ilis', 'freq', 'total', 'bStart', 'bInd', 'bEnd', 'bLicks', 'bNum', 'bTime', 'bMean', 'bMean-first3', 'IBIs', 'rStart', 'rInd', 'rEnd', 'rLicks', 'rTime', 'rNum', 'weib_alpha', 'weib_beta', 'weib_rsq', 'burstprob', 'hist'])"
      ]
     },
     "execution_count": 63,
     "metadata": {},
     "output_type": "execute_result"
    }
   ],
   "source": [
    "lickdata.keys()"
   ]
  },
  {
   "cell_type": "code",
   "execution_count": 64,
   "metadata": {},
   "outputs": [],
   "source": [
    "def put_snip_in_bins(snip, binlength, fs):\n",
    "    bins = int(len(snip)/(fs*binlength))\n",
    "    remainder_samples = len(snip) % bins\n",
    "\n",
    "    return np.reshape(snip[:-remainder_samples], (bins, -1)).mean(axis=1)\n",
    "    \n",
    "def longsnipper(data, start, stop, fs, adjust_baseline=True, pre=10, post=10, minrun=10, binlength=0.1):\n",
    "    #check if start and stop are same length\n",
    "    # could do more checking in future, e.g. to see if all stop times come after start times\n",
    "    if len(start) != len(stop):\n",
    "        print(\"Start and stop arrays are different lengths. Exiting.\")\n",
    "        return None\n",
    "\n",
    "    # converts start and stop times from seconds to samples\n",
    "    run_start_in_samples = [ceil(x*fs) for x in start]\n",
    "    run_stop_in_samples = [ceil(x*fs) for x in stop]\n",
    "\n",
    "    # makes snips\n",
    "    snips = []\n",
    "    for start, stop in zip(run_start_in_samples, run_stop_in_samples):\n",
    "        snips.append(data[start - int(pre*fs):stop + int(post*fs)])\n",
    "\n",
    "    # adjusts baseline by subtracting the mean (not z-score)\n",
    "    if adjust_baseline:\n",
    "        adj_snips = []\n",
    "        for snip in snips:\n",
    "            baseline = np.mean(snip[:int(pre*fs)])\n",
    "            adj_snips.append(np.subtract(snip, baseline))\n",
    "        snips = adj_snips\n",
    "\n",
    "    # removes short runs (by seconds)\n",
    "    snips = [snip for snip in snips if len(snip) > (pre+post+minrun)*fs]\n",
    "\n",
    "    # puts into bins if requested\n",
    "    snips = [put_snip_in_bins(snip, binlength, fs) for snip in snips]\n",
    "\n",
    "    return snips\n",
    "\n",
    "snips = longsnipper(d[\"corrected\"], lickdata[\"rStart\"], lickdata[\"rEnd\"], d[\"fs\"])"
   ]
  },
  {
   "cell_type": "code",
   "execution_count": 65,
   "metadata": {},
   "outputs": [],
   "source": [
    "run_length, run_licks, snips_long = [], [], []\n",
    "\n",
    "pre=10\n",
    "post=10\n",
    "minrun=10\n",
    "binlength=0.1\n",
    "\n",
    "for key, val in restricted_dark.items():\n",
    "    if val[\"mouse_ID\"] == mouse_to_be_analyzed:\n",
    "        lickdata= tp.lickCalc(val[\"licks\"], minrunlength=3)\n",
    "        fs = val[\"fs\"]\n",
    "        \n",
    "        run_length.append(lickdata[\"rTime\"])\n",
    "        run_licks.append(lickdata[\"rLicks\"])\n",
    "       \n",
    "        snips_long.append(longsnipper(val[\"corrected\"], lickdata[\"rStart\"], lickdata[\"rEnd\"], val[\"fs\"],\n",
    "                                     pre=pre, post=post, minrun=minrun, binlength=binlength))\n",
    "\n",
    "run_length = tp.flatten_list(run_length)\n",
    "run_licks = tp.flatten_list(run_licks)\n",
    "snips_long = tp.flatten_list(snips_long)\n"
   ]
  },
  {
   "cell_type": "code",
   "execution_count": 66,
   "metadata": {},
   "outputs": [
    {
     "data": {
      "text/plain": [
       "(344,)"
      ]
     },
     "execution_count": 66,
     "metadata": {},
     "output_type": "execute_result"
    }
   ],
   "source": [
    "len(snips_long)\n",
    "snips_long[0].shape"
   ]
  },
  {
   "cell_type": "code",
   "execution_count": 67,
   "metadata": {},
   "outputs": [
    {
     "data": {
      "text/plain": [
       "<AxesSubplot:>"
      ]
     },
     "execution_count": 67,
     "metadata": {},
     "output_type": "execute_result"
    },
    {
     "data": {
      "image/png": "[encoded data removed]",
      "text/plain": [
       "<Figure size 432x288 with 2 Axes>"
      ]
     },
     "metadata": {
      "needs_background": "light"
     },
     "output_type": "display_data"
    }
   ],
   "source": [
    "f, [ax1, ax2] = plt.subplots(ncols=2, sharey=True)\n",
    "\n",
    "bins = int((pre + post + minrun) / binlength)\n",
    "bins_per_section = int(bins/2)\n",
    "\n",
    "tp.shadedError(ax1, np.array([snip[:bins_per_section] for snip in snips_long]))\n",
    "tp.shadedError(ax2, np.array([snip[-bins_per_section:] for snip in snips_long]))"
   ]
  },
  {
   "cell_type": "code",
   "execution_count": 68,
   "metadata": {},
   "outputs": [
    {
     "data": {
      "text/plain": [
       "{'licklength': array([], dtype=float64),\n",
       " 'longlicks': None,\n",
       " 'licks': array([ 575.95789312,  576.06193152,  618.13194752,  618.24008192,\n",
       "         618.32921088,  618.40605184,  618.51303936,  618.6131456 ,\n",
       "         618.72603136,  618.83908096,  618.94098944,  619.05108992,\n",
       "         619.17396992,  619.28112128,  619.39712   ,  619.53097728,\n",
       "         619.65910016,  619.68416768,  619.8009856 ,  619.90207488,\n",
       "         620.00922624,  620.14521344,  620.2990592 ,  620.40457216,\n",
       "         620.50828288,  620.63525888,  620.75600896,  620.89199616,\n",
       "         621.01504   ,  621.1510272 ,  621.27505408,  621.4172672 ,\n",
       "         621.531136  ,  621.67400448,  621.80409344,  621.95007488,\n",
       "         622.06902272,  622.2061568 ,  622.3470592 ,  622.46731776,\n",
       "         622.61510144,  622.74011136,  622.89412096,  623.04223232,\n",
       "         623.18608384,  623.321088  ,  623.4841088 ,  623.6291072 ,\n",
       "         623.74641664,  623.86208768,  624.00806912,  624.1312768 ,\n",
       "         624.24317952,  624.36327424,  624.50515968,  624.64212992,\n",
       "         624.77320192,  624.90525696,  625.0561536 ,  625.16609024,\n",
       "         625.29519616,  625.41824   ,  625.56110848,  625.713152  ,\n",
       "         625.82800384,  625.9490816 ,  626.07310848,  626.22416896,\n",
       "         626.34704896,  626.47402496,  626.62623232,  626.74812928,\n",
       "         626.87526912,  627.0230528 ,  627.14118144,  627.27815168,\n",
       "         627.42544384,  627.56913152,  627.70511872,  627.95710464,\n",
       "         628.07605248,  628.19713024,  628.3231232 ,  628.46713856,\n",
       "         628.6041088 ,  628.72715264,  628.85511168,  628.98601984,\n",
       "         629.11414272,  629.24521472,  629.36317952,  629.50719488,\n",
       "         629.62712576,  629.7591808 ,  629.88500992,  630.01608192,\n",
       "         630.16517632,  630.29035008,  630.40618496,  630.54413824,\n",
       "         630.90311168,  631.0322176 ,  631.1591936 ,  631.28420352,\n",
       "         631.42019072,  631.5573248 ,  631.6990464 ,  631.8440448 ,\n",
       "         631.96315648,  632.08226816,  632.22628352,  632.35227648,\n",
       "         632.48121856,  632.61917184,  632.754176  ,  632.88836096,\n",
       "         633.0351616 ,  633.16934656,  633.30516992,  633.42313472,\n",
       "         633.56223488,  633.6970752 ,  633.83519232,  633.9731456 ,\n",
       "         634.11306496,  634.24512   ,  634.36816384,  634.49612288,\n",
       "         634.61720064,  634.75236864,  634.8783616 ,  635.00812288,\n",
       "         635.14116096,  635.8474752 ,  635.96904448,  636.07832576,\n",
       "         636.20333568,  636.3201536 ,  636.46711808,  636.60310528,\n",
       "         636.72221696,  636.8681984 ,  870.29055488,  870.40278528,\n",
       "         870.49469952,  870.6056192 ,  870.72260096,  870.83057152,\n",
       "         870.95754752,  871.06174976,  871.20674816,  871.32667904,\n",
       "         871.43759872,  871.58669312,  871.71170304,  871.82557184,\n",
       "         871.97466624,  872.14882816,  872.27973632,  872.40769536,\n",
       "         872.53762048,  872.6626304 ,  872.82368512,  872.97081344,\n",
       "         873.08271616,  873.22755072,  873.35960576,  873.52475648,\n",
       "         873.672704  ,  873.82769664,  873.96876288,  874.14161408,\n",
       "         874.30365184,  874.49255936,  874.62559744,  874.76174848,\n",
       "         874.91969024,  875.06583552,  875.20362496,  875.36467968,\n",
       "         875.50181376,  875.66057472,  875.80655616,  875.974656  ,\n",
       "         876.1278464 ,  876.27055104,  876.41571328,  876.56972288,\n",
       "         876.71865344,  876.87954432,  877.04584192,  877.22262528,\n",
       "         877.3558272 ,  877.4868992 ,  877.62960384,  877.76264192,\n",
       "         877.88568576,  878.01577472,  878.1447168 ,  878.29266432,\n",
       "         878.4216064 ,  878.57659904,  878.72454656,  878.9876736 ,\n",
       "         879.13660416,  879.2727552 ,  879.44183808,  879.60469504,\n",
       "         879.79360256,  879.9617024 ,  880.11784192,  880.27774976,\n",
       "         880.4466688 ,  880.76173312,  881.06958848,  881.34270976,\n",
       "         881.5968256 ,  881.85962496,  882.0146176 ,  882.1727232 ,\n",
       "         882.44682752,  882.71077376,  882.97766912,  883.24472832,\n",
       "         883.5227648 ,  883.78703872,  884.05311488,  884.3190272 ,\n",
       "         884.59771904,  884.8736256 ,  885.00584448,  885.25684736,\n",
       "         885.5166976 ,  885.78179072,  886.04278784,  886.30870016,\n",
       "         886.56674816,  886.90458624,  887.18770176,  887.44869888,\n",
       "         887.70576384,  887.96971008,  888.13600768,  888.25872384,\n",
       "         888.53479424,  888.69388288,  888.9499648 ,  889.2268544 ,\n",
       "         889.503744  ,  889.66070272,  889.77588224,  889.93071104,\n",
       "         890.19973632,  890.46269952,  890.7177984 ,  890.98665984,\n",
       "         891.14165248,  891.27763968,  891.551744  ,  891.84075776,\n",
       "         892.11469824,  892.38880256,  892.66782208,  892.9427456 ,\n",
       "         893.09282304,  893.2048896 ,  893.46981888,  893.74081024,\n",
       "         894.01393152,  894.28082688,  894.4336896 ,  895.26796288,\n",
       "         895.52797696,  895.78192896,  896.05275648,  896.33193984,\n",
       "         896.6144    ,  896.87687168,  897.1517952 ,  897.4327808 ,\n",
       "         897.72179456,  898.02571776,  898.25083392,  898.37371392,\n",
       "         898.79166976,  898.92683776,  899.2219136 ,  899.47570176,\n",
       "         899.76979456,  900.06290432,  900.60685312,  901.01891072,\n",
       "         901.63675136,  902.0358656 ,  902.46070272,  902.59488768,\n",
       "         903.12884224,  903.69376256,  904.84883456, 1544.66484224,\n",
       "        1544.74364928, 1544.859648  , 1544.95369216, 1545.06723328,\n",
       "        1545.18683648, 1545.2848128 , 1545.39261952, 1545.53073664,\n",
       "        1545.63674112, 1545.77764352, 1545.91789056, 1546.08205824,\n",
       "        1546.21165568, 1546.36173312, 1546.52868608, 1546.63272448,\n",
       "        1546.784768  , 1546.91272704, 1547.0747648 , 1547.24663296,\n",
       "        1547.4008064 , 1547.54777088, 1547.67179776, 1547.83186944,\n",
       "        1547.97490176, 1548.06484992, 1548.10269696, 1548.25179136,\n",
       "        1548.41972736, 1548.57570304, 1548.70677504, 1548.85881856,\n",
       "        1549.00758528, 1549.14963456, 1549.3226496 , 1549.47584   ,\n",
       "        1549.63771392, 1549.79581952, 1549.94065408, 1550.1197312 ,\n",
       "        1550.26489344, 1550.44593664, 1550.6219008 , 1550.76067328,\n",
       "        1550.8717568 , 1551.007744  , 1551.14078208, 1551.28365056,\n",
       "        1551.4247168 , 1551.56873216, 1551.7147136 , 1551.86675712,\n",
       "        1552.0538624 , 1552.23064576, 1552.371712  , 1552.51474432,\n",
       "        1552.67072   , 1552.8329216 , 1552.98185216, 1553.12472064,\n",
       "        1553.29888256, 1553.45780736, 1553.6128    , 1553.76877568,\n",
       "        1553.91164416, 1554.05795328, 1554.210816  , 1554.35876352,\n",
       "        1554.50376192, 1554.6638336 , 1554.80375296, 1554.94383616,\n",
       "        1555.08277248, 1555.23170304, 1555.3978368 , 1555.55889152,\n",
       "        1555.72568064, 1555.87969024, 1556.02583552, 1556.19278848,\n",
       "        1556.348928  , 1556.5029376 , 1556.6577664 , 1556.8166912 ,\n",
       "        1556.97692672, 1557.24873728, 1557.5187456 , 1557.76581632,\n",
       "        1557.91179776, 1558.06072832, 1558.1896704 , 1558.3158272 ,\n",
       "        1558.44984832, 1558.5837056 , 1558.85387776, 1559.13682944,\n",
       "        1559.25168128, 1559.45566208, 1559.6388352 , 1559.76876032,\n",
       "        1559.90081536, 1560.03467264, 1560.1647616 , 1560.30681088,\n",
       "        1560.7668736 , 1560.9069568 , 1561.03671808, 1561.174016  ,\n",
       "        1561.30377728, 1561.44369664, 1561.72992512, 1561.86279936,\n",
       "        1562.0038656 , 1564.64709632, 1564.78799872, 1564.92693504,\n",
       "        1565.05686016, 1565.1938304 , 1565.29885184, 1565.48186112,\n",
       "        1565.6148992 , 1565.80691968, 1565.93389568, 1566.07987712,\n",
       "        1566.23273984, 1566.37085696, 1566.64086528, 1566.9149696 ,\n",
       "        1567.21299456, 1567.4990592 , 1567.66846976, 1567.80576768,\n",
       "        1568.0937984 , 1568.25288704, 1568.40984576, 1568.86695936,\n",
       "        1569.13483776, 1569.447936  , 1569.59096832, 1569.98877184,\n",
       "        1570.2458368 , 1570.40197632, 1570.55991808, 1570.82288128,\n",
       "        1571.06601984, 1571.44481792, 1571.5958784 , 1571.83688704,\n",
       "        1572.11901952, 1572.34593792]),\n",
       " 'ilis': [0.10403840000003584,\n",
       "  0.10813439999992625,\n",
       "  0.08912896000003911,\n",
       "  0.07684096000002683,\n",
       "  0.10698751999996148,\n",
       "  0.10010624000005919,\n",
       "  0.11288575999992645,\n",
       "  0.11304960000006758,\n",
       "  0.10190848000002006,\n",
       "  0.11010047999991457,\n",
       "  0.1228800000000092,\n",
       "  0.10715135999998893,\n",
       "  0.11599871999999323,\n",
       "  0.13385728000002928,\n",
       "  0.12812287999997807,\n",
       "  0.025067519999993237,\n",
       "  0.11681792000001678,\n",
       "  0.1010892799999965,\n",
       "  0.10715135999998893,\n",
       "  0.13598720000004505,\n",
       "  0.1538457599999674,\n",
       "  0.1055129600000555,\n",
       "  0.10371071999998094,\n",
       "  0.1269760000000133,\n",
       "  0.12075007999999343,\n",
       "  0.13598719999993136,\n",
       "  0.12304384000003665,\n",
       "  0.13598720000004505,\n",
       "  0.12402687999997397,\n",
       "  0.14221311999995123,\n",
       "  0.11386880000009114,\n",
       "  0.14286847999994734,\n",
       "  0.1300889599999664,\n",
       "  0.14598144000001412,\n",
       "  0.11894784000003256,\n",
       "  0.13713408000000982,\n",
       "  0.14090239999995902,\n",
       "  0.12025856000002477,\n",
       "  0.147783679999975,\n",
       "  0.12500992000002498,\n",
       "  0.15400959999999486,\n",
       "  0.1481113600000299,\n",
       "  0.14385151999999835,\n",
       "  0.13500415999999404,\n",
       "  0.1630208000000266,\n",
       "  0.1449983999999631,\n",
       "  0.11730943999998544,\n",
       "  0.11567104000005202,\n",
       "  0.14598143999990043,\n",
       "  0.1232076800000641,\n",
       "  0.11190271999998913,\n",
       "  0.12009471999999732,\n",
       "  0.14188544000001002,\n",
       "  0.13697023999998237,\n",
       "  0.1310720000000174,\n",
       "  0.13205503999995472,\n",
       "  0.15089664000004177,\n",
       "  0.10993664000000081,\n",
       "  0.12910592000002907,\n",
       "  0.12304383999992297,\n",
       "  0.14286848000006103,\n",
       "  0.15204352000000654,\n",
       "  0.11485184000002846,\n",
       "  0.12107775999993464,\n",
       "  0.12402687999997397,\n",
       "  0.15106048000006922,\n",
       "  0.1228800000000092,\n",
       "  0.1269760000000133,\n",
       "  0.1522073599999203,\n",
       "  0.12189696000007189,\n",
       "  0.12713983999992706,\n",
       "  0.147783679999975,\n",
       "  0.118128640000009,\n",
       "  0.13697024000009606,\n",
       "  0.14729215999989265,\n",
       "  0.14368768000008458,\n",
       "  0.13598719999993136,\n",
       "  0.2519859200000383,\n",
       "  0.11894784000003256,\n",
       "  0.12107775999993464,\n",
       "  0.12599296000007598,\n",
       "  0.1440153599999121,\n",
       "  0.13697024000009606,\n",
       "  0.12304383999992297,\n",
       "  0.1279590400000643,\n",
       "  0.13090815999998995,\n",
       "  0.12812287999997807,\n",
       "  0.1310720000000174,\n",
       "  0.11796479999998155,\n",
       "  0.1440153600000258,\n",
       "  0.11993087999996987,\n",
       "  0.13205503999995472,\n",
       "  0.12582912000004853,\n",
       "  0.1310720000000174,\n",
       "  0.1490943999999672,\n",
       "  0.12517376000005243,\n",
       "  0.11583487999996578,\n",
       "  0.13795328000003337,\n",
       "  0.35897343999999975,\n",
       "  0.1291059199999154,\n",
       "  0.1269760000000133,\n",
       "  0.12500992000002498,\n",
       "  0.13598720000004505,\n",
       "  0.13713408000000982,\n",
       "  0.14172159999998257,\n",
       "  0.1449983999999631,\n",
       "  0.11911168000006,\n",
       "  0.11911167999994632,\n",
       "  0.1440153600000258,\n",
       "  0.1259929599999623,\n",
       "  0.12894208000000162,\n",
       "  0.13795328000003337,\n",
       "  0.13500415999999404,\n",
       "  0.1341849599999705,\n",
       "  0.14680064000003767,\n",
       "  0.1341849599999705,\n",
       "  0.1358233600000176,\n",
       "  0.11796479999998155,\n",
       "  0.13910015999999814,\n",
       "  0.1348403199999666,\n",
       "  0.13811712000006082,\n",
       "  0.13795328000003337,\n",
       "  0.139919359999908,\n",
       "  0.1320550400000684,\n",
       "  0.12304383999992297,\n",
       "  0.1279590400000643,\n",
       "  0.12107775999993464,\n",
       "  0.1351680000000215,\n",
       "  0.12599296000007598,\n",
       "  0.1297612799999115,\n",
       "  0.13303808000000572,\n",
       "  0.12156928000001699,\n",
       "  0.1092812800000047,\n",
       "  0.12500992000002498,\n",
       "  0.11681792000001678,\n",
       "  0.14696447999995144,\n",
       "  0.13598720000004505,\n",
       "  0.11911167999994632,\n",
       "  0.14598144000001412,\n",
       "  0.11223039999993034,\n",
       "  0.091914240000051,\n",
       "  0.11091967999993813,\n",
       "  0.11698176000004423,\n",
       "  0.10797056000001248,\n",
       "  0.1269760000000133,\n",
       "  0.1042022399999496,\n",
       "  0.1449984000000768,\n",
       "  0.11993087999996987,\n",
       "  0.11091967999993813,\n",
       "  0.1490944000000809,\n",
       "  0.1250099199999113,\n",
       "  0.11386880000009114,\n",
       "  0.1490943999999672,\n",
       "  0.17416191999996045,\n",
       "  0.13090815999998995,\n",
       "  0.1279590400000643,\n",
       "  0.12992511999993894,\n",
       "  0.12500992000002498,\n",
       "  0.1610547200000383,\n",
       "  0.14712831999997888,\n",
       "  0.11190271999998913,\n",
       "  0.14483456000004935,\n",
       "  0.13205503999995472,\n",
       "  0.16515072000004238,\n",
       "  0.14794752000000244,\n",
       "  0.15499263999993218,\n",
       "  0.14106623999998646,\n",
       "  0.17285120000008192,\n",
       "  0.1620377599999756,\n",
       "  0.18890751999992972,\n",
       "  0.13303808000000572,\n",
       "  0.1361510400000725,\n",
       "  0.1579417599999715,\n",
       "  0.14614528000004157,\n",
       "  0.13778944000000592,\n",
       "  0.1610547199999246,\n",
       "  0.13713408000000982,\n",
       "  0.15876095999999507,\n",
       "  0.14598144000001412,\n",
       "  0.16809983999996803,\n",
       "  0.153190400000085,\n",
       "  0.1427046399999199,\n",
       "  0.14516223999999056,\n",
       "  0.15400959999999486,\n",
       "  0.14893056000005345,\n",
       "  0.16089088000001084,\n",
       "  0.16629760000000715,\n",
       "  0.17678335999994488,\n",
       "  0.13320192000003317,\n",
       "  0.1310720000000174,\n",
       "  0.14270464000003358,\n",
       "  0.13303807999989203,\n",
       "  0.12304384000003665,\n",
       "  0.1300889599999664,\n",
       "  0.12894208000000162,\n",
       "  0.14794752000000244,\n",
       "  0.12894208000000162,\n",
       "  0.15499264000004587,\n",
       "  0.14794752000000244,\n",
       "  0.2631270399999721,\n",
       "  0.14893056000005345,\n",
       "  0.1361510399999588,\n",
       "  0.16908288000001903,\n",
       "  0.16285695999999916,\n",
       "  0.1889075200000434,\n",
       "  0.16809983999996803,\n",
       "  0.15613952000001063,\n",
       "  0.15990783999995983,\n",
       "  0.16891903999999158,\n",
       "  0.31506432000003315,\n",
       "  0.3078553599999623,\n",
       "  0.27312128000005487,\n",
       "  0.25411583999994036,\n",
       "  0.2627993600000309,\n",
       "  0.15499264000004587,\n",
       "  0.15810559999999896,\n",
       "  0.2741043199999922,\n",
       "  0.26394623999999567,\n",
       "  0.2668953599999213,\n",
       "  0.26705920000006245,\n",
       "  0.27803647999996883,\n",
       "  0.26427392000005057,\n",
       "  0.26607616000001144,\n",
       "  0.265912319999984,\n",
       "  0.27869183999996494,\n",
       "  0.27590655999995306,\n",
       "  0.13221888000009585,\n",
       "  0.25100287999998727,\n",
       "  0.2598502399999916,\n",
       "  0.26509311999996044,\n",
       "  0.26099712000007,\n",
       "  0.265912319999984,\n",
       "  0.258047999999917,\n",
       "  0.33783808000009685,\n",
       "  0.28311551999991025,\n",
       "  0.26099712000007,\n",
       "  0.2570649599999797,\n",
       "  0.26394623999999567,\n",
       "  0.16629760000000715,\n",
       "  0.12271615999998176,\n",
       "  0.2760703999999805,\n",
       "  0.15908864000004996,\n",
       "  0.2560819199999287,\n",
       "  0.27688960000000407,\n",
       "  0.27688960000000407,\n",
       "  0.1569587200000342,\n",
       "  0.11517951999996967,\n",
       "  0.15482880000001842,\n",
       "  0.26902528000005077,\n",
       "  0.26296319999994466,\n",
       "  0.25509887999999137,\n",
       "  0.2688614400000233,\n",
       "  0.15499264000004587,\n",
       "  0.13598719999993136,\n",
       "  0.2741043199999922,\n",
       "  0.2890137599999889,\n",
       "  0.2739404800000784,\n",
       "  0.2741043199999922,\n",
       "  0.27901952000001984,\n",
       "  0.27492351999990206,\n",
       "  0.15007744000001821,\n",
       "  0.11206656000001658,\n",
       "  0.2649292800000467,\n",
       "  0.2709913599999254,\n",
       "  0.27312128000005487,\n",
       "  0.266895360000035,\n",
       "  0.1528627199999164,\n",
       "  0.260014080000019,\n",
       "  0.2539520000000266,\n",
       "  0.27082751999989796,\n",
       "  0.2791833600000473,\n",
       "  0.2824601600000278,\n",
       "  0.262471679999976,\n",
       "  0.27492352000001574,\n",
       "  0.28098560000000816,\n",
       "  0.2890137599999889,\n",
       "  0.3039231999999856,\n",
       "  0.22511615999997048,\n",
       "  0.1228800000000092,\n",
       "  0.41795583999999053,\n",
       "  0.1351680000000215,\n",
       "  0.2950758399999813,\n",
       "  0.25378815999999915,\n",
       "  0.294092800000044,\n",
       "  0.293109759999993,\n",
       "  0.41205760000002556,\n",
       "  0.3991142399999035,\n",
       "  0.4248371200000065,\n",
       "  0.13418496000008417,\n",
       "  0.07880703999990146,\n",
       "  0.11599872000010691,\n",
       "  0.0940441599998394,\n",
       "  0.11354112000003624,\n",
       "  0.11960320000002866,\n",
       "  0.09797632000004342,\n",
       "  0.10780671999987135,\n",
       "  0.13811712000006082,\n",
       "  0.10600448000013785,\n",
       "  0.14090239999995902,\n",
       "  0.14024703999984922,\n",
       "  0.16416767999999138,\n",
       "  0.12959743999999773,\n",
       "  0.1500774400001319,\n",
       "  0.16695295999988957,\n",
       "  0.10403840000003584,\n",
       "  0.15204352000000654,\n",
       "  0.12795903999995062,\n",
       "  0.16203776000020298,\n",
       "  0.17186815999980354,\n",
       "  0.1541734400000223,\n",
       "  0.1469644800001788,\n",
       "  0.12402687999997397,\n",
       "  0.1600716799998736,\n",
       "  0.1430323199999748,\n",
       "  0.08994816000017636,\n",
       "  0.0378470399998605,\n",
       "  0.1490943999999672,\n",
       "  0.16793600000005426,\n",
       "  0.15597567999998319,\n",
       "  0.13107200000013108,\n",
       "  0.15204352000000654,\n",
       "  0.1487667199999123,\n",
       "  0.14204928000003747,\n",
       "  0.173015039999882,\n",
       "  0.153190400000085,\n",
       "  0.16187392000006184,\n",
       "  0.15810559999999896,\n",
       "  0.14483455999993566,\n",
       "  0.1790771199998744,\n",
       "  0.14516223999999056,\n",
       "  0.1810432000002038,\n",
       "  0.17596415999992132,\n",
       "  0.13877247999994324,\n",
       "  0.11108351999996557,\n",
       "  0.13598720000004505,\n",
       "  0.13303808000000572,\n",
       "  0.14286848000006103,\n",
       "  0.14106623999987278,\n",
       "  0.14401536000013948,\n",
       "  0.14598144000001412,\n",
       "  0.15204352000000654,\n",
       "  0.18710527999996884,\n",
       "  0.17678335999994488,\n",
       "  0.14106624000010015,\n",
       "  0.1430323199999748,\n",
       "  0.15597567999998319,\n",
       "  0.16220159999988937,\n",
       "  0.14893056000005345,\n",
       "  0.14286848000006103,\n",
       "  0.17416191999996045,\n",
       "  0.15892480000002251,\n",
       "  0.15499264000004587,\n",
       "  0.15597567999998319,\n",
       "  0.14286847999983365,\n",
       "  0.14630912000006902,\n",
       "  0.1528627200000301,\n",
       "  0.14794752000011613,\n",
       "  0.14499839999984943,\n",
       "  0.16007168000010097,\n",
       "  0.1399193600000217,\n",
       "  0.14008319999993546,\n",
       "  0.13893632000008438,\n",
       "  0.14893055999982607,\n",
       "  0.1661337600000934,\n",
       "  0.1610547200000383,\n",
       "  0.1667891199999758,\n",
       "  0.15400959999988117,\n",
       "  0.14614528000015525,\n",
       "  0.16695295999988957,\n",
       "  0.15613952000012432,\n",
       "  0.15400959999988117,\n",
       "  0.1548288000001321,\n",
       "  0.15892479999979514,\n",
       "  0.16023552000001473,\n",
       "  0.27181056000017634,\n",
       "  0.2700083199999881,\n",
       "  0.24707072000001062,\n",
       "  0.14598144000001412,\n",
       "  0.14893055999982607,\n",
       "  0.1289420800001153,\n",
       "  0.12615679999998974,\n",
       "  0.13402111999994304,\n",
       "  0.13385728000002928,\n",
       "  0.27017215999990185,\n",
       "  0.2829516799999965,\n",
       "  0.11485184000002846,\n",
       "  0.20398080000018126,\n",
       "  0.1831731199999922,\n",
       "  0.12992511999982526,\n",
       "  0.1320550400000684,\n",
       "  0.13385728000002928,\n",
       "  0.1300889599999664,\n",
       "  0.14204928000003747,\n",
       "  0.46006271999999626,\n",
       "  0.14008319999993546,\n",
       "  0.12976128000013887,\n",
       "  0.1372979199998099,\n",
       "  0.12976128000013887,\n",
       "  0.1399193600000217,\n",
       "  0.28622847999986334,\n",
       "  0.13287424000009196,\n",
       "  0.14106623999987278,\n",
       "  0.1409024000001864,\n",
       "  0.138936319999857,\n",
       "  0.12992512000005263,\n",
       "  0.13697023999998237,\n",
       "  0.10502143999997315,\n",
       "  0.18300928000007843,\n",
       "  0.13303808000000572,\n",
       "  0.1920204799998828,\n",
       "  0.1269760000000133,\n",
       "  0.14598144000001412,\n",
       "  0.1528627200000301,\n",
       "  0.13811712000006082,\n",
       "  0.2700083199999881,\n",
       "  0.2741043199998785,\n",
       "  0.29802496000002066,\n",
       "  0.2860646399999496,\n",
       "  0.16941056000018762,\n",
       "  0.13729792000003727,\n",
       "  0.2880307199998242,\n",
       "  0.15908864000016365,\n",
       "  0.1569587199999205,\n",
       "  0.45711359999995693,\n",
       "  0.2678783999999723,\n",
       "  0.3130982400000448,\n",
       "  0.1430323199999748,\n",
       "  0.39780352000002495,\n",
       "  0.2570649599999797,\n",
       "  0.15613952000012432,\n",
       "  0.15794175999985782,\n",
       "  0.26296320000005835,\n",
       "  0.24313856000003398,\n",
       "  0.37879808000002413,\n",
       "  0.15106047999984185,\n",
       "  0.2410086400000182,\n",
       "  0.28213247999997293,\n",
       "  0.22691840000015873],\n",
       " 'freq': 5.9607967315663615,\n",
       " 'total': 450,\n",
       " 'bStart': [575.95789312,\n",
       "  618.13194752,\n",
       "  635.8474752,\n",
       "  870.2905548800001,\n",
       "  895.26796288,\n",
       "  900.60685312,\n",
       "  901.6367513600001,\n",
       "  903.12884224,\n",
       "  903.69376256,\n",
       "  904.84883456,\n",
       "  1544.66484224,\n",
       "  1564.64709632],\n",
       " 'bInd': [0, 2, 133, 142, 271, 290, 292, 296, 297, 298, 299, 413],\n",
       " 'bEnd': [576.06193152,\n",
       "  635.14116096,\n",
       "  636.8681984,\n",
       "  894.4336896,\n",
       "  900.06290432,\n",
       "  901.01891072,\n",
       "  902.59488768,\n",
       "  903.12884224,\n",
       "  903.69376256,\n",
       "  904.84883456,\n",
       "  1562.0038656,\n",
       "  1572.34593792],\n",
       " 'bLicks': [2, 131, 9, 129, 19, 2, 4, 1, 1, 1, 114, 37],\n",
       " 'bNum': 12,\n",
       " 'bTime': [0.10403840000003584,\n",
       "  17.00921343999994,\n",
       "  1.0207232000000204,\n",
       "  24.14313471999992,\n",
       "  4.794941440000002,\n",
       "  0.41205760000002556,\n",
       "  0.9581363199999942,\n",
       "  0.0,\n",
       "  0.0,\n",
       "  0.0,\n",
       "  17.33902335999983,\n",
       "  7.698841600000151],\n",
       " 'bMean': 37.5,\n",
       " 'bMean-first3': 129.0,\n",
       " 'IBIs': array([4.20700160e+01, 7.06314240e-01, 2.33422356e+02, 8.34273280e-01,\n",
       "        5.43948800e-01, 6.17840640e-01, 5.33954560e-01, 5.64920320e-01,\n",
       "        1.15507200e+00, 6.39816008e+02, 2.64323072e+00]),\n",
       " 'rStart': [618.13194752, 870.2905548800001, 1544.66484224],\n",
       " 'rInd': [2, 142, 299],\n",
       " 'rEnd': [636.8681984, 904.84883456, 1572.34593792],\n",
       " 'rLicks': [140, 157, 151],\n",
       " 'rTime': [18.736250879999943, 34.55827967999994, 27.68109568],\n",
       " 'rNum': 3,\n",
       " 'weib_alpha': 0.07490425385984231,\n",
       " 'weib_beta': 0.33204265566928776,\n",
       " 'weib_rsq': 0.8913440260572868,\n",
       " 'burstprob': (array([  2,   3,   4,   5,   6,   7,   8,   9,  10,  11,  12,  13,  14,\n",
       "          15,  16,  17,  18,  19,  20,  21,  22,  23,  24,  25,  26,  27,\n",
       "          28,  29,  30,  31,  32,  33,  34,  35,  36,  37,  38,  39,  40,\n",
       "          41,  42,  43,  44,  45,  46,  47,  48,  49,  50,  51,  52,  53,\n",
       "          54,  55,  56,  57,  58,  59,  60,  61,  62,  63,  64,  65,  66,\n",
       "          67,  68,  69,  70,  71,  72,  73,  74,  75,  76,  77,  78,  79,\n",
       "          80,  81,  82,  83,  84,  85,  86,  87,  88,  89,  90,  91,  92,\n",
       "          93,  94,  95,  96,  97,  98,  99, 100, 101, 102, 103, 104, 105,\n",
       "         106, 107, 108, 109, 110, 111, 112, 113, 114, 115, 116, 117, 118,\n",
       "         119, 120, 121, 122, 123, 124, 125, 126, 127, 128, 129, 130]),\n",
       "  [0.7272727272727273,\n",
       "   0.5454545454545454,\n",
       "   0.5454545454545454,\n",
       "   0.4545454545454546,\n",
       "   0.4545454545454546,\n",
       "   0.4545454545454546,\n",
       "   0.4545454545454546,\n",
       "   0.4545454545454546,\n",
       "   0.36363636363636365,\n",
       "   0.36363636363636365,\n",
       "   0.36363636363636365,\n",
       "   0.36363636363636365,\n",
       "   0.36363636363636365,\n",
       "   0.36363636363636365,\n",
       "   0.36363636363636365,\n",
       "   0.36363636363636365,\n",
       "   0.36363636363636365,\n",
       "   0.36363636363636365,\n",
       "   0.2727272727272727,\n",
       "   0.2727272727272727,\n",
       "   0.2727272727272727,\n",
       "   0.2727272727272727,\n",
       "   0.2727272727272727,\n",
       "   0.2727272727272727,\n",
       "   0.2727272727272727,\n",
       "   0.2727272727272727,\n",
       "   0.2727272727272727,\n",
       "   0.2727272727272727,\n",
       "   0.2727272727272727,\n",
       "   0.2727272727272727,\n",
       "   0.2727272727272727,\n",
       "   0.2727272727272727,\n",
       "   0.2727272727272727,\n",
       "   0.2727272727272727,\n",
       "   0.2727272727272727,\n",
       "   0.2727272727272727,\n",
       "   0.18181818181818177,\n",
       "   0.18181818181818177,\n",
       "   0.18181818181818177,\n",
       "   0.18181818181818177,\n",
       "   0.18181818181818177,\n",
       "   0.18181818181818177,\n",
       "   0.18181818181818177,\n",
       "   0.18181818181818177,\n",
       "   0.18181818181818177,\n",
       "   0.18181818181818177,\n",
       "   0.18181818181818177,\n",
       "   0.18181818181818177,\n",
       "   0.18181818181818177,\n",
       "   0.18181818181818177,\n",
       "   0.18181818181818177,\n",
       "   0.18181818181818177,\n",
       "   0.18181818181818177,\n",
       "   0.18181818181818177,\n",
       "   0.18181818181818177,\n",
       "   0.18181818181818177,\n",
       "   0.18181818181818177,\n",
       "   0.18181818181818177,\n",
       "   0.18181818181818177,\n",
       "   0.18181818181818177,\n",
       "   0.18181818181818177,\n",
       "   0.18181818181818177,\n",
       "   0.18181818181818177,\n",
       "   0.18181818181818177,\n",
       "   0.18181818181818177,\n",
       "   0.18181818181818177,\n",
       "   0.18181818181818177,\n",
       "   0.18181818181818177,\n",
       "   0.18181818181818177,\n",
       "   0.18181818181818177,\n",
       "   0.18181818181818177,\n",
       "   0.18181818181818177,\n",
       "   0.18181818181818177,\n",
       "   0.18181818181818177,\n",
       "   0.18181818181818177,\n",
       "   0.18181818181818177,\n",
       "   0.18181818181818177,\n",
       "   0.18181818181818177,\n",
       "   0.18181818181818177,\n",
       "   0.18181818181818177,\n",
       "   0.18181818181818177,\n",
       "   0.18181818181818177,\n",
       "   0.18181818181818177,\n",
       "   0.18181818181818177,\n",
       "   0.18181818181818177,\n",
       "   0.18181818181818177,\n",
       "   0.18181818181818177,\n",
       "   0.18181818181818177,\n",
       "   0.18181818181818177,\n",
       "   0.18181818181818177,\n",
       "   0.18181818181818177,\n",
       "   0.18181818181818177,\n",
       "   0.18181818181818177,\n",
       "   0.18181818181818177,\n",
       "   0.18181818181818177,\n",
       "   0.18181818181818177,\n",
       "   0.18181818181818177,\n",
       "   0.18181818181818177,\n",
       "   0.18181818181818177,\n",
       "   0.18181818181818177,\n",
       "   0.18181818181818177,\n",
       "   0.18181818181818177,\n",
       "   0.18181818181818177,\n",
       "   0.18181818181818177,\n",
       "   0.18181818181818177,\n",
       "   0.18181818181818177,\n",
       "   0.18181818181818177,\n",
       "   0.18181818181818177,\n",
       "   0.18181818181818177,\n",
       "   0.18181818181818177,\n",
       "   0.18181818181818177,\n",
       "   0.18181818181818177,\n",
       "   0.18181818181818177,\n",
       "   0.09090909090909083,\n",
       "   0.09090909090909083,\n",
       "   0.09090909090909083,\n",
       "   0.09090909090909083,\n",
       "   0.09090909090909083,\n",
       "   0.09090909090909083,\n",
       "   0.09090909090909083,\n",
       "   0.09090909090909083,\n",
       "   0.09090909090909083,\n",
       "   0.09090909090909083,\n",
       "   0.09090909090909083,\n",
       "   0.09090909090909083,\n",
       "   0.09090909090909083,\n",
       "   0.09090909090909083,\n",
       "   0.09090909090909083,\n",
       "   0.0]),\n",
       " 'hist': array([0, 0, 0, 0, 0, 0, 0], dtype=int64)}"
      ]
     },
     "execution_count": 68,
     "metadata": {},
     "output_type": "execute_result"
    }
   ],
   "source": [
    "lickdata"
   ]
  },
  {
   "cell_type": "code",
   "execution_count": 32,
   "metadata": {},
   "outputs": [
    {
     "data": {
      "text/plain": [
       "[130.51461632000002,\n",
       " 145.80678656,\n",
       " 248.31328256,\n",
       " 279.62753024,\n",
       " 549.26409728,\n",
       " 908.73544704,\n",
       " 1660.02982912]"
      ]
     },
     "execution_count": 32,
     "metadata": {},
     "output_type": "execute_result"
    }
   ],
   "source": [
    "lickdata[\"rStart\"]"
   ]
  },
  {
   "cell_type": "code",
   "execution_count": 33,
   "metadata": {},
   "outputs": [
    {
     "name": "stderr",
     "output_type": "stream",
     "text": [
      "C:\\Users\\kvo019\\Anaconda3\\lib\\site-packages\\trompy\\snipper_class.py:155: RuntimeWarning: Mean of empty slice.\n",
      "  return np.reshape(snip[:-remainder_samples], (bins, -1)).mean(axis=1)\n",
      "C:\\Users\\kvo019\\Anaconda3\\lib\\site-packages\\numpy\\core\\_methods.py:162: RuntimeWarning: invalid value encountered in true_divide\n",
      "  ret = um.true_divide(\n"
     ]
    }
   ],
   "source": [
    "snipper=tp.Snipper(d[\"corrected\"], lickdata[\"rStart\"], lickfs=d[\"fs\"], binlength=0.1)\n",
    "#snipper.get_snips()\n",
    "#snipper.plot_shaded_error(color=\"blue\")"
   ]
  },
  {
   "cell_type": "code",
   "execution_count": 34,
   "metadata": {},
   "outputs": [
    {
     "data": {
      "text/plain": [
       "array([[nan, nan, nan, ..., nan, nan, nan],\n",
       "       [nan, nan, nan, ..., nan, nan, nan],\n",
       "       [nan, nan, nan, ..., nan, nan, nan],\n",
       "       ...,\n",
       "       [nan, nan, nan, ..., nan, nan, nan],\n",
       "       [nan, nan, nan, ..., nan, nan, nan],\n",
       "       [nan, nan, nan, ..., nan, nan, nan]])"
      ]
     },
     "execution_count": 34,
     "metadata": {},
     "output_type": "execute_result"
    }
   ],
   "source": [
    "snipper.snips"
   ]
  },
  {
   "cell_type": "code",
   "execution_count": null,
   "metadata": {},
   "outputs": [],
   "source": []
  },
  {
   "cell_type": "code",
   "execution_count": 35,
   "metadata": {},
   "outputs": [
    {
     "data": {
      "text/plain": [
       "['__class__',\n",
       " '__delattr__',\n",
       " '__dict__',\n",
       " '__dir__',\n",
       " '__doc__',\n",
       " '__eq__',\n",
       " '__format__',\n",
       " '__ge__',\n",
       " '__getattribute__',\n",
       " '__gt__',\n",
       " '__hash__',\n",
       " '__init__',\n",
       " '__init_subclass__',\n",
       " '__le__',\n",
       " '__lt__',\n",
       " '__module__',\n",
       " '__ne__',\n",
       " '__new__',\n",
       " '__reduce__',\n",
       " '__reduce_ex__',\n",
       " '__repr__',\n",
       " '__setattr__',\n",
       " '__sizeof__',\n",
       " '__str__',\n",
       " '__subclasshook__',\n",
       " '__weakref__',\n",
       " 'adjust_baseline',\n",
       " 'adjustbaseline',\n",
       " 'baseline_end_in_samples',\n",
       " 'baseline_start_in_samples',\n",
       " 'baselinelength',\n",
       " 'bin_snips',\n",
       " 'binlength',\n",
       " 'binned',\n",
       " 'check_for_ragged_array',\n",
       " 'check_snips_array',\n",
       " 'data',\n",
       " 'end',\n",
       " 'events_in_samples',\n",
       " 'fs',\n",
       " 'get_snips',\n",
       " 'kwargs',\n",
       " 'longsnipper',\n",
       " 'nsnips',\n",
       " 'plot',\n",
       " 'plot_heatmap',\n",
       " 'plot_shaded_error',\n",
       " 'post',\n",
       " 'pre',\n",
       " 'put_snip_in_bins',\n",
       " 'remove_artifacts',\n",
       " 'remove_artifacts_from_snips',\n",
       " 'set_baseline',\n",
       " 'snips',\n",
       " 'start',\n",
       " 'trial_end',\n",
       " 'trial_length_in_samples',\n",
       " 'trial_start',\n",
       " 'truncate',\n",
       " 'truncate_to_same_length',\n",
       " 'zscore',\n",
       " 'zscore_snips']"
      ]
     },
     "execution_count": 35,
     "metadata": {},
     "output_type": "execute_result"
    }
   ],
   "source": [
    "dir(snipper)"
   ]
  },
  {
   "cell_type": "code",
   "execution_count": 36,
   "metadata": {
    "scrolled": true
   },
   "outputs": [
    {
     "data": {
      "text/plain": [
       "11"
      ]
     },
     "execution_count": 36,
     "metadata": {},
     "output_type": "execute_result"
    }
   ],
   "source": [
    "len(snips_long)"
   ]
  },
  {
   "cell_type": "code",
   "execution_count": 37,
   "metadata": {},
   "outputs": [],
   "source": [
    "mice = []\n",
    "for key, val in restricted_dark.items():\n",
    "    if val[\"mouse_ID\"] not in mice:\n",
    "        mice.append(val[\"mouse_ID\"])"
   ]
  },
  {
   "cell_type": "code",
   "execution_count": 38,
   "metadata": {},
   "outputs": [
    {
     "data": {
      "text/plain": [
       "['HL202',\n",
       " 'HL203',\n",
       " 'HL204',\n",
       " 'HL205',\n",
       " 'HL206',\n",
       " 'HL207',\n",
       " 'HL208',\n",
       " 'HL209',\n",
       " 'HL210',\n",
       " 'HL211',\n",
       " 'HL212']"
      ]
     },
     "execution_count": 38,
     "metadata": {},
     "output_type": "execute_result"
    }
   ],
   "source": [
    "mice"
   ]
  },
  {
   "cell_type": "code",
   "execution_count": 39,
   "metadata": {},
   "outputs": [],
   "source": [
    "def truncate_snips_to_same_length(snips, bins_per_trial):\n",
    "\n",
    "    snips_long_array = np.zeros((len(snips), bins_per_trial))\n",
    "    bins_per_section = int(bins_per_trial/2)\n",
    "\n",
    "    for idx, snip in enumerate(snips):\n",
    "        snips_long_array[idx,:bins_per_section] = snip[:bins_per_section]\n",
    "        snips_long_array[idx,-bins_per_section:] = snip[-bins_per_section:]\n",
    "\n",
    "    return snips_long_array\n",
    "\n",
    "def get_long_snips(d, mouse, minrun=10, binlength=0.1, pre=10, post=10, truncate_snips=True):\n",
    "\n",
    "    run_length, run_licks, snips_long = [], [], []\n",
    "\n",
    "    for key, val in d.items():\n",
    "        if val[\"mouse_ID\"] == mouse:\n",
    "            lickdata= tp.lickCalc(val[\"licks\"], minrunlength=3)\n",
    "            \n",
    "            run_length.append(lickdata[\"rTime\"])\n",
    "            run_licks.append(lickdata[\"rLicks\"])\n",
    "           \n",
    "            snips_long.append(longsnipper(val[\"corrected\"], lickdata[\"rStart\"], lickdata[\"rEnd\"], val[\"fs\"], minrun=minrun, binlength=binlength, pre=pre, post=post))\n",
    "\n",
    "    run_length = tp.flatten_list(run_length)\n",
    "    run_licks = tp.flatten_list(run_licks)\n",
    "    snips_long = tp.flatten_list(snips_long)\n",
    "\n",
    "    print(len(snips_long))\n",
    "\n",
    "    if truncate_snips:\n",
    "        bins_per_trial = int((minrun + pre + post) / binlength)\n",
    "        snips_long = truncate_snips_to_same_length(snips_long, bins_per_trial)\n",
    "\n",
    "    return snips_long\n",
    "\n",
    "kwargs = {\"minrun\": 10, \"binlength\": 0.1}"
   ]
  },
  {
   "cell_type": "code",
   "execution_count": 40,
   "metadata": {},
   "outputs": [
    {
     "name": "stdout",
     "output_type": "stream",
     "text": [
      "9\n",
      "9\n",
      "21\n",
      "13\n",
      "12\n",
      "15\n",
      "20\n",
      "14\n",
      "11\n",
      "12\n",
      "5\n"
     ]
    }
   ],
   "source": [
    "snips_long_all_mice = []\n",
    "for mouse in mice:\n",
    "\n",
    "    s = get_long_snips(restricted_dark, mouse, minrun=minrun, binlength=binlength, pre=pre, post=post)\n",
    "    snips_long_all_mice.append(np.nanmean(s, axis=0))\n",
    "\n",
    "snips_long_all_mice = np.array(snips_long_all_mice)\n"
   ]
  },
  {
   "cell_type": "code",
   "execution_count": 41,
   "metadata": {
    "scrolled": true
   },
   "outputs": [
    {
     "data": {
      "text/plain": [
       "<matplotlib.collections.PolyCollection at 0x1ba379a6eb0>"
      ]
     },
     "execution_count": 41,
     "metadata": {},
     "output_type": "execute_result"
    },
    {
     "data": {
      "image/png": "[encoded data removed]",
      "text/plain": [
       "<Figure size 432x288 with 1 Axes>"
      ]
     },
     "metadata": {
      "needs_background": "light"
     },
     "output_type": "display_data"
    }
   ],
   "source": [
    "s = np.array(snips_long_all_mice)\n",
    "\n",
    "f, ax = plt.subplots()\n",
    "x1 = np.arange(0,149)\n",
    "x2 = np.arange(156,305)\n",
    "\n",
    "y1 = s[:,:149]\n",
    "y2 = s[:,151:]\n",
    "\n",
    "y1_mean = np.mean(y1, axis=0)\n",
    "y2_mean = np.mean(y2, axis=0)\n",
    "\n",
    "y1_err = np.std(y1, axis=0)/np.sqrt(y1.shape[0])\n",
    "y2_err = np.std(y2, axis=0)/np.sqrt(y2.shape[0])\n",
    "\n",
    "ax.plot(x1, y1_mean, color=\"k\", linewidth=1, linestyle=\"-\")\n",
    "ax.fill_between(x1, y1_mean-y1_err, y1_mean+y1_err, color=\"xkcd:light grey\", alpha=0.5)\n",
    "\n",
    "ax.plot(x2, y2_mean, color=\"k\", linewidth=1, linestyle=\"-\")\n",
    "ax.fill_between(x2, y2_mean-y2_err, y2_mean+y2_err, color=\"xkcd:light grey\", alpha=0.5)"
   ]
  },
  {
   "cell_type": "code",
   "execution_count": 18,
   "metadata": {},
   "outputs": [
    {
     "data": {
      "text/plain": [
       "(11, 310)"
      ]
     },
     "execution_count": 18,
     "metadata": {},
     "output_type": "execute_result"
    }
   ],
   "source": [
    "def add_whitegap_to_colormapdata(snip_array, nbins_in_gap=10):\n",
    "\n",
    "    array1 = snip_array[:,:150]\n",
    "    array2 = snip_array[:,150:]\n",
    "    gap_array = np.zeros((snip_array.shape[0], nbins_in_gap))\n",
    "\n",
    "    return np.hstack([array1, gap_array, array2])\n",
    "\n",
    "colormap_s = add_whitegap_to_colormapdata(s)\n",
    "colormap_s.shape"
   ]
  },
  {
   "cell_type": "code",
   "execution_count": 19,
   "metadata": {},
   "outputs": [
    {
     "data": {
      "text/plain": [
       "<AxesSubplot:>"
      ]
     },
     "execution_count": 19,
     "metadata": {},
     "output_type": "execute_result"
    },
    {
     "data": {
      "image/png": "[encoded data removed]",
      "text/plain": [
       "<Figure size 432x288 with 2 Axes>"
      ]
     },
     "metadata": {
      "needs_background": "light"
     },
     "output_type": "display_data"
    }
   ],
   "source": [
    "sns.heatmap(colormap_s, vmin=-1, vmax=1, cmap=\"vlag\")"
   ]
  },
  {
   "cell_type": "code",
   "execution_count": 20,
   "metadata": {},
   "outputs": [
    {
     "data": {
      "text/plain": [
       "<AxesSubplot:>"
      ]
     },
     "execution_count": 20,
     "metadata": {},
     "output_type": "execute_result"
    },
    {
     "data": {
      "image/png": "[encoded data removed]",
      "text/plain": [
       "<Figure size 432x288 with 2 Axes>"
      ]
     },
     "metadata": {
      "needs_background": "light"
     },
     "output_type": "display_data"
    }
   ],
   "source": [
    "sns.heatmap(snips_long_all_mice, vmin=-1.5, vmax=1.5, cmap=\"RdBu\")"
   ]
  },
  {
   "cell_type": "code",
   "execution_count": 21,
   "metadata": {},
   "outputs": [
    {
     "data": {
      "text/plain": [
       "11"
      ]
     },
     "execution_count": 21,
     "metadata": {},
     "output_type": "execute_result"
    }
   ],
   "source": [
    "len(snips_long_all_mice)"
   ]
  },
  {
   "cell_type": "code",
   "execution_count": 22,
   "metadata": {},
   "outputs": [
    {
     "data": {
      "text/plain": [
       "<matplotlib.lines.Line2D at 0x1e8844a47f0>"
      ]
     },
     "execution_count": 22,
     "metadata": {},
     "output_type": "execute_result"
    },
    {
     "data": {
      "image/png": "[encoded data removed]",
      "text/plain": [
       "<Figure size 432x288 with 2 Axes>"
      ]
     },
     "metadata": {
      "needs_background": "light"
     },
     "output_type": "display_data"
    }
   ],
   "source": [
    "auc = np.mean(snips_long_all_mice[:,210:], axis=1) # auc calculated rebound at end (20-30 sec)\n",
    "auc = np.mean(snips_long_all_mice[:,100:150], axis=1) # auc calculated from dip at start (10-15 sec)\n",
    "sort_order = np.argsort(auc)\n",
    "\n",
    "f, ax = plt.subplots()\n",
    "sns.heatmap(add_whitegap_to_colormapdata(snips_long_all_mice[sort_order, :]), cmap=\"PiYG\", vmin=-0.8, vmax=0.8,\n",
    "           ax=ax)\n",
    "ax.axvline(100, color=\"k\", linestyle=\"--\", alpha=0.5)\n",
    "ax.axvline(210, color=\"k\", linestyle=\"--\", alpha=0.5)"
   ]
  },
  {
   "cell_type": "code",
   "execution_count": 23,
   "metadata": {},
   "outputs": [
    {
     "data": {
      "text/plain": [
       "<matplotlib.lines.Line2D at 0x1e884413700>"
      ]
     },
     "execution_count": 23,
     "metadata": {},
     "output_type": "execute_result"
    },
    {
     "data": {
      "image/png": "[encoded data removed]",
      "text/plain": [
       "<Figure size 432x288 with 2 Axes>"
      ]
     },
     "metadata": {
      "needs_background": "light"
     },
     "output_type": "display_data"
    }
   ],
   "source": [
    "auc = np.mean(snips_long_all_mice[:,210:], axis=1) # auc calculated rebound at end (20-30 sec)\n",
    "auc = np.mean(snips_long_all_mice[:,100:150], axis=1) # auc calculated from dip at start (10-15 sec)\n",
    "sort_order = np.argsort(auc)\n",
    "\n",
    "f, ax = plt.subplots()\n",
    "sns.heatmap(add_whitegap_to_colormapdata(snips_long_all_mice[sort_order, :]), cmap=\"vlag\", vmin=-0.8, vmax=0.8,\n",
    "           ax=ax)\n",
    "ax.axvline(100, color=\"k\", linestyle=\"--\", alpha=0.5)\n",
    "ax.axvline(210, color=\"k\", linestyle=\"--\", alpha=0.5)"
   ]
  },
  {
   "cell_type": "code",
   "execution_count": null,
   "metadata": {},
   "outputs": [],
   "source": []
  }
 ],
 "metadata": {
  "kernelspec": {
   "display_name": "Python 3",
   "language": "python",
   "name": "python3"
  },
  "language_info": {
   "codemirror_mode": {
    "name": "ipython",
    "version": 3
   },
   "file_extension": ".py",
   "mimetype": "text/x-python",
   "name": "python",
   "nbconvert_exporter": "python",
   "pygments_lexer": "ipython3",
   "version": "3.8.5"
  }
 },
 "nbformat": 4,
 "nbformat_minor": 5
}

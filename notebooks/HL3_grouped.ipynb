{
 "cells": [
  {
   "cell_type": "code",
   "execution_count": 15,
   "metadata": {},
   "outputs": [],
   "source": [
    "from pathlib import Path\n",
    "import matplotlib.pyplot as plt\n",
    "import trompy as tp\n",
    "import numpy as np\n",
    "import pickle\n",
    "import pandas as pd\n",
    "import seaborn as sns\n",
    "%matplotlib inline"
   ]
  },
  {
   "cell_type": "code",
   "execution_count": 16,
   "metadata": {},
   "outputs": [],
   "source": [
    "DATAPATH = Path(\"C://Data//hislight_pickles//HL3_restricted_dark.pickle\")\n",
    "\n",
    "with open(DATAPATH, 'rb') as handle:\n",
    "    HL3_restricted_dark = pickle.load(handle)"
   ]
  },
  {
   "cell_type": "code",
   "execution_count": 17,
   "metadata": {},
   "outputs": [],
   "source": [
    "mice_to_exclude = [\"HL313\", \"HL314\", \"HL315\", \"HL316\", \"HL317\", \"HL318\", \"HL306\", \"HL308\",\n",
    "                  \"HL301\", \"HL304\", \"HL305\"]\n",
    "\n",
    "#HL313 - HL318 are control mice\n",
    "#HL 306, 308 have no virus\n",
    "#HL301, HL304, HL305 have poor fiber placement"
   ]
  },
  {
   "cell_type": "code",
   "execution_count": 18,
   "metadata": {},
   "outputs": [],
   "source": [
    "list_of_mice = []\n",
    "\n",
    "for key, val in HL3_restricted_dark.items():\n",
    "    if val[\"mouse_ID\"] not in mice_to_exclude:\n",
    "        if val[\"mouse_ID\"] not in list_of_mice :\n",
    "            list_of_mice.append(val[\"mouse_ID\"])"
   ]
  },
  {
   "cell_type": "code",
   "execution_count": 23,
   "metadata": {},
   "outputs": [],
   "source": [
    "list_of_mice = ['HL302', 'HL307', 'HL309', 'HL310', 'HL312']"
   ]
  },
  {
   "cell_type": "code",
   "execution_count": 24,
   "metadata": {},
   "outputs": [],
   "source": [
    "def get_snips(data):\n",
    "\n",
    "    snips_mean_start= []\n",
    "    snips_mean_end = []\n",
    "    snips_mean_full = []\n",
    "\n",
    "    kwargs={\"bins\":150, \"trial_length\":15, \"baseline_length\":5}   \n",
    "\n",
    "    pre = 5\n",
    "    post = 10\n",
    "    mineventlength=10\n",
    "    binlength=0.1\n",
    "\n",
    "    for mouse in list_of_mice:\n",
    "        snips_start = []\n",
    "        snips_end = []\n",
    "        snips_full = []\n",
    "\n",
    "        for key, val in data.items():\n",
    "            if val[\"mouse_ID\"]==mouse:\n",
    "                if len(val[\"licks\"]) < 10:\n",
    "                    continue\n",
    "\n",
    "                lickdata= tp.lickCalc(val[\"licks\"], minrunlength=3)\n",
    "\n",
    "                snips_start.append(tp.snipper(val[\"corrected\"], lickdata[\"rStart\"], val[\"fs\"], **kwargs)[0])\n",
    "                snips_end.append(tp.snipper(val[\"corrected\"], lickdata[\"rEnd\"], val[\"fs\"], **kwargs)[0])\n",
    "\n",
    "                snipper = tp.Snipper(val[\"corrected\"],\n",
    "                                        lickdata[\"rStart\"],\n",
    "                                        end=lickdata[\"rEnd\"],\n",
    "                                        fs=val[\"fs\"],\n",
    "                                        pre=pre,\n",
    "                                        post=post,\n",
    "                                        binlength=binlength,\n",
    "                                        zscore=True\n",
    "                                        )\n",
    "\n",
    "                snipper.truncate_to_same_length(cols_to_add=10, mineventlength=mineventlength)\n",
    "                snipper.find_potential_artifacts(threshold=8, method=\"sum\")\n",
    "                snips_full.append(snipper.snips)\n",
    "\n",
    "\n",
    "        snips_start = np.vstack(snips_start)\n",
    "        snips_end = np.vstack(snips_end)\n",
    "        \n",
    "        try:\n",
    "            snips_full = np.vstack(snips_full)\n",
    "            snips_mean_full.append(np.mean(snips_full, axis=0))\n",
    "            print(\"adding this mouse\")\n",
    "        except:\n",
    "            print(\"no snips to concatenate\")\n",
    "\n",
    "        snips_mean_start.append(np.mean(snips_start, axis=0))\n",
    "        snips_mean_end.append(np.mean(snips_end, axis=0))\n",
    "   \n",
    "    snips_mean_full = np.array(snips_mean_full)\n",
    "    \n",
    "    return snips_mean_start, snips_mean_end, snips_mean_full"
   ]
  },
  {
   "cell_type": "code",
   "execution_count": 25,
   "metadata": {},
   "outputs": [
    {
     "name": "stdout",
     "output_type": "stream",
     "text": [
      "<class 'numpy.ndarray'>\n",
      "Found 13 potential artifacts.\n",
      "<class 'numpy.ndarray'>\n",
      "<class 'numpy.ndarray'>\n",
      "adding this mouse\n",
      "<class 'numpy.ndarray'>\n",
      "Found 5 potential artifacts.\n",
      "<class 'numpy.ndarray'>\n",
      "Found 8 potential artifacts.\n",
      "<class 'numpy.ndarray'>\n",
      "adding this mouse\n",
      "<class 'numpy.ndarray'>\n",
      "<class 'numpy.ndarray'>\n",
      "<class 'numpy.ndarray'>"
     ]
    },
    {
     "name": "stderr",
     "output_type": "stream",
     "text": [
      "C:\\Users\\kvo019\\Anaconda3\\lib\\site-packages\\trompy\\snipper_class.py:172: VisibleDeprecationWarning: Creating an ndarray from ragged nested sequences (which is a list-or-tuple of lists-or-tuples-or ndarrays with different lengths or shapes) is deprecated. If you meant to do this, you must specify 'dtype=object' when creating the ndarray\n",
      "  self.snips = np.array([self.put_snip_in_bins(snip) for snip in self.snips])\n",
      "C:\\Users\\kvo019\\Anaconda3\\lib\\site-packages\\trompy\\snipper_class.py:186: VisibleDeprecationWarning: Creating an ndarray from ragged nested sequences (which is a list-or-tuple of lists-or-tuples-or ndarrays with different lengths or shapes) is deprecated. If you meant to do this, you must specify 'dtype=object' when creating the ndarray\n",
      "  self.snips = np.array(z_snips)\n"
     ]
    },
    {
     "name": "stdout",
     "output_type": "stream",
     "text": [
      "\n",
      "adding this mouse\n",
      "<class 'numpy.ndarray'>\n",
      "Found 1 potential artifacts.\n",
      "<class 'numpy.ndarray'>\n",
      "Found 2 potential artifacts.\n",
      "<class 'numpy.ndarray'>\n",
      "Found 1 potential artifacts.\n",
      "adding this mouse\n",
      "<class 'numpy.ndarray'>\n",
      "<class 'numpy.ndarray'>\n",
      "Found 1 potential artifacts.\n",
      "<class 'numpy.ndarray'>\n",
      "Found 1 potential artifacts.\n",
      "adding this mouse\n"
     ]
    },
    {
     "name": "stderr",
     "output_type": "stream",
     "text": [
      "C:\\Users\\kvo019\\Anaconda3\\lib\\site-packages\\trompy\\lickcalc.py:239: RuntimeWarning: invalid value encountered in power\n",
      "  return (np.exp(-(alpha*x)**beta))\n"
     ]
    }
   ],
   "source": [
    "snips_mean_start, snips_mean_end, snips_mean_full = get_snips(HL3_restricted_dark)"
   ]
  },
  {
   "cell_type": "code",
   "execution_count": 26,
   "metadata": {},
   "outputs": [
    {
     "data": {
      "text/plain": [
       "<matplotlib.lines.Line2D at 0x2148006dd60>"
      ]
     },
     "execution_count": 26,
     "metadata": {},
     "output_type": "execute_result"
    },
    {
     "data": {
      "image/png": "[encoded data removed]",
      "text/plain": [
       "<Figure size 288x468 with 3 Axes>"
      ]
     },
     "metadata": {
      "needs_background": "light"
     },
     "output_type": "display_data"
    }
   ],
   "source": [
    "f,[[ax1, ax2], [ax3, ax4]]=plt.subplots(nrows=2, ncols=2,\n",
    "                                        figsize=[4,6.5],\n",
    "                                        gridspec_kw={\"width_ratios\":[10,1]})\n",
    "\n",
    "pre = 5\n",
    "post = 10\n",
    "mineventlength=10\n",
    "binlength=0.1\n",
    "\n",
    "\n",
    "sns.heatmap(snips_mean_full, ax=ax1, cbar_ax= ax2, cmap=\"RdBu_r\", vmax=2, vmin=-2, cbar_kws={\"ticks\": [2, 0, -2]})\n",
    "\n",
    "bins_early = int((pre + mineventlength/2)/binlength)\n",
    "bins_late = int((post + mineventlength/2)/binlength)\n",
    "\n",
    "x1 = np.arange(0,bins_early)\n",
    "x2 = np.arange(snips_mean_full.shape[1] - bins_late, snips_mean_full.shape[1])\n",
    "\n",
    "mean = np.mean(snips_mean_full, axis=0)\n",
    "error_values = np.std(snips_mean_full, axis=0) / np.sqrt(len(snips_mean_full))\n",
    "\n",
    "color=\"#90219c\"\n",
    "\n",
    "ax3.plot(x1, mean[:bins_early], color=color)\n",
    "ax3.plot(x2, mean[-bins_late:], color=color)\n",
    "ax3.fill_between(x1, mean[:bins_early]-error_values[:bins_early], mean[:bins_early]+error_values[:bins_early], color=color, alpha=0.3)\n",
    "ax3.fill_between(x2, mean[-bins_late:]-error_values[-bins_late:], mean[-bins_late:]+error_values[-bins_late:], color=color, alpha=0.3)\n",
    "\n",
    "ax4.remove()\n",
    "\n",
    "ax1.set_yticks([])\n",
    "ax1.set_xticks([])\n",
    "ax1.axvline(50, color=\"k\", linestyle=\"--\", alpha=0.5)\n",
    "ax1.axvline(160, color=\"k\", linestyle=\"--\", alpha=0.5)\n",
    "\n",
    "ax3.set_yticks([])\n",
    "ax3.set_xticks([])\n",
    "\n",
    "ax1.set_ylabel(\"mice (avg across trials)\")\n",
    "\n",
    "for spine in [\"top\", \"right\", \"left\", \"bottom\"]:\n",
    "    ax3.spines[spine].set_visible(False)\n",
    "\n",
    "ax3.plot([200,250], [-1,-1], linewidth=2, color=\"k\")\n",
    "ax3.text(225,-1.1,\"5 s\", va=\"top\", ha=\"center\")\n",
    "\n",
    "ax3.plot([0,0], [0.5, 1.5], linewidth=2, color=\"k\")\n",
    "ax3.text(-3, 1, \"1 Z\", va=\"center\", ha=\"right\")\n",
    "\n",
    "ax3.axvline(50, color=\"k\", linestyle=\"--\", alpha=0.5)\n",
    "ax3.axvline(160, color=\"k\", linestyle=\"--\", alpha=0.5)\n",
    "\n",
    "#f.savefig(\"C:\\\\Users\\\\kvo019\\\\OneDrive - UiT Office 365\\\\Pipette 2\\\\People\\\\Linnea\\\\Manuscripts\\\\hislight paper\\\\figures\\\\HL3_grouped.pdf\")"
   ]
  },
  {
   "cell_type": "code",
   "execution_count": null,
   "metadata": {},
   "outputs": [],
   "source": []
  }
 ],
 "metadata": {
  "kernelspec": {
   "display_name": "Python 3",
   "language": "python",
   "name": "python3"
  },
  "language_info": {
   "codemirror_mode": {
    "name": "ipython",
    "version": 3
   },
   "file_extension": ".py",
   "mimetype": "text/x-python",
   "name": "python",
   "nbconvert_exporter": "python",
   "pygments_lexer": "ipython3",
   "version": "3.8.5"
  }
 },
 "nbformat": 4,
 "nbformat_minor": 4
}

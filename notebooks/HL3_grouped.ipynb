{
 "cells": [
  {
   "cell_type": "code",
   "execution_count": 2,
   "metadata": {},
   "outputs": [],
   "source": [
    "from pathlib import Path\n",
    "import matplotlib.pyplot as plt\n",
    "import trompy as tp\n",
    "import numpy as np\n",
    "import pickle\n",
    "import pandas as pd\n",
    "import seaborn as sns\n",
    "%matplotlib inline"
   ]
  },
  {
   "cell_type": "code",
   "execution_count": 3,
   "metadata": {},
   "outputs": [],
   "source": [
    "DATAPATH = Path(\"C://Data//hislight_pickles//HL3_restricted_dark.pickle\")\n",
    "\n",
    "with open(DATAPATH, 'rb') as handle:\n",
    "    HL3_restricted_dark = pickle.load(handle)"
   ]
  },
  {
   "cell_type": "code",
   "execution_count": 4,
   "metadata": {},
   "outputs": [],
   "source": [
    "mice_to_exclude = [\"HL313\", \"HL314\", \"HL315\", \"HL316\", \"HL317\", \"HL318\", \"HL303\", \"HL304\", \"HL306\", \"HL308\"]\n",
    "\n",
    "#HL313 - HL318 are control mice\n",
    "#HL303, HL304 have artifacts\n",
    "#HL 306, 308 have no virus"
   ]
  },
  {
   "cell_type": "code",
   "execution_count": 5,
   "metadata": {},
   "outputs": [],
   "source": [
    "list_of_mice = []\n",
    "\n",
    "for key, val in HL3_restricted_dark.items():\n",
    "    if val[\"mouse_ID\"] not in mice_to_exclude:\n",
    "        if val[\"mouse_ID\"] not in list_of_mice :\n",
    "            list_of_mice.append(val[\"mouse_ID\"])"
   ]
  },
  {
   "cell_type": "code",
   "execution_count": 6,
   "metadata": {},
   "outputs": [
    {
     "data": {
      "text/plain": [
       "['HL301', 'HL302', 'HL305', 'HL307', 'HL309', 'HL310', 'HL311', 'HL312']"
      ]
     },
     "execution_count": 6,
     "metadata": {},
     "output_type": "execute_result"
    }
   ],
   "source": [
    "list_of_mice"
   ]
  },
  {
   "cell_type": "code",
   "execution_count": 7,
   "metadata": {},
   "outputs": [
    {
     "name": "stderr",
     "output_type": "stream",
     "text": [
      "C:\\Users\\kvo019\\Anaconda3\\lib\\site-packages\\trompy\\snipper_class.py:158: VisibleDeprecationWarning: Creating an ndarray from ragged nested sequences (which is a list-or-tuple of lists-or-tuples-or ndarrays with different lengths or shapes) is deprecated. If you meant to do this, you must specify 'dtype=object' when creating the ndarray\n",
      "  self.snips = np.array([self.put_snip_in_bins(snip) for snip in self.snips])\n",
      "C:\\Users\\kvo019\\Anaconda3\\lib\\site-packages\\trompy\\snipper_class.py:172: VisibleDeprecationWarning: Creating an ndarray from ragged nested sequences (which is a list-or-tuple of lists-or-tuples-or ndarrays with different lengths or shapes) is deprecated. If you meant to do this, you must specify 'dtype=object' when creating the ndarray\n",
      "  self.snips = np.array(z_snips)\n",
      "C:\\Users\\kvo019\\Anaconda3\\lib\\site-packages\\trompy\\lickcalc.py:239: RuntimeWarning: invalid value encountered in power\n",
      "  return (np.exp(-(alpha*x)**beta))\n"
     ]
    }
   ],
   "source": [
    "snips_mean_start= []\n",
    "snips_mean_end = []\n",
    "\n",
    "snips_mean_full = []\n",
    "run_length = []\n",
    "run_licks  = []\n",
    "        \n",
    "kwargs={\"bins\":150, \"trial_length\":15, \"baseline_length\":5}   \n",
    "\n",
    "pre = 5\n",
    "post = 10\n",
    "mineventlength=10\n",
    "binlength=0.1\n",
    "\n",
    "for mouse in list_of_mice:\n",
    "    snips_start = []\n",
    "    snips_end = []\n",
    "    snips_full = []\n",
    "    \n",
    "    for key, val in HL3_restricted_dark.items():\n",
    "        if val[\"mouse_ID\"]==mouse:\n",
    "\n",
    "            lickdata= tp.lickCalc(val[\"licks\"], minrunlength=3)\n",
    "\n",
    "            run_length.append(lickdata[\"rTime\"])\n",
    "            run_licks.append(lickdata[\"rLicks\"])\n",
    "\n",
    "            snips_start.append(tp.snipper(val[\"corrected\"], lickdata[\"rStart\"], val[\"fs\"], **kwargs)[0])\n",
    "            snips_end.append(tp.snipper(val[\"corrected\"], lickdata[\"rEnd\"], val[\"fs\"], **kwargs)[0])\n",
    "\n",
    "            snipper = tp.Snipper(val[\"corrected\"],\n",
    "                                    lickdata[\"rStart\"],\n",
    "                                    end=lickdata[\"rEnd\"],\n",
    "                                    fs=val[\"fs\"],\n",
    "                                    pre=pre,\n",
    "                                    post=post,\n",
    "                                    binlength=binlength,\n",
    "                                    zscore=True\n",
    "                                    )\n",
    "\n",
    "            # plt.plot(snipper.snips)\n",
    "            snipper.truncate_to_same_length(cols_to_add=10, mineventlength=mineventlength)\n",
    "            snips_full.append(snipper.snips)\n",
    "            #print(len(snipper.snips))\n",
    "            #print(len(snipper.snips[0]))\n",
    "            #print(len(snipper.snips[1]))\n",
    "\n",
    "\n",
    "            #run_length = tp.flatten_list(run_length)\n",
    "            #run_licks = tp.flatten_list(run_licks)\n",
    "\n",
    "    snips_start = np.vstack(snips_start)\n",
    "    snips_end = np.vstack(snips_end)\n",
    "    snips_full = np.vstack(snips_full)\n",
    "\n",
    "    snips_mean_start.append(np.mean(snips_start, axis=0))\n",
    "    snips_mean_end.append(np.mean(snips_end, axis=0))\n",
    "    snips_mean_full.append(np.mean(snips_full, axis=0))\n",
    "    \n",
    "\n",
    "    \n",
    "    \n",
    "snips_mean_full = np.array(snips_mean_full)\n"
   ]
  },
  {
   "cell_type": "code",
   "execution_count": 8,
   "metadata": {},
   "outputs": [
    {
     "data": {
      "text/plain": [
       "(8, 260)"
      ]
     },
     "execution_count": 8,
     "metadata": {},
     "output_type": "execute_result"
    }
   ],
   "source": [
    "snips_mean_full.shape"
   ]
  },
  {
   "cell_type": "code",
   "execution_count": 9,
   "metadata": {},
   "outputs": [
    {
     "data": {
      "image/png": "[encoded data removed]",
      "text/plain": [
       "<Figure size 288x468 with 3 Axes>"
      ]
     },
     "metadata": {
      "needs_background": "light"
     },
     "output_type": "display_data"
    }
   ],
   "source": [
    "f,[[ax1, ax2], [ax3, ax4]]=plt.subplots(nrows=2, ncols=2,\n",
    "                                        figsize=[4,6.5],\n",
    "                                        gridspec_kw={\"width_ratios\":[10,1]})\n",
    "\n",
    "\n",
    "\n",
    "sns.heatmap(snips_mean_full, ax=ax1, cbar_ax= ax2, cmap=\"RdBu_r\", vmax=2, vmin=-2, cbar_kws={\"ticks\": [2, 0, -2]})\n",
    "\n",
    "bins_early = int((pre + mineventlength/2)/binlength)\n",
    "bins_late = int((post + mineventlength/2)/binlength)\n",
    "\n",
    "x1 = np.arange(0,bins_early)\n",
    "x2 = np.arange(snips_mean_full.shape[1] - bins_late, snips_mean_full.shape[1])\n",
    "\n",
    "mean = np.mean(snips_mean_full, axis=0)\n",
    "error_values = np.std(snips_mean_full, axis=0) / np.sqrt(len(snips_mean_full))\n",
    "\n",
    "color=\"#90219c\"\n",
    "\n",
    "ax3.plot(x1, mean[:bins_early], color=color)\n",
    "ax3.plot(x2, mean[-bins_late:], color=color)\n",
    "ax3.fill_between(x1, mean[:bins_early]-error_values[:bins_early], mean[:bins_early]+error_values[:bins_early], color=color, alpha=0.3)\n",
    "ax3.fill_between(x2, mean[-bins_late:]-error_values[-bins_late:], mean[-bins_late:]+error_values[-bins_late:], color=color, alpha=0.3)\n",
    "\n",
    "ax4.remove()\n",
    "\n",
    "ax1.set_yticks([])\n",
    "ax1.set_xticks([])\n",
    "ax1.axvline(50, color=\"k\", linestyle=\"--\", alpha=0.5)\n",
    "ax1.axvline(160, color=\"k\", linestyle=\"--\", alpha=0.5)\n",
    "\n",
    "ax3.set_yticks([])\n",
    "ax3.set_xticks([])\n",
    "\n",
    "ax1.set_ylabel(\"mice (avg across trials)\")\n",
    "\n",
    "for spine in [\"top\", \"right\", \"left\", \"bottom\"]:\n",
    "    ax3.spines[spine].set_visible(False)\n",
    "\n",
    "ax3.plot([200,250], [-1,-1], linewidth=2, color=\"k\")\n",
    "ax3.text(225,-1.1,\"5 s\", va=\"top\", ha=\"center\")\n",
    "\n",
    "ax3.plot([0,0], [0.5, 1.5], linewidth=2, color=\"k\")\n",
    "ax3.text(-3, 1, \"1 Z\", va=\"center\", ha=\"right\")\n",
    "\n",
    "ax3.axvline(50, color=\"k\", linestyle=\"--\", alpha=0.5)\n",
    "ax3.axvline(160, color=\"k\", linestyle=\"--\", alpha=0.5)\n",
    "\n",
    "f.savefig(\"C:\\\\Users\\\\kvo019\\\\OneDrive - UiT Office 365\\\\Pipette 2\\\\People\\\\Linnea\\\\Manuscripts\\\\hislight paper\\\\figures\\\\HL3_grouped.pdf\")"
   ]
  },
  {
   "cell_type": "code",
   "execution_count": null,
   "metadata": {},
   "outputs": [],
   "source": []
  }
 ],
 "metadata": {
  "kernelspec": {
   "display_name": "Python 3",
   "language": "python",
   "name": "python3"
  },
  "language_info": {
   "codemirror_mode": {
    "name": "ipython",
    "version": 3
   },
   "file_extension": ".py",
   "mimetype": "text/x-python",
   "name": "python",
   "nbconvert_exporter": "python",
   "pygments_lexer": "ipython3",
   "version": "3.8.5"
  }
 },
 "nbformat": 4,
 "nbformat_minor": 4
}

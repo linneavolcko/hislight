{
 "cells": [
  {
   "cell_type": "code",
   "execution_count": 1,
   "metadata": {},
   "outputs": [],
   "source": [
    "from pathlib import Path\n",
    "import matplotlib.pyplot as plt\n",
    "import trompy as tp\n",
    "import numpy as np\n",
    "import pickle\n",
    "import pandas as pd\n",
    "import seaborn as sns\n",
    "%matplotlib inline"
   ]
  },
  {
   "cell_type": "code",
   "execution_count": 2,
   "metadata": {},
   "outputs": [],
   "source": [
    "with open(\"C://Data//hislight_pickles//restricted_dark.pickle\", 'rb') as handle:\n",
    "    PVH = pickle.load(handle)\n",
    "\n",
    "with open(\"C://Data//hislight_pickles//HL3_restricted_dark.pickle\", 'rb') as handle:\n",
    "    VMH = pickle.load(handle)    "
   ]
  },
  {
   "cell_type": "code",
   "execution_count": 9,
   "metadata": {},
   "outputs": [],
   "source": [
    "PVH_list_of_mice = []\n",
    "VMH_list_of_mice = []\n",
    "\n",
    "mice_to_exclude = [\"HL313\", \"HL314\", \"HL315\", \"HL316\", \"HL317\", \"HL318\", \"HL306\", \"HL308\", \n",
    "                   \"HL202\", \"HL205\", \"HL206\", \"HL211\",\n",
    "                  \"HL301\", \"HL304\", \"HL305\"]\n",
    "\n",
    "\n",
    "#\"HL202\", \"HL205\", \"HL206\", \"HL211\" have poor placements without virus in PVH\n",
    "#HL 306, 308 have no virus\n",
    "#HL301, HL304, HL305 have poor fiber placement\n",
    "#HL313 - HL318 are control mice\n",
    "\n",
    "\n",
    "for key, val in PVH.items():\n",
    "    if val[\"mouse_ID\"] not in mice_to_exclude:\n",
    "        if val[\"mouse_ID\"] not in PVH_list_of_mice:\n",
    "            PVH_list_of_mice.append(val[\"mouse_ID\"])\n",
    "        \n",
    "for key, val in VMH.items():\n",
    "    if val[\"mouse_ID\"] not in mice_to_exclude:\n",
    "        if val[\"mouse_ID\"] not in VMH_list_of_mice:\n",
    "            VMH_list_of_mice.append(val[\"mouse_ID\"])"
   ]
  },
  {
   "cell_type": "code",
   "execution_count": 10,
   "metadata": {},
   "outputs": [],
   "source": [
    "def get_snips(data, mice):\n",
    "\n",
    "    snips_mean_start= []\n",
    "    snips_mean_end = []\n",
    "    snips_mean_full = []\n",
    "\n",
    "    kwargs={\"bins\":150, \"trial_length\":15, \"baseline_length\":5}   \n",
    "\n",
    "    pre = 5\n",
    "    post = 10\n",
    "    mineventlength=10\n",
    "    binlength=0.1\n",
    "\n",
    "    for mouse in mice:\n",
    "        snips_start = []\n",
    "        snips_end = []\n",
    "        snips_full = []\n",
    "\n",
    "        for key, val in data.items():\n",
    "            if val[\"mouse_ID\"]==mouse:\n",
    "                if len(val[\"licks\"]) < 10:\n",
    "                    continue\n",
    "\n",
    "                lickdata= tp.lickCalc(val[\"licks\"], minrunlength=3)\n",
    "\n",
    "                snips_start.append(tp.snipper(val[\"corrected\"], lickdata[\"rStart\"], val[\"fs\"], **kwargs)[0])\n",
    "                snips_end.append(tp.snipper(val[\"corrected\"], lickdata[\"rEnd\"], val[\"fs\"], **kwargs)[0])\n",
    "\n",
    "                snipper = tp.Snipper(val[\"corrected\"],\n",
    "                                        lickdata[\"rStart\"],\n",
    "                                        end=lickdata[\"rEnd\"],\n",
    "                                        fs=val[\"fs\"],\n",
    "                                        pre=pre,\n",
    "                                        post=post,\n",
    "                                        binlength=binlength,\n",
    "                                        zscore=True\n",
    "                                        )\n",
    "\n",
    "                snipper.truncate_to_same_length(cols_to_add=10, mineventlength=mineventlength)\n",
    "                snipper.find_potential_artifacts(threshold=8, method=\"sum\")\n",
    "                snips_full.append(snipper.snips)\n",
    "\n",
    "\n",
    "        snips_start = np.vstack(snips_start)\n",
    "        snips_end = np.vstack(snips_end)\n",
    "        \n",
    "        try:\n",
    "            snips_full = np.vstack(snips_full)\n",
    "            snips_mean_full.append(np.mean(snips_full, axis=0))\n",
    "            print(\"adding this mouse\")\n",
    "        except:\n",
    "            print(\"no snips to concatenate\")\n",
    "\n",
    "        snips_mean_start.append(np.mean(snips_start, axis=0))\n",
    "        snips_mean_end.append(np.mean(snips_end, axis=0))\n",
    "   \n",
    "    snips_mean_full = np.array(snips_mean_full)\n",
    "    \n",
    "    return snips_mean_start, snips_mean_end, snips_mean_full"
   ]
  },
  {
   "cell_type": "code",
   "execution_count": 11,
   "metadata": {},
   "outputs": [
    {
     "name": "stdout",
     "output_type": "stream",
     "text": [
      "<class 'numpy.ndarray'>\n",
      "<class 'numpy.ndarray'>\n",
      "Found 1 potential artifacts.\n",
      "<class 'numpy.ndarray'>\n",
      "adding this mouse\n",
      "<class 'numpy.ndarray'>\n",
      "<class 'numpy.ndarray'>\n",
      "Found 1 potential artifacts.\n",
      "<class 'numpy.ndarray'>\n",
      "adding this mouse\n",
      "<class 'numpy.ndarray'>\n",
      "<class 'numpy.ndarray'>\n",
      "<class 'numpy.ndarray'>"
     ]
    },
    {
     "name": "stderr",
     "output_type": "stream",
     "text": [
      "C:\\Users\\kvo019\\Anaconda3\\lib\\site-packages\\trompy\\snipper_class.py:172: VisibleDeprecationWarning: Creating an ndarray from ragged nested sequences (which is a list-or-tuple of lists-or-tuples-or ndarrays with different lengths or shapes) is deprecated. If you meant to do this, you must specify 'dtype=object' when creating the ndarray\n",
      "  self.snips = np.array([self.put_snip_in_bins(snip) for snip in self.snips])\n",
      "C:\\Users\\kvo019\\Anaconda3\\lib\\site-packages\\trompy\\snipper_class.py:186: VisibleDeprecationWarning: Creating an ndarray from ragged nested sequences (which is a list-or-tuple of lists-or-tuples-or ndarrays with different lengths or shapes) is deprecated. If you meant to do this, you must specify 'dtype=object' when creating the ndarray\n",
      "  self.snips = np.array(z_snips)\n"
     ]
    },
    {
     "name": "stdout",
     "output_type": "stream",
     "text": [
      "\n",
      "adding this mouse\n",
      "<class 'numpy.ndarray'>\n",
      "Found 5 potential artifacts.\n",
      "<class 'numpy.ndarray'>\n",
      "<class 'numpy.ndarray'>\n",
      "Found 4 potential artifacts.\n",
      "adding this mouse\n",
      "<class 'numpy.ndarray'>\n",
      "<class 'numpy.ndarray'>\n",
      "<class 'numpy.ndarray'>\n",
      "adding this mouse\n",
      "<class 'numpy.ndarray'>\n",
      "Found 8 potential artifacts.\n",
      "<class 'numpy.ndarray'>\n",
      "Found 3 potential artifacts.\n",
      "<class 'numpy.ndarray'>\n",
      "adding this mouse\n",
      "<class 'numpy.ndarray'>\n",
      "Found 2 potential artifacts.\n",
      "<class 'numpy.ndarray'>\n",
      "Found 1 potential artifacts.\n",
      "<class 'numpy.ndarray'>\n",
      "Found 1 potential artifacts.\n",
      "adding this mouse\n",
      "<class 'numpy.ndarray'>\n",
      "Found 13 potential artifacts.\n",
      "<class 'numpy.ndarray'>\n",
      "<class 'numpy.ndarray'>\n",
      "adding this mouse\n",
      "<class 'numpy.ndarray'>\n",
      "Found 1 potential artifacts.\n",
      "<class 'numpy.ndarray'>\n",
      "Found 2 potential artifacts.\n",
      "<class 'numpy.ndarray'>\n",
      "adding this mouse\n",
      "<class 'numpy.ndarray'>\n",
      "Found 5 potential artifacts.\n",
      "<class 'numpy.ndarray'>\n",
      "Found 8 potential artifacts.\n",
      "<class 'numpy.ndarray'>\n",
      "adding this mouse\n",
      "<class 'numpy.ndarray'>\n",
      "<class 'numpy.ndarray'>\n",
      "<class 'numpy.ndarray'>\n",
      "adding this mouse\n",
      "<class 'numpy.ndarray'>\n",
      "Found 1 potential artifacts.\n",
      "<class 'numpy.ndarray'>\n",
      "Found 2 potential artifacts.\n",
      "<class 'numpy.ndarray'>\n",
      "Found 1 potential artifacts.\n",
      "adding this mouse\n",
      "<class 'numpy.ndarray'>\n",
      "<class 'numpy.ndarray'>\n",
      "Found 1 potential artifacts.\n",
      "<class 'numpy.ndarray'>\n",
      "adding this mouse\n",
      "<class 'numpy.ndarray'>\n",
      "<class 'numpy.ndarray'>\n",
      "Found 1 potential artifacts.\n",
      "<class 'numpy.ndarray'>\n",
      "Found 1 potential artifacts.\n",
      "adding this mouse\n"
     ]
    },
    {
     "name": "stderr",
     "output_type": "stream",
     "text": [
      "C:\\Users\\kvo019\\Anaconda3\\lib\\site-packages\\trompy\\lickcalc.py:239: RuntimeWarning: invalid value encountered in power\n",
      "  return (np.exp(-(alpha*x)**beta))\n"
     ]
    }
   ],
   "source": [
    "PVH_snips_mean_start, PVH_snips_mean_end, PVH_snips_mean_full = get_snips(PVH, PVH_list_of_mice)\n",
    "VMH_snips_mean_start, VMH_snips_mean_end, VMH_snips_mean_full = get_snips(VMH, VMH_list_of_mice)"
   ]
  },
  {
   "cell_type": "code",
   "execution_count": 12,
   "metadata": {},
   "outputs": [],
   "source": [
    "colors_PVH = \"#219C90\"\n",
    "colors_VMH  = \"#90219c\"\n",
    "\n",
    "colors = [\"#219C90\", \"#90219c\"]"
   ]
  },
  {
   "cell_type": "code",
   "execution_count": 13,
   "metadata": {
    "scrolled": true
   },
   "outputs": [
    {
     "data": {
      "image/png": "[encoded data removed]",
      "text/plain": [
       "<Figure size 360x360 with 1 Axes>"
      ]
     },
     "metadata": {},
     "output_type": "display_data"
    }
   ],
   "source": [
    "f, ax =plt.subplots(figsize=[5,5])\n",
    "\n",
    "pre = 5\n",
    "post = 10\n",
    "mineventlength=10\n",
    "binlength=0.1\n",
    "\n",
    "bins_early = int((pre + mineventlength/2)/binlength)\n",
    "bins_late = int((post + mineventlength/2)/binlength)\n",
    "\n",
    "#PVH\n",
    "x1_PVH = np.arange(0,bins_early)\n",
    "x2_PVH= np.arange(PVH_snips_mean_full.shape[1] - bins_late, PVH_snips_mean_full.shape[1])\n",
    "\n",
    "mean_PVH = np.mean(PVH_snips_mean_full, axis=0)\n",
    "error_values_PVH = np.std(PVH_snips_mean_full, axis=0) / np.sqrt(len(PVH_snips_mean_full))\n",
    "\n",
    "ax.plot(x1_PVH, mean_PVH[:bins_early], color=colors_PVH)\n",
    "ax.plot(x2_PVH, mean_PVH[-bins_late:], color=colors_PVH)\n",
    "\n",
    "ax.fill_between(x1_PVH, mean_PVH[:bins_early]-error_values_PVH[:bins_early], \n",
    "                mean_PVH[:bins_early]+error_values_PVH[:bins_early], \n",
    "                color=colors_PVH, alpha=0.3)\n",
    "ax.fill_between(x2_PVH, mean_PVH[-bins_late:]-error_values_PVH[-bins_late:], \n",
    "                mean_PVH[-bins_late:]+error_values_PVH[-bins_late:], \n",
    "                color=colors_PVH, alpha=0.3)\n",
    "\n",
    "#VMH\n",
    "x1_VMH = np.arange(0,bins_early)\n",
    "x2_VMH= np.arange(VMH_snips_mean_full.shape[1] - bins_late, VMH_snips_mean_full.shape[1])\n",
    "\n",
    "mean_VMH = np.mean(VMH_snips_mean_full, axis=0)\n",
    "error_values_VMH = np.std(VMH_snips_mean_full, axis=0) / np.sqrt(len(VMH_snips_mean_full))\n",
    "\n",
    "ax.plot(x1_VMH, mean_VMH[:bins_early], color=colors_VMH)\n",
    "ax.plot(x2_VMH, mean_VMH[-bins_late:], color=colors_VMH)\n",
    "\n",
    "ax.fill_between(x1_VMH, mean_VMH[:bins_early]-error_values_VMH[:bins_early], \n",
    "                mean_VMH[:bins_early]+error_values_VMH[:bins_early], \n",
    "                color=colors_VMH, alpha=0.3)\n",
    "ax.fill_between(x2_VMH, mean_VMH[-bins_late:]-error_values_VMH[-bins_late:], \n",
    "                mean_VMH[-bins_late:]+error_values_VMH[-bins_late:], \n",
    "                color=colors_VMH, alpha=0.3)\n",
    "\n",
    "\n",
    "for spine in [\"top\", \"right\", \"left\", \"bottom\"]:\n",
    "    ax.spines[spine].set_visible(False)\n",
    "\n",
    "ax.set_yticks([])\n",
    "ax.set_xticks([])\n",
    "\n",
    "ax.plot([200,250], [-1,-1], linewidth=2, color=\"k\")\n",
    "ax.text(225,-1.1,\"5 s\", va=\"top\", ha=\"center\")\n",
    "\n",
    "ax.plot([0,0], [0.5, 1.5], linewidth=2, color=\"k\")\n",
    "ax.text(-3, 1, \"1 Z\", va=\"center\", ha=\"right\")\n",
    "\n",
    "ax.axvline(50, color=\"k\", linestyle=\"--\", alpha=0.5)\n",
    "ax.axvline(160, color=\"k\", linestyle=\"--\", alpha=0.5)\n",
    "\n",
    "\n",
    "f.savefig(\"C:\\\\Users\\\\kvo019\\\\OneDrive - UiT Office 365\\\\Pipette 2\\\\People\\\\Linnea\\\\Manuscripts\\\\hislight paper\\\\figures\\\\PVH_vs_VMH_restricted.pdf\")"
   ]
  },
  {
   "cell_type": "code",
   "execution_count": 14,
   "metadata": {},
   "outputs": [
    {
     "data": {
      "image/png": "[encoded data removed]",
      "text/plain": [
       "<Figure size 288x468 with 4 Axes>"
      ]
     },
     "metadata": {
      "needs_background": "light"
     },
     "output_type": "display_data"
    }
   ],
   "source": [
    "f,[[ax1, ax2], [ax3, ax4]]=plt.subplots(nrows=2, ncols=2,\n",
    "                                        figsize=[4,6.5],\n",
    "                                        gridspec_kw={\"width_ratios\":[10,1]})\n",
    "\n",
    "\n",
    "\n",
    "sns.heatmap(PVH_snips_mean_full, ax=ax1, cbar_ax= ax2, cmap=\"RdBu_r\", vmax=3, vmin=-3, cbar_kws={\"ticks\": [2, 0, -2]})\n",
    "sns.heatmap(VMH_snips_mean_full, ax=ax3, cbar_ax= ax4, cmap=\"RdBu_r\", vmax=3, vmin=-3, cbar_kws={\"ticks\": [2, 0, -2]})\n",
    "\n",
    "ax1.set_yticks([])\n",
    "ax1.set_xticks([])\n",
    "ax1.axvline(50, color=\"k\", linestyle=\"--\", alpha=0.9)\n",
    "ax1.axvline(160, color=\"k\", linestyle=\"--\", alpha=0.9)\n",
    "\n",
    "ax3.set_yticks([])\n",
    "ax3.set_xticks([])\n",
    "ax3.axvline(50, color=\"black\", linestyle=\"--\", alpha=0.9)\n",
    "ax3.axvline(160, color=\"black\", linestyle=\"--\", alpha=0.9)\n",
    "\n",
    "ax1.set_ylabel(\"mice (avg across trials)\")\n",
    "ax3.set_ylabel(\"mice (avg across trials)\")\n",
    "\n",
    "\n",
    "f.savefig(\"C:\\\\Users\\\\kvo019\\\\OneDrive - UiT Office 365\\\\Pipette 2\\\\People\\\\Linnea\\\\Manuscripts\\\\hislight paper\\\\figures\\\\PVH_vs_VMH_heatmap.pdf\")"
   ]
  },
  {
   "cell_type": "code",
   "execution_count": null,
   "metadata": {},
   "outputs": [],
   "source": []
  },
  {
   "cell_type": "code",
   "execution_count": null,
   "metadata": {},
   "outputs": [],
   "source": []
  }
 ],
 "metadata": {
  "kernelspec": {
   "display_name": "Python 3",
   "language": "python",
   "name": "python3"
  },
  "language_info": {
   "codemirror_mode": {
    "name": "ipython",
    "version": 3
   },
   "file_extension": ".py",
   "mimetype": "text/x-python",
   "name": "python",
   "nbconvert_exporter": "python",
   "pygments_lexer": "ipython3",
   "version": "3.8.5"
  }
 },
 "nbformat": 4,
 "nbformat_minor": 4
}

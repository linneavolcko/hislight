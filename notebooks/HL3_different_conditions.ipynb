{
 "cells": [
  {
   "cell_type": "code",
   "execution_count": 2,
   "metadata": {},
   "outputs": [],
   "source": [
    "from pathlib import Path\n",
    "import matplotlib.pyplot as plt\n",
    "import trompy as tp\n",
    "import numpy as np\n",
    "import pickle\n",
    "import pandas as pd\n",
    "import seaborn as sns\n",
    "%matplotlib inline"
   ]
  },
  {
   "cell_type": "code",
   "execution_count": 3,
   "metadata": {},
   "outputs": [],
   "source": [
    "with open(\"C://Data//hislight_pickles//HL3_restricted_dark.pickle\", 'rb') as handle:\n",
    "    restricted = pickle.load(handle)\n",
    "    \n",
    "with open('C://Data//hislight_pickles//HL3_adlib_light.pickle', 'rb') as handle:\n",
    "    light = pickle.load(handle)\n",
    "    \n",
    "with open('C://Data//hislight_pickles//HL3_adlib_dark.pickle', 'rb') as handle:\n",
    "    dark = pickle.load(handle)\n",
    "\n",
    "with open('C://Data//hislight_pickles//HL3_adlib_sucralose.pickle', 'rb') as handle:\n",
    "    sucralose = pickle.load(handle)    \n",
    "    "
   ]
  },
  {
   "cell_type": "code",
   "execution_count": 4,
   "metadata": {},
   "outputs": [],
   "source": [
    "mice_to_exclude = [\"HL313\", \"HL314\", \"HL315\", \"HL316\", \"HL317\", \"HL318\", \"HL303\", \"HL304\"]\n",
    "\n",
    "#HL313 - HL318 are control mice"
   ]
  },
  {
   "cell_type": "code",
   "execution_count": 7,
   "metadata": {},
   "outputs": [],
   "source": [
    "list_of_mice = []\n",
    "\n",
    "for key, val in restricted.items():\n",
    "    if val[\"mouse_ID\"] not in mice_to_exclude:\n",
    "        if val[\"mouse_ID\"] not in list_of_mice :\n",
    "            list_of_mice.append(val[\"mouse_ID\"])"
   ]
  },
  {
   "cell_type": "code",
   "execution_count": 8,
   "metadata": {},
   "outputs": [
    {
     "data": {
      "text/plain": [
       "['HL301',\n",
       " 'HL302',\n",
       " 'HL305',\n",
       " 'HL306',\n",
       " 'HL307',\n",
       " 'HL308',\n",
       " 'HL309',\n",
       " 'HL310',\n",
       " 'HL311',\n",
       " 'HL312']"
      ]
     },
     "execution_count": 8,
     "metadata": {},
     "output_type": "execute_result"
    }
   ],
   "source": [
    "list_of_mice"
   ]
  },
  {
   "cell_type": "code",
   "execution_count": 15,
   "metadata": {},
   "outputs": [],
   "source": [
    "def get_snips(data):\n",
    "\n",
    "    snips_mean_start= []\n",
    "    snips_mean_end = []\n",
    "    snips_mean_full = []\n",
    "\n",
    "    kwargs={\"bins\":150, \"trial_length\":15, \"baseline_length\":5}   \n",
    "\n",
    "    pre = 5\n",
    "    post = 10\n",
    "    mineventlength=10\n",
    "    binlength=0.1\n",
    "\n",
    "    for mouse in list_of_mice:\n",
    "        snips_start = []\n",
    "        snips_end = []\n",
    "        snips_full = []\n",
    "\n",
    "        for key, val in data.items():\n",
    "            if val[\"mouse_ID\"]==mouse:\n",
    "                if len(val[\"licks\"]) < 10:\n",
    "                    continue\n",
    "\n",
    "                lickdata= tp.lickCalc(val[\"licks\"], minrunlength=3)\n",
    "\n",
    "                snips_start.append(tp.snipper(val[\"corrected\"], lickdata[\"rStart\"], val[\"fs\"], **kwargs)[0])\n",
    "                snips_end.append(tp.snipper(val[\"corrected\"], lickdata[\"rEnd\"], val[\"fs\"], **kwargs)[0])\n",
    "\n",
    "                snipper = tp.Snipper(val[\"corrected\"],\n",
    "                                        lickdata[\"rStart\"],\n",
    "                                        end=lickdata[\"rEnd\"],\n",
    "                                        fs=val[\"fs\"],\n",
    "                                        pre=pre,\n",
    "                                        post=post,\n",
    "                                        binlength=binlength,\n",
    "                                        zscore=True\n",
    "                                        )\n",
    "\n",
    "                snipper.truncate_to_same_length(cols_to_add=10, mineventlength=mineventlength)\n",
    "                snips_full.append(snipper.snips)\n",
    "\n",
    "\n",
    "        snips_start = np.vstack(snips_start)\n",
    "        snips_end = np.vstack(snips_end)\n",
    "        snips_full = np.vstack(snips_full)\n",
    "\n",
    "        snips_mean_start.append(np.mean(snips_start, axis=0))\n",
    "        snips_mean_end.append(np.mean(snips_end, axis=0))\n",
    "        snips_mean_full.append(np.mean(snips_full, axis=0))\n",
    "\n",
    "    snips_mean_full = np.array(snips_mean_full)\n",
    "    \n",
    "    return snips_mean_start, snips_mean_end, snips_mean_full"
   ]
  },
  {
   "cell_type": "code",
   "execution_count": 18,
   "metadata": {},
   "outputs": [],
   "source": [
    "light_start, light_end, light_full = get_snips(light)\n",
    "dark_start, dark_end, dark_full = get_snips(dark)\n",
    "restricted_start, restricted_end, restricted_full = get_snips(restricted)\n",
    "sucralose_start, sucralose_end, sucralose_full = get_snips(sucralose)"
   ]
  },
  {
   "cell_type": "code",
   "execution_count": 26,
   "metadata": {},
   "outputs": [],
   "source": [
    "colors_adlib_light = \"#F266AB\"\n",
    "colors_adlib_dark = \"#FFB84C\"\n",
    "colors_restricted = \"#90219c\"\n",
    "colors_sucralose = \"#2CD3E1\"\n",
    "\n",
    "\n",
    "colors = [\"#D83F31\", \"#EE9322\", \"#219C90\",\"#E9B824\"]"
   ]
  },
  {
   "cell_type": "code",
   "execution_count": 27,
   "metadata": {
    "scrolled": true
   },
   "outputs": [
    {
     "data": {
      "text/plain": [
       "<matplotlib.lines.Line2D at 0x26aad5f9130>"
      ]
     },
     "execution_count": 27,
     "metadata": {},
     "output_type": "execute_result"
    },
    {
     "data": {
      "image/png": "[encoded data removed]",
      "text/plain": [
       "<Figure size 360x360 with 1 Axes>"
      ]
     },
     "metadata": {},
     "output_type": "display_data"
    }
   ],
   "source": [
    "f, ax =plt.subplots(figsize=[5,5])\n",
    "\n",
    "pre = 5\n",
    "post = 10\n",
    "mineventlength=10\n",
    "binlength=0.1\n",
    "\n",
    "bins_early = int((pre + mineventlength/2)/binlength)\n",
    "bins_late = int((post + mineventlength/2)/binlength)\n",
    "\n",
    "#restricted\n",
    "x1_restricted = np.arange(0,bins_early)\n",
    "x2_restricted = np.arange(restricted_full.shape[1] - bins_late, restricted_full.shape[1])\n",
    "\n",
    "mean_restricted = np.mean(restricted_full, axis=0)\n",
    "error_values_restricted = np.std(restricted_full, axis=0) / np.sqrt(len(restricted_full))\n",
    "\n",
    "ax.plot(x1_restricted, mean_restricted[:bins_early], color=colors_restricted)\n",
    "ax.plot(x2_restricted, mean_restricted[-bins_late:], color=colors_restricted)\n",
    "\n",
    "ax.fill_between(x1_restricted, mean_restricted[:bins_early]-error_values_restricted[:bins_early], \n",
    "                mean_restricted[:bins_early]+error_values_restricted[:bins_early], \n",
    "                color=colors_restricted, alpha=0.3)\n",
    "ax.fill_between(x2_restricted, mean_restricted[-bins_late:]-error_values_restricted[-bins_late:], \n",
    "                mean_restricted[-bins_late:]+error_values_restricted[-bins_late:], \n",
    "                color=colors_restricted, alpha=0.3)\n",
    "\n",
    "# adlib light\n",
    "\n",
    "x1_light = np.arange(0,bins_early)\n",
    "x2_light = np.arange(light_full.shape[1] - bins_late, light_full.shape[1])\n",
    "\n",
    "mean_light = np.mean(light_full, axis=0)\n",
    "error_values_light = np.std(light_full, axis=0) / np.sqrt(len(light_full))\n",
    "\n",
    "ax.plot(x1_light, mean_light[:bins_early], color=colors_adlib_light)\n",
    "ax.plot(x2_light, mean_light[-bins_late:], color=colors_adlib_light)\n",
    "\n",
    "ax.fill_between(x1_light, mean_light[:bins_early]-error_values_light[:bins_early], \n",
    "                mean_light[:bins_early]+error_values_light[:bins_early], \n",
    "                color=colors_adlib_light, alpha=0.3)\n",
    "ax.fill_between(x2_light, mean_light[-bins_late:]-error_values_light[-bins_late:], \n",
    "                mean_light[-bins_late:]+error_values_light[-bins_late:], \n",
    "                color=colors_adlib_light, alpha=0.3)\n",
    "\n",
    "# adlib dark\n",
    "\n",
    "x1_dark = np.arange(0,bins_early)\n",
    "x2_dark = np.arange(dark_full.shape[1] - bins_late, dark_full.shape[1])\n",
    "\n",
    "mean_dark = np.mean(dark_full, axis=0)\n",
    "error_values_dark = np.std(dark_full, axis=0) / np.sqrt(len(dark_full))\n",
    "\n",
    "ax.plot(x1_dark, mean_dark[:bins_early], color=colors_adlib_dark)\n",
    "ax.plot(x2_dark, mean_dark[-bins_late:], color=colors_adlib_dark)\n",
    "\n",
    "ax.fill_between(x1_dark, mean_dark[:bins_early]-error_values_dark[:bins_early], \n",
    "                mean_dark[:bins_early]+error_values_dark[:bins_early], \n",
    "                color=colors_adlib_dark, alpha=0.3)\n",
    "ax.fill_between(x2_dark, mean_dark[-bins_late:]-error_values_dark[-bins_late:], \n",
    "                mean_dark[-bins_late:]+error_values_dark[-bins_late:], \n",
    "                color=colors_adlib_dark, alpha=0.3)\n",
    "\n",
    "\n",
    "# sucralose\n",
    "\n",
    "x1_sucralose = np.arange(0,bins_early)\n",
    "x2_sucralose = np.arange(sucralose_full.shape[1] - bins_late, sucralose_full.shape[1])\n",
    "\n",
    "mean_sucralose = np.nanmean(sucralose_full, axis=0)\n",
    "error_values_sucralose= np.std(sucralose_full, axis=0) / np.sqrt(len(sucralose_full))\n",
    "\n",
    "ax.plot(x1_sucralose, mean_sucralose[:bins_early], color=colors_sucralose)\n",
    "ax.plot(x2_sucralose, mean_sucralose[-bins_late:], color=colors_sucralose)\n",
    "\n",
    "ax.fill_between(x1_sucralose, mean_sucralose[:bins_early]-error_values_sucralose[:bins_early], \n",
    "                mean_sucralose[:bins_early]+error_values_sucralose[:bins_early], \n",
    "                color=colors_sucralose, alpha=0.3)\n",
    "ax.fill_between(x2_sucralose, mean_sucralose[-bins_late:]-error_values_sucralose[-bins_late:], \n",
    "                mean_dark[-bins_late:]+error_values_sucralose[-bins_late:], \n",
    "                color=colors_sucralose, alpha=0.3)\n",
    "\n",
    "for spine in [\"top\", \"right\", \"left\", \"bottom\"]:\n",
    "    ax.spines[spine].set_visible(False)\n",
    "\n",
    "ax.set_yticks([])\n",
    "ax.set_xticks([])\n",
    "\n",
    "ax.plot([200,250], [-1,-1], linewidth=2, color=\"k\")\n",
    "ax.text(225,-1.1,\"5 s\", va=\"top\", ha=\"center\")\n",
    "\n",
    "ax.plot([0,0], [0.5, 1.5], linewidth=2, color=\"k\")\n",
    "ax.text(-3, 1, \"1 Z\", va=\"center\", ha=\"right\")\n",
    "\n",
    "ax.axvline(50, color=\"k\", linestyle=\"--\", alpha=0.5)\n",
    "ax.axvline(160, color=\"k\", linestyle=\"--\", alpha=0.5)\n",
    "\n",
    "\n",
    "#f.savefig(\"C:\\\\Users\\\\kvo019\\\\OneDrive - UiT Office 365\\\\Pipette 2\\\\People\\\\Linnea\\\\Manuscripts\\\\hislight paper\\\\figures\\\\HL3_diff_conditions.pdf\")"
   ]
  },
  {
   "cell_type": "code",
   "execution_count": null,
   "metadata": {},
   "outputs": [],
   "source": []
  }
 ],
 "metadata": {
  "kernelspec": {
   "display_name": "Python 3",
   "language": "python",
   "name": "python3"
  },
  "language_info": {
   "codemirror_mode": {
    "name": "ipython",
    "version": 3
   },
   "file_extension": ".py",
   "mimetype": "text/x-python",
   "name": "python",
   "nbconvert_exporter": "python",
   "pygments_lexer": "ipython3",
   "version": "3.8.5"
  }
 },
 "nbformat": 4,
 "nbformat_minor": 4
}

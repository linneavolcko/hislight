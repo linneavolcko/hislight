{
 "cells": [
  {
   "cell_type": "code",
   "execution_count": 19,
   "metadata": {},
   "outputs": [],
   "source": [
    "from pathlib import Path\n",
    "import matplotlib.pyplot as plt\n",
    "import trompy as tp\n",
    "import numpy as np\n",
    "import pickle\n",
    "import pandas as pd\n",
    "import seaborn as sns\n",
    "%matplotlib inline"
   ]
  },
  {
   "cell_type": "code",
   "execution_count": 20,
   "metadata": {},
   "outputs": [],
   "source": [
    "DATAPATH = Path(\"C://Data//hislight_pickles//HL3_restricted_dark.pickle\")\n",
    "\n",
    "with open(DATAPATH, 'rb') as handle:\n",
    "    HL3_restricted = pickle.load(handle)"
   ]
  },
  {
   "cell_type": "code",
   "execution_count": 21,
   "metadata": {},
   "outputs": [],
   "source": [
    "mouse_to_be_analyzed = \"HL304\""
   ]
  },
  {
   "cell_type": "code",
   "execution_count": 22,
   "metadata": {
    "scrolled": true
   },
   "outputs": [],
   "source": [
    "def get_snips(data, mouse):\n",
    "    \n",
    "    snips_start = []\n",
    "    snips_end = []\n",
    "    snips_full = []\n",
    "\n",
    "    kwargs={\"bins\":150, \"trial_length\":15, \"baseline_length\":5}   \n",
    "\n",
    "    pre = 5\n",
    "    post = 10\n",
    "    mineventlength=10\n",
    "    binlength=0.1\n",
    "\n",
    "    for key, val in data.items():\n",
    "        if val[\"mouse_ID\"]==mouse:\n",
    "            if len(val[\"licks\"]) < 10:\n",
    "                continue\n",
    "\n",
    "            lickdata= tp.lickCalc(val[\"licks\"], minrunlength=3)\n",
    "\n",
    "            snips_start.append(tp.snipper(val[\"corrected\"], lickdata[\"rStart\"], val[\"fs\"], **kwargs)[0])\n",
    "            snips_end.append(tp.snipper(val[\"corrected\"], lickdata[\"rEnd\"], val[\"fs\"], **kwargs)[0])\n",
    "\n",
    "            snipper = tp.Snipper(val[\"corrected\"],\n",
    "                                    lickdata[\"rStart\"],\n",
    "                                    end=lickdata[\"rEnd\"],\n",
    "                                    fs=val[\"fs\"],\n",
    "                                    pre=pre,\n",
    "                                    post=post,\n",
    "                                    binlength=binlength,\n",
    "                                    zscore=True\n",
    "                                    )\n",
    "\n",
    "            snipper.truncate_to_same_length(cols_to_add=10, mineventlength=mineventlength)\n",
    "            snipper.find_potential_artifacts(threshold=8, method=\"sum\")\n",
    "            snips_full.append(snipper.snips)\n",
    "\n",
    "\n",
    "    snips_start = np.vstack(snips_start)\n",
    "    snips_end = np.vstack(snips_end)\n",
    "\n",
    "    try:\n",
    "        snips_full = np.vstack(snips_full)\n",
    "        print(\"adding this mouse\")\n",
    "    except:\n",
    "        print(\"no snips to concatenate\")\n",
    "\n",
    "\n",
    "    return snips_start, snips_end, snips_full"
   ]
  },
  {
   "cell_type": "code",
   "execution_count": 23,
   "metadata": {},
   "outputs": [
    {
     "name": "stdout",
     "output_type": "stream",
     "text": [
      "<class 'numpy.ndarray'>\n",
      "Found 11 potential artifacts.\n",
      "<class 'numpy.ndarray'>\n",
      "Found 1 potential artifacts.\n",
      "<class 'numpy.ndarray'>\n",
      "no snips to concatenate\n"
     ]
    }
   ],
   "source": [
    "snips_start, snips_end, snips_full = get_snips(HL3_restricted, mouse_to_be_analyzed)"
   ]
  },
  {
   "cell_type": "code",
   "execution_count": 24,
   "metadata": {},
   "outputs": [
    {
     "ename": "IndexError",
     "evalue": "Inconsistent shape between the condition and the input (got (3, 1) and (3,))",
     "output_type": "error",
     "traceback": [
      "\u001b[1;31m---------------------------------------------------------------------------\u001b[0m",
      "\u001b[1;31mIndexError\u001b[0m                                Traceback (most recent call last)",
      "\u001b[1;32m<ipython-input-24-33af8819f9b9>\u001b[0m in \u001b[0;36m<module>\u001b[1;34m\u001b[0m\n\u001b[0;32m      8\u001b[0m \u001b[0mbinlength\u001b[0m\u001b[1;33m=\u001b[0m\u001b[1;36m0.1\u001b[0m\u001b[1;33m\u001b[0m\u001b[1;33m\u001b[0m\u001b[0m\n\u001b[0;32m      9\u001b[0m \u001b[1;33m\u001b[0m\u001b[0m\n\u001b[1;32m---> 10\u001b[1;33m \u001b[0msns\u001b[0m\u001b[1;33m.\u001b[0m\u001b[0mheatmap\u001b[0m\u001b[1;33m(\u001b[0m\u001b[0msnips_full\u001b[0m\u001b[1;33m,\u001b[0m \u001b[0max\u001b[0m\u001b[1;33m=\u001b[0m\u001b[0max1\u001b[0m\u001b[1;33m,\u001b[0m \u001b[0mcbar_ax\u001b[0m\u001b[1;33m=\u001b[0m \u001b[0max2\u001b[0m\u001b[1;33m,\u001b[0m \u001b[0mcmap\u001b[0m\u001b[1;33m=\u001b[0m\u001b[1;34m\"RdBu_r\"\u001b[0m\u001b[1;33m,\u001b[0m \u001b[0mvmax\u001b[0m\u001b[1;33m=\u001b[0m\u001b[1;36m2\u001b[0m\u001b[1;33m,\u001b[0m \u001b[0mvmin\u001b[0m\u001b[1;33m=\u001b[0m\u001b[1;33m-\u001b[0m\u001b[1;36m2\u001b[0m\u001b[1;33m,\u001b[0m \u001b[0mcbar_kws\u001b[0m\u001b[1;33m=\u001b[0m\u001b[1;33m{\u001b[0m\u001b[1;34m\"ticks\"\u001b[0m\u001b[1;33m:\u001b[0m \u001b[1;33m[\u001b[0m\u001b[1;36m2\u001b[0m\u001b[1;33m,\u001b[0m \u001b[1;36m0\u001b[0m\u001b[1;33m,\u001b[0m \u001b[1;33m-\u001b[0m\u001b[1;36m2\u001b[0m\u001b[1;33m]\u001b[0m\u001b[1;33m}\u001b[0m\u001b[1;33m)\u001b[0m\u001b[1;33m\u001b[0m\u001b[1;33m\u001b[0m\u001b[0m\n\u001b[0m\u001b[0;32m     11\u001b[0m \u001b[1;33m\u001b[0m\u001b[0m\n\u001b[0;32m     12\u001b[0m \u001b[0mbins_early\u001b[0m \u001b[1;33m=\u001b[0m \u001b[0mint\u001b[0m\u001b[1;33m(\u001b[0m\u001b[1;33m(\u001b[0m\u001b[0mpre\u001b[0m \u001b[1;33m+\u001b[0m \u001b[0mmineventlength\u001b[0m\u001b[1;33m/\u001b[0m\u001b[1;36m2\u001b[0m\u001b[1;33m)\u001b[0m\u001b[1;33m/\u001b[0m\u001b[0mbinlength\u001b[0m\u001b[1;33m)\u001b[0m\u001b[1;33m\u001b[0m\u001b[1;33m\u001b[0m\u001b[0m\n",
      "\u001b[1;32m~\\Anaconda3\\lib\\site-packages\\seaborn\\_decorators.py\u001b[0m in \u001b[0;36minner_f\u001b[1;34m(*args, **kwargs)\u001b[0m\n\u001b[0;32m     44\u001b[0m             )\n\u001b[0;32m     45\u001b[0m         \u001b[0mkwargs\u001b[0m\u001b[1;33m.\u001b[0m\u001b[0mupdate\u001b[0m\u001b[1;33m(\u001b[0m\u001b[1;33m{\u001b[0m\u001b[0mk\u001b[0m\u001b[1;33m:\u001b[0m \u001b[0marg\u001b[0m \u001b[1;32mfor\u001b[0m \u001b[0mk\u001b[0m\u001b[1;33m,\u001b[0m \u001b[0marg\u001b[0m \u001b[1;32min\u001b[0m \u001b[0mzip\u001b[0m\u001b[1;33m(\u001b[0m\u001b[0msig\u001b[0m\u001b[1;33m.\u001b[0m\u001b[0mparameters\u001b[0m\u001b[1;33m,\u001b[0m \u001b[0margs\u001b[0m\u001b[1;33m)\u001b[0m\u001b[1;33m}\u001b[0m\u001b[1;33m)\u001b[0m\u001b[1;33m\u001b[0m\u001b[1;33m\u001b[0m\u001b[0m\n\u001b[1;32m---> 46\u001b[1;33m         \u001b[1;32mreturn\u001b[0m \u001b[0mf\u001b[0m\u001b[1;33m(\u001b[0m\u001b[1;33m**\u001b[0m\u001b[0mkwargs\u001b[0m\u001b[1;33m)\u001b[0m\u001b[1;33m\u001b[0m\u001b[1;33m\u001b[0m\u001b[0m\n\u001b[0m\u001b[0;32m     47\u001b[0m     \u001b[1;32mreturn\u001b[0m \u001b[0minner_f\u001b[0m\u001b[1;33m\u001b[0m\u001b[1;33m\u001b[0m\u001b[0m\n\u001b[0;32m     48\u001b[0m \u001b[1;33m\u001b[0m\u001b[0m\n",
      "\u001b[1;32m~\\Anaconda3\\lib\\site-packages\\seaborn\\matrix.py\u001b[0m in \u001b[0;36mheatmap\u001b[1;34m(data, vmin, vmax, cmap, center, robust, annot, fmt, annot_kws, linewidths, linecolor, cbar, cbar_kws, cbar_ax, square, xticklabels, yticklabels, mask, ax, **kwargs)\u001b[0m\n\u001b[0;32m    543\u001b[0m     \"\"\"\n\u001b[0;32m    544\u001b[0m     \u001b[1;31m# Initialize the plotter object\u001b[0m\u001b[1;33m\u001b[0m\u001b[1;33m\u001b[0m\u001b[1;33m\u001b[0m\u001b[0m\n\u001b[1;32m--> 545\u001b[1;33m     plotter = _HeatMapper(data, vmin, vmax, cmap, center, robust, annot, fmt,\n\u001b[0m\u001b[0;32m    546\u001b[0m                           \u001b[0mannot_kws\u001b[0m\u001b[1;33m,\u001b[0m \u001b[0mcbar\u001b[0m\u001b[1;33m,\u001b[0m \u001b[0mcbar_kws\u001b[0m\u001b[1;33m,\u001b[0m \u001b[0mxticklabels\u001b[0m\u001b[1;33m,\u001b[0m\u001b[1;33m\u001b[0m\u001b[1;33m\u001b[0m\u001b[0m\n\u001b[0;32m    547\u001b[0m                           yticklabels, mask)\n",
      "\u001b[1;32m~\\Anaconda3\\lib\\site-packages\\seaborn\\matrix.py\u001b[0m in \u001b[0;36m__init__\u001b[1;34m(self, data, vmin, vmax, cmap, center, robust, annot, fmt, annot_kws, cbar, cbar_kws, xticklabels, yticklabels, mask)\u001b[0m\n\u001b[0;32m    112\u001b[0m         \u001b[0mmask\u001b[0m \u001b[1;33m=\u001b[0m \u001b[0m_matrix_mask\u001b[0m\u001b[1;33m(\u001b[0m\u001b[0mdata\u001b[0m\u001b[1;33m,\u001b[0m \u001b[0mmask\u001b[0m\u001b[1;33m)\u001b[0m\u001b[1;33m\u001b[0m\u001b[1;33m\u001b[0m\u001b[0m\n\u001b[0;32m    113\u001b[0m \u001b[1;33m\u001b[0m\u001b[0m\n\u001b[1;32m--> 114\u001b[1;33m         \u001b[0mplot_data\u001b[0m \u001b[1;33m=\u001b[0m \u001b[0mnp\u001b[0m\u001b[1;33m.\u001b[0m\u001b[0mma\u001b[0m\u001b[1;33m.\u001b[0m\u001b[0mmasked_where\u001b[0m\u001b[1;33m(\u001b[0m\u001b[0mnp\u001b[0m\u001b[1;33m.\u001b[0m\u001b[0masarray\u001b[0m\u001b[1;33m(\u001b[0m\u001b[0mmask\u001b[0m\u001b[1;33m)\u001b[0m\u001b[1;33m,\u001b[0m \u001b[0mplot_data\u001b[0m\u001b[1;33m)\u001b[0m\u001b[1;33m\u001b[0m\u001b[1;33m\u001b[0m\u001b[0m\n\u001b[0m\u001b[0;32m    115\u001b[0m \u001b[1;33m\u001b[0m\u001b[0m\n\u001b[0;32m    116\u001b[0m         \u001b[1;31m# Get good names for the rows and columns\u001b[0m\u001b[1;33m\u001b[0m\u001b[1;33m\u001b[0m\u001b[1;33m\u001b[0m\u001b[0m\n",
      "\u001b[1;32m~\\Anaconda3\\lib\\site-packages\\numpy\\ma\\core.py\u001b[0m in \u001b[0;36mmasked_where\u001b[1;34m(condition, a, copy)\u001b[0m\n\u001b[0;32m   1933\u001b[0m     \u001b[1;33m(\u001b[0m\u001b[0mcshape\u001b[0m\u001b[1;33m,\u001b[0m \u001b[0mashape\u001b[0m\u001b[1;33m)\u001b[0m \u001b[1;33m=\u001b[0m \u001b[1;33m(\u001b[0m\u001b[0mcond\u001b[0m\u001b[1;33m.\u001b[0m\u001b[0mshape\u001b[0m\u001b[1;33m,\u001b[0m \u001b[0ma\u001b[0m\u001b[1;33m.\u001b[0m\u001b[0mshape\u001b[0m\u001b[1;33m)\u001b[0m\u001b[1;33m\u001b[0m\u001b[1;33m\u001b[0m\u001b[0m\n\u001b[0;32m   1934\u001b[0m     \u001b[1;32mif\u001b[0m \u001b[0mcshape\u001b[0m \u001b[1;32mand\u001b[0m \u001b[0mcshape\u001b[0m \u001b[1;33m!=\u001b[0m \u001b[0mashape\u001b[0m\u001b[1;33m:\u001b[0m\u001b[1;33m\u001b[0m\u001b[1;33m\u001b[0m\u001b[0m\n\u001b[1;32m-> 1935\u001b[1;33m         raise IndexError(\"Inconsistent shape between the condition and the input\"\n\u001b[0m\u001b[0;32m   1936\u001b[0m                          \" (got %s and %s)\" % (cshape, ashape))\n\u001b[0;32m   1937\u001b[0m     \u001b[1;32mif\u001b[0m \u001b[0mhasattr\u001b[0m\u001b[1;33m(\u001b[0m\u001b[0ma\u001b[0m\u001b[1;33m,\u001b[0m \u001b[1;34m'_mask'\u001b[0m\u001b[1;33m)\u001b[0m\u001b[1;33m:\u001b[0m\u001b[1;33m\u001b[0m\u001b[1;33m\u001b[0m\u001b[0m\n",
      "\u001b[1;31mIndexError\u001b[0m: Inconsistent shape between the condition and the input (got (3, 1) and (3,))"
     ]
    },
    {
     "data": {
      "image/png": "[encoded data removed]",
      "text/plain": [
       "<Figure size 288x468 with 4 Axes>"
      ]
     },
     "metadata": {
      "needs_background": "light"
     },
     "output_type": "display_data"
    }
   ],
   "source": [
    "f,[[ax1, ax2], [ax3, ax4]]=plt.subplots(nrows=2, ncols=2,\n",
    "                                        figsize=[4,6.5],\n",
    "                                        gridspec_kw={\"width_ratios\":[10,1]})\n",
    "\n",
    "pre = 5\n",
    "post = 10\n",
    "mineventlength=10\n",
    "binlength=0.1\n",
    "\n",
    "sns.heatmap(snips_full, ax=ax1, cbar_ax= ax2, cmap=\"RdBu_r\", vmax=2, vmin=-2, cbar_kws={\"ticks\": [2, 0, -2]})\n",
    "\n",
    "bins_early = int((pre + mineventlength/2)/binlength)\n",
    "bins_late = int((post + mineventlength/2)/binlength)\n",
    "\n",
    "x1 = np.arange(0,bins_early)\n",
    "x2 = np.arange(snips_full.shape[1] - bins_late, snips_full.shape[1])\n",
    "\n",
    "mean = np.mean(snips_full, axis=0)\n",
    "error_values = np.std(snips_full, axis=0) / np.sqrt(len(snips_full))\n",
    "\n",
    "color=\"#219C90\"\n",
    "\n",
    "ax3.plot(x1, mean[:bins_early], color=color)\n",
    "ax3.plot(x2, mean[-bins_late:], color=color)\n",
    "ax3.fill_between(x1, mean[:bins_early]-error_values[:bins_early], mean[:bins_early]+error_values[:bins_early], color=color, alpha=0.3)\n",
    "ax3.fill_between(x2, mean[-bins_late:]-error_values[-bins_late:], mean[-bins_late:]+error_values[-bins_late:], color=color, alpha=0.3)\n",
    "\n",
    "\n",
    "# tp.shadedError(ax3, snips_full)\n",
    "ax4.remove()\n",
    "\n",
    "ax1.set_yticks([])\n",
    "ax1.set_xticks([])\n",
    "ax1.axvline(50, color=\"yellow\")\n",
    "ax1.axvline(160, color=\"yellow\")\n",
    "\n",
    "ax3.set_yticks([])\n",
    "ax3.set_xticks([])\n",
    "\n",
    "ax1.set_ylabel(\"trials\")\n",
    "\n",
    "for spine in [\"top\", \"right\", \"left\", \"bottom\"]:\n",
    "    ax3.spines[spine].set_visible(False)\n",
    "\n",
    "ax3.plot([200,250], [-1,-1], linewidth=2, color=\"k\")\n",
    "ax3.text(225,-1.1,\"5 s\", va=\"top\", ha=\"center\")\n",
    "\n",
    "ax3.plot([0,0], [0.5, 1.5], linewidth=2, color=\"k\")\n",
    "ax3.text(-3, 1, \"1 Z\", va=\"center\", ha=\"right\")\n",
    "\n",
    "ax3.axvline(50, color=\"k\", linestyle=\"--\", alpha=0.5)\n",
    "ax3.axvline(160, color=\"k\", linestyle=\"--\", alpha=0.5)\n",
    "\n",
    "#f.savefig(\"C:\\\\Users\\\\kvo019\\\\OneDrive - UiT Office 365\\\\Pipette 2\\\\People\\\\Linnea\\\\Manuscripts\\\\hislight paper\\\\figures\\\\HL3_representative.pdf\")"
   ]
  },
  {
   "cell_type": "code",
   "execution_count": null,
   "metadata": {},
   "outputs": [],
   "source": [
    "AUC_start = np.trapz(snips_start[:,50:])\n",
    "AUC_end = np.trapz(snips_end[:,50:])"
   ]
  },
  {
   "cell_type": "code",
   "execution_count": 14,
   "metadata": {},
   "outputs": [
    {
     "ename": "NameError",
     "evalue": "name 'run_length' is not defined",
     "output_type": "error",
     "traceback": [
      "\u001b[1;31m---------------------------------------------------------------------------\u001b[0m",
      "\u001b[1;31mNameError\u001b[0m                                 Traceback (most recent call last)",
      "\u001b[1;32m<ipython-input-14-21c82fb8d890>\u001b[0m in \u001b[0;36m<module>\u001b[1;34m\u001b[0m\n\u001b[0;32m      5\u001b[0m \u001b[1;33m\u001b[0m\u001b[0m\n\u001b[0;32m      6\u001b[0m \u001b[1;33m\u001b[0m\u001b[0m\n\u001b[1;32m----> 7\u001b[1;33m \u001b[0max1\u001b[0m\u001b[1;33m.\u001b[0m\u001b[0mscatter\u001b[0m\u001b[1;33m(\u001b[0m\u001b[0mrun_length\u001b[0m\u001b[1;33m,\u001b[0m \u001b[0mAUC_start\u001b[0m\u001b[1;33m,\u001b[0m \u001b[0malpha\u001b[0m\u001b[1;33m=\u001b[0m\u001b[1;36m0.3\u001b[0m\u001b[1;33m,\u001b[0m \u001b[0mcolor\u001b[0m\u001b[1;33m=\u001b[0m \u001b[1;34m\"#219C90\"\u001b[0m\u001b[1;33m)\u001b[0m\u001b[1;33m\u001b[0m\u001b[1;33m\u001b[0m\u001b[0m\n\u001b[0m\u001b[0;32m      8\u001b[0m \u001b[0max3\u001b[0m\u001b[1;33m.\u001b[0m\u001b[0mscatter\u001b[0m\u001b[1;33m(\u001b[0m\u001b[0mrun_licks\u001b[0m\u001b[1;33m,\u001b[0m \u001b[0mAUC_start\u001b[0m\u001b[1;33m,\u001b[0m \u001b[0malpha\u001b[0m\u001b[1;33m=\u001b[0m\u001b[1;36m0.3\u001b[0m\u001b[1;33m,\u001b[0m \u001b[0mcolor\u001b[0m\u001b[1;33m=\u001b[0m \u001b[1;34m\"#219C90\"\u001b[0m\u001b[1;33m)\u001b[0m\u001b[1;33m\u001b[0m\u001b[1;33m\u001b[0m\u001b[0m\n\u001b[0;32m      9\u001b[0m \u001b[1;33m\u001b[0m\u001b[0m\n",
      "\u001b[1;31mNameError\u001b[0m: name 'run_length' is not defined"
     ]
    },
    {
     "data": {
      "image/png": "[encoded data removed]",
      "text/plain": [
       "<Figure size 288x288 with 4 Axes>"
      ]
     },
     "metadata": {
      "needs_background": "light"
     },
     "output_type": "display_data"
    }
   ],
   "source": [
    "f,[[ax1, ax2], [ax3, ax4]]=plt.subplots(nrows=2, ncols=2,\n",
    "                                        figsize=[4,4],\n",
    "                                        gridspec_kw={\"width_ratios\":[1,1], \"left\":0.2, \"hspace\":0.5},\n",
    "                                       sharey=True)\n",
    "\n",
    "\n",
    "ax1.scatter(run_length, AUC_start, alpha=0.3, color= \"#219C90\")\n",
    "ax3.scatter(run_licks, AUC_start, alpha=0.3, color= \"#219C90\")\n",
    "\n",
    "ax2.scatter(run_length, AUC_end, alpha=0.3, color= \"#219C90\")\n",
    "ax4.scatter(run_licks, AUC_end, alpha=0.3, color= \"#219C90\")\n",
    "\n",
    "ax1.axhline(0, color=\"black\", linestyle=\"--\", linewidth=0.5)\n",
    "ax2.axhline(0, color=\"black\", linestyle=\"--\", linewidth=0.5)\n",
    "ax3.axhline(0, color=\"black\", linestyle=\"--\", linewidth=0.5)\n",
    "ax4.axhline(0, color=\"black\", linestyle=\"--\", linewidth=0.5)\n",
    "\n",
    "ax1.set_xlabel(\"run length (s)\")\n",
    "ax3.set_xlabel(\"# licks\")\n",
    "ax2.set_xlabel(\"run length (s)\")\n",
    "ax4.set_xlabel(\"# licks\")\n",
    "\n",
    "ax1.set_ylabel(\"AUC\")\n",
    "ax3.set_ylabel(\"AUC\")\n",
    "#ax2.set_ylabel(\"AUC\")\n",
    "#ax4.set_ylabel(\"AUC\")\n",
    "\n",
    "for ax in [ax1, ax2, ax3, ax4]:\n",
    "    ax.spines['top'].set_visible(False)\n",
    "    ax.spines['right'].set_visible(False)\n",
    "\n",
    "ax1.set_title(\"run start\")\n",
    "ax2.set_title(\"run end\")\n",
    "\n",
    "\n",
    "\n",
    "#f.savefig(\"C:\\\\Users\\\\kvo019\\\\OneDrive - UiT Office 365\\\\Pipette 2\\\\People\\\\Linnea\\\\Manuscripts\\\\hislight paper\\\\figures\\\\HL3_rep_runs_vs_AUC.pdf\")"
   ]
  },
  {
   "cell_type": "code",
   "execution_count": null,
   "metadata": {},
   "outputs": [],
   "source": [
    "from sklearn.metrics import r2_score\n",
    "\n",
    "def best_fit(x, slope, intercept):\n",
    "    return slope*np.array(x)+intercept\n",
    "\n",
    "slope, intercept = np.polyfit(run_length, AUC_end,1)\n",
    "y_pred= best_fit(run_length, slope, intercept)\n",
    "r2=r2_score(AUC_end, y_pred)"
   ]
  },
  {
   "cell_type": "code",
   "execution_count": 25,
   "metadata": {},
   "outputs": [
    {
     "data": {
      "text/plain": [
       "0.09697485064353728"
      ]
     },
     "execution_count": 25,
     "metadata": {},
     "output_type": "execute_result"
    }
   ],
   "source": [
    "r2"
   ]
  },
  {
   "cell_type": "code",
   "execution_count": 29,
   "metadata": {},
   "outputs": [
    {
     "data": {
      "text/plain": [
       "[<matplotlib.lines.Line2D at 0x21e8f4c5280>]"
      ]
     },
     "execution_count": 29,
     "metadata": {},
     "output_type": "execute_result"
    },
    {
     "data": {
      "image/png": "[encoded data removed]",
      "text/plain": [
       "<Figure size 432x288 with 1 Axes>"
      ]
     },
     "metadata": {
      "needs_background": "light"
     },
     "output_type": "display_data"
    }
   ],
   "source": [
    "f,ax=plt.subplots()\n",
    "\n",
    "ax.scatter(run_length, AUC_end, alpha=0.3, color= \"#219C90\")\n",
    "ax.plot(run_length, y_pred)"
   ]
  },
  {
   "cell_type": "code",
   "execution_count": null,
   "metadata": {},
   "outputs": [],
   "source": []
  }
 ],
 "metadata": {
  "kernelspec": {
   "display_name": "Python 3",
   "language": "python",
   "name": "python3"
  },
  "language_info": {
   "codemirror_mode": {
    "name": "ipython",
    "version": 3
   },
   "file_extension": ".py",
   "mimetype": "text/x-python",
   "name": "python",
   "nbconvert_exporter": "python",
   "pygments_lexer": "ipython3",
   "version": "3.8.5"
  }
 },
 "nbformat": 4,
 "nbformat_minor": 4
}

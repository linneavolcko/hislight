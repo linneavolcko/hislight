{
 "cells": [
  {
   "cell_type": "code",
   "execution_count": 1,
   "metadata": {},
   "outputs": [],
   "source": [
    "from pathlib import Path\n",
    "import pickle\n",
    "import numpy as np\n",
    "import pandas as pd\n",
    "\n",
    "import matplotlib.pyplot as plt\n",
    "from matplotlib.transforms import blended_transform_factory\n",
    "import seaborn as sns\n",
    "\n",
    "import trompy as tp\n",
    "\n",
    "from scipy.stats import pearsonr\n",
    "\n",
    "colors_PVH = \"#219C90\"\n",
    "colors_VMH  = \"#90219c\"\n",
    "\n",
    "colors = [colors_PVH, colors_VMH]\n",
    "\n",
    "cmap = \"RdBu_r\""
   ]
  },
  {
   "cell_type": "code",
   "execution_count": 2,
   "metadata": {},
   "outputs": [],
   "source": [
    "DATAFOLDER = Path(\"C:/Data/hislight_pickles/\")\n",
    "FIGSFOLDER = Path(\"C:/Users/kvo019/OneDrive - UiT Office 365/Pipette 2/People/Linnea/Manuscripts/hislight paper/figures\")\n",
    "STATSFOLDER = Path(\"C:/Users/kvo019/OneDrive - UiT Office 365/Pipette 2/People/Linnea/Manuscripts/hislight paper\")\n",
    "\n",
    "with open(DATAFOLDER / \"restricted_dark.pickle\", 'rb') as handle:\n",
    "    PVH = pickle.load(handle)\n",
    "\n",
    "with open(DATAFOLDER / \"HL3_restricted_dark.pickle\", 'rb') as handle:\n",
    "    VMH = pickle.load(handle)        "
   ]
  },
  {
   "cell_type": "code",
   "execution_count": 3,
   "metadata": {},
   "outputs": [],
   "source": [
    "PVH_list_of_mice = []\n",
    "VMH_list_of_mice = []\n",
    "\n",
    "mice_to_exclude = [\"HL313\", \"HL314\", \"HL315\", \"HL316\", \"HL317\", \"HL318\", \"HL306\", \"HL308\",\n",
    "                    \"HL202\", \"HL205\", \"HL206\", \"HL211\",\n",
    "                    \"HL301\", \"HL304\", \"HL305\"]\n",
    "\n",
    "#\"HL202\", \"HL205\", \"HL206\", \"HL211\" have poor placements without virus in PVH\n",
    "#HL 306, 308 have no virus\n",
    "#HL301, HL304, HL305 have poor fiber placement\n",
    "#HL313 - HL318 are control mice\n",
    "\n",
    "\n",
    "for key, val in PVH.items():\n",
    "    if val[\"mouse_ID\"] not in mice_to_exclude:\n",
    "        if val[\"mouse_ID\"] not in PVH_list_of_mice:\n",
    "            PVH_list_of_mice.append(val[\"mouse_ID\"])\n",
    "        \n",
    "for key, val in VMH.items():\n",
    "    if val[\"mouse_ID\"] not in mice_to_exclude:\n",
    "        if val[\"mouse_ID\"] not in VMH_list_of_mice:\n",
    "            VMH_list_of_mice.append(val[\"mouse_ID\"])"
   ]
  },
  {
   "cell_type": "code",
   "execution_count": 4,
   "metadata": {},
   "outputs": [
    {
     "data": {
      "text/plain": [
       "['HL302', 'HL303', 'HL307', 'HL309', 'HL310', 'HL311', 'HL312']"
      ]
     },
     "execution_count": 4,
     "metadata": {},
     "output_type": "execute_result"
    }
   ],
   "source": [
    "VMH_list_of_mice"
   ]
  },
  {
   "cell_type": "code",
   "execution_count": 5,
   "metadata": {},
   "outputs": [],
   "source": [
    "def get_aucs(data, mouse):\n",
    "    \n",
    "    pre = 5\n",
    "    post = 10\n",
    "    mineventlength = 8\n",
    "    binlength = 0.1\n",
    "\n",
    "    snips_full = []\n",
    "    run_lengths = []\n",
    "\n",
    "    for key, val in data.items():\n",
    "        if val[\"mouse_ID\"] == mouse:\n",
    "            if len(val[\"licks\"]) < 10:\n",
    "                continue\n",
    "\n",
    "            lickdata = tp.lickCalc(val[\"licks\"], minrunlength=3)\n",
    "\n",
    "            snipper = tp.Snipper(val[\"corrected\"],\n",
    "                                 lickdata[\"rStart\"],\n",
    "                                 end=lickdata[\"rEnd\"],\n",
    "                                 fs=val[\"fs\"],\n",
    "                                 pre=pre,\n",
    "                                 post=post,\n",
    "                                 binlength=binlength,\n",
    "                                 zscore=True\n",
    "                                 )\n",
    "            \n",
    "            snipper.truncate_to_same_length(cols_to_add=10, mineventlength=8, eventbalance=[6,2])\n",
    "            snipper.find_potential_artifacts(threshold=12, method=\"absolute_diff\", showplot=True, remove=True)\n",
    "            plt.plot(snipper.snips.T, color=\"black\", alpha=0.1)\n",
    "            snips_full.append(snipper.snips)\n",
    "            \n",
    "            print(snipper.snips.shape)\n",
    "            \n",
    "            run_lengths_temp = (np.array(lickdata[\"rEnd\"]) - np.array(lickdata[\"rStart\"]))\n",
    "            run_lengths.append(run_lengths_temp[run_lengths_temp > mineventlength])\n",
    "        \n",
    "    try:\n",
    "        snips_full = np.vstack(snips_full)\n",
    "        print(\"adding this mouse\")\n",
    "    except:\n",
    "        print(\"no snips to concatenate\")\n",
    "        \n",
    "    run_lengths = tp.flatten_list(run_lengths)\n",
    "\n",
    "    # Normalizing AUC calculations to epoch length\n",
    "    auc_early_licking = np.trapz(snips_full[:, 50:110], axis=1) / 60 #60 because 6 seconds\n",
    "    auc_late_licking = np.trapz(snips_full[:, 120:140], axis=1) / 20  #2 seconds\n",
    "    auc_early_post_licking = np.trapz(snips_full[:, 140:190], axis=1) / 50 # 5 seconds\n",
    "    auc_late_post_licking = np.trapz(snips_full[:, 190:240], axis=1) / 50 # 5 seconds\n",
    "    \n",
    "    return snips_full, pd.DataFrame([run_lengths,\n",
    "                                    auc_early_licking,\n",
    "                                    auc_late_licking,\n",
    "                                    auc_early_post_licking,\n",
    "                                    auc_late_post_licking],\n",
    "                                    \n",
    "                                    index=[\"run_lengths\", \"auc_early_licking\", \"auc_late_licking\", \"auc_early_post_licking\", \"auc_late_post_licking\"]).T\n",
    "    "
   ]
  },
  {
   "cell_type": "code",
   "execution_count": 6,
   "metadata": {},
   "outputs": [
    {
     "name": "stdout",
     "output_type": "stream",
     "text": [
      "<class 'numpy.ndarray'>\n",
      "Found 0 potential artifacts.\n",
      "No artifacts found.\n",
      "(5, 240)\n",
      "<class 'numpy.ndarray'>\n",
      "Found 0 potential artifacts.\n",
      "No artifacts found.\n",
      "(7, 240)\n",
      "<class 'numpy.ndarray'>\n",
      "Found 0 potential artifacts.\n",
      "No artifacts found.\n",
      "(6, 240)\n",
      "adding this mouse\n",
      "<class 'numpy.ndarray'>\n",
      "Found 0 potential artifacts.\n",
      "No artifacts found.\n",
      "(14, 240)\n",
      "<class 'numpy.ndarray'>\n",
      "Found 0 potential artifacts.\n",
      "No artifacts found.\n",
      "(18, 240)\n",
      "<class 'numpy.ndarray'>\n",
      "Found 0 potential artifacts.\n",
      "No artifacts found.\n",
      "(11, 240)\n",
      "adding this mouse\n",
      "<class 'numpy.ndarray'>\n",
      "Found 0 potential artifacts.\n",
      "No artifacts found.\n",
      "(13, 240)\n",
      "<class 'numpy.ndarray'>\n"
     ]
    },
    {
     "name": "stderr",
     "output_type": "stream",
     "text": [
      "C:\\Users\\kvo019\\Anaconda3\\lib\\site-packages\\trompy\\snipper_class.py:215: VisibleDeprecationWarning: Creating an ndarray from ragged nested sequences (which is a list-or-tuple of lists-or-tuples-or ndarrays with different lengths or shapes) is deprecated. If you meant to do this, you must specify 'dtype=object' when creating the ndarray\n",
      "  self.snips = np.array([self.put_snip_in_bins(snip) for snip in self.snips])\n",
      "C:\\Users\\kvo019\\Anaconda3\\lib\\site-packages\\trompy\\snipper_class.py:229: VisibleDeprecationWarning: Creating an ndarray from ragged nested sequences (which is a list-or-tuple of lists-or-tuples-or ndarrays with different lengths or shapes) is deprecated. If you meant to do this, you must specify 'dtype=object' when creating the ndarray\n",
      "  self.snips = np.array(z_snips)\n",
      "C:\\Users\\kvo019\\Anaconda3\\lib\\site-packages\\trompy\\snipper_class.py:215: VisibleDeprecationWarning: Creating an ndarray from ragged nested sequences (which is a list-or-tuple of lists-or-tuples-or ndarrays with different lengths or shapes) is deprecated. If you meant to do this, you must specify 'dtype=object' when creating the ndarray\n",
      "  self.snips = np.array([self.put_snip_in_bins(snip) for snip in self.snips])\n",
      "C:\\Users\\kvo019\\Anaconda3\\lib\\site-packages\\trompy\\snipper_class.py:229: VisibleDeprecationWarning: Creating an ndarray from ragged nested sequences (which is a list-or-tuple of lists-or-tuples-or ndarrays with different lengths or shapes) is deprecated. If you meant to do this, you must specify 'dtype=object' when creating the ndarray\n",
      "  self.snips = np.array(z_snips)\n",
      "C:\\Users\\kvo019\\Anaconda3\\lib\\site-packages\\trompy\\snipper_class.py:215: VisibleDeprecationWarning: Creating an ndarray from ragged nested sequences (which is a list-or-tuple of lists-or-tuples-or ndarrays with different lengths or shapes) is deprecated. If you meant to do this, you must specify 'dtype=object' when creating the ndarray\n",
      "  self.snips = np.array([self.put_snip_in_bins(snip) for snip in self.snips])\n",
      "C:\\Users\\kvo019\\Anaconda3\\lib\\site-packages\\trompy\\snipper_class.py:229: VisibleDeprecationWarning: Creating an ndarray from ragged nested sequences (which is a list-or-tuple of lists-or-tuples-or ndarrays with different lengths or shapes) is deprecated. If you meant to do this, you must specify 'dtype=object' when creating the ndarray\n",
      "  self.snips = np.array(z_snips)\n",
      "C:\\Users\\kvo019\\Anaconda3\\lib\\site-packages\\trompy\\snipper_class.py:215: VisibleDeprecationWarning: Creating an ndarray from ragged nested sequences (which is a list-or-tuple of lists-or-tuples-or ndarrays with different lengths or shapes) is deprecated. If you meant to do this, you must specify 'dtype=object' when creating the ndarray\n",
      "  self.snips = np.array([self.put_snip_in_bins(snip) for snip in self.snips])\n",
      "C:\\Users\\kvo019\\Anaconda3\\lib\\site-packages\\trompy\\snipper_class.py:229: VisibleDeprecationWarning: Creating an ndarray from ragged nested sequences (which is a list-or-tuple of lists-or-tuples-or ndarrays with different lengths or shapes) is deprecated. If you meant to do this, you must specify 'dtype=object' when creating the ndarray\n",
      "  self.snips = np.array(z_snips)\n",
      "C:\\Users\\kvo019\\Anaconda3\\lib\\site-packages\\trompy\\snipper_class.py:215: VisibleDeprecationWarning: Creating an ndarray from ragged nested sequences (which is a list-or-tuple of lists-or-tuples-or ndarrays with different lengths or shapes) is deprecated. If you meant to do this, you must specify 'dtype=object' when creating the ndarray\n",
      "  self.snips = np.array([self.put_snip_in_bins(snip) for snip in self.snips])\n",
      "C:\\Users\\kvo019\\Anaconda3\\lib\\site-packages\\trompy\\snipper_class.py:229: VisibleDeprecationWarning: Creating an ndarray from ragged nested sequences (which is a list-or-tuple of lists-or-tuples-or ndarrays with different lengths or shapes) is deprecated. If you meant to do this, you must specify 'dtype=object' when creating the ndarray\n",
      "  self.snips = np.array(z_snips)\n",
      "C:\\Users\\kvo019\\Anaconda3\\lib\\site-packages\\trompy\\snipper_class.py:215: VisibleDeprecationWarning: Creating an ndarray from ragged nested sequences (which is a list-or-tuple of lists-or-tuples-or ndarrays with different lengths or shapes) is deprecated. If you meant to do this, you must specify 'dtype=object' when creating the ndarray\n",
      "  self.snips = np.array([self.put_snip_in_bins(snip) for snip in self.snips])\n",
      "C:\\Users\\kvo019\\Anaconda3\\lib\\site-packages\\trompy\\snipper_class.py:229: VisibleDeprecationWarning: Creating an ndarray from ragged nested sequences (which is a list-or-tuple of lists-or-tuples-or ndarrays with different lengths or shapes) is deprecated. If you meant to do this, you must specify 'dtype=object' when creating the ndarray\n",
      "  self.snips = np.array(z_snips)\n",
      "C:\\Users\\kvo019\\Anaconda3\\lib\\site-packages\\trompy\\snipper_class.py:215: VisibleDeprecationWarning: Creating an ndarray from ragged nested sequences (which is a list-or-tuple of lists-or-tuples-or ndarrays with different lengths or shapes) is deprecated. If you meant to do this, you must specify 'dtype=object' when creating the ndarray\n",
      "  self.snips = np.array([self.put_snip_in_bins(snip) for snip in self.snips])\n",
      "C:\\Users\\kvo019\\Anaconda3\\lib\\site-packages\\trompy\\snipper_class.py:229: VisibleDeprecationWarning: Creating an ndarray from ragged nested sequences (which is a list-or-tuple of lists-or-tuples-or ndarrays with different lengths or shapes) is deprecated. If you meant to do this, you must specify 'dtype=object' when creating the ndarray\n",
      "  self.snips = np.array(z_snips)\n",
      "C:\\Users\\kvo019\\Anaconda3\\lib\\site-packages\\trompy\\snipper_class.py:215: VisibleDeprecationWarning: Creating an ndarray from ragged nested sequences (which is a list-or-tuple of lists-or-tuples-or ndarrays with different lengths or shapes) is deprecated. If you meant to do this, you must specify 'dtype=object' when creating the ndarray\n",
      "  self.snips = np.array([self.put_snip_in_bins(snip) for snip in self.snips])\n",
      "C:\\Users\\kvo019\\Anaconda3\\lib\\site-packages\\trompy\\snipper_class.py:229: VisibleDeprecationWarning: Creating an ndarray from ragged nested sequences (which is a list-or-tuple of lists-or-tuples-or ndarrays with different lengths or shapes) is deprecated. If you meant to do this, you must specify 'dtype=object' when creating the ndarray\n",
      "  self.snips = np.array(z_snips)\n"
     ]
    },
    {
     "name": "stdout",
     "output_type": "stream",
     "text": [
      "Found 0 potential artifacts.\n",
      "No artifacts found.\n",
      "(12, 240)\n",
      "<class 'numpy.ndarray'>\n",
      "Found 0 potential artifacts.\n",
      "No artifacts found.\n",
      "(11, 240)\n",
      "adding this mouse\n",
      "<class 'numpy.ndarray'>\n",
      "Found 0 potential artifacts.\n",
      "No artifacts found.\n",
      "(15, 240)\n",
      "<class 'numpy.ndarray'>\n",
      "Found 0 potential artifacts.\n",
      "No artifacts found.\n",
      "(17, 240)\n",
      "<class 'numpy.ndarray'>\n",
      "Found 2 potential artifacts.\n",
      "(13, 240)\n",
      "adding this mouse\n",
      "<class 'numpy.ndarray'>\n",
      "Found 0 potential artifacts.\n",
      "No artifacts found.\n",
      "(13, 240)\n",
      "<class 'numpy.ndarray'>\n",
      "Found 0 potential artifacts.\n",
      "No artifacts found.\n",
      "(11, 240)\n",
      "<class 'numpy.ndarray'>\n",
      "Found 0 potential artifacts.\n",
      "No artifacts found."
     ]
    },
    {
     "name": "stderr",
     "output_type": "stream",
     "text": [
      "C:\\Users\\kvo019\\Anaconda3\\lib\\site-packages\\trompy\\snipper_class.py:215: VisibleDeprecationWarning: Creating an ndarray from ragged nested sequences (which is a list-or-tuple of lists-or-tuples-or ndarrays with different lengths or shapes) is deprecated. If you meant to do this, you must specify 'dtype=object' when creating the ndarray\n",
      "  self.snips = np.array([self.put_snip_in_bins(snip) for snip in self.snips])\n",
      "C:\\Users\\kvo019\\Anaconda3\\lib\\site-packages\\trompy\\snipper_class.py:229: VisibleDeprecationWarning: Creating an ndarray from ragged nested sequences (which is a list-or-tuple of lists-or-tuples-or ndarrays with different lengths or shapes) is deprecated. If you meant to do this, you must specify 'dtype=object' when creating the ndarray\n",
      "  self.snips = np.array(z_snips)\n",
      "C:\\Users\\kvo019\\Anaconda3\\lib\\site-packages\\trompy\\snipper_class.py:215: VisibleDeprecationWarning: Creating an ndarray from ragged nested sequences (which is a list-or-tuple of lists-or-tuples-or ndarrays with different lengths or shapes) is deprecated. If you meant to do this, you must specify 'dtype=object' when creating the ndarray\n",
      "  self.snips = np.array([self.put_snip_in_bins(snip) for snip in self.snips])\n",
      "C:\\Users\\kvo019\\Anaconda3\\lib\\site-packages\\trompy\\snipper_class.py:229: VisibleDeprecationWarning: Creating an ndarray from ragged nested sequences (which is a list-or-tuple of lists-or-tuples-or ndarrays with different lengths or shapes) is deprecated. If you meant to do this, you must specify 'dtype=object' when creating the ndarray\n",
      "  self.snips = np.array(z_snips)\n",
      "C:\\Users\\kvo019\\Anaconda3\\lib\\site-packages\\trompy\\snipper_class.py:215: VisibleDeprecationWarning: Creating an ndarray from ragged nested sequences (which is a list-or-tuple of lists-or-tuples-or ndarrays with different lengths or shapes) is deprecated. If you meant to do this, you must specify 'dtype=object' when creating the ndarray\n",
      "  self.snips = np.array([self.put_snip_in_bins(snip) for snip in self.snips])\n",
      "C:\\Users\\kvo019\\Anaconda3\\lib\\site-packages\\trompy\\snipper_class.py:229: VisibleDeprecationWarning: Creating an ndarray from ragged nested sequences (which is a list-or-tuple of lists-or-tuples-or ndarrays with different lengths or shapes) is deprecated. If you meant to do this, you must specify 'dtype=object' when creating the ndarray\n",
      "  self.snips = np.array(z_snips)\n",
      "C:\\Users\\kvo019\\Anaconda3\\lib\\site-packages\\trompy\\snipper_class.py:215: VisibleDeprecationWarning: Creating an ndarray from ragged nested sequences (which is a list-or-tuple of lists-or-tuples-or ndarrays with different lengths or shapes) is deprecated. If you meant to do this, you must specify 'dtype=object' when creating the ndarray\n",
      "  self.snips = np.array([self.put_snip_in_bins(snip) for snip in self.snips])\n",
      "C:\\Users\\kvo019\\Anaconda3\\lib\\site-packages\\trompy\\snipper_class.py:229: VisibleDeprecationWarning: Creating an ndarray from ragged nested sequences (which is a list-or-tuple of lists-or-tuples-or ndarrays with different lengths or shapes) is deprecated. If you meant to do this, you must specify 'dtype=object' when creating the ndarray\n",
      "  self.snips = np.array(z_snips)\n",
      "C:\\Users\\kvo019\\Anaconda3\\lib\\site-packages\\trompy\\snipper_class.py:215: VisibleDeprecationWarning: Creating an ndarray from ragged nested sequences (which is a list-or-tuple of lists-or-tuples-or ndarrays with different lengths or shapes) is deprecated. If you meant to do this, you must specify 'dtype=object' when creating the ndarray\n",
      "  self.snips = np.array([self.put_snip_in_bins(snip) for snip in self.snips])\n",
      "C:\\Users\\kvo019\\Anaconda3\\lib\\site-packages\\trompy\\snipper_class.py:229: VisibleDeprecationWarning: Creating an ndarray from ragged nested sequences (which is a list-or-tuple of lists-or-tuples-or ndarrays with different lengths or shapes) is deprecated. If you meant to do this, you must specify 'dtype=object' when creating the ndarray\n",
      "  self.snips = np.array(z_snips)\n",
      "C:\\Users\\kvo019\\Anaconda3\\lib\\site-packages\\trompy\\snipper_class.py:215: VisibleDeprecationWarning: Creating an ndarray from ragged nested sequences (which is a list-or-tuple of lists-or-tuples-or ndarrays with different lengths or shapes) is deprecated. If you meant to do this, you must specify 'dtype=object' when creating the ndarray\n",
      "  self.snips = np.array([self.put_snip_in_bins(snip) for snip in self.snips])\n",
      "C:\\Users\\kvo019\\Anaconda3\\lib\\site-packages\\trompy\\snipper_class.py:229: VisibleDeprecationWarning: Creating an ndarray from ragged nested sequences (which is a list-or-tuple of lists-or-tuples-or ndarrays with different lengths or shapes) is deprecated. If you meant to do this, you must specify 'dtype=object' when creating the ndarray\n",
      "  self.snips = np.array(z_snips)\n",
      "C:\\Users\\kvo019\\Anaconda3\\lib\\site-packages\\trompy\\snipper_class.py:215: VisibleDeprecationWarning: Creating an ndarray from ragged nested sequences (which is a list-or-tuple of lists-or-tuples-or ndarrays with different lengths or shapes) is deprecated. If you meant to do this, you must specify 'dtype=object' when creating the ndarray\n",
      "  self.snips = np.array([self.put_snip_in_bins(snip) for snip in self.snips])\n",
      "C:\\Users\\kvo019\\Anaconda3\\lib\\site-packages\\trompy\\snipper_class.py:229: VisibleDeprecationWarning: Creating an ndarray from ragged nested sequences (which is a list-or-tuple of lists-or-tuples-or ndarrays with different lengths or shapes) is deprecated. If you meant to do this, you must specify 'dtype=object' when creating the ndarray\n",
      "  self.snips = np.array(z_snips)\n"
     ]
    },
    {
     "name": "stdout",
     "output_type": "stream",
     "text": [
      "\n",
      "(17, 240)\n",
      "adding this mouse\n",
      "<class 'numpy.ndarray'>\n",
      "Found 0 potential artifacts.\n",
      "No artifacts found.\n",
      "(16, 240)\n",
      "<class 'numpy.ndarray'>\n",
      "Found 0 potential artifacts.\n",
      "No artifacts found.\n",
      "(11, 240)\n",
      "<class 'numpy.ndarray'>\n",
      "Found 0 potential artifacts.\n",
      "No artifacts found.\n",
      "(12, 240)\n",
      "adding this mouse\n",
      "<class 'numpy.ndarray'>\n",
      "Found 0 potential artifacts.\n",
      "No artifacts found.\n",
      "(11, 240)\n",
      "<class 'numpy.ndarray'>\n",
      "Found 0 potential artifacts.\n",
      "No artifacts found.\n",
      "(8, 240)\n",
      "<class 'numpy.ndarray'>\n",
      "Found 1 potential artifacts.\n",
      "(7, 240)\n",
      "adding this mouse\n"
     ]
    },
    {
     "name": "stderr",
     "output_type": "stream",
     "text": [
      "C:\\Users\\kvo019\\Anaconda3\\lib\\site-packages\\trompy\\snipper_class.py:215: VisibleDeprecationWarning: Creating an ndarray from ragged nested sequences (which is a list-or-tuple of lists-or-tuples-or ndarrays with different lengths or shapes) is deprecated. If you meant to do this, you must specify 'dtype=object' when creating the ndarray\n",
      "  self.snips = np.array([self.put_snip_in_bins(snip) for snip in self.snips])\n",
      "C:\\Users\\kvo019\\Anaconda3\\lib\\site-packages\\trompy\\snipper_class.py:229: VisibleDeprecationWarning: Creating an ndarray from ragged nested sequences (which is a list-or-tuple of lists-or-tuples-or ndarrays with different lengths or shapes) is deprecated. If you meant to do this, you must specify 'dtype=object' when creating the ndarray\n",
      "  self.snips = np.array(z_snips)\n",
      "C:\\Users\\kvo019\\Anaconda3\\lib\\site-packages\\trompy\\snipper_class.py:215: VisibleDeprecationWarning: Creating an ndarray from ragged nested sequences (which is a list-or-tuple of lists-or-tuples-or ndarrays with different lengths or shapes) is deprecated. If you meant to do this, you must specify 'dtype=object' when creating the ndarray\n",
      "  self.snips = np.array([self.put_snip_in_bins(snip) for snip in self.snips])\n",
      "C:\\Users\\kvo019\\Anaconda3\\lib\\site-packages\\trompy\\snipper_class.py:229: VisibleDeprecationWarning: Creating an ndarray from ragged nested sequences (which is a list-or-tuple of lists-or-tuples-or ndarrays with different lengths or shapes) is deprecated. If you meant to do this, you must specify 'dtype=object' when creating the ndarray\n",
      "  self.snips = np.array(z_snips)\n",
      "C:\\Users\\kvo019\\Anaconda3\\lib\\site-packages\\trompy\\snipper_class.py:215: VisibleDeprecationWarning: Creating an ndarray from ragged nested sequences (which is a list-or-tuple of lists-or-tuples-or ndarrays with different lengths or shapes) is deprecated. If you meant to do this, you must specify 'dtype=object' when creating the ndarray\n",
      "  self.snips = np.array([self.put_snip_in_bins(snip) for snip in self.snips])\n",
      "C:\\Users\\kvo019\\Anaconda3\\lib\\site-packages\\trompy\\snipper_class.py:229: VisibleDeprecationWarning: Creating an ndarray from ragged nested sequences (which is a list-or-tuple of lists-or-tuples-or ndarrays with different lengths or shapes) is deprecated. If you meant to do this, you must specify 'dtype=object' when creating the ndarray\n",
      "  self.snips = np.array(z_snips)\n",
      "C:\\Users\\kvo019\\Anaconda3\\lib\\site-packages\\trompy\\snipper_class.py:215: VisibleDeprecationWarning: Creating an ndarray from ragged nested sequences (which is a list-or-tuple of lists-or-tuples-or ndarrays with different lengths or shapes) is deprecated. If you meant to do this, you must specify 'dtype=object' when creating the ndarray\n",
      "  self.snips = np.array([self.put_snip_in_bins(snip) for snip in self.snips])\n",
      "C:\\Users\\kvo019\\Anaconda3\\lib\\site-packages\\trompy\\snipper_class.py:229: VisibleDeprecationWarning: Creating an ndarray from ragged nested sequences (which is a list-or-tuple of lists-or-tuples-or ndarrays with different lengths or shapes) is deprecated. If you meant to do this, you must specify 'dtype=object' when creating the ndarray\n",
      "  self.snips = np.array(z_snips)\n",
      "C:\\Users\\kvo019\\Anaconda3\\lib\\site-packages\\trompy\\snipper_class.py:215: VisibleDeprecationWarning: Creating an ndarray from ragged nested sequences (which is a list-or-tuple of lists-or-tuples-or ndarrays with different lengths or shapes) is deprecated. If you meant to do this, you must specify 'dtype=object' when creating the ndarray\n",
      "  self.snips = np.array([self.put_snip_in_bins(snip) for snip in self.snips])\n",
      "C:\\Users\\kvo019\\Anaconda3\\lib\\site-packages\\trompy\\snipper_class.py:229: VisibleDeprecationWarning: Creating an ndarray from ragged nested sequences (which is a list-or-tuple of lists-or-tuples-or ndarrays with different lengths or shapes) is deprecated. If you meant to do this, you must specify 'dtype=object' when creating the ndarray\n",
      "  self.snips = np.array(z_snips)\n",
      "C:\\Users\\kvo019\\Anaconda3\\lib\\site-packages\\trompy\\snipper_class.py:215: VisibleDeprecationWarning: Creating an ndarray from ragged nested sequences (which is a list-or-tuple of lists-or-tuples-or ndarrays with different lengths or shapes) is deprecated. If you meant to do this, you must specify 'dtype=object' when creating the ndarray\n",
      "  self.snips = np.array([self.put_snip_in_bins(snip) for snip in self.snips])\n",
      "C:\\Users\\kvo019\\Anaconda3\\lib\\site-packages\\trompy\\snipper_class.py:229: VisibleDeprecationWarning: Creating an ndarray from ragged nested sequences (which is a list-or-tuple of lists-or-tuples-or ndarrays with different lengths or shapes) is deprecated. If you meant to do this, you must specify 'dtype=object' when creating the ndarray\n",
      "  self.snips = np.array(z_snips)\n"
     ]
    },
    {
     "data": {
      "image/png": "[encoded data removed]",
      "text/plain": [
       "<Figure size 432x288 with 1 Axes>"
      ]
     },
     "metadata": {
      "needs_background": "light"
     },
     "output_type": "display_data"
    }
   ],
   "source": [
    "pvh_data = {}\n",
    "for mouse in PVH_list_of_mice:\n",
    "    snips, pvh_data[mouse] = get_aucs(PVH, mouse)\n",
    "    "
   ]
  },
  {
   "cell_type": "code",
   "execution_count": 7,
   "metadata": {
    "scrolled": true
   },
   "outputs": [],
   "source": [
    "def get_correlation_matrix(auc_data):\n",
    "    \n",
    "    auc_data_concat = pd.concat(auc_data)\n",
    "    \n",
    "    corrmat = auc_data_concat.corr()\n",
    "    \n",
    "    return corrmat\n",
    "\n",
    "corrs = get_correlation_matrix(pvh_data)"
   ]
  },
  {
   "cell_type": "code",
   "execution_count": 8,
   "metadata": {},
   "outputs": [],
   "source": [
    "pvh_data_concat = pd.concat(pvh_data)"
   ]
  },
  {
   "cell_type": "code",
   "execution_count": 10,
   "metadata": {},
   "outputs": [],
   "source": [
    "pvh_data_concat = pd.concat(pvh_data)\n",
    "\n",
    "# Define thresholds based on standard deviation\n",
    "early_threshold = np.std(pvh_data_concat['auc_early_licking']) * 3\n",
    "early_qs = \"auc_early_licking < @early_threshold and auc_early_licking > -@early_threshold\"\n",
    "\n",
    "late_threshold = np.std(pvh_data_concat['auc_late_licking']) * 3\n",
    "late_qs = \"auc_late_licking < @late_threshold and auc_late_licking > -@late_threshold\"\n",
    "\n",
    "early_post_threshold = np.std(pvh_data_concat['auc_early_post_licking']) * 3\n",
    "early_post_qs = \"auc_early_post_licking < @early_post_threshold and auc_early_post_licking > -@early_post_threshold\"\n",
    "\n",
    "late_post_threshold = np.std(pvh_data_concat['auc_late_post_licking']) * 3\n",
    "late_post_qs = \"auc_late_post_licking < @late_post_threshold and auc_late_post_licking > -@late_post_threshold\"\n",
    "\n",
    "# Combine query strings\n",
    "query_string = f\"{early_qs} and {late_qs} and {early_post_qs} and {late_post_qs}\"\n",
    "filtered_pvh = pvh_data_concat.query(query_string)"
   ]
  },
  {
   "cell_type": "code",
   "execution_count": 32,
   "metadata": {},
   "outputs": [
    {
     "data": {
      "image/png": "[encoded data removed]",
      "text/plain": [
       "<Figure size 93.6x288 with 4 Axes>"
      ]
     },
     "metadata": {
      "needs_background": "light"
     },
     "output_type": "display_data"
    }
   ],
   "source": [
    "def plot_scatter_and_line_of_best_fit(x, y, ax, color, alpha=0.1, size=10):\n",
    "    ax.scatter(x, y, color=\"black\", alpha=alpha, s=size)  # 's' controls the size of the dots\n",
    "    \n",
    "    slope, intercept = np.polyfit(x, y, 1)\n",
    "    xrange = np.linspace(10, ax.get_xlim()[1], 100)\n",
    "    line = slope * xrange + intercept\n",
    "    \n",
    "    ax.plot(xrange, line, color=color) \n",
    "\n",
    "    return ax\n",
    "\n",
    "f, ax = plt.subplots(nrows=4, figsize=(1.3,4),\n",
    "                     sharex=True,\n",
    "                     gridspec_kw={\"hspace\":0.1, \"wspace\":0.1,\n",
    "                                  \"left\": 0.02,\n",
    "                                  \"right\": 0.98,\n",
    "                                  \"top\": 0.98,\n",
    "                                  \"bottom\": 0.02})\n",
    "\n",
    "\n",
    "plot_scatter_and_line_of_best_fit(filtered_pvh.run_lengths,\n",
    "                                  filtered_pvh.auc_early_licking,\n",
    "                                  ax[0],\n",
    "                                  colors_PVH,\n",
    ")\n",
    "\n",
    "plot_scatter_and_line_of_best_fit(filtered_pvh.run_lengths,\n",
    "                                  filtered_pvh.auc_late_licking,\n",
    "                                  ax[1],\n",
    "                                  colors_PVH\n",
    ")\n",
    "\n",
    "plot_scatter_and_line_of_best_fit(filtered_pvh.run_lengths,\n",
    "                                  filtered_pvh.auc_early_post_licking,\n",
    "                                  ax[2],\n",
    "                                  colors_PVH\n",
    ")\n",
    "\n",
    "plot_scatter_and_line_of_best_fit(filtered_pvh.run_lengths,\n",
    "                                  filtered_pvh.auc_late_post_licking,\n",
    "                                  ax[3],\n",
    "                                  colors_PVH\n",
    ")\n",
    "\n",
    "for axis in ax:\n",
    "    axis.axhline(0, linestyle=\"dotted\", color=\"black\", alpha=0.5)\n",
    "    axis.set_xscale(\"log\")\n",
    "    axis.set_ylim(-8, 8)\n",
    "    axis.set_yticklabels([])\n",
    "    axis.set_xlim(4, 300)\n",
    "    axis.set_xticks([10, 100, 200, 300])\n",
    "    axis.set_xticklabels([])\n",
    "    \n",
    "    axis.spines[\"top\"].set_visible(False)\n",
    "    axis.spines[\"right\"].set_visible(False)\n",
    "\n",
    "f.savefig(FIGSFOLDER / \"PVH_licking_correlations_3.pdf\")"
   ]
  },
  {
   "cell_type": "code",
   "execution_count": null,
   "metadata": {},
   "outputs": [],
   "source": []
  },
  {
   "cell_type": "code",
   "execution_count": 18,
   "metadata": {
    "scrolled": true
   },
   "outputs": [
    {
     "data": {
      "image/png": "[encoded data removed]",
      "text/plain": [
       "<Figure size 108x360 with 4 Axes>"
      ]
     },
     "metadata": {
      "needs_background": "light"
     },
     "output_type": "display_data"
    }
   ],
   "source": [
    "def plot_scatter_and_line_of_best_fit(x, y, ax, color, alpha=0.1):\n",
    "    ax.scatter(x, y, color=\"black\", alpha=alpha)\n",
    "    \n",
    "    slope, intercept = np.polyfit(x, y, 1)\n",
    "    xrange = np.linspace(10, ax.get_xlim()[1], 100)\n",
    "    line = slope * xrange + intercept\n",
    "    \n",
    "    ax.plot(xrange, line, color=color) \n",
    "\n",
    "    return ax\n",
    "\n",
    "f, ax = plt.subplots(nrows=4, figsize=(1.5,5),\n",
    "                     sharex=True,\n",
    "                     gridspec_kw={\"hspace\":0.1, \"wspace\":0.1,\n",
    "                                  \"left\": 0.02,\n",
    "                                  \"right\": 0.98,\n",
    "                                  \"top\": 0.98,\n",
    "                                  \"bottom\": 0.02})\n",
    "\n",
    "plot_scatter_and_line_of_best_fit(filtered_pvh.run_lengths,\n",
    "                                  filtered_pvh.auc_early_licking,\n",
    "                                  ax[0],\n",
    "                                  colors_PVH,\n",
    ")\n",
    "\n",
    "plot_scatter_and_line_of_best_fit(filtered_pvh.run_lengths,\n",
    "                                  filtered_pvh.auc_late_licking,\n",
    "                                  ax[1],\n",
    "                                  colors_PVH\n",
    ")\n",
    "\n",
    "plot_scatter_and_line_of_best_fit(filtered_pvh.run_lengths,\n",
    "                                  filtered_pvh.auc_early_post_licking,\n",
    "                                  ax[2],\n",
    "                                  colors_PVH\n",
    ")\n",
    "\n",
    "plot_scatter_and_line_of_best_fit(filtered_pvh.run_lengths,\n",
    "                                  filtered_pvh.auc_late_post_licking,\n",
    "                                  ax[3],\n",
    "                                  colors_PVH\n",
    ")\n",
    "\n",
    "for axis in ax:\n",
    "    axis.axhline(0, linestyle=\"--\", color=\"black\", alpha=0.5)\n",
    "    axis.set_xscale(\"log\")\n",
    "    axis.set_ylim(-8, 8)\n",
    "    #axis.set_yticklabels([])\n",
    "    axis.set_xlim(4, 300)\n",
    "    axis.set_xticks([10, 100, 200, 300])\n",
    "    axis.set_xticklabels([])\n",
    "    \n",
    "    axis.spines[\"top\"].set_visible(False)\n",
    "    axis.spines[\"right\"].set_visible(False)\n",
    "\n",
    "#f.savefig(FIGSFOLDER / \"PVH_licking_correlations_2.pdf\")"
   ]
  },
  {
   "cell_type": "code",
   "execution_count": 160,
   "metadata": {},
   "outputs": [
    {
     "name": "stdout",
     "output_type": "stream",
     "text": [
      "Early AUC vs. Run Length: r=-0.214, p=0.001\n",
      "Late AUC vs. Run Length: r=-0.002, p=0.974\n",
      "Early Post AUC vs. Run Length: r=-0.090, p=0.176\n",
      "Late Post AUC vs. Run Length: r=-0.169, p=0.011\n"
     ]
    },
    {
     "name": "stderr",
     "output_type": "stream",
     "text": [
      "<ipython-input-160-8f80eb219873>:17: SettingWithCopyWarning: \n",
      "A value is trying to be set on a copy of a slice from a DataFrame.\n",
      "Try using .loc[row_indexer,col_indexer] = value instead\n",
      "\n",
      "See the caveats in the documentation: https://pandas.pydata.org/pandas-docs/stable/user_guide/indexing.html#returning-a-view-versus-a-copy\n",
      "  filtered_pvh['run_lengths'] = pd.to_numeric(filtered_pvh['run_lengths'], errors='coerce')\n",
      "<ipython-input-160-8f80eb219873>:18: SettingWithCopyWarning: \n",
      "A value is trying to be set on a copy of a slice from a DataFrame.\n",
      "Try using .loc[row_indexer,col_indexer] = value instead\n",
      "\n",
      "See the caveats in the documentation: https://pandas.pydata.org/pandas-docs/stable/user_guide/indexing.html#returning-a-view-versus-a-copy\n",
      "  filtered_pvh['auc_early_licking'] = pd.to_numeric(filtered_pvh['auc_early_licking'], errors='coerce')\n",
      "<ipython-input-160-8f80eb219873>:19: SettingWithCopyWarning: \n",
      "A value is trying to be set on a copy of a slice from a DataFrame.\n",
      "Try using .loc[row_indexer,col_indexer] = value instead\n",
      "\n",
      "See the caveats in the documentation: https://pandas.pydata.org/pandas-docs/stable/user_guide/indexing.html#returning-a-view-versus-a-copy\n",
      "  filtered_pvh['auc_late_licking'] = pd.to_numeric(filtered_pvh['auc_late_licking'], errors='coerce')\n",
      "<ipython-input-160-8f80eb219873>:20: SettingWithCopyWarning: \n",
      "A value is trying to be set on a copy of a slice from a DataFrame.\n",
      "Try using .loc[row_indexer,col_indexer] = value instead\n",
      "\n",
      "See the caveats in the documentation: https://pandas.pydata.org/pandas-docs/stable/user_guide/indexing.html#returning-a-view-versus-a-copy\n",
      "  filtered_pvh['auc_early_post_licking'] = pd.to_numeric(filtered_pvh['auc_early_post_licking'], errors='coerce')\n",
      "<ipython-input-160-8f80eb219873>:21: SettingWithCopyWarning: \n",
      "A value is trying to be set on a copy of a slice from a DataFrame.\n",
      "Try using .loc[row_indexer,col_indexer] = value instead\n",
      "\n",
      "See the caveats in the documentation: https://pandas.pydata.org/pandas-docs/stable/user_guide/indexing.html#returning-a-view-versus-a-copy\n",
      "  filtered_pvh['auc_late_post_licking'] = pd.to_numeric(filtered_pvh['auc_late_post_licking'], errors='coerce')\n"
     ]
    }
   ],
   "source": [
    "### STATISTICS FOR PVH\n",
    "\n",
    "# Compute Pearson correlation coefficients and p-values\n",
    "corr_early, p_value_early = pearsonr(filtered_pvh.run_lengths, filtered_pvh.auc_early_licking)\n",
    "corr_late, p_value_late = pearsonr(filtered_pvh.run_lengths, filtered_pvh.auc_late_licking)\n",
    "corr_early_post, p_value_early_post = pearsonr(filtered_pvh.run_lengths, filtered_pvh.auc_early_post_licking)\n",
    "corr_late_post, p_value_late_post = pearsonr(filtered_pvh.run_lengths, filtered_pvh.auc_late_post_licking)\n",
    "\n",
    "print(f\"Early AUC vs. Run Length: r={corr_early:.3f}, p={p_value_early:.3f}\")\n",
    "print(f\"Late AUC vs. Run Length: r={corr_late:.3f}, p={p_value_late:.3f}\")\n",
    "print(f\"Early Post AUC vs. Run Length: r={corr_early_post:.3f}, p={p_value_early_post:.3f}\")\n",
    "print(f\"Late Post AUC vs. Run Length: r={corr_late_post:.3f}, p={p_value_late_post:.3f}\")\n",
    "\n",
    "#TO EXPORT TO CSV\n",
    "\n",
    "# Ensure all relevant columns are numeric\n",
    "filtered_pvh['run_lengths'] = pd.to_numeric(filtered_pvh['run_lengths'], errors='coerce')\n",
    "filtered_pvh['auc_early_licking'] = pd.to_numeric(filtered_pvh['auc_early_licking'], errors='coerce')\n",
    "filtered_pvh['auc_late_licking'] = pd.to_numeric(filtered_pvh['auc_late_licking'], errors='coerce')\n",
    "filtered_pvh['auc_early_post_licking'] = pd.to_numeric(filtered_pvh['auc_early_post_licking'], errors='coerce')\n",
    "filtered_pvh['auc_late_post_licking'] = pd.to_numeric(filtered_pvh['auc_late_post_licking'], errors='coerce')\n",
    "\n",
    "# Create a DataFrame with all relevant columns\n",
    "data_for_export = pd.DataFrame({\n",
    "    'Run_Lengths': filtered_pvh['run_lengths'],\n",
    "    'AUC_Early_Licking': filtered_pvh['auc_early_licking'],\n",
    "    'AUC_Late_Licking': filtered_pvh['auc_late_licking'],\n",
    "    'AUC_Early_Post_Licking': filtered_pvh['auc_early_post_licking'],\n",
    "    'AUC_Late_Post_Licking': filtered_pvh['auc_late_post_licking']\n",
    "})\n",
    "\n",
    "# Export the DataFrame to a CSV file\n",
    "#data_for_export.to_excel(STATSFOLDER /'PVH_correlations_filtered_pvh_data.xlsx', index=False)"
   ]
  },
  {
   "cell_type": "markdown",
   "metadata": {},
   "source": [
    "Analysis for VMH"
   ]
  },
  {
   "cell_type": "code",
   "execution_count": 14,
   "metadata": {},
   "outputs": [
    {
     "name": "stdout",
     "output_type": "stream",
     "text": [
      "<class 'numpy.ndarray'>\n",
      "Found 0 potential artifacts.\n",
      "No artifacts found.\n",
      "(15, 240)\n",
      "<class 'numpy.ndarray'>\n",
      "Found 0 potential artifacts.\n",
      "No artifacts found.\n",
      "(13, 240)\n",
      "<class 'numpy.ndarray'>\n",
      "Found 0 potential artifacts.\n",
      "No artifacts found.\n",
      "(9, 240)\n",
      "adding this mouse\n",
      "<class 'numpy.ndarray'>\n",
      "Found 0 potential artifacts.\n",
      "No artifacts found.\n",
      "(5, 240)"
     ]
    },
    {
     "name": "stderr",
     "output_type": "stream",
     "text": [
      "C:\\Users\\kvo019\\Anaconda3\\lib\\site-packages\\trompy\\snipper_class.py:215: VisibleDeprecationWarning: Creating an ndarray from ragged nested sequences (which is a list-or-tuple of lists-or-tuples-or ndarrays with different lengths or shapes) is deprecated. If you meant to do this, you must specify 'dtype=object' when creating the ndarray\n",
      "  self.snips = np.array([self.put_snip_in_bins(snip) for snip in self.snips])\n",
      "C:\\Users\\kvo019\\Anaconda3\\lib\\site-packages\\trompy\\snipper_class.py:229: VisibleDeprecationWarning: Creating an ndarray from ragged nested sequences (which is a list-or-tuple of lists-or-tuples-or ndarrays with different lengths or shapes) is deprecated. If you meant to do this, you must specify 'dtype=object' when creating the ndarray\n",
      "  self.snips = np.array(z_snips)\n",
      "C:\\Users\\kvo019\\Anaconda3\\lib\\site-packages\\trompy\\snipper_class.py:215: VisibleDeprecationWarning: Creating an ndarray from ragged nested sequences (which is a list-or-tuple of lists-or-tuples-or ndarrays with different lengths or shapes) is deprecated. If you meant to do this, you must specify 'dtype=object' when creating the ndarray\n",
      "  self.snips = np.array([self.put_snip_in_bins(snip) for snip in self.snips])\n",
      "C:\\Users\\kvo019\\Anaconda3\\lib\\site-packages\\trompy\\snipper_class.py:229: VisibleDeprecationWarning: Creating an ndarray from ragged nested sequences (which is a list-or-tuple of lists-or-tuples-or ndarrays with different lengths or shapes) is deprecated. If you meant to do this, you must specify 'dtype=object' when creating the ndarray\n",
      "  self.snips = np.array(z_snips)\n",
      "C:\\Users\\kvo019\\Anaconda3\\lib\\site-packages\\trompy\\snipper_class.py:215: VisibleDeprecationWarning: Creating an ndarray from ragged nested sequences (which is a list-or-tuple of lists-or-tuples-or ndarrays with different lengths or shapes) is deprecated. If you meant to do this, you must specify 'dtype=object' when creating the ndarray\n",
      "  self.snips = np.array([self.put_snip_in_bins(snip) for snip in self.snips])\n",
      "C:\\Users\\kvo019\\Anaconda3\\lib\\site-packages\\trompy\\snipper_class.py:229: VisibleDeprecationWarning: Creating an ndarray from ragged nested sequences (which is a list-or-tuple of lists-or-tuples-or ndarrays with different lengths or shapes) is deprecated. If you meant to do this, you must specify 'dtype=object' when creating the ndarray\n",
      "  self.snips = np.array(z_snips)\n",
      "C:\\Users\\kvo019\\Anaconda3\\lib\\site-packages\\trompy\\snipper_class.py:215: VisibleDeprecationWarning: Creating an ndarray from ragged nested sequences (which is a list-or-tuple of lists-or-tuples-or ndarrays with different lengths or shapes) is deprecated. If you meant to do this, you must specify 'dtype=object' when creating the ndarray\n",
      "  self.snips = np.array([self.put_snip_in_bins(snip) for snip in self.snips])\n",
      "C:\\Users\\kvo019\\Anaconda3\\lib\\site-packages\\trompy\\snipper_class.py:229: VisibleDeprecationWarning: Creating an ndarray from ragged nested sequences (which is a list-or-tuple of lists-or-tuples-or ndarrays with different lengths or shapes) is deprecated. If you meant to do this, you must specify 'dtype=object' when creating the ndarray\n",
      "  self.snips = np.array(z_snips)\n",
      "C:\\Users\\kvo019\\Anaconda3\\lib\\site-packages\\trompy\\snipper_class.py:215: VisibleDeprecationWarning: Creating an ndarray from ragged nested sequences (which is a list-or-tuple of lists-or-tuples-or ndarrays with different lengths or shapes) is deprecated. If you meant to do this, you must specify 'dtype=object' when creating the ndarray\n",
      "  self.snips = np.array([self.put_snip_in_bins(snip) for snip in self.snips])\n",
      "C:\\Users\\kvo019\\Anaconda3\\lib\\site-packages\\trompy\\snipper_class.py:229: VisibleDeprecationWarning: Creating an ndarray from ragged nested sequences (which is a list-or-tuple of lists-or-tuples-or ndarrays with different lengths or shapes) is deprecated. If you meant to do this, you must specify 'dtype=object' when creating the ndarray\n",
      "  self.snips = np.array(z_snips)\n"
     ]
    },
    {
     "name": "stdout",
     "output_type": "stream",
     "text": [
      "\n",
      "<class 'numpy.ndarray'>\n",
      "Found 1 potential artifacts.\n",
      "(13, 240)\n",
      "<class 'numpy.ndarray'>\n",
      "Found 0 potential artifacts.\n",
      "No artifacts found.\n",
      "(13, 240)\n",
      "adding this mouse\n",
      "<class 'numpy.ndarray'>\n",
      "Found 0 potential artifacts.\n",
      "No artifacts found.\n",
      "(14, 240)\n",
      "<class 'numpy.ndarray'>\n",
      "Found 0 potential artifacts.\n",
      "No artifacts found.\n",
      "(13, 240)\n",
      "<class 'numpy.ndarray'>\n",
      "Found 0 potential artifacts.\n",
      "No artifacts found.\n",
      "(12, 240)\n",
      "adding this mouse\n",
      "<class 'numpy.ndarray'>\n",
      "Found 0 potential artifacts.\n",
      "No artifacts found.\n",
      "(5, 240)\n",
      "<class 'numpy.ndarray'>\n",
      "Found 0 potential artifacts.\n",
      "No artifacts found.\n",
      "(8, 240)\n",
      "<class 'numpy.ndarray'>\n",
      "Found 0 potential artifacts.\n",
      "No artifacts found.\n",
      "(6, 240)\n",
      "adding this mouse\n",
      "<class 'numpy.ndarray'>\n",
      "Found 0 potential artifacts.\n",
      "No artifacts found.\n",
      "(9, 240)\n",
      "<class 'numpy.ndarray'>\n",
      "Found 0 potential artifacts."
     ]
    },
    {
     "name": "stderr",
     "output_type": "stream",
     "text": [
      "C:\\Users\\kvo019\\Anaconda3\\lib\\site-packages\\trompy\\snipper_class.py:215: VisibleDeprecationWarning: Creating an ndarray from ragged nested sequences (which is a list-or-tuple of lists-or-tuples-or ndarrays with different lengths or shapes) is deprecated. If you meant to do this, you must specify 'dtype=object' when creating the ndarray\n",
      "  self.snips = np.array([self.put_snip_in_bins(snip) for snip in self.snips])\n",
      "C:\\Users\\kvo019\\Anaconda3\\lib\\site-packages\\trompy\\snipper_class.py:229: VisibleDeprecationWarning: Creating an ndarray from ragged nested sequences (which is a list-or-tuple of lists-or-tuples-or ndarrays with different lengths or shapes) is deprecated. If you meant to do this, you must specify 'dtype=object' when creating the ndarray\n",
      "  self.snips = np.array(z_snips)\n",
      "C:\\Users\\kvo019\\Anaconda3\\lib\\site-packages\\trompy\\snipper_class.py:215: VisibleDeprecationWarning: Creating an ndarray from ragged nested sequences (which is a list-or-tuple of lists-or-tuples-or ndarrays with different lengths or shapes) is deprecated. If you meant to do this, you must specify 'dtype=object' when creating the ndarray\n",
      "  self.snips = np.array([self.put_snip_in_bins(snip) for snip in self.snips])\n",
      "C:\\Users\\kvo019\\Anaconda3\\lib\\site-packages\\trompy\\snipper_class.py:229: VisibleDeprecationWarning: Creating an ndarray from ragged nested sequences (which is a list-or-tuple of lists-or-tuples-or ndarrays with different lengths or shapes) is deprecated. If you meant to do this, you must specify 'dtype=object' when creating the ndarray\n",
      "  self.snips = np.array(z_snips)\n",
      "C:\\Users\\kvo019\\Anaconda3\\lib\\site-packages\\trompy\\snipper_class.py:215: VisibleDeprecationWarning: Creating an ndarray from ragged nested sequences (which is a list-or-tuple of lists-or-tuples-or ndarrays with different lengths or shapes) is deprecated. If you meant to do this, you must specify 'dtype=object' when creating the ndarray\n",
      "  self.snips = np.array([self.put_snip_in_bins(snip) for snip in self.snips])\n",
      "C:\\Users\\kvo019\\Anaconda3\\lib\\site-packages\\trompy\\snipper_class.py:229: VisibleDeprecationWarning: Creating an ndarray from ragged nested sequences (which is a list-or-tuple of lists-or-tuples-or ndarrays with different lengths or shapes) is deprecated. If you meant to do this, you must specify 'dtype=object' when creating the ndarray\n",
      "  self.snips = np.array(z_snips)\n",
      "C:\\Users\\kvo019\\Anaconda3\\lib\\site-packages\\trompy\\snipper_class.py:215: VisibleDeprecationWarning: Creating an ndarray from ragged nested sequences (which is a list-or-tuple of lists-or-tuples-or ndarrays with different lengths or shapes) is deprecated. If you meant to do this, you must specify 'dtype=object' when creating the ndarray\n",
      "  self.snips = np.array([self.put_snip_in_bins(snip) for snip in self.snips])\n",
      "C:\\Users\\kvo019\\Anaconda3\\lib\\site-packages\\trompy\\snipper_class.py:229: VisibleDeprecationWarning: Creating an ndarray from ragged nested sequences (which is a list-or-tuple of lists-or-tuples-or ndarrays with different lengths or shapes) is deprecated. If you meant to do this, you must specify 'dtype=object' when creating the ndarray\n",
      "  self.snips = np.array(z_snips)\n",
      "C:\\Users\\kvo019\\Anaconda3\\lib\\site-packages\\trompy\\snipper_class.py:215: VisibleDeprecationWarning: Creating an ndarray from ragged nested sequences (which is a list-or-tuple of lists-or-tuples-or ndarrays with different lengths or shapes) is deprecated. If you meant to do this, you must specify 'dtype=object' when creating the ndarray\n",
      "  self.snips = np.array([self.put_snip_in_bins(snip) for snip in self.snips])\n",
      "C:\\Users\\kvo019\\Anaconda3\\lib\\site-packages\\trompy\\snipper_class.py:229: VisibleDeprecationWarning: Creating an ndarray from ragged nested sequences (which is a list-or-tuple of lists-or-tuples-or ndarrays with different lengths or shapes) is deprecated. If you meant to do this, you must specify 'dtype=object' when creating the ndarray\n",
      "  self.snips = np.array(z_snips)\n",
      "C:\\Users\\kvo019\\Anaconda3\\lib\\site-packages\\trompy\\snipper_class.py:215: VisibleDeprecationWarning: Creating an ndarray from ragged nested sequences (which is a list-or-tuple of lists-or-tuples-or ndarrays with different lengths or shapes) is deprecated. If you meant to do this, you must specify 'dtype=object' when creating the ndarray\n",
      "  self.snips = np.array([self.put_snip_in_bins(snip) for snip in self.snips])\n",
      "C:\\Users\\kvo019\\Anaconda3\\lib\\site-packages\\trompy\\snipper_class.py:229: VisibleDeprecationWarning: Creating an ndarray from ragged nested sequences (which is a list-or-tuple of lists-or-tuples-or ndarrays with different lengths or shapes) is deprecated. If you meant to do this, you must specify 'dtype=object' when creating the ndarray\n",
      "  self.snips = np.array(z_snips)\n",
      "C:\\Users\\kvo019\\Anaconda3\\lib\\site-packages\\trompy\\snipper_class.py:215: VisibleDeprecationWarning: Creating an ndarray from ragged nested sequences (which is a list-or-tuple of lists-or-tuples-or ndarrays with different lengths or shapes) is deprecated. If you meant to do this, you must specify 'dtype=object' when creating the ndarray\n",
      "  self.snips = np.array([self.put_snip_in_bins(snip) for snip in self.snips])\n",
      "C:\\Users\\kvo019\\Anaconda3\\lib\\site-packages\\trompy\\snipper_class.py:229: VisibleDeprecationWarning: Creating an ndarray from ragged nested sequences (which is a list-or-tuple of lists-or-tuples-or ndarrays with different lengths or shapes) is deprecated. If you meant to do this, you must specify 'dtype=object' when creating the ndarray\n",
      "  self.snips = np.array(z_snips)\n",
      "C:\\Users\\kvo019\\Anaconda3\\lib\\site-packages\\trompy\\snipper_class.py:215: VisibleDeprecationWarning: Creating an ndarray from ragged nested sequences (which is a list-or-tuple of lists-or-tuples-or ndarrays with different lengths or shapes) is deprecated. If you meant to do this, you must specify 'dtype=object' when creating the ndarray\n",
      "  self.snips = np.array([self.put_snip_in_bins(snip) for snip in self.snips])\n",
      "C:\\Users\\kvo019\\Anaconda3\\lib\\site-packages\\trompy\\snipper_class.py:229: VisibleDeprecationWarning: Creating an ndarray from ragged nested sequences (which is a list-or-tuple of lists-or-tuples-or ndarrays with different lengths or shapes) is deprecated. If you meant to do this, you must specify 'dtype=object' when creating the ndarray\n",
      "  self.snips = np.array(z_snips)\n",
      "C:\\Users\\kvo019\\Anaconda3\\lib\\site-packages\\trompy\\snipper_class.py:215: VisibleDeprecationWarning: Creating an ndarray from ragged nested sequences (which is a list-or-tuple of lists-or-tuples-or ndarrays with different lengths or shapes) is deprecated. If you meant to do this, you must specify 'dtype=object' when creating the ndarray\n",
      "  self.snips = np.array([self.put_snip_in_bins(snip) for snip in self.snips])\n",
      "C:\\Users\\kvo019\\Anaconda3\\lib\\site-packages\\trompy\\snipper_class.py:229: VisibleDeprecationWarning: Creating an ndarray from ragged nested sequences (which is a list-or-tuple of lists-or-tuples-or ndarrays with different lengths or shapes) is deprecated. If you meant to do this, you must specify 'dtype=object' when creating the ndarray\n",
      "  self.snips = np.array(z_snips)\n",
      "C:\\Users\\kvo019\\Anaconda3\\lib\\site-packages\\trompy\\snipper_class.py:215: VisibleDeprecationWarning: Creating an ndarray from ragged nested sequences (which is a list-or-tuple of lists-or-tuples-or ndarrays with different lengths or shapes) is deprecated. If you meant to do this, you must specify 'dtype=object' when creating the ndarray\n",
      "  self.snips = np.array([self.put_snip_in_bins(snip) for snip in self.snips])\n",
      "C:\\Users\\kvo019\\Anaconda3\\lib\\site-packages\\trompy\\snipper_class.py:229: VisibleDeprecationWarning: Creating an ndarray from ragged nested sequences (which is a list-or-tuple of lists-or-tuples-or ndarrays with different lengths or shapes) is deprecated. If you meant to do this, you must specify 'dtype=object' when creating the ndarray\n",
      "  self.snips = np.array(z_snips)\n"
     ]
    },
    {
     "name": "stdout",
     "output_type": "stream",
     "text": [
      "\n",
      "No artifacts found.\n",
      "(8, 240)\n",
      "<class 'numpy.ndarray'>\n",
      "Found 0 potential artifacts.\n",
      "No artifacts found.\n",
      "(18, 240)\n",
      "adding this mouse\n",
      "<class 'numpy.ndarray'>\n",
      "Found 0 potential artifacts.\n",
      "No artifacts found.\n",
      "(16, 240)\n",
      "<class 'numpy.ndarray'>\n",
      "Found 0 potential artifacts.\n",
      "No artifacts found.\n",
      "(11, 240)\n",
      "<class 'numpy.ndarray'>\n",
      "Found 0 potential artifacts.\n",
      "No artifacts found.\n",
      "(16, 240)\n",
      "adding this mouse\n",
      "<class 'numpy.ndarray'>\n",
      "Found 0 potential artifacts.\n",
      "No artifacts found.\n",
      "(10, 240)\n",
      "<class 'numpy.ndarray'>\n"
     ]
    },
    {
     "name": "stderr",
     "output_type": "stream",
     "text": [
      "C:\\Users\\kvo019\\Anaconda3\\lib\\site-packages\\trompy\\snipper_class.py:215: VisibleDeprecationWarning: Creating an ndarray from ragged nested sequences (which is a list-or-tuple of lists-or-tuples-or ndarrays with different lengths or shapes) is deprecated. If you meant to do this, you must specify 'dtype=object' when creating the ndarray\n",
      "  self.snips = np.array([self.put_snip_in_bins(snip) for snip in self.snips])\n",
      "C:\\Users\\kvo019\\Anaconda3\\lib\\site-packages\\trompy\\snipper_class.py:229: VisibleDeprecationWarning: Creating an ndarray from ragged nested sequences (which is a list-or-tuple of lists-or-tuples-or ndarrays with different lengths or shapes) is deprecated. If you meant to do this, you must specify 'dtype=object' when creating the ndarray\n",
      "  self.snips = np.array(z_snips)\n",
      "C:\\Users\\kvo019\\Anaconda3\\lib\\site-packages\\trompy\\snipper_class.py:215: VisibleDeprecationWarning: Creating an ndarray from ragged nested sequences (which is a list-or-tuple of lists-or-tuples-or ndarrays with different lengths or shapes) is deprecated. If you meant to do this, you must specify 'dtype=object' when creating the ndarray\n",
      "  self.snips = np.array([self.put_snip_in_bins(snip) for snip in self.snips])\n",
      "C:\\Users\\kvo019\\Anaconda3\\lib\\site-packages\\trompy\\snipper_class.py:229: VisibleDeprecationWarning: Creating an ndarray from ragged nested sequences (which is a list-or-tuple of lists-or-tuples-or ndarrays with different lengths or shapes) is deprecated. If you meant to do this, you must specify 'dtype=object' when creating the ndarray\n",
      "  self.snips = np.array(z_snips)\n",
      "C:\\Users\\kvo019\\Anaconda3\\lib\\site-packages\\trompy\\snipper_class.py:215: VisibleDeprecationWarning: Creating an ndarray from ragged nested sequences (which is a list-or-tuple of lists-or-tuples-or ndarrays with different lengths or shapes) is deprecated. If you meant to do this, you must specify 'dtype=object' when creating the ndarray\n",
      "  self.snips = np.array([self.put_snip_in_bins(snip) for snip in self.snips])\n",
      "C:\\Users\\kvo019\\Anaconda3\\lib\\site-packages\\trompy\\snipper_class.py:229: VisibleDeprecationWarning: Creating an ndarray from ragged nested sequences (which is a list-or-tuple of lists-or-tuples-or ndarrays with different lengths or shapes) is deprecated. If you meant to do this, you must specify 'dtype=object' when creating the ndarray\n",
      "  self.snips = np.array(z_snips)\n",
      "C:\\Users\\kvo019\\Anaconda3\\lib\\site-packages\\trompy\\lickcalc.py:239: RuntimeWarning: invalid value encountered in power\n",
      "  return (np.exp(-(alpha*x)**beta))\n",
      "C:\\Users\\kvo019\\Anaconda3\\lib\\site-packages\\trompy\\snipper_class.py:215: VisibleDeprecationWarning: Creating an ndarray from ragged nested sequences (which is a list-or-tuple of lists-or-tuples-or ndarrays with different lengths or shapes) is deprecated. If you meant to do this, you must specify 'dtype=object' when creating the ndarray\n",
      "  self.snips = np.array([self.put_snip_in_bins(snip) for snip in self.snips])\n",
      "C:\\Users\\kvo019\\Anaconda3\\lib\\site-packages\\trompy\\snipper_class.py:229: VisibleDeprecationWarning: Creating an ndarray from ragged nested sequences (which is a list-or-tuple of lists-or-tuples-or ndarrays with different lengths or shapes) is deprecated. If you meant to do this, you must specify 'dtype=object' when creating the ndarray\n",
      "  self.snips = np.array(z_snips)\n",
      "C:\\Users\\kvo019\\Anaconda3\\lib\\site-packages\\trompy\\lickcalc.py:239: RuntimeWarning: invalid value encountered in power\n",
      "  return (np.exp(-(alpha*x)**beta))\n",
      "C:\\Users\\kvo019\\Anaconda3\\lib\\site-packages\\trompy\\snipper_class.py:215: VisibleDeprecationWarning: Creating an ndarray from ragged nested sequences (which is a list-or-tuple of lists-or-tuples-or ndarrays with different lengths or shapes) is deprecated. If you meant to do this, you must specify 'dtype=object' when creating the ndarray\n",
      "  self.snips = np.array([self.put_snip_in_bins(snip) for snip in self.snips])\n",
      "C:\\Users\\kvo019\\Anaconda3\\lib\\site-packages\\trompy\\snipper_class.py:229: VisibleDeprecationWarning: Creating an ndarray from ragged nested sequences (which is a list-or-tuple of lists-or-tuples-or ndarrays with different lengths or shapes) is deprecated. If you meant to do this, you must specify 'dtype=object' when creating the ndarray\n",
      "  self.snips = np.array(z_snips)\n",
      "C:\\Users\\kvo019\\Anaconda3\\lib\\site-packages\\trompy\\snipper_class.py:215: VisibleDeprecationWarning: Creating an ndarray from ragged nested sequences (which is a list-or-tuple of lists-or-tuples-or ndarrays with different lengths or shapes) is deprecated. If you meant to do this, you must specify 'dtype=object' when creating the ndarray\n",
      "  self.snips = np.array([self.put_snip_in_bins(snip) for snip in self.snips])\n",
      "C:\\Users\\kvo019\\Anaconda3\\lib\\site-packages\\trompy\\snipper_class.py:229: VisibleDeprecationWarning: Creating an ndarray from ragged nested sequences (which is a list-or-tuple of lists-or-tuples-or ndarrays with different lengths or shapes) is deprecated. If you meant to do this, you must specify 'dtype=object' when creating the ndarray\n",
      "  self.snips = np.array(z_snips)\n"
     ]
    },
    {
     "name": "stdout",
     "output_type": "stream",
     "text": [
      "Found 0 potential artifacts.\n",
      "No artifacts found.\n",
      "(13, 240)\n",
      "<class 'numpy.ndarray'>\n",
      "Found 0 potential artifacts.\n",
      "No artifacts found.\n",
      "(11, 240)\n",
      "adding this mouse\n"
     ]
    },
    {
     "data": {
      "image/png": "[encoded data removed]",
      "text/plain": [
       "<Figure size 432x288 with 1 Axes>"
      ]
     },
     "metadata": {
      "needs_background": "light"
     },
     "output_type": "display_data"
    }
   ],
   "source": [
    "vmh_data = {}\n",
    "for mouse in VMH_list_of_mice:\n",
    "    snips, vmh_data[mouse] = get_aucs(VMH, mouse)"
   ]
  },
  {
   "cell_type": "code",
   "execution_count": 15,
   "metadata": {},
   "outputs": [],
   "source": [
    "vmh_data_concat = pd.concat(vmh_data)\n",
    "\n",
    "# Define thresholds based on standard deviation\n",
    "early_threshold = np.std(vmh_data_concat['auc_early_licking']) * 3\n",
    "early_qs = \"auc_early_licking < @early_threshold and auc_early_licking > -@early_threshold\"\n",
    "\n",
    "late_threshold = np.std(vmh_data_concat['auc_late_licking']) * 3\n",
    "late_qs = \"auc_late_licking < @late_threshold and auc_late_licking > -@late_threshold\"\n",
    "\n",
    "early_post_threshold = np.std(vmh_data_concat['auc_early_post_licking']) * 3\n",
    "early_post_qs = \"auc_early_post_licking < @early_post_threshold and auc_early_post_licking > -@early_post_threshold\"\n",
    "\n",
    "late_post_threshold = np.std(vmh_data_concat['auc_late_post_licking']) * 3\n",
    "late_post_qs = \"auc_late_post_licking < @late_post_threshold and auc_late_post_licking > -@late_post_threshold\"\n",
    "\n",
    "# Combine query strings\n",
    "query_string = f\"{early_qs} and {late_qs} and {early_post_qs} and {late_post_qs}\"\n",
    "filtered_vmh = vmh_data_concat.query(query_string)"
   ]
  },
  {
   "cell_type": "code",
   "execution_count": 33,
   "metadata": {},
   "outputs": [
    {
     "data": {
      "image/png": "[encoded data removed]",
      "text/plain": [
       "<Figure size 93.6x288 with 4 Axes>"
      ]
     },
     "metadata": {
      "needs_background": "light"
     },
     "output_type": "display_data"
    }
   ],
   "source": [
    "f, ax = plt.subplots(nrows=4, figsize=(1.3,4),\n",
    "                     sharex=True,\n",
    "                     gridspec_kw={\"hspace\":0.1, \"wspace\":0.1,\n",
    "                                  \"left\": 0.02,\n",
    "                                  \"right\": 0.98,\n",
    "                                  \"top\": 0.98,\n",
    "                                  \"bottom\": 0.02})\n",
    "\n",
    "plot_scatter_and_line_of_best_fit(filtered_vmh.run_lengths,\n",
    "                                  filtered_vmh.auc_early_licking,\n",
    "                                  ax[0],\n",
    "                                  colors_VMH\n",
    ")\n",
    "\n",
    "plot_scatter_and_line_of_best_fit(filtered_vmh.run_lengths,\n",
    "                                  filtered_vmh.auc_late_licking,\n",
    "                                  ax[1],\n",
    "                                  colors_VMH\n",
    ")\n",
    "\n",
    "plot_scatter_and_line_of_best_fit(filtered_vmh.run_lengths,\n",
    "                                  filtered_vmh.auc_early_post_licking,\n",
    "                                  ax[2],\n",
    "                                  colors_VMH\n",
    ")\n",
    "\n",
    "plot_scatter_and_line_of_best_fit(filtered_vmh.run_lengths,\n",
    "                                  filtered_vmh.auc_late_post_licking,\n",
    "                                  ax[3],\n",
    "                                  colors_VMH\n",
    ")\n",
    "\n",
    "for axis in ax:\n",
    "    axis.axhline(0, linestyle=\"dotted\", color=\"black\", alpha=0.5)\n",
    "    axis.set_xscale(\"log\")\n",
    "    axis.set_ylim(-8, 8)\n",
    "    axis.set_yticklabels([])\n",
    "    axis.set_xlim(4, 300)\n",
    "    axis.set_xticks([10, 100, 200, 300])\n",
    "    axis.set_xticklabels([])\n",
    "    \n",
    "        \n",
    "    axis.spines[\"top\"].set_visible(False)\n",
    "    axis.spines[\"right\"].set_visible(False)\n",
    "\n",
    "f.savefig(FIGSFOLDER / \"VMH_licking_correlations_3.pdf\")"
   ]
  },
  {
   "cell_type": "code",
   "execution_count": 16,
   "metadata": {},
   "outputs": [
    {
     "data": {
      "image/png": "[encoded data removed]",
      "text/plain": [
       "<Figure size 108x360 with 4 Axes>"
      ]
     },
     "metadata": {
      "needs_background": "light"
     },
     "output_type": "display_data"
    }
   ],
   "source": [
    "f, ax = plt.subplots(nrows=4, figsize=(1.5,5),\n",
    "                     sharex=True,\n",
    "                     gridspec_kw={\"hspace\":0.1, \"wspace\":0.1,\n",
    "                                  \"left\": 0.02,\n",
    "                                  \"right\": 0.98,\n",
    "                                  \"top\": 0.98,\n",
    "                                  \"bottom\": 0.02})\n",
    "\n",
    "plot_scatter_and_line_of_best_fit(filtered_vmh.run_lengths,\n",
    "                                  filtered_vmh.auc_early_licking,\n",
    "                                  ax[0],\n",
    "                                  colors_VMH\n",
    ")\n",
    "\n",
    "plot_scatter_and_line_of_best_fit(filtered_vmh.run_lengths,\n",
    "                                  filtered_vmh.auc_late_licking,\n",
    "                                  ax[1],\n",
    "                                  colors_VMH\n",
    ")\n",
    "\n",
    "plot_scatter_and_line_of_best_fit(filtered_vmh.run_lengths,\n",
    "                                  filtered_vmh.auc_early_post_licking,\n",
    "                                  ax[2],\n",
    "                                  colors_VMH\n",
    ")\n",
    "\n",
    "plot_scatter_and_line_of_best_fit(filtered_vmh.run_lengths,\n",
    "                                  filtered_vmh.auc_late_post_licking,\n",
    "                                  ax[3],\n",
    "                                  colors_VMH\n",
    ")\n",
    "\n",
    "for axis in ax:\n",
    "    axis.axhline(0, linestyle=\"--\", color=\"black\", alpha=0.5)\n",
    "    axis.set_xscale(\"log\")\n",
    "    axis.set_ylim(-8, 8)\n",
    "    axis.set_yticklabels([])\n",
    "    axis.set_xlim(4, 300)\n",
    "    axis.set_xticks([10, 100, 200, 300])\n",
    "    axis.set_xticklabels([])\n",
    "    \n",
    "        \n",
    "    axis.spines[\"top\"].set_visible(False)\n",
    "    axis.spines[\"right\"].set_visible(False)\n",
    "\n",
    "f.savefig(FIGSFOLDER / \"VMH_licking_correlations_2.pdf\")"
   ]
  },
  {
   "cell_type": "code",
   "execution_count": 164,
   "metadata": {},
   "outputs": [
    {
     "name": "stdout",
     "output_type": "stream",
     "text": [
      "Early AUC vs. Run Length: r=0.137, p=0.046\n",
      "Late AUC vs. Run Length: r=-0.075, p=0.278\n",
      "Early Post AUC vs. Run Length: r=-0.047, p=0.493\n",
      "Late Post AUC vs. Run Length: r=-0.076, p=0.272\n"
     ]
    },
    {
     "name": "stderr",
     "output_type": "stream",
     "text": [
      "<ipython-input-164-d4ffadf400af>:15: SettingWithCopyWarning: \n",
      "A value is trying to be set on a copy of a slice from a DataFrame.\n",
      "Try using .loc[row_indexer,col_indexer] = value instead\n",
      "\n",
      "See the caveats in the documentation: https://pandas.pydata.org/pandas-docs/stable/user_guide/indexing.html#returning-a-view-versus-a-copy\n",
      "  filtered_vmh['run_lengths'] = pd.to_numeric(filtered_vmh['run_lengths'], errors='coerce')\n",
      "<ipython-input-164-d4ffadf400af>:16: SettingWithCopyWarning: \n",
      "A value is trying to be set on a copy of a slice from a DataFrame.\n",
      "Try using .loc[row_indexer,col_indexer] = value instead\n",
      "\n",
      "See the caveats in the documentation: https://pandas.pydata.org/pandas-docs/stable/user_guide/indexing.html#returning-a-view-versus-a-copy\n",
      "  filtered_vmh['auc_early_licking'] = pd.to_numeric(filtered_vmh['auc_early_licking'], errors='coerce')\n",
      "<ipython-input-164-d4ffadf400af>:17: SettingWithCopyWarning: \n",
      "A value is trying to be set on a copy of a slice from a DataFrame.\n",
      "Try using .loc[row_indexer,col_indexer] = value instead\n",
      "\n",
      "See the caveats in the documentation: https://pandas.pydata.org/pandas-docs/stable/user_guide/indexing.html#returning-a-view-versus-a-copy\n",
      "  filtered_vmh['auc_late_licking'] = pd.to_numeric(filtered_vmh['auc_late_licking'], errors='coerce')\n",
      "<ipython-input-164-d4ffadf400af>:18: SettingWithCopyWarning: \n",
      "A value is trying to be set on a copy of a slice from a DataFrame.\n",
      "Try using .loc[row_indexer,col_indexer] = value instead\n",
      "\n",
      "See the caveats in the documentation: https://pandas.pydata.org/pandas-docs/stable/user_guide/indexing.html#returning-a-view-versus-a-copy\n",
      "  filtered_vmh['auc_early_post_licking'] = pd.to_numeric(filtered_vmh['auc_early_post_licking'], errors='coerce')\n",
      "<ipython-input-164-d4ffadf400af>:19: SettingWithCopyWarning: \n",
      "A value is trying to be set on a copy of a slice from a DataFrame.\n",
      "Try using .loc[row_indexer,col_indexer] = value instead\n",
      "\n",
      "See the caveats in the documentation: https://pandas.pydata.org/pandas-docs/stable/user_guide/indexing.html#returning-a-view-versus-a-copy\n",
      "  filtered_vmh['auc_late_post_licking'] = pd.to_numeric(filtered_vmh['auc_late_post_licking'], errors='coerce')\n"
     ]
    }
   ],
   "source": [
    "### STATISTICS FOR VMH\n",
    "\n",
    "# Compute Pearson correlation coefficients and p-values for VMH\n",
    "corr_early, p_value_early = pearsonr(filtered_vmh.run_lengths, filtered_vmh.auc_early_licking)\n",
    "corr_late, p_value_late = pearsonr(filtered_vmh.run_lengths, filtered_vmh.auc_late_licking)\n",
    "corr_early_post, p_value_early_post = pearsonr(filtered_vmh.run_lengths, filtered_vmh.auc_early_post_licking)\n",
    "corr_late_post, p_value_late_post = pearsonr(filtered_vmh.run_lengths, filtered_vmh.auc_late_post_licking)\n",
    "\n",
    "print(f\"Early AUC vs. Run Length: r={corr_early:.3f}, p={p_value_early:.3f}\")\n",
    "print(f\"Late AUC vs. Run Length: r={corr_late:.3f}, p={p_value_late:.3f}\")\n",
    "print(f\"Early Post AUC vs. Run Length: r={corr_early_post:.3f}, p={p_value_early_post:.3f}\")\n",
    "print(f\"Late Post AUC vs. Run Length: r={corr_late_post:.3f}, p={p_value_late_post:.3f}\")\n",
    "\n",
    "# Ensure all relevant columns are numeric\n",
    "filtered_vmh['run_lengths'] = pd.to_numeric(filtered_vmh['run_lengths'], errors='coerce')\n",
    "filtered_vmh['auc_early_licking'] = pd.to_numeric(filtered_vmh['auc_early_licking'], errors='coerce')\n",
    "filtered_vmh['auc_late_licking'] = pd.to_numeric(filtered_vmh['auc_late_licking'], errors='coerce')\n",
    "filtered_vmh['auc_early_post_licking'] = pd.to_numeric(filtered_vmh['auc_early_post_licking'], errors='coerce')\n",
    "filtered_vmh['auc_late_post_licking'] = pd.to_numeric(filtered_vmh['auc_late_post_licking'], errors='coerce')\n",
    "\n",
    "# Create a DataFrame with all relevant columns\n",
    "data_for_export = pd.DataFrame({\n",
    "    'Run_Lengths': filtered_vmh['run_lengths'],\n",
    "    'AUC_Early_Licking': filtered_vmh['auc_early_licking'],\n",
    "    'AUC_Late_Licking': filtered_vmh['auc_late_licking'],\n",
    "    'AUC_Early_Post_Licking': filtered_vmh['auc_early_post_licking'],\n",
    "    'AUC_Late_Post_Licking': filtered_vmh['auc_late_post_licking']\n",
    "})\n",
    "\n",
    "# Export the DataFrame to an Excel file\n",
    "#data_for_export.to_excel(STATSFOLDER / 'VMH_correlations_filtered_vmh_data.xlsx', index=False)"
   ]
  },
  {
   "cell_type": "code",
   "execution_count": 199,
   "metadata": {},
   "outputs": [
    {
     "data": {
      "image/png": "[encoded data removed]",
      "text/plain": [
       "<Figure size 432x288 with 1 Axes>"
      ]
     },
     "metadata": {
      "needs_background": "light"
     },
     "output_type": "display_data"
    }
   ],
   "source": []
  },
  {
   "cell_type": "code",
   "execution_count": 17,
   "metadata": {},
   "outputs": [
    {
     "data": {
      "image/png": "[encoded data removed]",
      "text/plain": [
       "<Figure size 43.2x360 with 4 Axes>"
      ]
     },
     "metadata": {
      "needs_background": "light"
     },
     "output_type": "display_data"
    }
   ],
   "source": [
    "from scipy.stats import gaussian_kde\n",
    "\n",
    "def plot_pdf(data, ax, color):\n",
    "    kde = gaussian_kde(data)\n",
    "    \n",
    "    yvals = np.linspace(-10, 10, 100)\n",
    "    pdf_vals = kde(yvals)\n",
    "    \n",
    "    ax.fill_betweenx(yvals, pdf_vals, color=color, alpha=0.3)\n",
    "    ax.plot(pdf_vals, yvals, color=color, alpha=0.7, lw=1)\n",
    "    \n",
    "    return ax\n",
    "\n",
    "f, ax = plt.subplots(nrows=4, figsize=(0.6,5),\n",
    "                     sharex=True,\n",
    "                     gridspec_kw={\"hspace\":0.1, \"wspace\":0.1,\n",
    "                                  \"left\": 0.02,\n",
    "                                  \"right\": 0.98,\n",
    "                                  \"top\": 0.98,\n",
    "                                  \"bottom\": 0.02})\n",
    "\n",
    "plot_pdf(filtered_pvh.auc_early_licking, ax[0], colors_PVH)\n",
    "plot_pdf(filtered_vmh.auc_early_licking, ax[0], colors_VMH)\n",
    "\n",
    "plot_pdf(filtered_pvh.auc_late_licking, ax[1], colors_PVH)\n",
    "plot_pdf(filtered_vmh.auc_late_licking, ax[1], colors_VMH)\n",
    "\n",
    "plot_pdf(filtered_pvh.auc_early_post_licking, ax[2], colors_PVH)\n",
    "plot_pdf(filtered_vmh.auc_early_post_licking, ax[2], colors_VMH)\n",
    "\n",
    "plot_pdf(filtered_pvh.auc_late_post_licking, ax[3], colors_PVH)\n",
    "plot_pdf(filtered_vmh.auc_late_post_licking, ax[3], colors_VMH)\n",
    "\n",
    "\n",
    "for axis in ax:\n",
    "    axis.set_ylim(-5, 5)\n",
    "    axis.set_yticklabels([])\n",
    "    \n",
    "    axis.spines[\"top\"].set_visible(False)\n",
    "    axis.spines[\"right\"].set_visible(False)\n",
    "    axis.spines[\"bottom\"].set_visible(False)\n",
    "    axis.set_xticks([])\n",
    "\n",
    "#ax[2].set_xticklabels([])\n",
    "\n",
    "f.savefig(FIGSFOLDER / \"PVH_VMH_AUC_probability_density_function_2.pdf\")\n",
    "\n"
   ]
  },
  {
   "cell_type": "code",
   "execution_count": 201,
   "metadata": {},
   "outputs": [
    {
     "data": {
      "image/png": "[encoded data removed]",
      "text/plain": [
       "<Figure size 432x288 with 1 Axes>"
      ]
     },
     "metadata": {
      "needs_background": "light"
     },
     "output_type": "display_data"
    }
   ],
   "source": [
    "#for finding a good range\n",
    "\n",
    "def plot_pdf(data, ax, color):\n",
    "    # Create KDE object\n",
    "    kde = gaussian_kde(data)\n",
    "    \n",
    "    # Determine the data range\n",
    "    data_range = np.min(data), np.max(data)\n",
    "    \n",
    "    # Extend the range slightly beyond the data range\n",
    "    buffer = (data_range[1] - data_range[0]) * 0.1  # 10% buffer\n",
    "    yvals = np.linspace(data_range[0] - buffer, data_range[1] + buffer, 100)\n",
    "    \n",
    "    # Evaluate KDE\n",
    "    pdf_vals = kde(yvals)\n",
    "    \n",
    "    # Plot the KDE\n",
    "    ax.fill_betweenx(yvals, pdf_vals, color=color, alpha=0.3)\n",
    "    ax.plot(pdf_vals, yvals, color=color, alpha=0.7, lw=1)\n",
    "    \n",
    "    return ax\n",
    "\n",
    "# Sample usage\n",
    "data = filtered_vmh.auc_early_licking\n",
    "fig, ax = plt.subplots()\n",
    "plot_pdf(data, ax, 'blue')\n",
    "plt.show()\n"
   ]
  },
  {
   "cell_type": "code",
   "execution_count": null,
   "metadata": {},
   "outputs": [],
   "source": []
  }
 ],
 "metadata": {
  "kernelspec": {
   "display_name": "Python 3",
   "language": "python",
   "name": "python3"
  },
  "language_info": {
   "codemirror_mode": {
    "name": "ipython",
    "version": 3
   },
   "file_extension": ".py",
   "mimetype": "text/x-python",
   "name": "python",
   "nbconvert_exporter": "python",
   "pygments_lexer": "ipython3",
   "version": "3.8.5"
  }
 },
 "nbformat": 4,
 "nbformat_minor": 2
}

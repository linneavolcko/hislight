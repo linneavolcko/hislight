{
 "cells": [
  {
   "cell_type": "code",
   "execution_count": 1,
   "metadata": {},
   "outputs": [],
   "source": [
    "import tdt\n",
    "#import matplotlib.pyplot as plt\n",
    "import trompy as tp\n",
    "import numpy as np\n",
    "import pickle\n",
    "import pandas as pd\n",
    "#%matplotlib inline"
   ]
  },
  {
   "cell_type": "code",
   "execution_count": 2,
   "metadata": {},
   "outputs": [],
   "source": [
    "DATAFOLDER = \"D:\\\\Data\\\\photometry\\\\HistaLight_cohort2\\\\\"\n",
    "METAFILE = \"..\\\\data\\\\HL_cohort2_metafile.csv\"\n",
    "\n",
    "metafile_data = pd.read_csv(METAFILE)"
   ]
  },
  {
   "cell_type": "code",
   "execution_count": 3,
   "metadata": {},
   "outputs": [],
   "source": [
    "def get_streams(row, data):\n",
    "\n",
    "    blue = getattr(data.streams, row.signal_blue).data\n",
    "    UV = getattr(data.streams,row.signal_uv).data\n",
    "\n",
    "    fs = getattr(data.streams,row.signal_uv).fs\n",
    "\n",
    "    corrected = tp.processdata(blue, UV)\n",
    "    \n",
    "    return corrected, fs"
   ]
  },
  {
   "cell_type": "code",
   "execution_count": 4,
   "metadata": {},
   "outputs": [],
   "source": [
    "tp.processdata?"
   ]
  },
  {
   "cell_type": "code",
   "execution_count": 4,
   "metadata": {},
   "outputs": [],
   "source": [
    "def get_ttls(row, data):\n",
    " \n",
    "    if row.R_number_licks> 0:\n",
    "        return getattr(data.epocs, row.ttl_lick_right).onset\n",
    "    else:\n",
    "        return []\n"
   ]
  },
  {
   "cell_type": "code",
   "execution_count": 5,
   "metadata": {},
   "outputs": [],
   "source": [
    "def get_data_from_metafile(row):\n",
    "    print(\"analyzing\", row.mouse, row.session)\n",
    "    d= {}\n",
    "\n",
    "    d[\"mouse_ID\"] = row.mouse\n",
    "    d[\"region\"] = row.region\n",
    "    d[\"virus\"] = row.virus\n",
    "    d[\"diet\"] = row.diet\n",
    "    d[\"total_licks\"] = row.total_licks\n",
    "    \n",
    "    d[\"solution\"]=row.R_nutrient\n",
    "    \n",
    "    data = tdt.read_block(DATAFOLDER+row.tdt_file)\n",
    "    corrected, fs = get_streams(row, data)\n",
    "\n",
    "    d[\"blue\"] = getattr(data.streams, row.signal_blue).data\n",
    "    d[\"uv\"] = getattr(data.streams, row.signal_uv).data\n",
    "    d[\"corrected\"] = corrected\n",
    "    d[\"fs\"] = fs\n",
    "\n",
    "    d[\"licks\"] = get_ttls(row, data)\n",
    "    \n",
    "\n",
    "    return d\n",
    "#row=metafile_data.iloc[1]\n",
    "#get_data_from_metafile(row)"
   ]
  },
  {
   "cell_type": "code",
   "execution_count": 19,
   "metadata": {},
   "outputs": [
    {
     "name": "stdout",
     "output_type": "stream",
     "text": [
      "analyzing HL202 1\n",
      "read from t=0s to t=1814.05s\n",
      "analyzing HL203 1\n",
      "read from t=0s to t=1814.05s\n",
      "analyzing HL204 1\n",
      "read from t=0s to t=1814.05s\n",
      "analyzing HL205 1\n",
      "read from t=0s to t=1920.5s\n",
      "analyzing HL206 1\n",
      "read from t=0s to t=1920.5s\n",
      "analyzing HL207 1\n",
      "read from t=0s to t=1920.5s\n",
      "analyzing HL208 1\n",
      "read from t=0s to t=1920.5s\n",
      "analyzing HL209 1\n",
      "read from t=0s to t=1849.45s\n",
      "analyzing HL210 1\n",
      "read from t=0s to t=1849.45s\n",
      "analyzing HL211 1\n",
      "read from t=0s to t=1849.45s\n",
      "analyzing HL212 1\n",
      "read from t=0s to t=1849.45s\n",
      "analyzing HL202 2\n",
      "read from t=0s to t=1946.93s\n",
      "analyzing HL203 2\n",
      "read from t=0s to t=1946.93s\n",
      "analyzing HL204 2\n",
      "read from t=0s to t=1946.93s\n",
      "analyzing HL205 2\n",
      "read from t=0s to t=1986.1s\n",
      "analyzing HL206 2\n",
      "read from t=0s to t=1986.1s\n",
      "analyzing HL207 2\n",
      "read from t=0s to t=1986.1s\n",
      "analyzing HL208 2\n",
      "read from t=0s to t=1986.1s\n",
      "analyzing HL209 2\n",
      "read from t=0s to t=1960.69s\n",
      "analyzing HL210 2\n",
      "read from t=0s to t=1960.69s\n",
      "analyzing HL211 2\n",
      "read from t=0s to t=1960.69s\n",
      "analyzing HL212 2\n",
      "read from t=0s to t=1960.69s\n",
      "analyzing HL202 3\n",
      "read from t=0s to t=1960.27s\n",
      "analyzing HL203 3\n",
      "read from t=0s to t=1960.27s\n",
      "analyzing HL204 3\n",
      "read from t=0s to t=1960.27s\n",
      "analyzing HL205 3\n",
      "read from t=0s to t=1945.59s\n",
      "analyzing HL206 3\n",
      "read from t=0s to t=1945.59s\n",
      "analyzing HL207 3\n",
      "read from t=0s to t=1945.59s\n",
      "analyzing HL208 3\n",
      "read from t=0s to t=1945.59s\n",
      "analyzing HL209 3\n",
      "read from t=0s to t=2009.0s\n",
      "analyzing HL210 3\n",
      "read from t=0s to t=2009.0s\n",
      "analyzing HL211 3\n",
      "read from t=0s to t=2009.0s\n",
      "analyzing HL212 3\n",
      "read from t=0s to t=2009.0s\n"
     ]
    }
   ],
   "source": [
    "all_data ={}\n",
    "\n",
    "for index, row in metafile_data.iterrows():\n",
    "    if row.phase == \"unrestricted_continuous_access\":\n",
    "\n",
    "        key=row.mouse+\"_\"+str(row.session)\n",
    "        \n",
    "        all_data[key]=get_data_from_metafile(row)"
   ]
  },
  {
   "cell_type": "code",
   "execution_count": 25,
   "metadata": {},
   "outputs": [],
   "source": [
    "#with open(\"C://Data//hislight_pickles//adlib_light.pickle\", 'wb') as handle:\n",
    "#    pickle.dump(all_data, handle, protocol=pickle.HIGHEST_PROTOCOL)"
   ]
  },
  {
   "cell_type": "code",
   "execution_count": 12,
   "metadata": {},
   "outputs": [
    {
     "name": "stdout",
     "output_type": "stream",
     "text": [
      "analyzing HL202 4\n",
      "read from t=0s to t=1939.04s\n",
      "analyzing HL203 4\n",
      "read from t=0s to t=1939.04s\n",
      "analyzing HL204 4\n",
      "read from t=0s to t=1939.04s\n",
      "analyzing HL205 4\n",
      "read from t=0s to t=1928.64s\n",
      "analyzing HL206 4\n",
      "read from t=0s to t=1928.64s\n",
      "analyzing HL207 4\n",
      "read from t=0s to t=1928.64s\n",
      "analyzing HL208 4\n",
      "read from t=0s to t=1928.64s\n",
      "analyzing HL209 4\n",
      "read from t=0s to t=1932.42s\n",
      "analyzing HL210 4\n",
      "read from t=0s to t=1932.42s\n",
      "analyzing HL211 4\n",
      "read from t=0s to t=1932.42s\n",
      "analyzing HL212 4\n",
      "read from t=0s to t=1932.42s\n",
      "analyzing HL202 5\n",
      "read from t=0s to t=1918.66s\n",
      "analyzing HL203 5\n",
      "read from t=0s to t=1918.66s\n",
      "analyzing HL204 5\n",
      "read from t=0s to t=1918.66s\n",
      "analyzing HL205 5\n",
      "read from t=0s to t=1944.08s\n",
      "analyzing HL206 5\n",
      "read from t=0s to t=1944.08s\n",
      "analyzing HL207 5\n",
      "read from t=0s to t=1944.08s\n",
      "analyzing HL208 5\n",
      "read from t=0s to t=1944.08s\n",
      "analyzing HL209 5\n",
      "read from t=0s to t=1952.88s\n",
      "analyzing HL210 5\n",
      "read from t=0s to t=1952.88s\n",
      "analyzing HL211 5\n",
      "read from t=0s to t=1952.88s\n",
      "analyzing HL212 5\n",
      "read from t=0s to t=1952.88s\n",
      "analyzing HL202 6\n",
      "read from t=0s to t=1925.54s\n",
      "analyzing HL203 6\n",
      "read from t=0s to t=1925.54s\n",
      "analyzing HL204 6\n",
      "read from t=0s to t=1925.54s\n",
      "analyzing HL205 6\n",
      "read from t=0s to t=1941.06s\n",
      "analyzing HL206 6\n",
      "read from t=0s to t=1941.06s\n",
      "analyzing HL207 6\n",
      "read from t=0s to t=1941.06s\n",
      "analyzing HL208 6\n",
      "read from t=0s to t=1941.06s\n",
      "analyzing HL209 6\n",
      "read from t=0s to t=1948.35s\n",
      "analyzing HL210 6\n",
      "read from t=0s to t=1948.35s\n",
      "analyzing HL211 6\n",
      "read from t=0s to t=1948.35s\n",
      "analyzing HL212 6\n",
      "read from t=0s to t=1948.35s\n"
     ]
    }
   ],
   "source": [
    "all_data ={}\n",
    "\n",
    "for index, row in metafile_data.iterrows():\n",
    "    if row.phase == \"food_restricted_continuous_access\":\n",
    "\n",
    "        key=row.mouse+\"_\"+str(row.session)\n",
    "        \n",
    "        all_data[key]=get_data_from_metafile(row)"
   ]
  },
  {
   "cell_type": "code",
   "execution_count": 13,
   "metadata": {},
   "outputs": [],
   "source": [
    "with open(\"C://Data//hislight_pickles//restricted_dark_full_data.pickle\", 'wb') as handle:\n",
    "    pickle.dump(all_data, handle, protocol=pickle.HIGHEST_PROTOCOL)"
   ]
  },
  {
   "cell_type": "code",
   "execution_count": 33,
   "metadata": {},
   "outputs": [
    {
     "name": "stdout",
     "output_type": "stream",
     "text": [
      "analyzing HL202 7\n",
      "read from t=0s to t=1914.55s\n",
      "analyzing HL203 7\n",
      "read from t=0s to t=1914.55s\n",
      "analyzing HL204 7\n",
      "read from t=0s to t=1914.55s\n",
      "analyzing HL205 7\n",
      "read from t=0s to t=1921.68s\n",
      "analyzing HL206 7\n",
      "read from t=0s to t=1921.68s\n",
      "analyzing HL207 7\n",
      "read from t=0s to t=1921.68s\n",
      "analyzing HL208 7\n",
      "read from t=0s to t=1921.68s\n",
      "analyzing HL209 7\n",
      "read from t=0s to t=1916.14s\n",
      "analyzing HL210 7\n",
      "read from t=0s to t=1916.14s\n",
      "analyzing HL211 7\n",
      "read from t=0s to t=1916.14s\n",
      "analyzing HL212 7\n",
      "read from t=0s to t=1916.14s\n",
      "analyzing HL202 8\n",
      "read from t=0s to t=1933.17s\n",
      "analyzing HL203 8\n",
      "read from t=0s to t=1933.17s\n",
      "analyzing HL204 8\n",
      "read from t=0s to t=1933.17s\n",
      "analyzing HL205 8\n",
      "read from t=0s to t=1929.06s\n",
      "analyzing HL206 8\n",
      "read from t=0s to t=1929.06s\n",
      "analyzing HL207 8\n",
      "read from t=0s to t=1929.06s\n",
      "analyzing HL208 8\n",
      "read from t=0s to t=1929.06s\n",
      "analyzing HL209 8\n",
      "read from t=0s to t=1936.11s\n",
      "analyzing HL210 8\n",
      "read from t=0s to t=1936.11s\n",
      "analyzing HL211 8\n",
      "read from t=0s to t=1936.11s\n",
      "analyzing HL212 8\n",
      "read from t=0s to t=1936.11s\n"
     ]
    }
   ],
   "source": [
    "all_data ={}\n",
    "\n",
    "for index, row in metafile_data.iterrows():\n",
    "    if row.phase == \"unrestricted_continuous_access_dark\":\n",
    "\n",
    "        key=row.mouse+\"_\"+str(row.session)\n",
    "        \n",
    "        all_data[key]=get_data_from_metafile(row)"
   ]
  },
  {
   "cell_type": "code",
   "execution_count": 34,
   "metadata": {},
   "outputs": [],
   "source": [
    "with open(\"C://Data//hislight_pickles//adlib_dark_full_data.pickle\", 'wb') as handle:\n",
    "#    pickle.dump(all_data, handle, protocol=pickle.HIGHEST_PROTOCOL)"
   ]
  },
  {
   "cell_type": "code",
   "execution_count": 35,
   "metadata": {},
   "outputs": [
    {
     "name": "stdout",
     "output_type": "stream",
     "text": [
      "analyzing HL202 9\n",
      "read from t=0s to t=1919.67s\n",
      "analyzing HL203 9\n",
      "read from t=0s to t=1919.67s\n",
      "analyzing HL204 9\n",
      "read from t=0s to t=1919.67s\n",
      "analyzing HL205 9\n",
      "read from t=0s to t=1932.75s\n",
      "analyzing HL206 9\n",
      "read from t=0s to t=1932.75s\n",
      "analyzing HL207 9\n",
      "read from t=0s to t=1932.75s\n",
      "analyzing HL208 9\n",
      "read from t=0s to t=1932.75s\n",
      "analyzing HL209 9\n"
     ]
    },
    {
     "name": "stderr",
     "output_type": "stream",
     "text": [
      "C:\\Users\\kvo019\\Anaconda3\\lib\\site-packages\\tdt\\TDTbin2py.py:865: Warning: Block end marker not found, block did not end cleanly. Try setting T2 smaller if errors occur\n",
      "  warnings.warn('Block end marker not found, block did not end cleanly. Try setting T2 smaller if errors occur', Warning)\n",
      "C:\\Users\\kvo019\\Anaconda3\\lib\\site-packages\\tdt\\TDTbin2py.py:1033: Warning: Block did not end cleanly, removing last 2 headers\n",
      "  warnings.warn('Block did not end cleanly, removing last {0} headers'.format(rem), Warning)\n",
      "C:\\Users\\kvo019\\Anaconda3\\lib\\site-packages\\tdt\\TDTbin2py.py:1046: Warning: Bad TSQ headers were written, removing 59679, keeping 150036 headers\n",
      "  warnings.warn('Bad TSQ headers were written, removing {0}, keeping {1} headers'.format(sum(bad_codes), sum(good_codes)), Warning)\n"
     ]
    },
    {
     "name": "stdout",
     "output_type": "stream",
     "text": [
      "read from t=0s to t=1338.07s\n",
      "analyzing HL210 9\n",
      "read from t=0s to t=1338.07s\n",
      "analyzing HL211 9\n",
      "read from t=0s to t=1338.07s\n",
      "analyzing HL212 9\n",
      "read from t=0s to t=1338.07s\n",
      "analyzing HL202 10\n",
      "read from t=0s to t=1902.89s\n",
      "analyzing HL203 10\n",
      "read from t=0s to t=1902.89s\n",
      "analyzing HL204 10\n",
      "read from t=0s to t=1902.89s\n",
      "analyzing HL205 10\n",
      "read from t=0s to t=1937.45s\n",
      "analyzing HL206 10\n",
      "read from t=0s to t=1937.45s\n",
      "analyzing HL207 10\n",
      "read from t=0s to t=1937.45s\n",
      "analyzing HL208 10\n",
      "read from t=0s to t=1937.45s\n",
      "analyzing HL209 10\n",
      "read from t=0s to t=1953.39s\n",
      "analyzing HL210 10\n",
      "read from t=0s to t=1953.39s\n",
      "analyzing HL211 10\n",
      "read from t=0s to t=1953.39s\n",
      "analyzing HL212 10\n",
      "read from t=0s to t=1953.39s\n"
     ]
    }
   ],
   "source": [
    "all_data ={}\n",
    "\n",
    "for index, row in metafile_data.iterrows():\n",
    "    if row.phase == \"unrestricted_sucralose\":\n",
    "\n",
    "        key=row.mouse+\"_\"+str(row.session)\n",
    "        \n",
    "        all_data[key]=get_data_from_metafile(row)"
   ]
  },
  {
   "cell_type": "code",
   "execution_count": 37,
   "metadata": {},
   "outputs": [],
   "source": [
    "#with open(\"C://Data//hislight_pickles//adlib_sucralose.pickle\", 'wb') as handle:\n",
    "#    pickle.dump(all_data, handle, protocol=pickle.HIGHEST_PROTOCOL)"
   ]
  },
  {
   "cell_type": "code",
   "execution_count": null,
   "metadata": {},
   "outputs": [],
   "source": []
  }
 ],
 "metadata": {
  "kernelspec": {
   "display_name": "Python 3",
   "language": "python",
   "name": "python3"
  },
  "language_info": {
   "codemirror_mode": {
    "name": "ipython",
    "version": 3
   },
   "file_extension": ".py",
   "mimetype": "text/x-python",
   "name": "python",
   "nbconvert_exporter": "python",
   "pygments_lexer": "ipython3",
   "version": "3.8.5"
  }
 },
 "nbformat": 4,
 "nbformat_minor": 4
}

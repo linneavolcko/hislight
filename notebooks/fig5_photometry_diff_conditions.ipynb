{
 "cells": [
  {
   "cell_type": "code",
   "execution_count": 4,
   "metadata": {},
   "outputs": [],
   "source": [
    "#import tdt\n",
    "import matplotlib.pyplot as plt\n",
    "import trompy as tp\n",
    "import numpy as np\n",
    "import pickle\n",
    "import pandas as pd\n",
    "import seaborn as sns\n",
    "%matplotlib inline"
   ]
  },
  {
   "cell_type": "code",
   "execution_count": 5,
   "metadata": {},
   "outputs": [],
   "source": [
    "with open('C://Data//hislight_pickles//adlib_light.pickle', 'rb') as handle:\n",
    "    adlib_light = pickle.load(handle)\n",
    "    \n",
    "with open('C://Data//hislight_pickles//restricted_dark.pickle', 'rb') as handle:\n",
    "    restricted_dark = pickle.load(handle)\n",
    "    \n",
    "with open('C://Data//hislight_pickles//adlib_dark.pickle', 'rb') as handle:\n",
    "    adlib_dark = pickle.load(handle)\n",
    "\n",
    "with open('C://Data//hislight_pickles//adlib_sucralose.pickle', 'rb') as handle:\n",
    "    adlib_sucralose = pickle.load(handle)"
   ]
  },
  {
   "cell_type": "code",
   "execution_count": 6,
   "metadata": {},
   "outputs": [],
   "source": [
    "list_of_mice = []\n",
    "\n",
    "for key, val in restricted_dark.items():\n",
    "    if val[\"mouse_ID\"] not in list_of_mice:\n",
    "        list_of_mice.append(val[\"mouse_ID\"])"
   ]
  },
  {
   "cell_type": "code",
   "execution_count": 15,
   "metadata": {},
   "outputs": [],
   "source": [
    "def get_mean_snips(data):\n",
    "\n",
    "    snips_mean_start= []\n",
    "    snips_mean_end = []\n",
    "\n",
    "    kwargs={\"bins\":150, \"trial_length\":15, \"baseline_length\":5}    \n",
    "\n",
    "    for mouse in list_of_mice:\n",
    "        snips_start= []\n",
    "        snips_end= []\n",
    "\n",
    "        for key, val in data.items():\n",
    "            if val[\"mouse_ID\"] == mouse:\n",
    "                if val[\"total_licks\"] < 3:\n",
    "                    continue\n",
    "                lickdata= tp.lickCalc(val[\"licks\"], minrunlength=3)\n",
    "\n",
    "                snips_start.append(tp.snipper(val[\"corrected\"], lickdata[\"rStart\"], val[\"fs\"], **kwargs)[0])\n",
    "                snips_end.append(tp.snipper(val[\"corrected\"], lickdata[\"rEnd\"], val[\"fs\"], **kwargs)[0])\n",
    "        \n",
    "\n",
    "       \n",
    "        snips_start = np.vstack(snips_start)\n",
    "        snips_end = np.vstack(snips_end)\n",
    "        \n",
    "        print(mouse)\n",
    "        #print(np.max(np.sum(np.abs(snips_end),axis=1)))\n",
    "        \n",
    "        not_artifacts= np.sum(np.abs(snips_end),axis=1)<1000\n",
    "        print(snips_end.shape)\n",
    "        print(len(not_artifacts))\n",
    "        snips_end=snips_end[not_artifacts,:]\n",
    "        print(snips_end.shape)\n",
    "        \n",
    "        snips_mean_start.append(np.mean(snips_start, axis=0))\n",
    "        snips_mean_end.append(np.mean(snips_end, axis=0))\n",
    "        \n",
    "    return snips_mean_start, snips_mean_end"
   ]
  },
  {
   "cell_type": "code",
   "execution_count": 14,
   "metadata": {},
   "outputs": [
    {
     "name": "stdout",
     "output_type": "stream",
     "text": [
      "HL202\n",
      "1568.1988265252292\n",
      "(10, 150)\n",
      "10\n",
      "(9, 150)\n",
      "HL203\n",
      "64.06628929002397\n",
      "(10, 150)\n",
      "10\n",
      "(10, 150)\n",
      "HL204\n",
      "54.042201723902885\n",
      "(39, 150)\n",
      "39\n",
      "(39, 150)\n",
      "HL205\n",
      "56.04158078787867\n",
      "(15, 150)\n",
      "15\n",
      "(15, 150)\n",
      "HL206\n",
      "135.20351007234137\n",
      "(16, 150)\n",
      "16\n",
      "(16, 150)\n",
      "HL207\n",
      "35.84468513456374\n",
      "(19, 150)\n",
      "19\n",
      "(19, 150)\n",
      "HL208\n",
      "72.23578854045606\n",
      "(23, 150)\n",
      "23\n",
      "(23, 150)\n",
      "HL209\n",
      "130.22912107171354\n",
      "(22, 150)\n",
      "22\n",
      "(22, 150)\n",
      "HL210\n",
      "143.71979796469031\n",
      "(14, 150)\n",
      "14\n",
      "(14, 150)\n",
      "HL211\n",
      "66.14966109289142\n",
      "(13, 150)\n",
      "13\n",
      "(13, 150)\n",
      "HL212\n",
      "59.621169622791925\n",
      "(7, 150)\n",
      "7\n",
      "(7, 150)\n"
     ]
    }
   ],
   "source": [
    "adlib_dark_start, adlib_dark_end= get_mean_snips(adlib_dark)"
   ]
  },
  {
   "cell_type": "code",
   "execution_count": 2,
   "metadata": {},
   "outputs": [
    {
     "ename": "NameError",
     "evalue": "name 'adlib_light' is not defined",
     "output_type": "error",
     "traceback": [
      "\u001b[1;31m---------------------------------------------------------------------------\u001b[0m",
      "\u001b[1;31mNameError\u001b[0m                                 Traceback (most recent call last)",
      "\u001b[1;32m<ipython-input-2-df62812ab466>\u001b[0m in \u001b[0;36m<module>\u001b[1;34m\u001b[0m\n\u001b[1;32m----> 1\u001b[1;33m \u001b[0madlib_light_start\u001b[0m\u001b[1;33m,\u001b[0m \u001b[0madlib_light_end\u001b[0m\u001b[1;33m=\u001b[0m \u001b[0mget_mean_snips\u001b[0m\u001b[1;33m(\u001b[0m\u001b[0madlib_light\u001b[0m\u001b[1;33m)\u001b[0m\u001b[1;33m\u001b[0m\u001b[1;33m\u001b[0m\u001b[0m\n\u001b[0m\u001b[0;32m      2\u001b[0m \u001b[0mrestricted_dark_start\u001b[0m\u001b[1;33m,\u001b[0m \u001b[0mrestricted_dark_end\u001b[0m\u001b[1;33m=\u001b[0m \u001b[0mget_mean_snips\u001b[0m\u001b[1;33m(\u001b[0m\u001b[0mrestricted_dark\u001b[0m\u001b[1;33m)\u001b[0m\u001b[1;33m\u001b[0m\u001b[1;33m\u001b[0m\u001b[0m\n\u001b[0;32m      3\u001b[0m \u001b[0madlib_dark_start\u001b[0m\u001b[1;33m,\u001b[0m \u001b[0madlib_dark_end\u001b[0m\u001b[1;33m=\u001b[0m \u001b[0mget_mean_snips\u001b[0m\u001b[1;33m(\u001b[0m\u001b[0madlib_dark\u001b[0m\u001b[1;33m)\u001b[0m\u001b[1;33m\u001b[0m\u001b[1;33m\u001b[0m\u001b[0m\n\u001b[0;32m      4\u001b[0m \u001b[0madlib_sucralose_start\u001b[0m\u001b[1;33m,\u001b[0m \u001b[0madlib_sucralose_end\u001b[0m\u001b[1;33m=\u001b[0m \u001b[0mget_mean_snips\u001b[0m\u001b[1;33m(\u001b[0m\u001b[0madlib_sucralose\u001b[0m\u001b[1;33m)\u001b[0m\u001b[1;33m\u001b[0m\u001b[1;33m\u001b[0m\u001b[0m\n",
      "\u001b[1;31mNameError\u001b[0m: name 'adlib_light' is not defined"
     ]
    }
   ],
   "source": [
    "adlib_light_start, adlib_light_end= get_mean_snips(adlib_light)\n",
    "restricted_dark_start, restricted_dark_end= get_mean_snips(restricted_dark)\n",
    "adlib_dark_start, adlib_dark_end= get_mean_snips(adlib_dark)\n",
    "adlib_sucralose_start, adlib_sucralose_end= get_mean_snips(adlib_sucralose)"
   ]
  },
  {
   "cell_type": "code",
   "execution_count": null,
   "metadata": {},
   "outputs": [],
   "source": []
  },
  {
   "cell_type": "code",
   "execution_count": 70,
   "metadata": {},
   "outputs": [],
   "source": [
    "colors_adlib_light = \"#D83F31\"\n",
    "colors_adlib_dark = \"#EE9322\"\n",
    "colors_restricted = \"#219C90\"\n",
    "colors_sucrose = \"#E9B824\"\n",
    "\n",
    "colors_adlib_light_2 = \"#f7d8d5\"\n",
    "colors_adlib_dark_2 = \"#fbe9d2\"\n",
    "colors_restricted_2 = \"#d2ebe8\"\n",
    "colors_sucrose_2 = \"#faf0d3\"\n",
    "\n",
    "colors = [\"#D83F31\", \"#EE9322\", \"#219C90\",\"#E9B824\"]"
   ]
  },
  {
   "cell_type": "code",
   "execution_count": 95,
   "metadata": {},
   "outputs": [
    {
     "data": {
      "image/png": "[encoded data removed]",
      "text/plain": [
       "<Figure size 360x360 with 4 Axes>"
      ]
     },
     "metadata": {
      "needs_background": "light"
     },
     "output_type": "display_data"
    }
   ],
   "source": [
    "f,[[ax1, ax2], [ax3, ax4]]=plt.subplots(nrows=2, ncols=2, \n",
    "                                        figsize=[5,5],\n",
    "                                        gridspec_kw={\"width_ratios\":[1,1], \"left\":0.2, \"hspace\":0.4, \"wspace\":0.4})\n",
    "\n",
    "\n",
    "tp.shadedError(ax1, adlib_light_start, linecolor=colors_adlib_light, errorcolor=colors_adlib_light_2)\n",
    "tp.shadedError(ax1, restricted_dark_start, linecolor=colors_restricted, errorcolor=colors_restricted_2)\n",
    "tp.shadedError(ax1, adlib_dark_start, linecolor=colors_adlib_dark, errorcolor= colors_adlib_dark_2)\n",
    "tp.shadedError(ax1, adlib_sucralose_start, linecolor=colors_sucrose, errorcolor=colors_sucrose_2)\n",
    "\n",
    "tp.shadedError(ax2, adlib_light_end, linecolor=colors_adlib_light, errorcolor=colors_adlib_light_2)\n",
    "tp.shadedError(ax2, restricted_dark_end, linecolor=colors_restricted, errorcolor=colors_restricted_2)\n",
    "tp.shadedError(ax2, adlib_dark_end, linecolor=colors_adlib_dark, errorcolor= colors_adlib_dark_2)\n",
    "tp.shadedError(ax2, adlib_sucralose_end, linecolor=colors_sucrose, errorcolor=colors_sucrose_2)\n",
    "\n",
    "tp.barscatter([np.trapz(np.array(adlib_light_start)[:,50:]),\n",
    "               np.trapz(np.array(adlib_dark_start)[:,50:]),\n",
    "               np.trapz(np.array(restricted_dark_start)[:,50:]),\n",
    "               np.trapz(np.array(adlib_sucralose_start)[:,50:])],\n",
    "               paired=True,\n",
    "               barfacecolor_option='individual',\n",
    "               barfacecolor=colors,\n",
    "               grouplabel= [\"ad lib \\nlight\", \"ad lib \\ndark\", \"rest.\", \"ad lib \\nsucralose\"],\n",
    "               grouplabeloffset=-0.08,\n",
    "               fontsize=8,\n",
    "               scattersize=60,\n",
    "               scatteralpha=0.5,\n",
    "               ax=ax3)\n",
    "\n",
    "tp.barscatter([np.trapz(np.array(adlib_light_end)[:,50:]),\n",
    "               np.trapz(np.array(adlib_dark_end)[:,50:]),\n",
    "               np.trapz(np.array(restricted_dark_end)[:,50:]),\n",
    "               np.trapz(np.array(adlib_sucralose_end)[:,50:])],\n",
    "               paired=True,\n",
    "               barfacecolor_option='individual',\n",
    "               barfacecolor=colors,\n",
    "               grouplabel= [\"ad lib \\nlight\", \"ad lib \\ndark\", \"rest.\", \"ad lib \\nsucralose\"],\n",
    "               grouplabeloffset=-0.08,\n",
    "               fontsize=8,\n",
    "               scattersize=60,\n",
    "               scatteralpha=0.5,\n",
    "               ax=ax4)\n",
    "\n",
    "ax1.set_ylabel(\"something\")\n",
    "ax3.set_ylabel(\"AUC\")\n",
    "\n",
    "ax1.set_xlabel(\"time (s)\", fontsize=8)\n",
    "ax2.set_xlabel(\"time (s)\", fontsize=8)\n",
    "\n",
    "for ax in [ax1, ax2, ax3, ax4]:\n",
    "    ax.spines['top'].set_visible(False)\n",
    "    ax.spines['right'].set_visible(False)\n",
    "    \n",
    "for ax in [ax1, ax2]:\n",
    "    ax.set_xticks([0, 50, 100, 150])\n",
    "    ax.set_xticklabels([\"-5\", \"0\", \"5\", \"10\"])\n",
    "    ax.set_yticks([-0.4, 0, 0.4])\n",
    "    ax.set_yticklabels([\"-0.4\", \"0\", \"0.4\"])\n",
    "    ax.axvline(50, color=\"black\", linewidth=0.5, linestyle=\"--\")\n",
    "\n",
    "f.savefig(\"C:\\\\Users\\\\kvo019\\\\OneDrive - UiT Office 365\\\\Pipette 2\\\\People\\\\Linnea\\\\Manuscripts\\\\hislight paper\\\\figures\\\\diff_conditions.pdf\")"
   ]
  },
  {
   "cell_type": "code",
   "execution_count": 75,
   "metadata": {},
   "outputs": [],
   "source": [
    "tp.barscatter?"
   ]
  },
  {
   "cell_type": "code",
   "execution_count": null,
   "metadata": {},
   "outputs": [],
   "source": []
  }
 ],
 "metadata": {
  "kernelspec": {
   "display_name": "Python 3",
   "language": "python",
   "name": "python3"
  },
  "language_info": {
   "codemirror_mode": {
    "name": "ipython",
    "version": 3
   },
   "file_extension": ".py",
   "mimetype": "text/x-python",
   "name": "python",
   "nbconvert_exporter": "python",
   "pygments_lexer": "ipython3",
   "version": "3.8.5"
  }
 },
 "nbformat": 4,
 "nbformat_minor": 4
}
